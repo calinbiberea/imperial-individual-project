{
 "cells": [
  {
   "cell_type": "markdown",
   "id": "cf6b41ca-5f07-4710-baae-24a1ed8dda14",
   "metadata": {},
   "source": [
    "# MNIST: Training and Testing on a Clean Dataset & Adversarial Detection"
   ]
  },
  {
   "cell_type": "markdown",
   "id": "079b34ed-646a-4a6d-9804-456031bbbe7f",
   "metadata": {},
   "source": [
    "## Imports and MNIST loading"
   ]
  },
  {
   "cell_type": "code",
   "execution_count": 1,
   "id": "adc6f794-8ded-4bca-bd88-62c136ee6128",
   "metadata": {},
   "outputs": [
    {
     "name": "stdout",
     "output_type": "stream",
     "text": [
      "Notebook will use PyTorch Device: CUDA\n",
      "Notebook will use PyTorch Device: CUDA\n",
      "Notebook will use PyTorch Device: CUDA\n",
      "Notebook will use PyTorch Device: CUDA\n"
     ]
    }
   ],
   "source": [
    "# Imports all the module paths\n",
    "import sys\n",
    "\n",
    "import numpy as np\n",
    "import torch\n",
    "import torch.nn as nn\n",
    "from torch.autograd import Variable\n",
    "from tqdm.notebook import tnrange, tqdm\n",
    "\n",
    "sys.path.append(\"../../\")\n",
    "\n",
    "# Loads the rest of the modules\n",
    "\n",
    "# File containing all the required training methods\n",
    "import defences.mnist as defences\n",
    "\n",
    "# For testing\n",
    "import utils.clean_test as clean_test\n",
    "\n",
    "# Contains the data loadders\n",
    "import utils.dataloaders as dataloaders\n",
    "\n",
    "# For printing outcomes\n",
    "# import utils.printing as printing\n",
    "\n",
    "# Example printing, but I removed it to simplify results\n",
    "# for epsilon in epsilons:\n",
    "#     printing.print_attack(\n",
    "#         model,\n",
    "#         testSetLoader,\n",
    "#         \"FGSM\",\n",
    "#         attacks[\"FGSM\"],\n",
    "#         epsilon=epsilon,\n",
    "#     )"
   ]
  },
  {
   "cell_type": "code",
   "execution_count": 2,
   "id": "b26f2046-3c5c-435a-a11d-bbeb41de6db6",
   "metadata": {},
   "outputs": [
    {
     "name": "stdout",
     "output_type": "stream",
     "text": [
      "Notebook will use PyTorch Device: CUDA\n"
     ]
    }
   ],
   "source": [
    "# Define the `device` PyTorch will be running on, please hope it is CUDA\n",
    "device = \"cuda\" if torch.cuda.is_available() else \"cpu\"\n",
    "print(\"Notebook will use PyTorch Device: \" + device.upper())"
   ]
  },
  {
   "cell_type": "markdown",
   "id": "a4fee513-bdec-474f-9a4b-9c7a7321b7f2",
   "metadata": {},
   "source": [
    "## Load the dataset"
   ]
  },
  {
   "cell_type": "code",
   "execution_count": 3,
   "id": "f3cf35b0-a90d-4e04-b2d8-57e52f553b2a",
   "metadata": {},
   "outputs": [],
   "source": [
    "DATA_ROOT = \"../../datasets/\"\n",
    "\n",
    "trainSetLoader, _, testSetLoader = dataloaders.get_MNIST_data_loaders(\n",
    "    DATA_ROOT,\n",
    "    trainSetSize=50000,\n",
    "    validationSetSize=0,\n",
    "    batchSize=128,\n",
    ")"
   ]
  },
  {
   "cell_type": "markdown",
   "id": "b460fcff-4216-45da-b876-a6a4ec9e8941",
   "metadata": {
    "tags": []
   },
   "source": [
    "## Attacks and Their Results"
   ]
  },
  {
   "cell_type": "code",
   "execution_count": 4,
   "id": "7493eab6-d768-4f30-ac44-5c80f33fbef8",
   "metadata": {},
   "outputs": [],
   "source": [
    "# A possible attacks array (for nice printing):\n",
    "# Some attacks use a helper library\n",
    "import torchattacks\n",
    "\n",
    "import attacks.fgsm as fgsm\n",
    "import attacks.ifgsm as ifgsm\n",
    "import attacks.pgd as pgd\n",
    "import utils.attacking as attacking\n",
    "\n",
    "loss_function = nn.CrossEntropyLoss()\n",
    "attacks = {}\n",
    "\n",
    "attacks[\"FGSM\"] = fgsm.fgsm_attack\n",
    "attacks[\"I-FGSM\"] = ifgsm.ifgsm_attack\n",
    "attacks[\"PGD\"] = pgd.pgd_attack"
   ]
  },
  {
   "cell_type": "markdown",
   "id": "efae51ea-8cf4-4b1a-9c38-949b04e81d60",
   "metadata": {},
   "source": [
    "## Load two models (standard and FGSM trained)"
   ]
  },
  {
   "cell_type": "code",
   "execution_count": 5,
   "id": "df83148d-a234-464f-90ee-e383f11349f7",
   "metadata": {},
   "outputs": [
    {
     "data": {
      "text/plain": [
       "LeNet5(\n",
       "  (conv1): Conv2d(1, 32, kernel_size=(5, 5), stride=(1, 1), padding=(2, 2))\n",
       "  (max_pool_1): MaxPool2d(kernel_size=2, stride=2, padding=0, dilation=1, ceil_mode=False)\n",
       "  (conv2): Conv2d(32, 64, kernel_size=(5, 5), stride=(1, 1), padding=(2, 2))\n",
       "  (max_pool_2): MaxPool2d(kernel_size=2, stride=2, padding=0, dilation=1, ceil_mode=False)\n",
       "  (fc1): Linear(in_features=3136, out_features=1024, bias=True)\n",
       "  (fc2): Linear(in_features=1024, out_features=10, bias=True)\n",
       ")"
      ]
     },
     "execution_count": 5,
     "metadata": {},
     "output_type": "execute_result"
    }
   ],
   "source": [
    "standard_model = torch.load(\"../../models_data/MNIST/mnist_standard\")\n",
    "standard_model.eval()\n",
    "\n",
    "pgd_model = torch.load(\"../../models_data/MNIST/mnist_pgd\")\n",
    "pgd_model.eval()"
   ]
  },
  {
   "cell_type": "code",
   "execution_count": 6,
   "id": "006d2a5c-2df4-4da7-963f-a035d62ddf03",
   "metadata": {},
   "outputs": [
    {
     "name": "stdout",
     "output_type": "stream",
     "text": [
      "Testing the model...\n"
     ]
    },
    {
     "data": {
      "application/vnd.jupyter.widget-view+json": {
       "model_id": "",
       "version_major": 2,
       "version_minor": 0
      },
      "text/plain": [
       "Testing Progress:   0%|          | 0/79 [00:00<?, ?it/s]"
      ]
     },
     "metadata": {},
     "output_type": "display_data"
    },
    {
     "name": "stdout",
     "output_type": "stream",
     "text": [
      "... done! Accuracy: 99.14%\n",
      "Testing the model...\n"
     ]
    },
    {
     "data": {
      "application/vnd.jupyter.widget-view+json": {
       "model_id": "",
       "version_major": 2,
       "version_minor": 0
      },
      "text/plain": [
       "Testing Progress:   0%|          | 0/79 [00:00<?, ?it/s]"
      ]
     },
     "metadata": {},
     "output_type": "display_data"
    },
    {
     "name": "stdout",
     "output_type": "stream",
     "text": [
      "... done! Accuracy: 99.27%\n"
     ]
    }
   ],
   "source": [
    "# Evaluate the two models\n",
    "clean_test.test_trained_model(standard_model, testSetLoader)\n",
    "clean_test.test_trained_model(pgd_model, testSetLoader)"
   ]
  },
  {
   "cell_type": "code",
   "execution_count": 7,
   "id": "ce3d9a8d-5792-4d0d-8eec-43bb657b0761",
   "metadata": {},
   "outputs": [
    {
     "name": "stdout",
     "output_type": "stream",
     "text": [
      "Found already trained model...\n",
      "... loaded!\n"
     ]
    }
   ],
   "source": [
    "SAVE_LOAD_ROOT = \"../../models_data/MNIST\"\n",
    "\n",
    "model = defences.standard_training(\n",
    "    trainSetLoader,\n",
    "    load_if_available=True,\n",
    "    load_path=SAVE_LOAD_ROOT + \"/mnist_standard_with_feature_list\",\n",
    ")"
   ]
  },
  {
   "cell_type": "code",
   "execution_count": 8,
   "id": "61f6411d-741f-4823-a737-bf74667695a5",
   "metadata": {},
   "outputs": [
    {
     "name": "stdout",
     "output_type": "stream",
     "text": [
      "Testing the model...\n"
     ]
    },
    {
     "data": {
      "application/vnd.jupyter.widget-view+json": {
       "model_id": "",
       "version_major": 2,
       "version_minor": 0
      },
      "text/plain": [
       "Testing Progress:   0%|          | 0/79 [00:00<?, ?it/s]"
      ]
     },
     "metadata": {},
     "output_type": "display_data"
    },
    {
     "name": "stdout",
     "output_type": "stream",
     "text": [
      "... done! Accuracy: 99.23%\n"
     ]
    }
   ],
   "source": [
    "# Test the model\n",
    "clean_test.test_trained_model(model, testSetLoader)"
   ]
  },
  {
   "cell_type": "code",
   "execution_count": 9,
   "id": "d3d14986-d539-4337-ab84-ea7b88747d63",
   "metadata": {},
   "outputs": [],
   "source": [
    "# Save the model\n",
    "torch.save(model, SAVE_LOAD_ROOT + \"/mnist_standard_with_feature_list\")"
   ]
  },
  {
   "cell_type": "code",
   "execution_count": 10,
   "id": "c48235d0-c883-4e64-bb29-9deef17c259d",
   "metadata": {},
   "outputs": [],
   "source": [
    "# A possible attacks array (for nice printing):\n",
    "# Some attacks use a helper library\n",
    "import torchattacks\n",
    "\n",
    "import attacks.fgsm as fgsm\n",
    "import attacks.ifgsm as ifgsm\n",
    "import attacks.pgd as pgd\n",
    "import utils.attacking as attacking\n",
    "\n",
    "attacks = {}\n",
    "\n",
    "attacks[\"FGSM\"] = fgsm.fgsm_attack\n",
    "attacks[\"I-FGSM\"] = ifgsm.ifgsm_attack\n",
    "attacks[\"PGD\"] = pgd.pgd_attack"
   ]
  },
  {
   "cell_type": "markdown",
   "id": "dc582167-ff7d-4693-b8e8-8e9c6acec531",
   "metadata": {},
   "source": [
    "## Classification score approach for detecting adversarial example in deep neural network\n",
    "https://link.springer.com/article/10.1007/s11042-020-09167-z"
   ]
  },
  {
   "cell_type": "markdown",
   "id": "6acc1f2c-cbdc-428c-b694-12fa7dae2c77",
   "metadata": {},
   "source": [
    "## Standard Model"
   ]
  },
  {
   "cell_type": "code",
   "execution_count": 11,
   "id": "4c84132e-c96e-4244-905e-b2821500c2b0",
   "metadata": {},
   "outputs": [
    {
     "data": {
      "application/vnd.jupyter.widget-view+json": {
       "model_id": "",
       "version_major": 2,
       "version_minor": 0
      },
      "text/plain": [
       "Testing Progress:   0%|          | 0/79 [00:00<?, ?it/s]"
      ]
     },
     "metadata": {},
     "output_type": "display_data"
    },
    {
     "name": "stdout",
     "output_type": "stream",
     "text": [
      "... done! Rejected 1, Accepted 9999, Accuracy: 99.14991499149914%\n"
     ]
    }
   ],
   "source": [
    "# Here you decide on the threshold for the clean dataset\n",
    "threshold = 0.1\n",
    "\n",
    "# Rejected\n",
    "accepted = 0\n",
    "rejected = 0\n",
    "correct = 0\n",
    "\n",
    "# Use a pretty progress bar to show updates\n",
    "for j, (images, labels) in enumerate(\n",
    "    tqdm(testSetLoader, desc=\"Testing Progress\", leave=False)\n",
    "):\n",
    "    # Cast to proper tensor\n",
    "    images, labels = images.to(device), labels.to(device)\n",
    "\n",
    "    # Predict\n",
    "    logits = standard_model(images)\n",
    "\n",
    "    # The highest class represents the chosen class (input, k, dimension)\n",
    "    _, preds = torch.topk(logits, 2, 1)\n",
    "\n",
    "    # Check each image and see if it is adversarial\n",
    "    for index in range(len(images)):\n",
    "        max_index = preds[index][0]\n",
    "        sec_index = preds[index][1]\n",
    "\n",
    "        diff = logits[index][max_index] - logits[index][sec_index]\n",
    "\n",
    "        if diff < threshold:\n",
    "            rejected += 1\n",
    "        else:\n",
    "            accepted += 1\n",
    "            correct += max_index == labels[index]\n",
    "\n",
    "\n",
    "print(\n",
    "    \"... done! Rejected {}, Accepted {}, Accuracy: {}%\".format(\n",
    "        rejected, accepted, float(correct) * 100 / accepted\n",
    "    )\n",
    ")"
   ]
  },
  {
   "cell_type": "code",
   "execution_count": 12,
   "id": "765a66e2-7bab-488a-a68d-14a1e4e9a46b",
   "metadata": {},
   "outputs": [
    {
     "data": {
      "application/vnd.jupyter.widget-view+json": {
       "model_id": "",
       "version_major": 2,
       "version_minor": 0
      },
      "text/plain": [
       "Testing Progress:   0%|          | 0/79 [00:00<?, ?it/s]"
      ]
     },
     "metadata": {},
     "output_type": "display_data"
    },
    {
     "name": "stdout",
     "output_type": "stream",
     "text": [
      "... done! Rejected 791, Accepted 9209, Accuracy: 4.104680204148116%\n"
     ]
    }
   ],
   "source": [
    "# Here you decide on the threshold for the clean dataset\n",
    "threshold = 0.4\n",
    "\n",
    "# Rejected\n",
    "accepted = 0\n",
    "rejected = 0\n",
    "correct = 0\n",
    "\n",
    "# Use a pretty progress bar to show updates\n",
    "for j, (images, labels) in enumerate(\n",
    "    tqdm(testSetLoader, desc=\"Testing Progress\", leave=False)\n",
    "):\n",
    "    # Cast to proper tensor\n",
    "    images, labels = images.to(device), labels.to(device)\n",
    "\n",
    "    # Perturb the images using the attack\n",
    "    perturbed_images = fgsm.fgsm_attack(\n",
    "        images,\n",
    "        labels,\n",
    "        standard_model,\n",
    "        loss_function,\n",
    "        epsilon=0.35,\n",
    "        alpha=None,\n",
    "        scale=True,\n",
    "        iterations=None,\n",
    "    )\n",
    "\n",
    "    # Predict\n",
    "    logits = standard_model(perturbed_images)\n",
    "\n",
    "    # The highest class represents the chosen class (input, k, dimension)\n",
    "    _, preds = torch.topk(logits, 2, 1)\n",
    "\n",
    "    # Check each image and see if it is adversarial\n",
    "    for index in range(len(images)):\n",
    "        max_index = preds[index][0]\n",
    "        sec_index = preds[index][1]\n",
    "\n",
    "        diff = logits[index][max_index] - logits[index][sec_index]\n",
    "\n",
    "        if diff < threshold:\n",
    "            rejected += 1\n",
    "        else:\n",
    "            accepted += 1\n",
    "            correct += max_index == labels[index]\n",
    "\n",
    "print(\n",
    "    \"... done! Rejected {}, Accepted {}, Accuracy: {}%\".format(\n",
    "        rejected, accepted, float(correct) * 100 / accepted\n",
    "    )\n",
    ")"
   ]
  },
  {
   "cell_type": "markdown",
   "id": "45d6601d-214d-4c83-8bcf-135c595b8c86",
   "metadata": {},
   "source": [
    "## PGD Model"
   ]
  },
  {
   "cell_type": "code",
   "execution_count": 13,
   "id": "5e0858f2-f772-4e25-b4c1-233dfda4d50a",
   "metadata": {},
   "outputs": [
    {
     "data": {
      "application/vnd.jupyter.widget-view+json": {
       "model_id": "",
       "version_major": 2,
       "version_minor": 0
      },
      "text/plain": [
       "Testing Progress:   0%|          | 0/79 [00:00<?, ?it/s]"
      ]
     },
     "metadata": {},
     "output_type": "display_data"
    },
    {
     "name": "stdout",
     "output_type": "stream",
     "text": [
      "... done! Rejected 6, Accepted 9994, Accuracy: 99.28957374424655%\n"
     ]
    }
   ],
   "source": [
    "# Here you decide on the threshold for the clean dataset\n",
    "threshold = 0.1\n",
    "\n",
    "# Rejected\n",
    "accepted = 0\n",
    "rejected = 0\n",
    "correct = 0\n",
    "\n",
    "# Use a pretty progress bar to show updates\n",
    "for j, (images, labels) in enumerate(\n",
    "    tqdm(testSetLoader, desc=\"Testing Progress\", leave=False)\n",
    "):\n",
    "    # Cast to proper tensor\n",
    "    images, labels = images.to(device), labels.to(device)\n",
    "\n",
    "    # Predict\n",
    "    logits = pgd_model(images)\n",
    "\n",
    "    # The highest class represents the chosen class (input, k, dimension)\n",
    "    _, preds = torch.topk(logits, 2, 1)\n",
    "\n",
    "    # Check each image and see if it is adversarial\n",
    "    for index in range(len(images)):\n",
    "        max_index = preds[index][0]\n",
    "        sec_index = preds[index][1]\n",
    "\n",
    "        diff = logits[index][max_index] - logits[index][sec_index]\n",
    "\n",
    "        if diff < threshold:\n",
    "            rejected += 1\n",
    "        else:\n",
    "            accepted += 1\n",
    "            correct += max_index == labels[index]\n",
    "\n",
    "print(\n",
    "    \"... done! Rejected {}, Accepted {}, Accuracy: {}%\".format(\n",
    "        rejected, accepted, float(correct) * 100 / accepted\n",
    "    )\n",
    ")"
   ]
  },
  {
   "cell_type": "code",
   "execution_count": 19,
   "id": "905ad550-203c-4487-9f73-a7ace56f077a",
   "metadata": {},
   "outputs": [
    {
     "data": {
      "application/vnd.jupyter.widget-view+json": {
       "model_id": "",
       "version_major": 2,
       "version_minor": 0
      },
      "text/plain": [
       "Testing Progress:   0%|          | 0/79 [00:00<?, ?it/s]"
      ]
     },
     "metadata": {},
     "output_type": "display_data"
    },
    {
     "name": "stdout",
     "output_type": "stream",
     "text": [
      "... done! Rejected 835, Accepted 9165, Accuracy: 30.98745226404801%\n"
     ]
    }
   ],
   "source": [
    "# Here you decide on the threshold for the clean dataset\n",
    "threshold = 0.25\n",
    "\n",
    "# Rejected\n",
    "accepted = 0\n",
    "rejected = 0\n",
    "correct = 0\n",
    "\n",
    "# Use a pretty progress bar to show updates\n",
    "for j, (images, labels) in enumerate(\n",
    "    tqdm(testSetLoader, desc=\"Testing Progress\", leave=False)\n",
    "):\n",
    "    # Cast to proper tensor\n",
    "    images, labels = images.to(device), labels.to(device)\n",
    "\n",
    "    # Perturb the images using the attack\n",
    "    perturbed_images = fgsm.fgsm_attack(\n",
    "        images,\n",
    "        labels,\n",
    "        pgd_model,\n",
    "        loss_function,\n",
    "        epsilon=0.35,\n",
    "        alpha=None,\n",
    "        scale=True,\n",
    "        iterations=None,\n",
    "    )\n",
    "\n",
    "    # Predict\n",
    "    logits = pgd_model(perturbed_images)\n",
    "\n",
    "    # The highest class represents the chosen class (input, k, dimension)\n",
    "    _, preds = torch.topk(logits, 2, 1)\n",
    "\n",
    "    # Check each image and see if it is adversarial\n",
    "    for index in range(len(images)):\n",
    "        max_index = preds[index][0]\n",
    "        sec_index = preds[index][1]\n",
    "\n",
    "        diff = logits[index][max_index] - logits[index][sec_index]\n",
    "\n",
    "        if diff < threshold:\n",
    "            rejected += 1\n",
    "        else:\n",
    "            accepted += 1\n",
    "            correct += max_index == labels[index]\n",
    "\n",
    "print(\n",
    "    \"... done! Rejected {}, Accepted {}, Accuracy: {}%\".format(\n",
    "        rejected, accepted, float(correct) * 100 / accepted\n",
    "    )\n",
    ")"
   ]
  },
  {
   "cell_type": "markdown",
   "id": "67132d83-f70e-4113-be50-94a2f4d30dd0",
   "metadata": {},
   "source": [
    "## Maximum Mean Discrepancy Test is Aware of Adversarial Attacks\n",
    "https://arxiv.org/abs/2010.11415"
   ]
  },
  {
   "cell_type": "code",
   "execution_count": 15,
   "id": "cd755c44-ae3e-4d54-9814-a9e12e540a1b",
   "metadata": {},
   "outputs": [],
   "source": [
    "# Not implemented due to breaking changes"
   ]
  },
  {
   "cell_type": "code",
   "execution_count": 16,
   "id": "38503123-2a09-4f39-87db-4f23d3b1a016",
   "metadata": {},
   "outputs": [],
   "source": [
    "# Firstly extract semantic features from trained model\n",
    "# Note: we just need the penultimate layer (so not complete pain)\n",
    "# Train a model that also returns penultimate layer"
   ]
  },
  {
   "cell_type": "markdown",
   "id": "b3479d3c-e588-478f-8140-dbc1a682d023",
   "metadata": {},
   "source": [
    "## A Simple Unified Framework for Detecting Out-of-Distribution Samples and Adversarial Attacks\n",
    "https://arxiv.org/abs/1807.03888"
   ]
  },
  {
   "cell_type": "markdown",
   "id": "4d2901bc-7664-4824-b1bc-c32b75bba168",
   "metadata": {},
   "source": [
    "## Characterizing Adversarial Subspaces Using Local Intrinsic Dimensionality\n",
    "https://arxiv.org/abs/1801.02613"
   ]
  },
  {
   "cell_type": "markdown",
   "id": "f0cfa049-b9cb-44e8-af81-700e533acaa7",
   "metadata": {},
   "source": [
    "## PCA Detection"
   ]
  },
  {
   "cell_type": "code",
   "execution_count": 17,
   "id": "1adb1c17-c296-41f3-9e32-5eac4f30c22c",
   "metadata": {},
   "outputs": [],
   "source": [
    "from sklearn.decomposition import PCA\n",
    "\n",
    "# Copy the MNIST data and then fit using PCA\n",
    "# First convert to numpy arrays (and make it float)\n",
    "numpyTrainingData = trainSetLoader.dataset.data.numpy().astype(\"float32\")\n",
    "# Note you also need to reshape the input data for your sanity\n",
    "reshapedNumpyTrainingData = numpyTrainingData.reshape((len(numpyTrainingData), 28 * 28))\n",
    "\n",
    "# Then perform PCA on training data to get principal components\n",
    "# Note it should reflect dimension of image, i.e. 28 * 28\n",
    "pca = PCA(n_components=28 * 28).fit(reshapedNumpyTrainingData)"
   ]
  },
  {
   "cell_type": "code",
   "execution_count": 42,
   "id": "44e38927-deec-4d27-b0f9-e83bc0dd621e",
   "metadata": {},
   "outputs": [
    {
     "name": "stdout",
     "output_type": "stream",
     "text": [
      "4\n"
     ]
    }
   ],
   "source": [
    "# Now on clean data check if there are any adversarial samples\n",
    "numpyTestData = testSetLoader.dataset.data.numpy().astype(\"float32\")\n",
    "reshapedNumpyTestData = numpyTestData.reshape((len(numpyTestData), 28 * 28))\n",
    "\n",
    "# Original predictions on data\n",
    "testTensor = torch.from_numpy(\n",
    "    np.reshape(numpyTestData, (len(numpyTestData), 1, 28, 28))\n",
    ").to(device)\n",
    "logits = standard_model(testTensor).detach().cpu().numpy()\n",
    "predictions_base = np.array([np.argmax(logits[i]) for i in range(len(numpyTestData))])\n",
    "\n",
    "# Transform clean data along principal components\n",
    "transformedTestData = pca.transform(reshapedNumpyTestData)\n",
    "\n",
    "# Decides how many of the least significant coefficients (of components) to perturb\n",
    "num_components = 200\n",
    "\n",
    "# How many trials to run\n",
    "num_trials = 25\n",
    "\n",
    "# Track results\n",
    "result = np.zeros(len(numpyTestData), dtype=int)\n",
    "\n",
    "# Actual attempts\n",
    "for trial in range(num_trials):\n",
    "    random_noise = np.random.standard_normal(size=num_components)\n",
    "\n",
    "    # Copy the data\n",
    "    transformedTestDataNoisy = np.copy(transformedTestData)\n",
    "\n",
    "    # Update the components with the right data\n",
    "    for index in range(len(numpyTestData)):\n",
    "        transformedTestDataNoisy[index][(28 * 28 - num_components) :] += (\n",
    "            10 * random_noise\n",
    "        )\n",
    "\n",
    "    # Now calculate the inverse using PCA and the noise\n",
    "    inverseTestDataNoisy = pca.inverse_transform(transformedTestDataNoisy)\n",
    "\n",
    "    # Reshape into image\n",
    "    testDataNoisy = np.reshape(inverseTestDataNoisy, (len(numpyTestData), 1, 28, 28))\n",
    "\n",
    "    # Predict\n",
    "    testTensor = torch.from_numpy(\n",
    "        np.reshape(testDataNoisy, (len(testDataNoisy), 1, 28, 28))\n",
    "    ).to(device)\n",
    "    logits = logits = standard_model(testTensor).detach().cpu().numpy()\n",
    "    predictions_modified = np.array(\n",
    "        [np.argmax(logits[i]) for i in range(len(testDataNoisy))]\n",
    "    )\n",
    "\n",
    "    check = np.not_equal(predictions_modified, predictions_base)\n",
    "    result = np.logical_or(check, result)\n",
    "\n",
    "# Printing\n",
    "print(np.sum(result))"
   ]
  },
  {
   "cell_type": "code",
   "execution_count": 43,
   "id": "99ab8767-6731-4205-ac3d-9165ea7bb6c0",
   "metadata": {},
   "outputs": [
    {
     "data": {
      "application/vnd.jupyter.widget-view+json": {
       "model_id": "",
       "version_major": 2,
       "version_minor": 0
      },
      "text/plain": [
       "Testing Progress:   0%|          | 0/79 [00:00<?, ?it/s]"
      ]
     },
     "metadata": {},
     "output_type": "display_data"
    },
    {
     "name": "stdout",
     "output_type": "stream",
     "text": [
      "9995\n"
     ]
    }
   ],
   "source": [
    "# Now do the same on adversarial data check if there are any adversarial samples\n",
    "# Use a pretty progress bar to show updates\n",
    "data = []\n",
    "\n",
    "for j, (images, labels) in enumerate(\n",
    "    tqdm(testSetLoader, desc=\"Testing Progress\", leave=False)\n",
    "):\n",
    "    # Cast to proper tensor\n",
    "    images, labels = images.to(device), labels.to(device)\n",
    "\n",
    "    # Perturb the images using the attack\n",
    "    perturbed_images = fgsm.fgsm_attack(\n",
    "        images,\n",
    "        labels,\n",
    "        pgd_model,\n",
    "        loss_function,\n",
    "        epsilon=0.75,\n",
    "        alpha=None,\n",
    "        scale=True,\n",
    "        iterations=None,\n",
    "    )\n",
    "\n",
    "    for perturbed_image in perturbed_images:\n",
    "        data.append(perturbed_image.detach().cpu().numpy())\n",
    "\n",
    "data = np.asarray(data)\n",
    "numpyTestData = data.astype(\"float32\")\n",
    "reshapedNumpyTestData = numpyTestData.reshape((len(numpyTestData), 28 * 28))\n",
    "\n",
    "# Original predictions on data\n",
    "testTensor = torch.from_numpy(\n",
    "    np.reshape(numpyTestData, (len(numpyTestData), 1, 28, 28))\n",
    ").to(device)\n",
    "logits = standard_model(testTensor).detach().cpu().numpy()\n",
    "predictions_base = np.array([np.argmax(logits[i]) for i in range(len(numpyTestData))])\n",
    "\n",
    "# Transform clean data along principal components\n",
    "transformedTestData = pca.transform(reshapedNumpyTestData)\n",
    "\n",
    "# Decides how many of the least significant coefficients (of components) to perturb\n",
    "num_components = 200\n",
    "\n",
    "# How many trials to run\n",
    "num_trials = 25\n",
    "\n",
    "# Track results\n",
    "result = np.zeros(len(numpyTestData), dtype=int)\n",
    "\n",
    "# Actual attempts\n",
    "for trial in range(num_trials):\n",
    "    random_noise = np.random.standard_normal(size=num_components)\n",
    "\n",
    "    # Copy the data\n",
    "    transformedTestDataNoisy = np.copy(transformedTestData)\n",
    "\n",
    "    # Update the components with the right data\n",
    "    for index in range(len(numpyTestData)):\n",
    "        transformedTestDataNoisy[index][(28 * 28 - num_components) :] += (\n",
    "            10 * random_noise\n",
    "        )\n",
    "\n",
    "    # Now calculate the inverse using PCA and the noise\n",
    "    inverseTestDataNoisy = pca.inverse_transform(transformedTestDataNoisy)\n",
    "\n",
    "    # Reshape into image\n",
    "    testDataNoisy = np.reshape(inverseTestDataNoisy, (len(numpyTestData), 1, 28, 28))\n",
    "\n",
    "    # Predict\n",
    "    testTensor = torch.from_numpy(\n",
    "        np.reshape(testDataNoisy, (len(testDataNoisy), 1, 28, 28))\n",
    "    ).to(device)\n",
    "    logits = logits = standard_model(testTensor).detach().cpu().numpy()\n",
    "    predictions_modified = np.array(\n",
    "        [np.argmax(logits[i]) for i in range(len(testDataNoisy))]\n",
    "    )\n",
    "\n",
    "    check = np.not_equal(predictions_modified, predictions_base)\n",
    "    result = np.logical_or(check, result)\n",
    "\n",
    "# Printing\n",
    "print(np.sum(result))"
   ]
  },
  {
   "cell_type": "markdown",
   "id": "d03bc8ae-d1bb-41ef-a880-49e992a2a073",
   "metadata": {},
   "source": [
    "## Applying PCA on a trained PGD model"
   ]
  },
  {
   "cell_type": "code",
   "execution_count": 44,
   "id": "85b69048-1c3d-473c-a41d-decfdf9fdc50",
   "metadata": {},
   "outputs": [],
   "source": [
    "from sklearn.decomposition import PCA\n",
    "\n",
    "# Copy the MNIST data and then fit using PCA\n",
    "# First convert to numpy arrays (and make it float)\n",
    "numpyTrainingData = trainSetLoader.dataset.data.numpy().astype(\"float32\")\n",
    "# Note you also need to reshape the input data for your sanity\n",
    "reshapedNumpyTrainingData = numpyTrainingData.reshape((len(numpyTrainingData), 28 * 28))\n",
    "\n",
    "# Then perform PCA on training data to get principal components\n",
    "# Note it should reflect dimension of image, i.e. 28 * 28\n",
    "pca = PCA(n_components=28 * 28).fit(reshapedNumpyTrainingData)"
   ]
  },
  {
   "cell_type": "code",
   "execution_count": 45,
   "id": "309a6ef7-be77-4b08-8f7f-8ec813c963c6",
   "metadata": {},
   "outputs": [
    {
     "name": "stdout",
     "output_type": "stream",
     "text": [
      "96\n"
     ]
    }
   ],
   "source": [
    "# Now on clean data check if there are any adversarial samples\n",
    "numpyTestData = testSetLoader.dataset.data.numpy().astype(\"float32\")\n",
    "reshapedNumpyTestData = numpyTestData.reshape((len(numpyTestData), 28 * 28))\n",
    "\n",
    "# Original predictions on data\n",
    "testTensor = torch.from_numpy(\n",
    "    np.reshape(numpyTestData, (len(numpyTestData), 1, 28, 28))\n",
    ").to(device)\n",
    "logits = pgd_model(testTensor).detach().cpu().numpy()\n",
    "predictions_base = np.array([np.argmax(logits[i]) for i in range(len(numpyTestData))])\n",
    "\n",
    "# Transform clean data along principal components\n",
    "transformedTestData = pca.transform(reshapedNumpyTestData)\n",
    "\n",
    "# Decides how many of the least significant coefficients (of components) to perturb\n",
    "# 100 seems to be the magic number, so very interesting it actually does impact\n",
    "num_components = 200\n",
    "\n",
    "# How many trials to run\n",
    "num_trials = 25\n",
    "\n",
    "# Track results\n",
    "result = np.zeros(len(numpyTestData), dtype=int)\n",
    "\n",
    "# Actual attempts\n",
    "for trial in range(num_trials):\n",
    "    random_noise = np.random.standard_normal(size=num_components)\n",
    "\n",
    "    # Copy the data\n",
    "    transformedTestDataNoisy = np.copy(transformedTestData)\n",
    "\n",
    "    # Update the components with the right data\n",
    "    for index in range(len(numpyTestData)):\n",
    "        transformedTestDataNoisy[index][(28 * 28 - num_components) :] += (\n",
    "            10 * random_noise\n",
    "        )\n",
    "\n",
    "    # Now calculate the inverse using PCA and the noise\n",
    "    inverseTestDataNoisy = pca.inverse_transform(transformedTestDataNoisy)\n",
    "\n",
    "    # Reshape into image\n",
    "    testDataNoisy = np.reshape(inverseTestDataNoisy, (len(numpyTestData), 1, 28, 28))\n",
    "\n",
    "    # Predict\n",
    "    testTensor = torch.from_numpy(\n",
    "        np.reshape(testDataNoisy, (len(testDataNoisy), 1, 28, 28))\n",
    "    ).to(device)\n",
    "    logits = logits = standard_model(testTensor).detach().cpu().numpy()\n",
    "    predictions_modified = np.array(\n",
    "        [np.argmax(logits[i]) for i in range(len(testDataNoisy))]\n",
    "    )\n",
    "\n",
    "    check = np.not_equal(predictions_modified, predictions_base)\n",
    "    result = np.logical_or(check, result)\n",
    "\n",
    "# Printing\n",
    "print(np.sum(result))"
   ]
  },
  {
   "cell_type": "code",
   "execution_count": 46,
   "id": "fa21b8a8-aeb1-49d9-b2ce-b7f8abd33b6c",
   "metadata": {},
   "outputs": [
    {
     "data": {
      "application/vnd.jupyter.widget-view+json": {
       "model_id": "",
       "version_major": 2,
       "version_minor": 0
      },
      "text/plain": [
       "Testing Progress:   0%|          | 0/79 [00:00<?, ?it/s]"
      ]
     },
     "metadata": {},
     "output_type": "display_data"
    },
    {
     "name": "stdout",
     "output_type": "stream",
     "text": [
      "9981\n"
     ]
    }
   ],
   "source": [
    "# Now do the same on adversarial data check if there are any adversarial samples\n",
    "# Use a pretty progress bar to show updates\n",
    "data = []\n",
    "\n",
    "for j, (images, labels) in enumerate(\n",
    "    tqdm(testSetLoader, desc=\"Testing Progress\", leave=False)\n",
    "):\n",
    "    # Cast to proper tensor\n",
    "    images, labels = images.to(device), labels.to(device)\n",
    "\n",
    "    # Perturb the images using the attack\n",
    "    perturbed_images = fgsm.fgsm_attack(\n",
    "        images,\n",
    "        labels,\n",
    "        pgd_model,\n",
    "        loss_function,\n",
    "        epsilon=0.75,\n",
    "        alpha=None,\n",
    "        scale=True,\n",
    "        iterations=None,\n",
    "    )\n",
    "\n",
    "    for perturbed_image in perturbed_images:\n",
    "        data.append(perturbed_image.detach().cpu().numpy())\n",
    "\n",
    "data = np.asarray(data)\n",
    "numpyTestData = data.astype(\"float32\")\n",
    "reshapedNumpyTestData = numpyTestData.reshape((len(numpyTestData), 28 * 28))\n",
    "\n",
    "# Original predictions on data\n",
    "testTensor = torch.from_numpy(\n",
    "    np.reshape(numpyTestData, (len(numpyTestData), 1, 28, 28))\n",
    ").to(device)\n",
    "logits = standard_model(testTensor).detach().cpu().numpy()\n",
    "predictions_base = np.array([np.argmax(logits[i]) for i in range(len(numpyTestData))])\n",
    "\n",
    "# Transform clean data along principal components\n",
    "transformedTestData = pca.transform(reshapedNumpyTestData)\n",
    "\n",
    "# Decides how many of the least significant coefficients (of components) to perturb\n",
    "num_components = 100\n",
    "\n",
    "# How many trials to run\n",
    "num_trials = 25\n",
    "\n",
    "# Track results\n",
    "result = np.zeros(len(numpyTestData), dtype=int)\n",
    "\n",
    "# Actual attempts\n",
    "for trial in range(num_trials):\n",
    "    random_noise = np.random.standard_normal(size=num_components)\n",
    "\n",
    "    # Copy the data\n",
    "    transformedTestDataNoisy = np.copy(transformedTestData)\n",
    "\n",
    "    # Update the components with the right data\n",
    "    for index in range(len(numpyTestData)):\n",
    "        transformedTestDataNoisy[index][(28 * 28 - num_components) :] += (\n",
    "            10 * random_noise\n",
    "        )\n",
    "\n",
    "    # Now calculate the inverse using PCA and the noise\n",
    "    inverseTestDataNoisy = pca.inverse_transform(transformedTestDataNoisy)\n",
    "\n",
    "    # Reshape into image\n",
    "    testDataNoisy = np.reshape(inverseTestDataNoisy, (len(numpyTestData), 1, 28, 28))\n",
    "\n",
    "    # Predict\n",
    "    testTensor = torch.from_numpy(\n",
    "        np.reshape(testDataNoisy, (len(testDataNoisy), 1, 28, 28))\n",
    "    ).to(device)\n",
    "    logits = logits = pgd_model(testTensor).detach().cpu().numpy()\n",
    "    predictions_modified = np.array(\n",
    "        [np.argmax(logits[i]) for i in range(len(testDataNoisy))]\n",
    "    )\n",
    "\n",
    "    check = np.not_equal(predictions_modified, predictions_base)\n",
    "    result = np.logical_or(check, result)\n",
    "\n",
    "# Printing\n",
    "print(np.sum(result))"
   ]
  },
  {
   "cell_type": "code",
   "execution_count": 47,
   "id": "e4d2a151-cfaa-475f-8010-c29ef3693686",
   "metadata": {},
   "outputs": [
    {
     "data": {
      "application/vnd.jupyter.widget-view+json": {
       "model_id": "",
       "version_major": 2,
       "version_minor": 0
      },
      "text/plain": [
       "Testing Progress:   0%|          | 0/79 [00:00<?, ?it/s]"
      ]
     },
     "metadata": {},
     "output_type": "display_data"
    },
    {
     "name": "stdout",
     "output_type": "stream",
     "text": [
      "10000\n"
     ]
    }
   ],
   "source": [
    "# Now do the same on adversarial data check if there are any adversarial samples\n",
    "# Use a pretty progress bar to show updates\n",
    "data = []\n",
    "\n",
    "for j, (images, labels) in enumerate(\n",
    "    tqdm(testSetLoader, desc=\"Testing Progress\", leave=False)\n",
    "):\n",
    "    # Cast to proper tensor\n",
    "    images, labels = images.to(device), labels.to(device)\n",
    "\n",
    "    # Perturb the images using the attack\n",
    "    perturbed_images = pgd.pgd_attack(\n",
    "        images,\n",
    "        labels,\n",
    "        pgd_model,\n",
    "        loss_function,\n",
    "        epsilon=0.75,\n",
    "        alpha=(2 / 255),\n",
    "        scale=True,\n",
    "        iterations=20,\n",
    "    )\n",
    "\n",
    "    for perturbed_image in perturbed_images:\n",
    "        data.append(perturbed_image.detach().cpu().numpy())\n",
    "\n",
    "data = np.asarray(data)\n",
    "numpyTestData = data.astype(\"float32\")\n",
    "reshapedNumpyTestData = numpyTestData.reshape((len(numpyTestData), 28 * 28))\n",
    "\n",
    "# Original predictions on data\n",
    "testTensor = torch.from_numpy(\n",
    "    np.reshape(numpyTestData, (len(numpyTestData), 1, 28, 28))\n",
    ").to(device)\n",
    "logits = standard_model(testTensor).detach().cpu().numpy()\n",
    "predictions_base = np.array([np.argmax(logits[i]) for i in range(len(numpyTestData))])\n",
    "\n",
    "# Transform clean data along principal components\n",
    "transformedTestData = pca.transform(reshapedNumpyTestData)\n",
    "\n",
    "# Decides how many of the least significant coefficients (of components) to perturb\n",
    "num_components = 200\n",
    "\n",
    "# How many trials to run\n",
    "num_trials = 25\n",
    "\n",
    "# Track results\n",
    "result = np.zeros(len(numpyTestData), dtype=int)\n",
    "\n",
    "# Actual attempts\n",
    "for trial in range(num_trials):\n",
    "    random_noise = np.random.standard_normal(size=num_components)\n",
    "\n",
    "    # Copy the data\n",
    "    transformedTestDataNoisy = np.copy(transformedTestData)\n",
    "\n",
    "    # Update the components with the right data\n",
    "    for index in range(len(numpyTestData)):\n",
    "        transformedTestDataNoisy[index][(28 * 28 - num_components) :] += (\n",
    "            10 * random_noise\n",
    "        )\n",
    "\n",
    "    # Now calculate the inverse using PCA and the noise\n",
    "    inverseTestDataNoisy = pca.inverse_transform(transformedTestDataNoisy)\n",
    "\n",
    "    # Reshape into image\n",
    "    testDataNoisy = np.reshape(inverseTestDataNoisy, (len(numpyTestData), 1, 28, 28))\n",
    "\n",
    "    # Predict\n",
    "    testTensor = torch.from_numpy(\n",
    "        np.reshape(testDataNoisy, (len(testDataNoisy), 1, 28, 28))\n",
    "    ).to(device)\n",
    "    logits = logits = pgd_model(testTensor).detach().cpu().numpy()\n",
    "    predictions_modified = np.array(\n",
    "        [np.argmax(logits[i]) for i in range(len(testDataNoisy))]\n",
    "    )\n",
    "\n",
    "    check = np.not_equal(predictions_modified, predictions_base)\n",
    "    result = np.logical_or(check, result)\n",
    "\n",
    "# Printing\n",
    "print(np.sum(result))"
   ]
  }
 ],
 "metadata": {
  "kernelspec": {
   "display_name": "Python 3 (ipykernel)",
   "language": "python",
   "name": "python3"
  },
  "language_info": {
   "codemirror_mode": {
    "name": "ipython",
    "version": 3
   },
   "file_extension": ".py",
   "mimetype": "text/x-python",
   "name": "python",
   "nbconvert_exporter": "python",
   "pygments_lexer": "ipython3",
   "version": "3.8.10"
  }
 },
 "nbformat": 4,
 "nbformat_minor": 5
}
