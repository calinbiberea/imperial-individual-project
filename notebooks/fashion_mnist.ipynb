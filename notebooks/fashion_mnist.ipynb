{
 "cells": [
  {
   "cell_type": "markdown",
   "metadata": {},
   "source": [
    "# Fashion-MNIST: Training and Testing on a Clean Dataset & Adversarial Analysis"
   ]
  },
  {
   "cell_type": "markdown",
   "metadata": {},
   "source": [
    "## Imports and Fashion-MNIST loading"
   ]
  },
  {
   "cell_type": "code",
   "execution_count": 1,
   "metadata": {},
   "outputs": [
    {
     "name": "stdout",
     "output_type": "stream",
     "text": [
      "Notebook will use PyTorch Device: CUDA\n"
     ]
    }
   ],
   "source": [
    "# Imports all the module paths\n",
    "import sys\n",
    "\n",
    "sys.path.append(\"../\")\n",
    "\n",
    "# Loads the rest of the modules\n",
    "import torch\n",
    "import torch.nn as nn\n",
    "\n",
    "# File containing all the required training methods\n",
    "import defenses.fashion_mnist as fashion_mnist\n",
    "\n",
    "# For testing\n",
    "import utils.clean_test as clean_test\n",
    "\n",
    "# Contains the data loadders\n",
    "import utils.dataloaders as dataloaders\n",
    "\n",
    "# For printing outcomes\n",
    "# import utils.printing as printing\n",
    "\n",
    "# Example printing, but I removed it to simplify results\n",
    "# for epsilon in epsilons:\n",
    "#     printing.print_attack(\n",
    "#         model,\n",
    "#         testSetLoader,\n",
    "#         \"FGSM\",\n",
    "#         attacks[\"FGSM\"],\n",
    "#         epsilon=epsilon,\n",
    "#     )"
   ]
  },
  {
   "cell_type": "markdown",
   "metadata": {},
   "source": [
    "## Load the dataset"
   ]
  },
  {
   "cell_type": "code",
   "execution_count": 2,
   "metadata": {},
   "outputs": [],
   "source": [
    "DATA_ROOT = \"../datasets/\"\n",
    "\n",
    "trainSetLoader, _, testSetLoader = dataloaders.get_Fashion_MNIST_data_loaders(\n",
    "    DATA_ROOT,\n",
    "    trainSetSize=50000,\n",
    "    validationSetSize=0,\n",
    "    batchSize=128,\n",
    ")"
   ]
  },
  {
   "cell_type": "markdown",
   "metadata": {
    "tags": []
   },
   "source": [
    "## Standard Training"
   ]
  },
  {
   "cell_type": "code",
   "execution_count": 3,
   "metadata": {},
   "outputs": [
    {
     "name": "stdout",
     "output_type": "stream",
     "text": [
      "Found already trained model...\n",
      "... loaded!\n"
     ]
    }
   ],
   "source": [
    "SAVE_LOAD_ROOT = \"../models_data/FashionMNIST\"\n",
    "\n",
    "standard_model = fashion_mnist.standard_training(\n",
    "    trainSetLoader,\n",
    "    load_if_available=True,\n",
    "    load_path=SAVE_LOAD_ROOT + \"/fashion_mnist_standard\",\n",
    ")"
   ]
  },
  {
   "cell_type": "code",
   "execution_count": 4,
   "metadata": {},
   "outputs": [
    {
     "name": "stdout",
     "output_type": "stream",
     "text": [
      "Testing the model...\n"
     ]
    },
    {
     "data": {
      "application/vnd.jupyter.widget-view+json": {
       "model_id": "f24e9edb993240129a90876efc848632",
       "version_major": 2,
       "version_minor": 0
      },
      "text/plain": [
       "Testing Progress:   0%|          | 0/79 [00:00<?, ?it/s]"
      ]
     },
     "metadata": {},
     "output_type": "display_data"
    },
    {
     "name": "stdout",
     "output_type": "stream",
     "text": [
      "... done! Accuracy: 91.23%\n"
     ]
    }
   ],
   "source": [
    "# Test the model\n",
    "clean_test.test_trained_model(standard_model, testSetLoader)"
   ]
  },
  {
   "cell_type": "code",
   "execution_count": 5,
   "metadata": {},
   "outputs": [],
   "source": [
    "# Save the model\n",
    "torch.save(standard_model, SAVE_LOAD_ROOT + \"/fashion_mnist_standard\")"
   ]
  },
  {
   "cell_type": "markdown",
   "metadata": {
    "tags": []
   },
   "source": [
    "## Attacks and Their Results"
   ]
  },
  {
   "cell_type": "code",
   "execution_count": 6,
   "metadata": {},
   "outputs": [],
   "source": [
    "# A possible attacks array (for nice printing):\n",
    "import utils.attacking as attacking\n",
    "\n",
    "attacks = {}"
   ]
  },
  {
   "cell_type": "markdown",
   "metadata": {
    "tags": []
   },
   "source": [
    "### FGSM (Fast Sign Gradient Method) https://arxiv.org/abs/1412.6572\n",
    "\n",
    "The formula that is used for producing the adversarial example in this case is:\n",
    "\n",
    "$x' = x + \\epsilon * sign(\\nabla_{x}J(\\theta, x, y))$, where J is the loss function used."
   ]
  },
  {
   "cell_type": "code",
   "execution_count": 7,
   "metadata": {},
   "outputs": [],
   "source": [
    "import attacks.fgsm as fgsm\n",
    "\n",
    "attacks[\"FGSM\"] = fgsm.fgsm_attack"
   ]
  },
  {
   "cell_type": "code",
   "execution_count": 8,
   "metadata": {},
   "outputs": [],
   "source": [
    "# Several values to use for the epsilons\n",
    "epsilons = [0, 0.05, 0.1, 0.2, 0.35, 0.55, 0.75, 1]"
   ]
  },
  {
   "cell_type": "code",
   "execution_count": 9,
   "metadata": {},
   "outputs": [
    {
     "name": "stdout",
     "output_type": "stream",
     "text": [
      "Testing the model under FGSM Attack using epsilon = 0, alpha = None...\n"
     ]
    },
    {
     "data": {
      "application/vnd.jupyter.widget-view+json": {
       "model_id": "d30c47a97fff4213a4397cc3d67012c5",
       "version_major": 2,
       "version_minor": 0
      },
      "text/plain": [
       "FGSM Attack Testing Progress:   0%|          | 0/79 [00:00<?, ?it/s]"
      ]
     },
     "metadata": {},
     "output_type": "display_data"
    },
    {
     "name": "stdout",
     "output_type": "stream",
     "text": [
      "... done! Accuracy: 91.23%\n",
      "\n",
      "\n",
      "Testing the model under FGSM Attack using epsilon = 0.05, alpha = None...\n"
     ]
    },
    {
     "data": {
      "application/vnd.jupyter.widget-view+json": {
       "model_id": "4253dc2fff154aeaa08a1ceb87a2a5dc",
       "version_major": 2,
       "version_minor": 0
      },
      "text/plain": [
       "FGSM Attack Testing Progress:   0%|          | 0/79 [00:00<?, ?it/s]"
      ]
     },
     "metadata": {},
     "output_type": "display_data"
    },
    {
     "name": "stdout",
     "output_type": "stream",
     "text": [
      "... done! Accuracy: 46.74%\n",
      "\n",
      "\n",
      "Testing the model under FGSM Attack using epsilon = 0.1, alpha = None...\n"
     ]
    },
    {
     "data": {
      "application/vnd.jupyter.widget-view+json": {
       "model_id": "0fa5fb4895034bcc86bb8d287b590986",
       "version_major": 2,
       "version_minor": 0
      },
      "text/plain": [
       "FGSM Attack Testing Progress:   0%|          | 0/79 [00:00<?, ?it/s]"
      ]
     },
     "metadata": {},
     "output_type": "display_data"
    },
    {
     "name": "stdout",
     "output_type": "stream",
     "text": [
      "... done! Accuracy: 16.37%\n",
      "\n",
      "\n",
      "Testing the model under FGSM Attack using epsilon = 0.2, alpha = None...\n"
     ]
    },
    {
     "data": {
      "application/vnd.jupyter.widget-view+json": {
       "model_id": "b207fd3addfc450a8a3f648641d7eafe",
       "version_major": 2,
       "version_minor": 0
      },
      "text/plain": [
       "FGSM Attack Testing Progress:   0%|          | 0/79 [00:00<?, ?it/s]"
      ]
     },
     "metadata": {},
     "output_type": "display_data"
    },
    {
     "name": "stdout",
     "output_type": "stream",
     "text": [
      "... done! Accuracy: 1.82%\n",
      "\n",
      "\n",
      "Testing the model under FGSM Attack using epsilon = 0.35, alpha = None...\n"
     ]
    },
    {
     "data": {
      "application/vnd.jupyter.widget-view+json": {
       "model_id": "882abab5208341148f5c5d5bf3ebdbe8",
       "version_major": 2,
       "version_minor": 0
      },
      "text/plain": [
       "FGSM Attack Testing Progress:   0%|          | 0/79 [00:00<?, ?it/s]"
      ]
     },
     "metadata": {},
     "output_type": "display_data"
    },
    {
     "name": "stdout",
     "output_type": "stream",
     "text": [
      "... done! Accuracy: 0.48%\n",
      "\n",
      "\n",
      "Testing the model under FGSM Attack using epsilon = 0.55, alpha = None...\n"
     ]
    },
    {
     "data": {
      "application/vnd.jupyter.widget-view+json": {
       "model_id": "dd62a3d54de54c59a0f6f99013617950",
       "version_major": 2,
       "version_minor": 0
      },
      "text/plain": [
       "FGSM Attack Testing Progress:   0%|          | 0/79 [00:00<?, ?it/s]"
      ]
     },
     "metadata": {},
     "output_type": "display_data"
    },
    {
     "name": "stdout",
     "output_type": "stream",
     "text": [
      "... done! Accuracy: 0.27%\n",
      "\n",
      "\n",
      "Testing the model under FGSM Attack using epsilon = 0.75, alpha = None...\n"
     ]
    },
    {
     "data": {
      "application/vnd.jupyter.widget-view+json": {
       "model_id": "812c7a417e4840fa8a51e5dc3c5ba5cc",
       "version_major": 2,
       "version_minor": 0
      },
      "text/plain": [
       "FGSM Attack Testing Progress:   0%|          | 0/79 [00:00<?, ?it/s]"
      ]
     },
     "metadata": {},
     "output_type": "display_data"
    },
    {
     "name": "stdout",
     "output_type": "stream",
     "text": [
      "... done! Accuracy: 0.35%\n",
      "\n",
      "\n",
      "Testing the model under FGSM Attack using epsilon = 1, alpha = None...\n"
     ]
    },
    {
     "data": {
      "application/vnd.jupyter.widget-view+json": {
       "model_id": "0f42aa04858a45c68c38409c6df3e943",
       "version_major": 2,
       "version_minor": 0
      },
      "text/plain": [
       "FGSM Attack Testing Progress:   0%|          | 0/79 [00:00<?, ?it/s]"
      ]
     },
     "metadata": {},
     "output_type": "display_data"
    },
    {
     "name": "stdout",
     "output_type": "stream",
     "text": [
      "... done! Accuracy: 0.66%\n",
      "\n",
      "\n"
     ]
    }
   ],
   "source": [
    "# Run test for each epsilon\n",
    "for epsilon in epsilons:\n",
    "    attacking.attack_model(\n",
    "        standard_model,\n",
    "        testSetLoader,\n",
    "        \"FGSM\",\n",
    "        attacks[\"FGSM\"],\n",
    "        epsilon=epsilon,\n",
    "    )"
   ]
  },
  {
   "cell_type": "markdown",
   "metadata": {},
   "source": [
    "### I-FGSM / BIM (Iterative FGSM / Basic Iterative Method) https://arxiv.org/abs/1607.02533\n",
    "\n",
    "The formula that is used for producing the adversarial example in this case is:\n",
    "\n",
    "$x'_{0} = x$\n",
    "$x'_{k + 1} = Clip_{x, \\epsilon} \\{x'_{k} + \\alpha * sign(\\nabla_{x}J(\\theta, x'_{k}, y)\\}$, where J is the loss function used. Note that in the paper proposing this method, $\\alpha = 1$ is used, so pixels are changed by 1 in each iteration.\n",
    "\n",
    "The formula for the clip function is also given in the paper."
   ]
  },
  {
   "cell_type": "code",
   "execution_count": 10,
   "metadata": {},
   "outputs": [],
   "source": [
    "import attacks.ifgsm as ifgsm\n",
    "\n",
    "attacks[\"I-FGSM\"] = ifgsm.ifgsm_attack"
   ]
  },
  {
   "cell_type": "code",
   "execution_count": 11,
   "metadata": {},
   "outputs": [],
   "source": [
    "# Several values for epsilon. It's interesting to see how clamping affects results\n",
    "epsilons = [0, 4 / 255, 0.05, 0.1, 0.2, 0.35, 0.55]"
   ]
  },
  {
   "cell_type": "code",
   "execution_count": 12,
   "metadata": {},
   "outputs": [
    {
     "name": "stdout",
     "output_type": "stream",
     "text": [
      "Testing the model under I-FGSM Attack using epsilon = 0, alpha = 1...\n"
     ]
    },
    {
     "data": {
      "application/vnd.jupyter.widget-view+json": {
       "model_id": "48b080273dcf47cb914d495baa7cd0b4",
       "version_major": 2,
       "version_minor": 0
      },
      "text/plain": [
       "I-FGSM Attack Testing Progress:   0%|          | 0/79 [00:00<?, ?it/s]"
      ]
     },
     "metadata": {},
     "output_type": "display_data"
    },
    {
     "name": "stdout",
     "output_type": "stream",
     "text": [
      "... done! Accuracy: 91.23%\n",
      "\n",
      "\n",
      "Testing the model under I-FGSM Attack using epsilon = 0.01568627450980392, alpha = 1...\n"
     ]
    },
    {
     "data": {
      "application/vnd.jupyter.widget-view+json": {
       "model_id": "8b3a1d1429704bc8ab105739278835a4",
       "version_major": 2,
       "version_minor": 0
      },
      "text/plain": [
       "I-FGSM Attack Testing Progress:   0%|          | 0/79 [00:00<?, ?it/s]"
      ]
     },
     "metadata": {},
     "output_type": "display_data"
    },
    {
     "name": "stdout",
     "output_type": "stream",
     "text": [
      "... done! Accuracy: 44.58%\n",
      "\n",
      "\n",
      "Testing the model under I-FGSM Attack using epsilon = 0.05, alpha = 1...\n"
     ]
    },
    {
     "data": {
      "application/vnd.jupyter.widget-view+json": {
       "model_id": "b4fa1c7a9b5e4cdeb859415141986e5b",
       "version_major": 2,
       "version_minor": 0
      },
      "text/plain": [
       "I-FGSM Attack Testing Progress:   0%|          | 0/79 [00:00<?, ?it/s]"
      ]
     },
     "metadata": {},
     "output_type": "display_data"
    },
    {
     "name": "stdout",
     "output_type": "stream",
     "text": [
      "... done! Accuracy: 1.17%\n",
      "\n",
      "\n",
      "Testing the model under I-FGSM Attack using epsilon = 0.1, alpha = 1...\n"
     ]
    },
    {
     "data": {
      "application/vnd.jupyter.widget-view+json": {
       "model_id": "a91b527958c84803b10cb25dee5ead31",
       "version_major": 2,
       "version_minor": 0
      },
      "text/plain": [
       "I-FGSM Attack Testing Progress:   0%|          | 0/79 [00:00<?, ?it/s]"
      ]
     },
     "metadata": {},
     "output_type": "display_data"
    },
    {
     "name": "stdout",
     "output_type": "stream",
     "text": [
      "... done! Accuracy: 0.0%\n",
      "\n",
      "\n",
      "Testing the model under I-FGSM Attack using epsilon = 0.2, alpha = 1...\n"
     ]
    },
    {
     "data": {
      "application/vnd.jupyter.widget-view+json": {
       "model_id": "b11f31fc04784ed5bf845b3546ee1bfa",
       "version_major": 2,
       "version_minor": 0
      },
      "text/plain": [
       "I-FGSM Attack Testing Progress:   0%|          | 0/79 [00:00<?, ?it/s]"
      ]
     },
     "metadata": {},
     "output_type": "display_data"
    },
    {
     "name": "stdout",
     "output_type": "stream",
     "text": [
      "... done! Accuracy: 0.0%\n",
      "\n",
      "\n",
      "Testing the model under I-FGSM Attack using epsilon = 0.35, alpha = 1...\n"
     ]
    },
    {
     "data": {
      "application/vnd.jupyter.widget-view+json": {
       "model_id": "c08cf287af2c41d49786b93df8d7dc32",
       "version_major": 2,
       "version_minor": 0
      },
      "text/plain": [
       "I-FGSM Attack Testing Progress:   0%|          | 0/79 [00:00<?, ?it/s]"
      ]
     },
     "metadata": {},
     "output_type": "display_data"
    },
    {
     "name": "stdout",
     "output_type": "stream",
     "text": [
      "... done! Accuracy: 0.0%\n",
      "\n",
      "\n",
      "Testing the model under I-FGSM Attack using epsilon = 0.55, alpha = 1...\n"
     ]
    },
    {
     "data": {
      "application/vnd.jupyter.widget-view+json": {
       "model_id": "c93e82e13bab4f1b97fdacd8aa03ebe6",
       "version_major": 2,
       "version_minor": 0
      },
      "text/plain": [
       "I-FGSM Attack Testing Progress:   0%|          | 0/79 [00:00<?, ?it/s]"
      ]
     },
     "metadata": {},
     "output_type": "display_data"
    },
    {
     "name": "stdout",
     "output_type": "stream",
     "text": [
      "... done! Accuracy: 0.0%\n",
      "\n",
      "\n"
     ]
    }
   ],
   "source": [
    "for epsilon in epsilons:\n",
    "    attacking.attack_model(\n",
    "        standard_model,\n",
    "        testSetLoader,\n",
    "        \"I-FGSM\",\n",
    "        attacks[\"I-FGSM\"],\n",
    "        epsilon=epsilon,\n",
    "        alpha=1,\n",
    "        iterations=3,\n",
    "    )"
   ]
  },
  {
   "cell_type": "markdown",
   "metadata": {},
   "source": [
    "### PGD (Projected Gradient Descent) https://arxiv.org/pdf/1706.06083.pdf\n",
    "\n",
    "The formula that is used for producing the adversarial example in this case is:\n",
    "\n",
    "$x^{t+1} = \\Pi_{x+S}(x^t+\\alpha sgn(\\bigtriangledown_x L(\\theta, x, y)))$\\n\n",
    "where S is a set of allowed perturbations. Note that this is basically BIM with random initialisation. \n",
    "\n",
    "We use the $L_{\\infty}$ norm here, i.e. we use clamping. "
   ]
  },
  {
   "cell_type": "code",
   "execution_count": 13,
   "metadata": {},
   "outputs": [],
   "source": [
    "import attacks.pgd as pgd\n",
    "\n",
    "attacks[\"PGD\"] = pgd.pgd_attack"
   ]
  },
  {
   "cell_type": "code",
   "execution_count": 14,
   "metadata": {},
   "outputs": [],
   "source": [
    "# Several values to use for the epsilons\n",
    "epsilons = [0, 4 / 255, 0.05, 0.1, 0.2, 0.35, 0.55, 0.75, 1]"
   ]
  },
  {
   "cell_type": "code",
   "execution_count": 15,
   "metadata": {},
   "outputs": [
    {
     "name": "stdout",
     "output_type": "stream",
     "text": [
      "Testing the model under PGD Attack using epsilon = 0, alpha = 0.00784313725490196...\n"
     ]
    },
    {
     "data": {
      "application/vnd.jupyter.widget-view+json": {
       "model_id": "b6f47c6de5dd49279e20b6d549223c41",
       "version_major": 2,
       "version_minor": 0
      },
      "text/plain": [
       "PGD Attack Testing Progress:   0%|          | 0/79 [00:00<?, ?it/s]"
      ]
     },
     "metadata": {},
     "output_type": "display_data"
    },
    {
     "name": "stdout",
     "output_type": "stream",
     "text": [
      "... done! Accuracy: 91.23%\n",
      "\n",
      "\n",
      "Testing the model under PGD Attack using epsilon = 0.01568627450980392, alpha = 0.00784313725490196...\n"
     ]
    },
    {
     "data": {
      "application/vnd.jupyter.widget-view+json": {
       "model_id": "73c1c6062b2d4b71875e199b00df2f22",
       "version_major": 2,
       "version_minor": 0
      },
      "text/plain": [
       "PGD Attack Testing Progress:   0%|          | 0/79 [00:00<?, ?it/s]"
      ]
     },
     "metadata": {},
     "output_type": "display_data"
    },
    {
     "name": "stdout",
     "output_type": "stream",
     "text": [
      "... done! Accuracy: 77.33%\n",
      "\n",
      "\n",
      "Testing the model under PGD Attack using epsilon = 0.05, alpha = 0.00784313725490196...\n"
     ]
    },
    {
     "data": {
      "application/vnd.jupyter.widget-view+json": {
       "model_id": "894dd630bf0d4dbdb7484a26c349c19a",
       "version_major": 2,
       "version_minor": 0
      },
      "text/plain": [
       "PGD Attack Testing Progress:   0%|          | 0/79 [00:00<?, ?it/s]"
      ]
     },
     "metadata": {},
     "output_type": "display_data"
    },
    {
     "name": "stdout",
     "output_type": "stream",
     "text": [
      "... done! Accuracy: 38.14%\n",
      "\n",
      "\n",
      "Testing the model under PGD Attack using epsilon = 0.1, alpha = 0.00784313725490196...\n"
     ]
    },
    {
     "data": {
      "application/vnd.jupyter.widget-view+json": {
       "model_id": "49e4d9b4e87e4f0fb9e58dcf1d6250e4",
       "version_major": 2,
       "version_minor": 0
      },
      "text/plain": [
       "PGD Attack Testing Progress:   0%|          | 0/79 [00:00<?, ?it/s]"
      ]
     },
     "metadata": {},
     "output_type": "display_data"
    },
    {
     "name": "stdout",
     "output_type": "stream",
     "text": [
      "... done! Accuracy: 8.31%\n",
      "\n",
      "\n",
      "Testing the model under PGD Attack using epsilon = 0.2, alpha = 0.00784313725490196...\n"
     ]
    },
    {
     "data": {
      "application/vnd.jupyter.widget-view+json": {
       "model_id": "6d8e4ed6339c47e098b44501fa6d5c77",
       "version_major": 2,
       "version_minor": 0
      },
      "text/plain": [
       "PGD Attack Testing Progress:   0%|          | 0/79 [00:00<?, ?it/s]"
      ]
     },
     "metadata": {},
     "output_type": "display_data"
    },
    {
     "name": "stdout",
     "output_type": "stream",
     "text": [
      "... done! Accuracy: 0.14%\n",
      "\n",
      "\n",
      "Testing the model under PGD Attack using epsilon = 0.35, alpha = 0.00784313725490196...\n"
     ]
    },
    {
     "data": {
      "application/vnd.jupyter.widget-view+json": {
       "model_id": "b726c36eb9c3491d9721d8ccfc4ad6ce",
       "version_major": 2,
       "version_minor": 0
      },
      "text/plain": [
       "PGD Attack Testing Progress:   0%|          | 0/79 [00:00<?, ?it/s]"
      ]
     },
     "metadata": {},
     "output_type": "display_data"
    },
    {
     "name": "stdout",
     "output_type": "stream",
     "text": [
      "... done! Accuracy: 0.0%\n",
      "\n",
      "\n",
      "Testing the model under PGD Attack using epsilon = 0.55, alpha = 0.00784313725490196...\n"
     ]
    },
    {
     "data": {
      "application/vnd.jupyter.widget-view+json": {
       "model_id": "f67f6dfd9bd24512beae1b9f775bbcbb",
       "version_major": 2,
       "version_minor": 0
      },
      "text/plain": [
       "PGD Attack Testing Progress:   0%|          | 0/79 [00:00<?, ?it/s]"
      ]
     },
     "metadata": {},
     "output_type": "display_data"
    },
    {
     "name": "stdout",
     "output_type": "stream",
     "text": [
      "... done! Accuracy: 0.0%\n",
      "\n",
      "\n",
      "Testing the model under PGD Attack using epsilon = 0.75, alpha = 0.00784313725490196...\n"
     ]
    },
    {
     "data": {
      "application/vnd.jupyter.widget-view+json": {
       "model_id": "019c3f3b9b1c41ef802bd08775cec648",
       "version_major": 2,
       "version_minor": 0
      },
      "text/plain": [
       "PGD Attack Testing Progress:   0%|          | 0/79 [00:00<?, ?it/s]"
      ]
     },
     "metadata": {},
     "output_type": "display_data"
    },
    {
     "name": "stdout",
     "output_type": "stream",
     "text": [
      "... done! Accuracy: 0.0%\n",
      "\n",
      "\n",
      "Testing the model under PGD Attack using epsilon = 1, alpha = 0.00784313725490196...\n"
     ]
    },
    {
     "data": {
      "application/vnd.jupyter.widget-view+json": {
       "model_id": "3fb3ab6b924648c6b492feb51d286a70",
       "version_major": 2,
       "version_minor": 0
      },
      "text/plain": [
       "PGD Attack Testing Progress:   0%|          | 0/79 [00:00<?, ?it/s]"
      ]
     },
     "metadata": {},
     "output_type": "display_data"
    },
    {
     "name": "stdout",
     "output_type": "stream",
     "text": [
      "... done! Accuracy: 0.0%\n",
      "\n",
      "\n"
     ]
    }
   ],
   "source": [
    "for epsilon in epsilons:\n",
    "    attacking.attack_model(\n",
    "        standard_model,\n",
    "        testSetLoader,\n",
    "        \"PGD\",\n",
    "        attacks[\"PGD\"],\n",
    "        epsilon=epsilon,\n",
    "        alpha=(2 / 255),\n",
    "        iterations=20,\n",
    "    )"
   ]
  },
  {
   "cell_type": "markdown",
   "metadata": {
    "jp-MarkdownHeadingCollapsed": true,
    "tags": []
   },
   "source": [
    "## From here, use existing libraries to simplify usageimport torchattacks\n"
   ]
  },
  {
   "cell_type": "code",
   "execution_count": 16,
   "metadata": {},
   "outputs": [],
   "source": [
    "import torchattacks"
   ]
  },
  {
   "cell_type": "markdown",
   "metadata": {},
   "source": [
    "### DeepFool https://arxiv.org/pdf/1511.04599.pdf\n",
    "\n",
    "The formula here is complex, so I recommend for the interested reader to go the above link to read the full paper."
   ]
  },
  {
   "cell_type": "code",
   "execution_count": 17,
   "metadata": {},
   "outputs": [],
   "source": [
    "deepfool_attack = torchattacks.DeepFool(standard_model)\n",
    "\n",
    "attacks[\"DeepFool\"] = deepfool_attack"
   ]
  },
  {
   "cell_type": "code",
   "execution_count": 18,
   "metadata": {
    "tags": []
   },
   "outputs": [
    {
     "name": "stdout",
     "output_type": "stream",
     "text": [
      "Testing the model under DeepFool Attack...\n"
     ]
    },
    {
     "data": {
      "application/vnd.jupyter.widget-view+json": {
       "model_id": "a53cdf88a5f74056a1ae9506d9828e10",
       "version_major": 2,
       "version_minor": 0
      },
      "text/plain": [
       "DeepFool Attack Testing Progress:   0%|          | 0/79 [00:00<?, ?it/s]"
      ]
     },
     "metadata": {},
     "output_type": "display_data"
    },
    {
     "name": "stdout",
     "output_type": "stream",
     "text": [
      "... done! Accuracy: 0.24%\n",
      "\n",
      "\n"
     ]
    }
   ],
   "source": [
    "attacking.attack_model(\n",
    "    standard_model,\n",
    "    testSetLoader,\n",
    "    \"DeepFool\",\n",
    "    attacks[\"DeepFool\"],\n",
    "    library=True,\n",
    ")"
   ]
  },
  {
   "cell_type": "markdown",
   "metadata": {},
   "source": [
    "### CW-$L_{2}$ (Carlini & Wagner using $L_{2}$ norm) https://arxiv.org/pdf/1608.04644.pdf\n",
    "\n",
    "The formula here is complex, so I recommend for the interested reader to go the above link to read the full paper."
   ]
  },
  {
   "cell_type": "code",
   "execution_count": 19,
   "metadata": {},
   "outputs": [],
   "source": [
    "cw_attack = torchattacks.CW(standard_model, c=20)\n",
    "\n",
    "attacks[\"CW\"] = cw_attack"
   ]
  },
  {
   "cell_type": "code",
   "execution_count": 20,
   "metadata": {},
   "outputs": [
    {
     "name": "stdout",
     "output_type": "stream",
     "text": [
      "Testing the model under CW Attack...\n"
     ]
    },
    {
     "data": {
      "application/vnd.jupyter.widget-view+json": {
       "model_id": "fcb36138841d45fabd7bf560be504d1c",
       "version_major": 2,
       "version_minor": 0
      },
      "text/plain": [
       "CW Attack Testing Progress:   0%|          | 0/79 [00:00<?, ?it/s]"
      ]
     },
     "metadata": {},
     "output_type": "display_data"
    },
    {
     "name": "stdout",
     "output_type": "stream",
     "text": [
      "... done! Accuracy: 0.0%\n",
      "\n",
      "\n"
     ]
    }
   ],
   "source": [
    "attacking.attack_model(\n",
    "    standard_model,\n",
    "    testSetLoader,\n",
    "    \"CW\",\n",
    "    attacks[\"CW\"],\n",
    "    library=True,\n",
    ")"
   ]
  },
  {
   "cell_type": "markdown",
   "metadata": {},
   "source": [
    "## Adversarial Training"
   ]
  },
  {
   "cell_type": "markdown",
   "metadata": {},
   "source": [
    "### FGSM Adversarial Training"
   ]
  },
  {
   "cell_type": "code",
   "execution_count": 21,
   "metadata": {},
   "outputs": [
    {
     "name": "stdout",
     "output_type": "stream",
     "text": [
      "Found already trained model...\n",
      "... loaded!\n"
     ]
    }
   ],
   "source": [
    "fgsm_model = fashion_mnist.adversarial_training(\n",
    "    trainSetLoader,\n",
    "    \"FGSM\",\n",
    "    attacks[\"FGSM\"],\n",
    "    load_if_available=True,\n",
    "    load_path=SAVE_LOAD_ROOT + \"/fashion_mnist_fgsm\",\n",
    "    epsilon=0.45,\n",
    ")"
   ]
  },
  {
   "cell_type": "code",
   "execution_count": 22,
   "metadata": {},
   "outputs": [
    {
     "name": "stdout",
     "output_type": "stream",
     "text": [
      "Testing the model...\n"
     ]
    },
    {
     "data": {
      "application/vnd.jupyter.widget-view+json": {
       "model_id": "c64408a290f2403e94e3fe898358ee5d",
       "version_major": 2,
       "version_minor": 0
      },
      "text/plain": [
       "Testing Progress:   0%|          | 0/79 [00:00<?, ?it/s]"
      ]
     },
     "metadata": {},
     "output_type": "display_data"
    },
    {
     "name": "stdout",
     "output_type": "stream",
     "text": [
      "... done! Accuracy: 50.51%\n"
     ]
    }
   ],
   "source": [
    "clean_test.test_trained_model(fgsm_model, testSetLoader)"
   ]
  },
  {
   "cell_type": "code",
   "execution_count": 23,
   "metadata": {},
   "outputs": [],
   "source": [
    "# Save the model\n",
    "torch.save(fgsm_model, SAVE_LOAD_ROOT + \"/fashion_mnist_fgsm\")"
   ]
  },
  {
   "cell_type": "code",
   "execution_count": 24,
   "metadata": {},
   "outputs": [],
   "source": [
    "# Several values to use for the epsilons\n",
    "epsilons = [0, 0.05, 0.1, 0.2, 0.35, 0.55, 0.75, 1]"
   ]
  },
  {
   "cell_type": "code",
   "execution_count": 25,
   "metadata": {},
   "outputs": [
    {
     "name": "stdout",
     "output_type": "stream",
     "text": [
      "Testing the model under FGSM Attack using epsilon = 0, alpha = None...\n"
     ]
    },
    {
     "data": {
      "application/vnd.jupyter.widget-view+json": {
       "model_id": "645fbcfd1ef3459a99dc64b7de47ada1",
       "version_major": 2,
       "version_minor": 0
      },
      "text/plain": [
       "FGSM Attack Testing Progress:   0%|          | 0/79 [00:00<?, ?it/s]"
      ]
     },
     "metadata": {},
     "output_type": "display_data"
    },
    {
     "name": "stdout",
     "output_type": "stream",
     "text": [
      "... done! Accuracy: 50.51%\n",
      "\n",
      "\n",
      "Testing the model under FGSM Attack using epsilon = 0.05, alpha = None...\n"
     ]
    },
    {
     "data": {
      "application/vnd.jupyter.widget-view+json": {
       "model_id": "cbe3d9f3dd2b4651b4a60ad9684e7f84",
       "version_major": 2,
       "version_minor": 0
      },
      "text/plain": [
       "FGSM Attack Testing Progress:   0%|          | 0/79 [00:00<?, ?it/s]"
      ]
     },
     "metadata": {},
     "output_type": "display_data"
    },
    {
     "name": "stdout",
     "output_type": "stream",
     "text": [
      "... done! Accuracy: 39.09%\n",
      "\n",
      "\n",
      "Testing the model under FGSM Attack using epsilon = 0.1, alpha = None...\n"
     ]
    },
    {
     "data": {
      "application/vnd.jupyter.widget-view+json": {
       "model_id": "ab6b7d41b593435eb5e3bc6497a98128",
       "version_major": 2,
       "version_minor": 0
      },
      "text/plain": [
       "FGSM Attack Testing Progress:   0%|          | 0/79 [00:00<?, ?it/s]"
      ]
     },
     "metadata": {},
     "output_type": "display_data"
    },
    {
     "name": "stdout",
     "output_type": "stream",
     "text": [
      "... done! Accuracy: 44.25%\n",
      "\n",
      "\n",
      "Testing the model under FGSM Attack using epsilon = 0.2, alpha = None...\n"
     ]
    },
    {
     "data": {
      "application/vnd.jupyter.widget-view+json": {
       "model_id": "90e8f3718a2843f6ab476de5855ab1cf",
       "version_major": 2,
       "version_minor": 0
      },
      "text/plain": [
       "FGSM Attack Testing Progress:   0%|          | 0/79 [00:00<?, ?it/s]"
      ]
     },
     "metadata": {},
     "output_type": "display_data"
    },
    {
     "name": "stdout",
     "output_type": "stream",
     "text": [
      "... done! Accuracy: 75.14%\n",
      "\n",
      "\n",
      "Testing the model under FGSM Attack using epsilon = 0.35, alpha = None...\n"
     ]
    },
    {
     "data": {
      "application/vnd.jupyter.widget-view+json": {
       "model_id": "3de1a81ab44c47eaa91377ce9ac7c6a8",
       "version_major": 2,
       "version_minor": 0
      },
      "text/plain": [
       "FGSM Attack Testing Progress:   0%|          | 0/79 [00:00<?, ?it/s]"
      ]
     },
     "metadata": {},
     "output_type": "display_data"
    },
    {
     "name": "stdout",
     "output_type": "stream",
     "text": [
      "... done! Accuracy: 96.28%\n",
      "\n",
      "\n",
      "Testing the model under FGSM Attack using epsilon = 0.55, alpha = None...\n"
     ]
    },
    {
     "data": {
      "application/vnd.jupyter.widget-view+json": {
       "model_id": "9ea036438b0145b48c1aaf557a6b4e65",
       "version_major": 2,
       "version_minor": 0
      },
      "text/plain": [
       "FGSM Attack Testing Progress:   0%|          | 0/79 [00:00<?, ?it/s]"
      ]
     },
     "metadata": {},
     "output_type": "display_data"
    },
    {
     "name": "stdout",
     "output_type": "stream",
     "text": [
      "... done! Accuracy: 97.51%\n",
      "\n",
      "\n",
      "Testing the model under FGSM Attack using epsilon = 0.75, alpha = None...\n"
     ]
    },
    {
     "data": {
      "application/vnd.jupyter.widget-view+json": {
       "model_id": "27948b65877f4dd2a056019f1825fcaa",
       "version_major": 2,
       "version_minor": 0
      },
      "text/plain": [
       "FGSM Attack Testing Progress:   0%|          | 0/79 [00:00<?, ?it/s]"
      ]
     },
     "metadata": {},
     "output_type": "display_data"
    },
    {
     "name": "stdout",
     "output_type": "stream",
     "text": [
      "... done! Accuracy: 53.48%\n",
      "\n",
      "\n",
      "Testing the model under FGSM Attack using epsilon = 1, alpha = None...\n"
     ]
    },
    {
     "data": {
      "application/vnd.jupyter.widget-view+json": {
       "model_id": "e3674f2826034965aec46f5043eb35e0",
       "version_major": 2,
       "version_minor": 0
      },
      "text/plain": [
       "FGSM Attack Testing Progress:   0%|          | 0/79 [00:00<?, ?it/s]"
      ]
     },
     "metadata": {},
     "output_type": "display_data"
    },
    {
     "name": "stdout",
     "output_type": "stream",
     "text": [
      "... done! Accuracy: 23.55%\n",
      "\n",
      "\n"
     ]
    }
   ],
   "source": [
    "# Run test for each epsilon\n",
    "for epsilon in epsilons:\n",
    "    attacking.attack_model(\n",
    "        fgsm_model,\n",
    "        testSetLoader,\n",
    "        \"FGSM\",\n",
    "        attacks[\"FGSM\"],\n",
    "        epsilon=epsilon,\n",
    "    )"
   ]
  },
  {
   "cell_type": "code",
   "execution_count": 26,
   "metadata": {},
   "outputs": [],
   "source": [
    "# Several values to use for the epsilons\n",
    "epsilons = [0, 4 / 255, 0.05, 0.1, 0.2, 0.35, 0.55, 0.75, 1]"
   ]
  },
  {
   "cell_type": "code",
   "execution_count": 27,
   "metadata": {},
   "outputs": [
    {
     "name": "stdout",
     "output_type": "stream",
     "text": [
      "Testing the model under PGD Attack using epsilon = 0, alpha = 0.00784313725490196...\n"
     ]
    },
    {
     "data": {
      "application/vnd.jupyter.widget-view+json": {
       "model_id": "f878b4b41fb544b48b0206c8063e395d",
       "version_major": 2,
       "version_minor": 0
      },
      "text/plain": [
       "PGD Attack Testing Progress:   0%|          | 0/79 [00:00<?, ?it/s]"
      ]
     },
     "metadata": {},
     "output_type": "display_data"
    },
    {
     "name": "stdout",
     "output_type": "stream",
     "text": [
      "... done! Accuracy: 50.51%\n",
      "\n",
      "\n",
      "Testing the model under PGD Attack using epsilon = 0.01568627450980392, alpha = 0.00784313725490196...\n"
     ]
    },
    {
     "data": {
      "application/vnd.jupyter.widget-view+json": {
       "model_id": "7490c349c9864524ae05819341fe519c",
       "version_major": 2,
       "version_minor": 0
      },
      "text/plain": [
       "PGD Attack Testing Progress:   0%|          | 0/79 [00:00<?, ?it/s]"
      ]
     },
     "metadata": {},
     "output_type": "display_data"
    },
    {
     "name": "stdout",
     "output_type": "stream",
     "text": [
      "... done! Accuracy: 40.12%\n",
      "\n",
      "\n",
      "Testing the model under PGD Attack using epsilon = 0.05, alpha = 0.00784313725490196...\n"
     ]
    },
    {
     "data": {
      "application/vnd.jupyter.widget-view+json": {
       "model_id": "036e7cb9d6264bc3aac712e5aed1b1d6",
       "version_major": 2,
       "version_minor": 0
      },
      "text/plain": [
       "PGD Attack Testing Progress:   0%|          | 0/79 [00:00<?, ?it/s]"
      ]
     },
     "metadata": {},
     "output_type": "display_data"
    },
    {
     "name": "stdout",
     "output_type": "stream",
     "text": [
      "... done! Accuracy: 25.37%\n",
      "\n",
      "\n",
      "Testing the model under PGD Attack using epsilon = 0.1, alpha = 0.00784313725490196...\n"
     ]
    },
    {
     "data": {
      "application/vnd.jupyter.widget-view+json": {
       "model_id": "7413e3d78a454774bf1776c5413cb914",
       "version_major": 2,
       "version_minor": 0
      },
      "text/plain": [
       "PGD Attack Testing Progress:   0%|          | 0/79 [00:00<?, ?it/s]"
      ]
     },
     "metadata": {},
     "output_type": "display_data"
    },
    {
     "name": "stdout",
     "output_type": "stream",
     "text": [
      "... done! Accuracy: 17.77%\n",
      "\n",
      "\n",
      "Testing the model under PGD Attack using epsilon = 0.2, alpha = 0.00784313725490196...\n"
     ]
    },
    {
     "data": {
      "application/vnd.jupyter.widget-view+json": {
       "model_id": "23a733c6735d44ab876e084b7f8c196e",
       "version_major": 2,
       "version_minor": 0
      },
      "text/plain": [
       "PGD Attack Testing Progress:   0%|          | 0/79 [00:00<?, ?it/s]"
      ]
     },
     "metadata": {},
     "output_type": "display_data"
    },
    {
     "name": "stdout",
     "output_type": "stream",
     "text": [
      "... done! Accuracy: 12.23%\n",
      "\n",
      "\n",
      "Testing the model under PGD Attack using epsilon = 0.35, alpha = 0.00784313725490196...\n"
     ]
    },
    {
     "data": {
      "application/vnd.jupyter.widget-view+json": {
       "model_id": "5895b2df7d8c4ad3a064d301993be396",
       "version_major": 2,
       "version_minor": 0
      },
      "text/plain": [
       "PGD Attack Testing Progress:   0%|          | 0/79 [00:00<?, ?it/s]"
      ]
     },
     "metadata": {},
     "output_type": "display_data"
    },
    {
     "name": "stdout",
     "output_type": "stream",
     "text": [
      "... done! Accuracy: 8.74%\n",
      "\n",
      "\n",
      "Testing the model under PGD Attack using epsilon = 0.55, alpha = 0.00784313725490196...\n"
     ]
    },
    {
     "data": {
      "application/vnd.jupyter.widget-view+json": {
       "model_id": "5fc0bc58ca0b4e1fa85140be1daabaa8",
       "version_major": 2,
       "version_minor": 0
      },
      "text/plain": [
       "PGD Attack Testing Progress:   0%|          | 0/79 [00:00<?, ?it/s]"
      ]
     },
     "metadata": {},
     "output_type": "display_data"
    },
    {
     "name": "stdout",
     "output_type": "stream",
     "text": [
      "... done! Accuracy: 1.42%\n",
      "\n",
      "\n",
      "Testing the model under PGD Attack using epsilon = 0.75, alpha = 0.00784313725490196...\n"
     ]
    },
    {
     "data": {
      "application/vnd.jupyter.widget-view+json": {
       "model_id": "28ffd8027cd745f0b6b92991ba5a936b",
       "version_major": 2,
       "version_minor": 0
      },
      "text/plain": [
       "PGD Attack Testing Progress:   0%|          | 0/79 [00:00<?, ?it/s]"
      ]
     },
     "metadata": {},
     "output_type": "display_data"
    },
    {
     "name": "stdout",
     "output_type": "stream",
     "text": [
      "... done! Accuracy: 0.18%\n",
      "\n",
      "\n",
      "Testing the model under PGD Attack using epsilon = 1, alpha = 0.00784313725490196...\n"
     ]
    },
    {
     "data": {
      "application/vnd.jupyter.widget-view+json": {
       "model_id": "8c1b8d293b8d45e28e9b6a6967040f1d",
       "version_major": 2,
       "version_minor": 0
      },
      "text/plain": [
       "PGD Attack Testing Progress:   0%|          | 0/79 [00:00<?, ?it/s]"
      ]
     },
     "metadata": {},
     "output_type": "display_data"
    },
    {
     "name": "stdout",
     "output_type": "stream",
     "text": [
      "... done! Accuracy: 0.18%\n",
      "\n",
      "\n"
     ]
    }
   ],
   "source": [
    "for epsilon in epsilons:\n",
    "    attacking.attack_model(\n",
    "        fgsm_model,\n",
    "        testSetLoader,\n",
    "        \"PGD\",\n",
    "        attacks[\"PGD\"],\n",
    "        epsilon=epsilon,\n",
    "        alpha=(2 / 255),\n",
    "        iterations=7,\n",
    "    )"
   ]
  },
  {
   "cell_type": "markdown",
   "metadata": {},
   "source": [
    "### PGD Adversarial Training"
   ]
  },
  {
   "cell_type": "code",
   "execution_count": 28,
   "metadata": {},
   "outputs": [
    {
     "name": "stdout",
     "output_type": "stream",
     "text": [
      "Found already trained model...\n",
      "... loaded!\n"
     ]
    }
   ],
   "source": [
    "pgd_model = fashion_mnist.adversarial_training(\n",
    "    trainSetLoader,\n",
    "    \"PGD\",\n",
    "    attacks[\"PGD\"],\n",
    "    load_if_available=True,\n",
    "    load_path=SAVE_LOAD_ROOT + \"/fashion_mnist_pgd\",\n",
    "    epsilon=0.45,\n",
    "    alpha=(2 / 255),\n",
    "    iterations=7,\n",
    ")"
   ]
  },
  {
   "cell_type": "code",
   "execution_count": 29,
   "metadata": {},
   "outputs": [
    {
     "name": "stdout",
     "output_type": "stream",
     "text": [
      "Testing the model...\n"
     ]
    },
    {
     "data": {
      "application/vnd.jupyter.widget-view+json": {
       "model_id": "1a98ee08d4e542daab3f0a9a8103a9c7",
       "version_major": 2,
       "version_minor": 0
      },
      "text/plain": [
       "Testing Progress:   0%|          | 0/79 [00:00<?, ?it/s]"
      ]
     },
     "metadata": {},
     "output_type": "display_data"
    },
    {
     "name": "stdout",
     "output_type": "stream",
     "text": [
      "... done! Accuracy: 83.13%\n"
     ]
    }
   ],
   "source": [
    "clean_test.test_trained_model(pgd_model, testSetLoader)"
   ]
  },
  {
   "cell_type": "code",
   "execution_count": 30,
   "metadata": {},
   "outputs": [],
   "source": [
    "# Save the model\n",
    "torch.save(pgd_model, SAVE_LOAD_ROOT + \"/fashion_mnist_pgd\")"
   ]
  },
  {
   "cell_type": "code",
   "execution_count": 31,
   "metadata": {},
   "outputs": [],
   "source": [
    "# Several values to use for the epsilons\n",
    "epsilons = [0, 0.05, 0.1, 0.2, 0.35, 0.55, 0.75, 1]"
   ]
  },
  {
   "cell_type": "code",
   "execution_count": 32,
   "metadata": {},
   "outputs": [
    {
     "name": "stdout",
     "output_type": "stream",
     "text": [
      "Testing the model under FGSM Attack using epsilon = 0, alpha = None...\n"
     ]
    },
    {
     "data": {
      "application/vnd.jupyter.widget-view+json": {
       "model_id": "bb2f0fff7a854230aef00363f2919632",
       "version_major": 2,
       "version_minor": 0
      },
      "text/plain": [
       "FGSM Attack Testing Progress:   0%|          | 0/79 [00:00<?, ?it/s]"
      ]
     },
     "metadata": {},
     "output_type": "display_data"
    },
    {
     "name": "stdout",
     "output_type": "stream",
     "text": [
      "... done! Accuracy: 83.13%\n",
      "\n",
      "\n",
      "Testing the model under FGSM Attack using epsilon = 0.05, alpha = None...\n"
     ]
    },
    {
     "data": {
      "application/vnd.jupyter.widget-view+json": {
       "model_id": "2cca40c4bc4e47baa51cc9a722d1b4dd",
       "version_major": 2,
       "version_minor": 0
      },
      "text/plain": [
       "FGSM Attack Testing Progress:   0%|          | 0/79 [00:00<?, ?it/s]"
      ]
     },
     "metadata": {},
     "output_type": "display_data"
    },
    {
     "name": "stdout",
     "output_type": "stream",
     "text": [
      "... done! Accuracy: 74.75%\n",
      "\n",
      "\n",
      "Testing the model under FGSM Attack using epsilon = 0.1, alpha = None...\n"
     ]
    },
    {
     "data": {
      "application/vnd.jupyter.widget-view+json": {
       "model_id": "84a8ffb558034024a65f5d05b6edf992",
       "version_major": 2,
       "version_minor": 0
      },
      "text/plain": [
       "FGSM Attack Testing Progress:   0%|          | 0/79 [00:00<?, ?it/s]"
      ]
     },
     "metadata": {},
     "output_type": "display_data"
    },
    {
     "name": "stdout",
     "output_type": "stream",
     "text": [
      "... done! Accuracy: 65.74%\n",
      "\n",
      "\n",
      "Testing the model under FGSM Attack using epsilon = 0.2, alpha = None...\n"
     ]
    },
    {
     "data": {
      "application/vnd.jupyter.widget-view+json": {
       "model_id": "fd47e56da6e9420eac38e3b16af711e1",
       "version_major": 2,
       "version_minor": 0
      },
      "text/plain": [
       "FGSM Attack Testing Progress:   0%|          | 0/79 [00:00<?, ?it/s]"
      ]
     },
     "metadata": {},
     "output_type": "display_data"
    },
    {
     "name": "stdout",
     "output_type": "stream",
     "text": [
      "... done! Accuracy: 49.0%\n",
      "\n",
      "\n",
      "Testing the model under FGSM Attack using epsilon = 0.35, alpha = None...\n"
     ]
    },
    {
     "data": {
      "application/vnd.jupyter.widget-view+json": {
       "model_id": "2e6a1c7e0e3047d1a40070e3f6e31857",
       "version_major": 2,
       "version_minor": 0
      },
      "text/plain": [
       "FGSM Attack Testing Progress:   0%|          | 0/79 [00:00<?, ?it/s]"
      ]
     },
     "metadata": {},
     "output_type": "display_data"
    },
    {
     "name": "stdout",
     "output_type": "stream",
     "text": [
      "... done! Accuracy: 28.22%\n",
      "\n",
      "\n",
      "Testing the model under FGSM Attack using epsilon = 0.55, alpha = None...\n"
     ]
    },
    {
     "data": {
      "application/vnd.jupyter.widget-view+json": {
       "model_id": "9117d005714d4c79b06c64f147c95c2e",
       "version_major": 2,
       "version_minor": 0
      },
      "text/plain": [
       "FGSM Attack Testing Progress:   0%|          | 0/79 [00:00<?, ?it/s]"
      ]
     },
     "metadata": {},
     "output_type": "display_data"
    },
    {
     "name": "stdout",
     "output_type": "stream",
     "text": [
      "... done! Accuracy: 8.75%\n",
      "\n",
      "\n",
      "Testing the model under FGSM Attack using epsilon = 0.75, alpha = None...\n"
     ]
    },
    {
     "data": {
      "application/vnd.jupyter.widget-view+json": {
       "model_id": "55775fae5f1546fb8a49c2b9430da2d2",
       "version_major": 2,
       "version_minor": 0
      },
      "text/plain": [
       "FGSM Attack Testing Progress:   0%|          | 0/79 [00:00<?, ?it/s]"
      ]
     },
     "metadata": {},
     "output_type": "display_data"
    },
    {
     "name": "stdout",
     "output_type": "stream",
     "text": [
      "... done! Accuracy: 9.79%\n",
      "\n",
      "\n",
      "Testing the model under FGSM Attack using epsilon = 1, alpha = None...\n"
     ]
    },
    {
     "data": {
      "application/vnd.jupyter.widget-view+json": {
       "model_id": "bb6b7e0971fe4adaa729e5078c692d6b",
       "version_major": 2,
       "version_minor": 0
      },
      "text/plain": [
       "FGSM Attack Testing Progress:   0%|          | 0/79 [00:00<?, ?it/s]"
      ]
     },
     "metadata": {},
     "output_type": "display_data"
    },
    {
     "name": "stdout",
     "output_type": "stream",
     "text": [
      "... done! Accuracy: 10.03%\n",
      "\n",
      "\n"
     ]
    }
   ],
   "source": [
    "# Run test for each epsilon\n",
    "for epsilon in epsilons:\n",
    "    attacking.attack_model(\n",
    "        pgd_model,\n",
    "        testSetLoader,\n",
    "        \"FGSM\",\n",
    "        attacks[\"FGSM\"],\n",
    "        epsilon=epsilon,\n",
    "    )"
   ]
  },
  {
   "cell_type": "code",
   "execution_count": 33,
   "metadata": {},
   "outputs": [],
   "source": [
    "# Several values to use for the epsilons\n",
    "epsilons = [0, 4 / 255, 0.05, 0.1, 0.2, 0.35, 0.55, 0.75, 1]"
   ]
  },
  {
   "cell_type": "code",
   "execution_count": 34,
   "metadata": {},
   "outputs": [
    {
     "name": "stdout",
     "output_type": "stream",
     "text": [
      "Testing the model under PGD Attack using epsilon = 0, alpha = 0.00784313725490196...\n"
     ]
    },
    {
     "data": {
      "application/vnd.jupyter.widget-view+json": {
       "model_id": "a523536da3a84e3485092a6bb7cb4cb5",
       "version_major": 2,
       "version_minor": 0
      },
      "text/plain": [
       "PGD Attack Testing Progress:   0%|          | 0/79 [00:00<?, ?it/s]"
      ]
     },
     "metadata": {},
     "output_type": "display_data"
    },
    {
     "name": "stdout",
     "output_type": "stream",
     "text": [
      "... done! Accuracy: 83.13%\n",
      "\n",
      "\n",
      "Testing the model under PGD Attack using epsilon = 0.01568627450980392, alpha = 0.00784313725490196...\n"
     ]
    },
    {
     "data": {
      "application/vnd.jupyter.widget-view+json": {
       "model_id": "ca905adebd5540358e1b271f2c82ac6a",
       "version_major": 2,
       "version_minor": 0
      },
      "text/plain": [
       "PGD Attack Testing Progress:   0%|          | 0/79 [00:00<?, ?it/s]"
      ]
     },
     "metadata": {},
     "output_type": "display_data"
    },
    {
     "name": "stdout",
     "output_type": "stream",
     "text": [
      "... done! Accuracy: 80.68%\n",
      "\n",
      "\n",
      "Testing the model under PGD Attack using epsilon = 0.05, alpha = 0.00784313725490196...\n"
     ]
    },
    {
     "data": {
      "application/vnd.jupyter.widget-view+json": {
       "model_id": "caa3f7a3943948ea81dcd8725e08cf8d",
       "version_major": 2,
       "version_minor": 0
      },
      "text/plain": [
       "PGD Attack Testing Progress:   0%|          | 0/79 [00:00<?, ?it/s]"
      ]
     },
     "metadata": {},
     "output_type": "display_data"
    },
    {
     "name": "stdout",
     "output_type": "stream",
     "text": [
      "... done! Accuracy: 75.95%\n",
      "\n",
      "\n",
      "Testing the model under PGD Attack using epsilon = 0.1, alpha = 0.00784313725490196...\n"
     ]
    },
    {
     "data": {
      "application/vnd.jupyter.widget-view+json": {
       "model_id": "dcd81446213b40519e842fb5d2df93e2",
       "version_major": 2,
       "version_minor": 0
      },
      "text/plain": [
       "PGD Attack Testing Progress:   0%|          | 0/79 [00:00<?, ?it/s]"
      ]
     },
     "metadata": {},
     "output_type": "display_data"
    },
    {
     "name": "stdout",
     "output_type": "stream",
     "text": [
      "... done! Accuracy: 74.9%\n",
      "\n",
      "\n",
      "Testing the model under PGD Attack using epsilon = 0.2, alpha = 0.00784313725490196...\n"
     ]
    },
    {
     "data": {
      "application/vnd.jupyter.widget-view+json": {
       "model_id": "36f0445e361f44a7916ff34e30b86e6d",
       "version_major": 2,
       "version_minor": 0
      },
      "text/plain": [
       "PGD Attack Testing Progress:   0%|          | 0/79 [00:00<?, ?it/s]"
      ]
     },
     "metadata": {},
     "output_type": "display_data"
    },
    {
     "name": "stdout",
     "output_type": "stream",
     "text": [
      "... done! Accuracy: 75.24%\n",
      "\n",
      "\n",
      "Testing the model under PGD Attack using epsilon = 0.35, alpha = 0.00784313725490196...\n"
     ]
    },
    {
     "data": {
      "application/vnd.jupyter.widget-view+json": {
       "model_id": "bd97d847e00e424395ba6c6cf16f9def",
       "version_major": 2,
       "version_minor": 0
      },
      "text/plain": [
       "PGD Attack Testing Progress:   0%|          | 0/79 [00:00<?, ?it/s]"
      ]
     },
     "metadata": {},
     "output_type": "display_data"
    },
    {
     "name": "stdout",
     "output_type": "stream",
     "text": [
      "... done! Accuracy: 76.28%\n",
      "\n",
      "\n",
      "Testing the model under PGD Attack using epsilon = 0.55, alpha = 0.00784313725490196...\n"
     ]
    },
    {
     "data": {
      "application/vnd.jupyter.widget-view+json": {
       "model_id": "2386257aaf7c45638fafb92609985823",
       "version_major": 2,
       "version_minor": 0
      },
      "text/plain": [
       "PGD Attack Testing Progress:   0%|          | 0/79 [00:00<?, ?it/s]"
      ]
     },
     "metadata": {},
     "output_type": "display_data"
    },
    {
     "name": "stdout",
     "output_type": "stream",
     "text": [
      "... done! Accuracy: 69.03%\n",
      "\n",
      "\n",
      "Testing the model under PGD Attack using epsilon = 0.75, alpha = 0.00784313725490196...\n"
     ]
    },
    {
     "data": {
      "application/vnd.jupyter.widget-view+json": {
       "model_id": "a30b2ec0d34d4560b50bf4c4a2750f3e",
       "version_major": 2,
       "version_minor": 0
      },
      "text/plain": [
       "PGD Attack Testing Progress:   0%|          | 0/79 [00:00<?, ?it/s]"
      ]
     },
     "metadata": {},
     "output_type": "display_data"
    },
    {
     "name": "stdout",
     "output_type": "stream",
     "text": [
      "... done! Accuracy: 17.64%\n",
      "\n",
      "\n",
      "Testing the model under PGD Attack using epsilon = 1, alpha = 0.00784313725490196...\n"
     ]
    },
    {
     "data": {
      "application/vnd.jupyter.widget-view+json": {
       "model_id": "cf36280b6b5f47f594bea64d6565b77f",
       "version_major": 2,
       "version_minor": 0
      },
      "text/plain": [
       "PGD Attack Testing Progress:   0%|          | 0/79 [00:00<?, ?it/s]"
      ]
     },
     "metadata": {},
     "output_type": "display_data"
    },
    {
     "name": "stdout",
     "output_type": "stream",
     "text": [
      "... done! Accuracy: 9.47%\n",
      "\n",
      "\n"
     ]
    }
   ],
   "source": [
    "for epsilon in epsilons:\n",
    "    attacking.attack_model(\n",
    "        pgd_model,\n",
    "        testSetLoader,\n",
    "        \"PGD\",\n",
    "        attacks[\"PGD\"],\n",
    "        epsilon=epsilon,\n",
    "        alpha=(2 / 255),\n",
    "        iterations=7,\n",
    "    )"
   ]
  },
  {
   "cell_type": "code",
   "execution_count": 35,
   "metadata": {},
   "outputs": [],
   "source": [
    "deepfool_attack = torchattacks.DeepFool(pgd_model)\n",
    "\n",
    "attacks[\"DeepFool\"] = deepfool_attack"
   ]
  },
  {
   "cell_type": "code",
   "execution_count": 36,
   "metadata": {},
   "outputs": [
    {
     "name": "stdout",
     "output_type": "stream",
     "text": [
      "Testing the model under DeepFool Attack...\n"
     ]
    },
    {
     "data": {
      "application/vnd.jupyter.widget-view+json": {
       "model_id": "d07f07475f5e49ccbd8f9c0052645104",
       "version_major": 2,
       "version_minor": 0
      },
      "text/plain": [
       "DeepFool Attack Testing Progress:   0%|          | 0/79 [00:00<?, ?it/s]"
      ]
     },
     "metadata": {},
     "output_type": "display_data"
    },
    {
     "name": "stdout",
     "output_type": "stream",
     "text": [
      "... done! Accuracy: 1.22%\n",
      "\n",
      "\n"
     ]
    }
   ],
   "source": [
    "attacking.attack_model(\n",
    "    pgd_model,\n",
    "    testSetLoader,\n",
    "    \"DeepFool\",\n",
    "    attacks[\"DeepFool\"],\n",
    "    library=True,\n",
    ")"
   ]
  },
  {
   "cell_type": "code",
   "execution_count": 37,
   "metadata": {},
   "outputs": [],
   "source": [
    "cw_attack = torchattacks.CW(pgd_model, c=20)\n",
    "\n",
    "attacks[\"CW\"] = cw_attack"
   ]
  },
  {
   "cell_type": "code",
   "execution_count": 38,
   "metadata": {},
   "outputs": [
    {
     "name": "stdout",
     "output_type": "stream",
     "text": [
      "Testing the model under CW Attack...\n"
     ]
    },
    {
     "data": {
      "application/vnd.jupyter.widget-view+json": {
       "model_id": "b3056431349041a89c1541370bd7c0d6",
       "version_major": 2,
       "version_minor": 0
      },
      "text/plain": [
       "CW Attack Testing Progress:   0%|          | 0/79 [00:00<?, ?it/s]"
      ]
     },
     "metadata": {},
     "output_type": "display_data"
    },
    {
     "name": "stdout",
     "output_type": "stream",
     "text": [
      "... done! Accuracy: 5.28%\n",
      "\n",
      "\n"
     ]
    }
   ],
   "source": [
    "attacking.attack_model(\n",
    "    pgd_model,\n",
    "    testSetLoader,\n",
    "    \"CW\",\n",
    "    attacks[\"CW\"],\n",
    "    library=True,\n",
    ")"
   ]
  },
  {
   "cell_type": "markdown",
   "metadata": {},
   "source": [
    "## Interpolated Adversarial Training"
   ]
  },
  {
   "cell_type": "code",
   "execution_count": 39,
   "metadata": {},
   "outputs": [
    {
     "name": "stdout",
     "output_type": "stream",
     "text": [
      "Found already trained model...\n",
      "... loaded!\n"
     ]
    }
   ],
   "source": [
    "interpolated_pgd_model = fashion_mnist.interpolated_adversarial_training(\n",
    "    trainSetLoader,\n",
    "    \"PGD\",\n",
    "    attacks[\"PGD\"],\n",
    "    load_if_available=True,\n",
    "    load_path=SAVE_LOAD_ROOT + \"/fashion_mnist_interpolated_pgd\",\n",
    "    epsilon=0.45,\n",
    "    alpha=(2 / 255),\n",
    "    iterations=7,\n",
    ")"
   ]
  },
  {
   "cell_type": "code",
   "execution_count": 40,
   "metadata": {},
   "outputs": [
    {
     "name": "stdout",
     "output_type": "stream",
     "text": [
      "Testing the model...\n"
     ]
    },
    {
     "data": {
      "application/vnd.jupyter.widget-view+json": {
       "model_id": "7c5c746c6f114ecd9b1ae573578b3868",
       "version_major": 2,
       "version_minor": 0
      },
      "text/plain": [
       "Testing Progress:   0%|          | 0/79 [00:00<?, ?it/s]"
      ]
     },
     "metadata": {},
     "output_type": "display_data"
    },
    {
     "name": "stdout",
     "output_type": "stream",
     "text": [
      "... done! Accuracy: 87.67%\n"
     ]
    }
   ],
   "source": [
    "clean_test.test_trained_model(interpolated_pgd_model, testSetLoader)"
   ]
  },
  {
   "cell_type": "code",
   "execution_count": 41,
   "metadata": {},
   "outputs": [],
   "source": [
    "# Save the model\n",
    "torch.save(interpolated_pgd_model, SAVE_LOAD_ROOT + \"/fashion_mnist_interpolated_pgd\")"
   ]
  },
  {
   "cell_type": "code",
   "execution_count": 42,
   "metadata": {},
   "outputs": [],
   "source": [
    "# Several values to use for the epsilons\n",
    "epsilons = [0, 0.05, 0.1, 0.2, 0.35, 0.55, 0.75, 1]"
   ]
  },
  {
   "cell_type": "code",
   "execution_count": 43,
   "metadata": {},
   "outputs": [
    {
     "name": "stdout",
     "output_type": "stream",
     "text": [
      "Testing the model under FGSM Attack using epsilon = 0, alpha = None...\n"
     ]
    },
    {
     "data": {
      "application/vnd.jupyter.widget-view+json": {
       "model_id": "6ed0dec06df44c5fb36109d37a1437ca",
       "version_major": 2,
       "version_minor": 0
      },
      "text/plain": [
       "FGSM Attack Testing Progress:   0%|          | 0/79 [00:00<?, ?it/s]"
      ]
     },
     "metadata": {},
     "output_type": "display_data"
    },
    {
     "name": "stdout",
     "output_type": "stream",
     "text": [
      "... done! Accuracy: 87.67%\n",
      "\n",
      "\n",
      "Testing the model under FGSM Attack using epsilon = 0.05, alpha = None...\n"
     ]
    },
    {
     "data": {
      "application/vnd.jupyter.widget-view+json": {
       "model_id": "caa79a45ae694880b95a9f4122ecbc6a",
       "version_major": 2,
       "version_minor": 0
      },
      "text/plain": [
       "FGSM Attack Testing Progress:   0%|          | 0/79 [00:00<?, ?it/s]"
      ]
     },
     "metadata": {},
     "output_type": "display_data"
    },
    {
     "name": "stdout",
     "output_type": "stream",
     "text": [
      "... done! Accuracy: 71.73%\n",
      "\n",
      "\n",
      "Testing the model under FGSM Attack using epsilon = 0.1, alpha = None...\n"
     ]
    },
    {
     "data": {
      "application/vnd.jupyter.widget-view+json": {
       "model_id": "a2fbe29cf1504c978d6ffd58a3a7b9e5",
       "version_major": 2,
       "version_minor": 0
      },
      "text/plain": [
       "FGSM Attack Testing Progress:   0%|          | 0/79 [00:00<?, ?it/s]"
      ]
     },
     "metadata": {},
     "output_type": "display_data"
    },
    {
     "name": "stdout",
     "output_type": "stream",
     "text": [
      "... done! Accuracy: 60.22%\n",
      "\n",
      "\n",
      "Testing the model under FGSM Attack using epsilon = 0.2, alpha = None...\n"
     ]
    },
    {
     "data": {
      "application/vnd.jupyter.widget-view+json": {
       "model_id": "8f5e8bbb833842d589470cb0b028e8ff",
       "version_major": 2,
       "version_minor": 0
      },
      "text/plain": [
       "FGSM Attack Testing Progress:   0%|          | 0/79 [00:00<?, ?it/s]"
      ]
     },
     "metadata": {},
     "output_type": "display_data"
    },
    {
     "name": "stdout",
     "output_type": "stream",
     "text": [
      "... done! Accuracy: 45.44%\n",
      "\n",
      "\n",
      "Testing the model under FGSM Attack using epsilon = 0.35, alpha = None...\n"
     ]
    },
    {
     "data": {
      "application/vnd.jupyter.widget-view+json": {
       "model_id": "07df84d300be46eb84ee7493d00646e4",
       "version_major": 2,
       "version_minor": 0
      },
      "text/plain": [
       "FGSM Attack Testing Progress:   0%|          | 0/79 [00:00<?, ?it/s]"
      ]
     },
     "metadata": {},
     "output_type": "display_data"
    },
    {
     "name": "stdout",
     "output_type": "stream",
     "text": [
      "... done! Accuracy: 30.47%\n",
      "\n",
      "\n",
      "Testing the model under FGSM Attack using epsilon = 0.55, alpha = None...\n"
     ]
    },
    {
     "data": {
      "application/vnd.jupyter.widget-view+json": {
       "model_id": "81d56a349c5e4205a6f28f74b7dd62a8",
       "version_major": 2,
       "version_minor": 0
      },
      "text/plain": [
       "FGSM Attack Testing Progress:   0%|          | 0/79 [00:00<?, ?it/s]"
      ]
     },
     "metadata": {},
     "output_type": "display_data"
    },
    {
     "name": "stdout",
     "output_type": "stream",
     "text": [
      "... done! Accuracy: 16.04%\n",
      "\n",
      "\n",
      "Testing the model under FGSM Attack using epsilon = 0.75, alpha = None...\n"
     ]
    },
    {
     "data": {
      "application/vnd.jupyter.widget-view+json": {
       "model_id": "a4ff515e1ff84717af1926c5446d6ac7",
       "version_major": 2,
       "version_minor": 0
      },
      "text/plain": [
       "FGSM Attack Testing Progress:   0%|          | 0/79 [00:00<?, ?it/s]"
      ]
     },
     "metadata": {},
     "output_type": "display_data"
    },
    {
     "name": "stdout",
     "output_type": "stream",
     "text": [
      "... done! Accuracy: 8.41%\n",
      "\n",
      "\n",
      "Testing the model under FGSM Attack using epsilon = 1, alpha = None...\n"
     ]
    },
    {
     "data": {
      "application/vnd.jupyter.widget-view+json": {
       "model_id": "9d61ffd8e74c4672a9ff6608b3e636a6",
       "version_major": 2,
       "version_minor": 0
      },
      "text/plain": [
       "FGSM Attack Testing Progress:   0%|          | 0/79 [00:00<?, ?it/s]"
      ]
     },
     "metadata": {},
     "output_type": "display_data"
    },
    {
     "name": "stdout",
     "output_type": "stream",
     "text": [
      "... done! Accuracy: 9.83%\n",
      "\n",
      "\n"
     ]
    }
   ],
   "source": [
    "# Run test for each epsilon\n",
    "for epsilon in epsilons:\n",
    "    attacking.attack_model(\n",
    "        interpolated_pgd_model,\n",
    "        testSetLoader,\n",
    "        \"FGSM\",\n",
    "        attacks[\"FGSM\"],\n",
    "        epsilon=epsilon,\n",
    "    )"
   ]
  },
  {
   "cell_type": "code",
   "execution_count": 44,
   "metadata": {},
   "outputs": [],
   "source": [
    "# Several values to use for the epsilons\n",
    "epsilons = [0, 4 / 255, 0.05, 0.1, 0.2, 0.35, 0.55, 0.75, 1]"
   ]
  },
  {
   "cell_type": "code",
   "execution_count": 45,
   "metadata": {},
   "outputs": [
    {
     "name": "stdout",
     "output_type": "stream",
     "text": [
      "Testing the model under PGD Attack using epsilon = 0, alpha = 0.00784313725490196...\n"
     ]
    },
    {
     "data": {
      "application/vnd.jupyter.widget-view+json": {
       "model_id": "326d645538a74d87ad098ba10444b115",
       "version_major": 2,
       "version_minor": 0
      },
      "text/plain": [
       "PGD Attack Testing Progress:   0%|          | 0/79 [00:00<?, ?it/s]"
      ]
     },
     "metadata": {},
     "output_type": "display_data"
    },
    {
     "name": "stdout",
     "output_type": "stream",
     "text": [
      "... done! Accuracy: 87.67%\n",
      "\n",
      "\n",
      "Testing the model under PGD Attack using epsilon = 0.01568627450980392, alpha = 0.00784313725490196...\n"
     ]
    },
    {
     "data": {
      "application/vnd.jupyter.widget-view+json": {
       "model_id": "b541aed56e544282ad1d78c1d3253c85",
       "version_major": 2,
       "version_minor": 0
      },
      "text/plain": [
       "PGD Attack Testing Progress:   0%|          | 0/79 [00:00<?, ?it/s]"
      ]
     },
     "metadata": {},
     "output_type": "display_data"
    },
    {
     "name": "stdout",
     "output_type": "stream",
     "text": [
      "... done! Accuracy: 82.3%\n",
      "\n",
      "\n",
      "Testing the model under PGD Attack using epsilon = 0.05, alpha = 0.00784313725490196...\n"
     ]
    },
    {
     "data": {
      "application/vnd.jupyter.widget-view+json": {
       "model_id": "56460a53d13d4950931c4a662e207f48",
       "version_major": 2,
       "version_minor": 0
      },
      "text/plain": [
       "PGD Attack Testing Progress:   0%|          | 0/79 [00:00<?, ?it/s]"
      ]
     },
     "metadata": {},
     "output_type": "display_data"
    },
    {
     "name": "stdout",
     "output_type": "stream",
     "text": [
      "... done! Accuracy: 72.31%\n",
      "\n",
      "\n",
      "Testing the model under PGD Attack using epsilon = 0.1, alpha = 0.00784313725490196...\n"
     ]
    },
    {
     "data": {
      "application/vnd.jupyter.widget-view+json": {
       "model_id": "5d76d74c5f344eed945eec045ef19e95",
       "version_major": 2,
       "version_minor": 0
      },
      "text/plain": [
       "PGD Attack Testing Progress:   0%|          | 0/79 [00:00<?, ?it/s]"
      ]
     },
     "metadata": {},
     "output_type": "display_data"
    },
    {
     "name": "stdout",
     "output_type": "stream",
     "text": [
      "... done! Accuracy: 69.77%\n",
      "\n",
      "\n",
      "Testing the model under PGD Attack using epsilon = 0.2, alpha = 0.00784313725490196...\n"
     ]
    },
    {
     "data": {
      "application/vnd.jupyter.widget-view+json": {
       "model_id": "f5f44934843e4ff3a650b386dca132bc",
       "version_major": 2,
       "version_minor": 0
      },
      "text/plain": [
       "PGD Attack Testing Progress:   0%|          | 0/79 [00:00<?, ?it/s]"
      ]
     },
     "metadata": {},
     "output_type": "display_data"
    },
    {
     "name": "stdout",
     "output_type": "stream",
     "text": [
      "... done! Accuracy: 71.23%\n",
      "\n",
      "\n",
      "Testing the model under PGD Attack using epsilon = 0.35, alpha = 0.00784313725490196...\n"
     ]
    },
    {
     "data": {
      "application/vnd.jupyter.widget-view+json": {
       "model_id": "76eb5b6bc5e2475690e1945964dc5b42",
       "version_major": 2,
       "version_minor": 0
      },
      "text/plain": [
       "PGD Attack Testing Progress:   0%|          | 0/79 [00:00<?, ?it/s]"
      ]
     },
     "metadata": {},
     "output_type": "display_data"
    },
    {
     "name": "stdout",
     "output_type": "stream",
     "text": [
      "... done! Accuracy: 74.66%\n",
      "\n",
      "\n",
      "Testing the model under PGD Attack using epsilon = 0.55, alpha = 0.00784313725490196...\n"
     ]
    },
    {
     "data": {
      "application/vnd.jupyter.widget-view+json": {
       "model_id": "24189e935c6a4be398d06a2a67eaf0a9",
       "version_major": 2,
       "version_minor": 0
      },
      "text/plain": [
       "PGD Attack Testing Progress:   0%|          | 0/79 [00:00<?, ?it/s]"
      ]
     },
     "metadata": {},
     "output_type": "display_data"
    },
    {
     "name": "stdout",
     "output_type": "stream",
     "text": [
      "... done! Accuracy: 68.42%\n",
      "\n",
      "\n",
      "Testing the model under PGD Attack using epsilon = 0.75, alpha = 0.00784313725490196...\n"
     ]
    },
    {
     "data": {
      "application/vnd.jupyter.widget-view+json": {
       "model_id": "f37fc8d975f54e0ab6609cb0d7340d3e",
       "version_major": 2,
       "version_minor": 0
      },
      "text/plain": [
       "PGD Attack Testing Progress:   0%|          | 0/79 [00:00<?, ?it/s]"
      ]
     },
     "metadata": {},
     "output_type": "display_data"
    },
    {
     "name": "stdout",
     "output_type": "stream",
     "text": [
      "... done! Accuracy: 21.5%\n",
      "\n",
      "\n",
      "Testing the model under PGD Attack using epsilon = 1, alpha = 0.00784313725490196...\n"
     ]
    },
    {
     "data": {
      "application/vnd.jupyter.widget-view+json": {
       "model_id": "3b69599f472c4a279b0411061c6e7c2f",
       "version_major": 2,
       "version_minor": 0
      },
      "text/plain": [
       "PGD Attack Testing Progress:   0%|          | 0/79 [00:00<?, ?it/s]"
      ]
     },
     "metadata": {},
     "output_type": "display_data"
    },
    {
     "name": "stdout",
     "output_type": "stream",
     "text": [
      "... done! Accuracy: 9.35%\n",
      "\n",
      "\n"
     ]
    }
   ],
   "source": [
    "for epsilon in epsilons:\n",
    "    attacking.attack_model(\n",
    "        interpolated_pgd_model,\n",
    "        testSetLoader,\n",
    "        \"PGD\",\n",
    "        attacks[\"PGD\"],\n",
    "        epsilon=epsilon,\n",
    "        alpha=(2 / 255),\n",
    "        iterations=7,\n",
    "    )"
   ]
  },
  {
   "cell_type": "markdown",
   "metadata": {},
   "source": [
    "## Dual / Triple Adversarial Training"
   ]
  },
  {
   "cell_type": "code",
   "execution_count": 46,
   "metadata": {},
   "outputs": [
    {
     "name": "stdout",
     "output_type": "stream",
     "text": [
      "Found already trained model...\n",
      "... loaded!\n"
     ]
    }
   ],
   "source": [
    "dual_model = fashion_mnist.dual_adversarial_training(\n",
    "    trainSetLoader,\n",
    "    attacks[\"PGD\"],\n",
    "    attacks[\"FGSM\"],\n",
    "    load_if_available=True,\n",
    "    load_path=SAVE_LOAD_ROOT + \"/fashion_mnist_dual\",\n",
    "    epsilon=0.45,\n",
    "    alpha=(2 / 255),\n",
    "    iterations=7,\n",
    ")"
   ]
  },
  {
   "cell_type": "code",
   "execution_count": 47,
   "metadata": {},
   "outputs": [
    {
     "name": "stdout",
     "output_type": "stream",
     "text": [
      "Testing the model...\n"
     ]
    },
    {
     "data": {
      "application/vnd.jupyter.widget-view+json": {
       "model_id": "442d9c8fcf444936b0ff448e88f46608",
       "version_major": 2,
       "version_minor": 0
      },
      "text/plain": [
       "Testing Progress:   0%|          | 0/79 [00:00<?, ?it/s]"
      ]
     },
     "metadata": {},
     "output_type": "display_data"
    },
    {
     "name": "stdout",
     "output_type": "stream",
     "text": [
      "... done! Accuracy: 83.12%\n"
     ]
    }
   ],
   "source": [
    "clean_test.test_trained_model(dual_model, testSetLoader)"
   ]
  },
  {
   "cell_type": "code",
   "execution_count": 48,
   "metadata": {},
   "outputs": [],
   "source": [
    "# Save the model\n",
    "torch.save(dual_model, SAVE_LOAD_ROOT + \"/fashion_mnist_dual\")"
   ]
  },
  {
   "cell_type": "code",
   "execution_count": 49,
   "metadata": {},
   "outputs": [],
   "source": [
    "# Several values to use for the epsilons\n",
    "epsilons = [0, 0.05, 0.1, 0.2, 0.35, 0.55, 0.75, 1]"
   ]
  },
  {
   "cell_type": "code",
   "execution_count": 50,
   "metadata": {},
   "outputs": [
    {
     "name": "stdout",
     "output_type": "stream",
     "text": [
      "Testing the model under FGSM Attack using epsilon = 0, alpha = None...\n"
     ]
    },
    {
     "data": {
      "application/vnd.jupyter.widget-view+json": {
       "model_id": "b45f5e26dfc0456e910630cc33316210",
       "version_major": 2,
       "version_minor": 0
      },
      "text/plain": [
       "FGSM Attack Testing Progress:   0%|          | 0/79 [00:00<?, ?it/s]"
      ]
     },
     "metadata": {},
     "output_type": "display_data"
    },
    {
     "name": "stdout",
     "output_type": "stream",
     "text": [
      "... done! Accuracy: 83.12%\n",
      "\n",
      "\n",
      "Testing the model under FGSM Attack using epsilon = 0.05, alpha = None...\n"
     ]
    },
    {
     "data": {
      "application/vnd.jupyter.widget-view+json": {
       "model_id": "f783356b4d444f81abff89a7b717fa35",
       "version_major": 2,
       "version_minor": 0
      },
      "text/plain": [
       "FGSM Attack Testing Progress:   0%|          | 0/79 [00:00<?, ?it/s]"
      ]
     },
     "metadata": {},
     "output_type": "display_data"
    },
    {
     "name": "stdout",
     "output_type": "stream",
     "text": [
      "... done! Accuracy: 75.22%\n",
      "\n",
      "\n",
      "Testing the model under FGSM Attack using epsilon = 0.1, alpha = None...\n"
     ]
    },
    {
     "data": {
      "application/vnd.jupyter.widget-view+json": {
       "model_id": "c725145149f84d71ba695198519a6a40",
       "version_major": 2,
       "version_minor": 0
      },
      "text/plain": [
       "FGSM Attack Testing Progress:   0%|          | 0/79 [00:00<?, ?it/s]"
      ]
     },
     "metadata": {},
     "output_type": "display_data"
    },
    {
     "name": "stdout",
     "output_type": "stream",
     "text": [
      "... done! Accuracy: 66.94%\n",
      "\n",
      "\n",
      "Testing the model under FGSM Attack using epsilon = 0.2, alpha = None...\n"
     ]
    },
    {
     "data": {
      "application/vnd.jupyter.widget-view+json": {
       "model_id": "c4f53535977d44889347300e85749f44",
       "version_major": 2,
       "version_minor": 0
      },
      "text/plain": [
       "FGSM Attack Testing Progress:   0%|          | 0/79 [00:00<?, ?it/s]"
      ]
     },
     "metadata": {},
     "output_type": "display_data"
    },
    {
     "name": "stdout",
     "output_type": "stream",
     "text": [
      "... done! Accuracy: 51.63%\n",
      "\n",
      "\n",
      "Testing the model under FGSM Attack using epsilon = 0.35, alpha = None...\n"
     ]
    },
    {
     "data": {
      "application/vnd.jupyter.widget-view+json": {
       "model_id": "fad092704be147d79ae0296e84633809",
       "version_major": 2,
       "version_minor": 0
      },
      "text/plain": [
       "FGSM Attack Testing Progress:   0%|          | 0/79 [00:00<?, ?it/s]"
      ]
     },
     "metadata": {},
     "output_type": "display_data"
    },
    {
     "name": "stdout",
     "output_type": "stream",
     "text": [
      "... done! Accuracy: 74.95%\n",
      "\n",
      "\n",
      "Testing the model under FGSM Attack using epsilon = 0.55, alpha = None...\n"
     ]
    },
    {
     "data": {
      "application/vnd.jupyter.widget-view+json": {
       "model_id": "8110eba591e54c78ba92ddf20b162033",
       "version_major": 2,
       "version_minor": 0
      },
      "text/plain": [
       "FGSM Attack Testing Progress:   0%|          | 0/79 [00:00<?, ?it/s]"
      ]
     },
     "metadata": {},
     "output_type": "display_data"
    },
    {
     "name": "stdout",
     "output_type": "stream",
     "text": [
      "... done! Accuracy: 93.97%\n",
      "\n",
      "\n",
      "Testing the model under FGSM Attack using epsilon = 0.75, alpha = None...\n"
     ]
    },
    {
     "data": {
      "application/vnd.jupyter.widget-view+json": {
       "model_id": "7e392c1bc23e4c87ae49e7fd0e3be1f2",
       "version_major": 2,
       "version_minor": 0
      },
      "text/plain": [
       "FGSM Attack Testing Progress:   0%|          | 0/79 [00:00<?, ?it/s]"
      ]
     },
     "metadata": {},
     "output_type": "display_data"
    },
    {
     "name": "stdout",
     "output_type": "stream",
     "text": [
      "... done! Accuracy: 59.21%\n",
      "\n",
      "\n",
      "Testing the model under FGSM Attack using epsilon = 1, alpha = None...\n"
     ]
    },
    {
     "data": {
      "application/vnd.jupyter.widget-view+json": {
       "model_id": "6e851725e4934eb99a057bc33d33f9b1",
       "version_major": 2,
       "version_minor": 0
      },
      "text/plain": [
       "FGSM Attack Testing Progress:   0%|          | 0/79 [00:00<?, ?it/s]"
      ]
     },
     "metadata": {},
     "output_type": "display_data"
    },
    {
     "name": "stdout",
     "output_type": "stream",
     "text": [
      "... done! Accuracy: 31.75%\n",
      "\n",
      "\n"
     ]
    }
   ],
   "source": [
    "# Run test for each epsilon\n",
    "for epsilon in epsilons:\n",
    "    attacking.attack_model(\n",
    "        dual_model,\n",
    "        testSetLoader,\n",
    "        \"FGSM\",\n",
    "        attacks[\"FGSM\"],\n",
    "        epsilon=epsilon,\n",
    "    )"
   ]
  },
  {
   "cell_type": "code",
   "execution_count": 51,
   "metadata": {},
   "outputs": [],
   "source": [
    "# Several values to use for the epsilons\n",
    "epsilons = [0, 4 / 255, 0.05, 0.1, 0.2, 0.35, 0.55, 0.75, 1]"
   ]
  },
  {
   "cell_type": "code",
   "execution_count": 52,
   "metadata": {},
   "outputs": [
    {
     "name": "stdout",
     "output_type": "stream",
     "text": [
      "Testing the model under PGD Attack using epsilon = 0, alpha = 0.00784313725490196...\n"
     ]
    },
    {
     "data": {
      "application/vnd.jupyter.widget-view+json": {
       "model_id": "4cda96a1b52f454fa64a5a91601ef311",
       "version_major": 2,
       "version_minor": 0
      },
      "text/plain": [
       "PGD Attack Testing Progress:   0%|          | 0/79 [00:00<?, ?it/s]"
      ]
     },
     "metadata": {},
     "output_type": "display_data"
    },
    {
     "name": "stdout",
     "output_type": "stream",
     "text": [
      "... done! Accuracy: 83.12%\n",
      "\n",
      "\n",
      "Testing the model under PGD Attack using epsilon = 0.01568627450980392, alpha = 0.00784313725490196...\n"
     ]
    },
    {
     "data": {
      "application/vnd.jupyter.widget-view+json": {
       "model_id": "c55ccc7aed5143c7a9da7bb0f92fd1a7",
       "version_major": 2,
       "version_minor": 0
      },
      "text/plain": [
       "PGD Attack Testing Progress:   0%|          | 0/79 [00:00<?, ?it/s]"
      ]
     },
     "metadata": {},
     "output_type": "display_data"
    },
    {
     "name": "stdout",
     "output_type": "stream",
     "text": [
      "... done! Accuracy: 80.74%\n",
      "\n",
      "\n",
      "Testing the model under PGD Attack using epsilon = 0.05, alpha = 0.00784313725490196...\n"
     ]
    },
    {
     "data": {
      "application/vnd.jupyter.widget-view+json": {
       "model_id": "2a6b2a04da6d43969c763ff8fec66669",
       "version_major": 2,
       "version_minor": 0
      },
      "text/plain": [
       "PGD Attack Testing Progress:   0%|          | 0/79 [00:00<?, ?it/s]"
      ]
     },
     "metadata": {},
     "output_type": "display_data"
    },
    {
     "name": "stdout",
     "output_type": "stream",
     "text": [
      "... done! Accuracy: 76.11%\n",
      "\n",
      "\n",
      "Testing the model under PGD Attack using epsilon = 0.1, alpha = 0.00784313725490196...\n"
     ]
    },
    {
     "data": {
      "application/vnd.jupyter.widget-view+json": {
       "model_id": "af0d930823844329825a7a552671b30d",
       "version_major": 2,
       "version_minor": 0
      },
      "text/plain": [
       "PGD Attack Testing Progress:   0%|          | 0/79 [00:00<?, ?it/s]"
      ]
     },
     "metadata": {},
     "output_type": "display_data"
    },
    {
     "name": "stdout",
     "output_type": "stream",
     "text": [
      "... done! Accuracy: 74.37%\n",
      "\n",
      "\n",
      "Testing the model under PGD Attack using epsilon = 0.2, alpha = 0.00784313725490196...\n"
     ]
    },
    {
     "data": {
      "application/vnd.jupyter.widget-view+json": {
       "model_id": "0496e10a605740b68f8f4fc04cfd216c",
       "version_major": 2,
       "version_minor": 0
      },
      "text/plain": [
       "PGD Attack Testing Progress:   0%|          | 0/79 [00:00<?, ?it/s]"
      ]
     },
     "metadata": {},
     "output_type": "display_data"
    },
    {
     "name": "stdout",
     "output_type": "stream",
     "text": [
      "... done! Accuracy: 73.88%\n",
      "\n",
      "\n",
      "Testing the model under PGD Attack using epsilon = 0.35, alpha = 0.00784313725490196...\n"
     ]
    },
    {
     "data": {
      "application/vnd.jupyter.widget-view+json": {
       "model_id": "ecc1dc43f3a2406b9d9d2b040b2367d6",
       "version_major": 2,
       "version_minor": 0
      },
      "text/plain": [
       "PGD Attack Testing Progress:   0%|          | 0/79 [00:00<?, ?it/s]"
      ]
     },
     "metadata": {},
     "output_type": "display_data"
    },
    {
     "name": "stdout",
     "output_type": "stream",
     "text": [
      "... done! Accuracy: 73.22%\n",
      "\n",
      "\n",
      "Testing the model under PGD Attack using epsilon = 0.55, alpha = 0.00784313725490196...\n"
     ]
    },
    {
     "data": {
      "application/vnd.jupyter.widget-view+json": {
       "model_id": "1c9acc9f331c4338b6a5125f3af86eea",
       "version_major": 2,
       "version_minor": 0
      },
      "text/plain": [
       "PGD Attack Testing Progress:   0%|          | 0/79 [00:00<?, ?it/s]"
      ]
     },
     "metadata": {},
     "output_type": "display_data"
    },
    {
     "name": "stdout",
     "output_type": "stream",
     "text": [
      "... done! Accuracy: 64.58%\n",
      "\n",
      "\n",
      "Testing the model under PGD Attack using epsilon = 0.75, alpha = 0.00784313725490196...\n"
     ]
    },
    {
     "data": {
      "application/vnd.jupyter.widget-view+json": {
       "model_id": "5d829b9d490a4f89a0fc82b8a5ac239d",
       "version_major": 2,
       "version_minor": 0
      },
      "text/plain": [
       "PGD Attack Testing Progress:   0%|          | 0/79 [00:00<?, ?it/s]"
      ]
     },
     "metadata": {},
     "output_type": "display_data"
    },
    {
     "name": "stdout",
     "output_type": "stream",
     "text": [
      "... done! Accuracy: 6.28%\n",
      "\n",
      "\n",
      "Testing the model under PGD Attack using epsilon = 1, alpha = 0.00784313725490196...\n"
     ]
    },
    {
     "data": {
      "application/vnd.jupyter.widget-view+json": {
       "model_id": "c65cd747717940a29f94f37cb1c772a1",
       "version_major": 2,
       "version_minor": 0
      },
      "text/plain": [
       "PGD Attack Testing Progress:   0%|          | 0/79 [00:00<?, ?it/s]"
      ]
     },
     "metadata": {},
     "output_type": "display_data"
    },
    {
     "name": "stdout",
     "output_type": "stream",
     "text": [
      "... done! Accuracy: 1.73%\n",
      "\n",
      "\n"
     ]
    }
   ],
   "source": [
    "for epsilon in epsilons:\n",
    "    attacking.attack_model(\n",
    "        dual_model,\n",
    "        testSetLoader,\n",
    "        \"PGD\",\n",
    "        attacks[\"PGD\"],\n",
    "        epsilon=epsilon,\n",
    "        alpha=(2 / 255),\n",
    "        iterations=7,\n",
    "    )"
   ]
  },
  {
   "cell_type": "code",
   "execution_count": 53,
   "metadata": {},
   "outputs": [],
   "source": [
    "deepfool_attack = torchattacks.DeepFool(dual_model)\n",
    "\n",
    "attacks[\"DeepFool\"] = deepfool_attack"
   ]
  },
  {
   "cell_type": "code",
   "execution_count": 54,
   "metadata": {},
   "outputs": [
    {
     "name": "stdout",
     "output_type": "stream",
     "text": [
      "Testing the model under DeepFool Attack...\n"
     ]
    },
    {
     "data": {
      "application/vnd.jupyter.widget-view+json": {
       "model_id": "f6957e45418c43c89712fd95297ce106",
       "version_major": 2,
       "version_minor": 0
      },
      "text/plain": [
       "DeepFool Attack Testing Progress:   0%|          | 0/79 [00:00<?, ?it/s]"
      ]
     },
     "metadata": {},
     "output_type": "display_data"
    },
    {
     "name": "stdout",
     "output_type": "stream",
     "text": [
      "... done! Accuracy: 0.34%\n",
      "\n",
      "\n"
     ]
    }
   ],
   "source": [
    "attacking.attack_model(\n",
    "    dual_model,\n",
    "    testSetLoader,\n",
    "    \"DeepFool\",\n",
    "    attacks[\"DeepFool\"],\n",
    "    library=True,\n",
    ")"
   ]
  },
  {
   "cell_type": "code",
   "execution_count": 55,
   "metadata": {},
   "outputs": [],
   "source": [
    "cw_attack = torchattacks.CW(dual_model, c=20)\n",
    "\n",
    "attacks[\"CW\"] = cw_attack"
   ]
  },
  {
   "cell_type": "code",
   "execution_count": 56,
   "metadata": {},
   "outputs": [
    {
     "name": "stdout",
     "output_type": "stream",
     "text": [
      "Testing the model under CW Attack...\n"
     ]
    },
    {
     "data": {
      "application/vnd.jupyter.widget-view+json": {
       "model_id": "fc323171d0a643f8873e0a5d55425e96",
       "version_major": 2,
       "version_minor": 0
      },
      "text/plain": [
       "CW Attack Testing Progress:   0%|          | 0/79 [00:00<?, ?it/s]"
      ]
     },
     "metadata": {},
     "output_type": "display_data"
    },
    {
     "name": "stdout",
     "output_type": "stream",
     "text": [
      "... done! Accuracy: 3.64%\n",
      "\n",
      "\n"
     ]
    }
   ],
   "source": [
    "attacking.attack_model(\n",
    "    dual_model,\n",
    "    testSetLoader,\n",
    "    \"CW\",\n",
    "    attacks[\"CW\"],\n",
    "    library=True,\n",
    ")"
   ]
  },
  {
   "cell_type": "code",
   "execution_count": 57,
   "metadata": {},
   "outputs": [
    {
     "name": "stdout",
     "output_type": "stream",
     "text": [
      "Training the model...\n"
     ]
    },
    {
     "data": {
      "application/vnd.jupyter.widget-view+json": {
       "model_id": "66659b4408044f63abd31a1a9b5e3d75",
       "version_major": 2,
       "version_minor": 0
      },
      "text/plain": [
       "Adversarial Training Progress:   0%|          | 0/20 [00:00<?, ?it/s]"
      ]
     },
     "metadata": {},
     "output_type": "display_data"
    },
    {
     "data": {
      "application/vnd.jupyter.widget-view+json": {
       "model_id": "2b015cada9454dbfa8c4d5d056a0a222",
       "version_major": 2,
       "version_minor": 0
      },
      "text/plain": [
       "Batches:   0%|          | 0/391 [00:00<?, ?it/s]"
      ]
     },
     "metadata": {},
     "output_type": "display_data"
    },
    {
     "data": {
      "application/vnd.jupyter.widget-view+json": {
       "model_id": "034c327ee6c14e3d900c1e124c8e01f6",
       "version_major": 2,
       "version_minor": 0
      },
      "text/plain": [
       "Batches:   0%|          | 0/391 [00:00<?, ?it/s]"
      ]
     },
     "metadata": {},
     "output_type": "display_data"
    },
    {
     "data": {
      "application/vnd.jupyter.widget-view+json": {
       "model_id": "78065cc7f1c2404586ae8944c444bd37",
       "version_major": 2,
       "version_minor": 0
      },
      "text/plain": [
       "Batches:   0%|          | 0/391 [00:00<?, ?it/s]"
      ]
     },
     "metadata": {},
     "output_type": "display_data"
    },
    {
     "data": {
      "application/vnd.jupyter.widget-view+json": {
       "model_id": "ddebba96a9c34668afa3ee9646ba10ee",
       "version_major": 2,
       "version_minor": 0
      },
      "text/plain": [
       "Batches:   0%|          | 0/391 [00:00<?, ?it/s]"
      ]
     },
     "metadata": {},
     "output_type": "display_data"
    },
    {
     "data": {
      "application/vnd.jupyter.widget-view+json": {
       "model_id": "1e87d8452b674adfa75eadfb32f964be",
       "version_major": 2,
       "version_minor": 0
      },
      "text/plain": [
       "Batches:   0%|          | 0/391 [00:00<?, ?it/s]"
      ]
     },
     "metadata": {},
     "output_type": "display_data"
    },
    {
     "data": {
      "application/vnd.jupyter.widget-view+json": {
       "model_id": "005c523bdf7c424f9d0d949320aef027",
       "version_major": 2,
       "version_minor": 0
      },
      "text/plain": [
       "Batches:   0%|          | 0/391 [00:00<?, ?it/s]"
      ]
     },
     "metadata": {},
     "output_type": "display_data"
    },
    {
     "data": {
      "application/vnd.jupyter.widget-view+json": {
       "model_id": "57f2a040f0f74d03ba74df5f18762ff8",
       "version_major": 2,
       "version_minor": 0
      },
      "text/plain": [
       "Batches:   0%|          | 0/391 [00:00<?, ?it/s]"
      ]
     },
     "metadata": {},
     "output_type": "display_data"
    },
    {
     "data": {
      "application/vnd.jupyter.widget-view+json": {
       "model_id": "44cfcef7b4fe437daf41617f432706cf",
       "version_major": 2,
       "version_minor": 0
      },
      "text/plain": [
       "Batches:   0%|          | 0/391 [00:00<?, ?it/s]"
      ]
     },
     "metadata": {},
     "output_type": "display_data"
    },
    {
     "data": {
      "application/vnd.jupyter.widget-view+json": {
       "model_id": "c2e26aa9c7624c1c949a0a62e2f10a4f",
       "version_major": 2,
       "version_minor": 0
      },
      "text/plain": [
       "Batches:   0%|          | 0/391 [00:00<?, ?it/s]"
      ]
     },
     "metadata": {},
     "output_type": "display_data"
    },
    {
     "data": {
      "application/vnd.jupyter.widget-view+json": {
       "model_id": "ea438cdc385b4e2e838b7765b29278c5",
       "version_major": 2,
       "version_minor": 0
      },
      "text/plain": [
       "Batches:   0%|          | 0/391 [00:00<?, ?it/s]"
      ]
     },
     "metadata": {},
     "output_type": "display_data"
    },
    {
     "data": {
      "application/vnd.jupyter.widget-view+json": {
       "model_id": "d0efaf3af175464da35d5d87becf5c18",
       "version_major": 2,
       "version_minor": 0
      },
      "text/plain": [
       "Batches:   0%|          | 0/391 [00:00<?, ?it/s]"
      ]
     },
     "metadata": {},
     "output_type": "display_data"
    },
    {
     "data": {
      "application/vnd.jupyter.widget-view+json": {
       "model_id": "9d0bd5fefd0d4120aca09a85c69beb30",
       "version_major": 2,
       "version_minor": 0
      },
      "text/plain": [
       "Batches:   0%|          | 0/391 [00:00<?, ?it/s]"
      ]
     },
     "metadata": {},
     "output_type": "display_data"
    },
    {
     "data": {
      "application/vnd.jupyter.widget-view+json": {
       "model_id": "23e7cf6174d9444bbd675bc55bc1afcb",
       "version_major": 2,
       "version_minor": 0
      },
      "text/plain": [
       "Batches:   0%|          | 0/391 [00:00<?, ?it/s]"
      ]
     },
     "metadata": {},
     "output_type": "display_data"
    },
    {
     "data": {
      "application/vnd.jupyter.widget-view+json": {
       "model_id": "c68fba7e9b794fb2b37a09021aff671d",
       "version_major": 2,
       "version_minor": 0
      },
      "text/plain": [
       "Batches:   0%|          | 0/391 [00:00<?, ?it/s]"
      ]
     },
     "metadata": {},
     "output_type": "display_data"
    },
    {
     "data": {
      "application/vnd.jupyter.widget-view+json": {
       "model_id": "e5c5884f95cd49469e62dd067a31bc64",
       "version_major": 2,
       "version_minor": 0
      },
      "text/plain": [
       "Batches:   0%|          | 0/391 [00:00<?, ?it/s]"
      ]
     },
     "metadata": {},
     "output_type": "display_data"
    },
    {
     "data": {
      "application/vnd.jupyter.widget-view+json": {
       "model_id": "60730ed1bd674cc5b1a87efa0f7896e7",
       "version_major": 2,
       "version_minor": 0
      },
      "text/plain": [
       "Batches:   0%|          | 0/391 [00:00<?, ?it/s]"
      ]
     },
     "metadata": {},
     "output_type": "display_data"
    },
    {
     "data": {
      "application/vnd.jupyter.widget-view+json": {
       "model_id": "29b942bb02904e1fa64fdf1825ccdf77",
       "version_major": 2,
       "version_minor": 0
      },
      "text/plain": [
       "Batches:   0%|          | 0/391 [00:00<?, ?it/s]"
      ]
     },
     "metadata": {},
     "output_type": "display_data"
    },
    {
     "data": {
      "application/vnd.jupyter.widget-view+json": {
       "model_id": "041f9a3713224ea38054b87b02dd8efb",
       "version_major": 2,
       "version_minor": 0
      },
      "text/plain": [
       "Batches:   0%|          | 0/391 [00:00<?, ?it/s]"
      ]
     },
     "metadata": {},
     "output_type": "display_data"
    },
    {
     "data": {
      "application/vnd.jupyter.widget-view+json": {
       "model_id": "f6f1ba149c1e47fba33f8278ac89e000",
       "version_major": 2,
       "version_minor": 0
      },
      "text/plain": [
       "Batches:   0%|          | 0/391 [00:00<?, ?it/s]"
      ]
     },
     "metadata": {},
     "output_type": "display_data"
    },
    {
     "data": {
      "application/vnd.jupyter.widget-view+json": {
       "model_id": "7c505ed7369c41b3bef7762e10f792f7",
       "version_major": 2,
       "version_minor": 0
      },
      "text/plain": [
       "Batches:   0%|          | 0/391 [00:00<?, ?it/s]"
      ]
     },
     "metadata": {},
     "output_type": "display_data"
    },
    {
     "name": "stdout",
     "output_type": "stream",
     "text": [
      "... done!\n"
     ]
    }
   ],
   "source": [
    "triple_model = fashion_mnist.triple_adversarial_training(\n",
    "    trainSetLoader,\n",
    "    attacks[\"PGD\"],\n",
    "    attacks[\"FGSM\"],\n",
    "    attacks[\"CW\"],\n",
    "    load_if_available=True,\n",
    "    load_path=SAVE_LOAD_ROOT + \"/fashion_mnist_triple\",\n",
    "    epsilon=0.45,\n",
    "    alpha=(2 / 255),\n",
    "    iterations=7,\n",
    ")"
   ]
  },
  {
   "cell_type": "code",
   "execution_count": 58,
   "metadata": {},
   "outputs": [
    {
     "name": "stdout",
     "output_type": "stream",
     "text": [
      "Testing the model...\n"
     ]
    },
    {
     "data": {
      "application/vnd.jupyter.widget-view+json": {
       "model_id": "b0280269c52e4881899b1f1cef32f5f2",
       "version_major": 2,
       "version_minor": 0
      },
      "text/plain": [
       "Testing Progress:   0%|          | 0/79 [00:00<?, ?it/s]"
      ]
     },
     "metadata": {},
     "output_type": "display_data"
    },
    {
     "name": "stdout",
     "output_type": "stream",
     "text": [
      "... done! Accuracy: 87.95%\n"
     ]
    }
   ],
   "source": [
    "clean_test.test_trained_model(triple_model, testSetLoader)"
   ]
  },
  {
   "cell_type": "code",
   "execution_count": 59,
   "metadata": {},
   "outputs": [],
   "source": [
    "# Save the model\n",
    "torch.save(triple_model, SAVE_LOAD_ROOT + \"/fashion_mnist_triple\")"
   ]
  },
  {
   "cell_type": "code",
   "execution_count": 60,
   "metadata": {},
   "outputs": [],
   "source": [
    "# Several values to use for the epsilons\n",
    "epsilons = [0, 0.05, 0.1, 0.2, 0.35, 0.55, 0.75, 1]"
   ]
  },
  {
   "cell_type": "code",
   "execution_count": 61,
   "metadata": {},
   "outputs": [
    {
     "name": "stdout",
     "output_type": "stream",
     "text": [
      "Testing the model under FGSM Attack using epsilon = 0, alpha = None...\n"
     ]
    },
    {
     "data": {
      "application/vnd.jupyter.widget-view+json": {
       "model_id": "a292d5cbbe1547a2ac13c1ad93015e7b",
       "version_major": 2,
       "version_minor": 0
      },
      "text/plain": [
       "FGSM Attack Testing Progress:   0%|          | 0/79 [00:00<?, ?it/s]"
      ]
     },
     "metadata": {},
     "output_type": "display_data"
    },
    {
     "name": "stdout",
     "output_type": "stream",
     "text": [
      "... done! Accuracy: 87.95%\n",
      "\n",
      "\n",
      "Testing the model under FGSM Attack using epsilon = 0.05, alpha = None...\n"
     ]
    },
    {
     "data": {
      "application/vnd.jupyter.widget-view+json": {
       "model_id": "8f47b4d9e5894fb08be00d922a8d9ea3",
       "version_major": 2,
       "version_minor": 0
      },
      "text/plain": [
       "FGSM Attack Testing Progress:   0%|          | 0/79 [00:00<?, ?it/s]"
      ]
     },
     "metadata": {},
     "output_type": "display_data"
    },
    {
     "name": "stdout",
     "output_type": "stream",
     "text": [
      "... done! Accuracy: 52.49%\n",
      "\n",
      "\n",
      "Testing the model under FGSM Attack using epsilon = 0.1, alpha = None...\n"
     ]
    },
    {
     "data": {
      "application/vnd.jupyter.widget-view+json": {
       "model_id": "9ab348c2f8a6491fab097ba768fffc15",
       "version_major": 2,
       "version_minor": 0
      },
      "text/plain": [
       "FGSM Attack Testing Progress:   0%|          | 0/79 [00:00<?, ?it/s]"
      ]
     },
     "metadata": {},
     "output_type": "display_data"
    },
    {
     "name": "stdout",
     "output_type": "stream",
     "text": [
      "... done! Accuracy: 44.7%\n",
      "\n",
      "\n",
      "Testing the model under FGSM Attack using epsilon = 0.2, alpha = None...\n"
     ]
    },
    {
     "data": {
      "application/vnd.jupyter.widget-view+json": {
       "model_id": "b12d7f0b9c6e497c90242d17ce2247e4",
       "version_major": 2,
       "version_minor": 0
      },
      "text/plain": [
       "FGSM Attack Testing Progress:   0%|          | 0/79 [00:00<?, ?it/s]"
      ]
     },
     "metadata": {},
     "output_type": "display_data"
    },
    {
     "name": "stdout",
     "output_type": "stream",
     "text": [
      "... done! Accuracy: 59.78%\n",
      "\n",
      "\n",
      "Testing the model under FGSM Attack using epsilon = 0.35, alpha = None...\n"
     ]
    },
    {
     "data": {
      "application/vnd.jupyter.widget-view+json": {
       "model_id": "7311be7621834870b63e55ce8c3222cb",
       "version_major": 2,
       "version_minor": 0
      },
      "text/plain": [
       "FGSM Attack Testing Progress:   0%|          | 0/79 [00:00<?, ?it/s]"
      ]
     },
     "metadata": {},
     "output_type": "display_data"
    },
    {
     "name": "stdout",
     "output_type": "stream",
     "text": [
      "... done! Accuracy: 96.79%\n",
      "\n",
      "\n",
      "Testing the model under FGSM Attack using epsilon = 0.55, alpha = None...\n"
     ]
    },
    {
     "data": {
      "application/vnd.jupyter.widget-view+json": {
       "model_id": "1b04d524ce9144508a2738f77cdc0165",
       "version_major": 2,
       "version_minor": 0
      },
      "text/plain": [
       "FGSM Attack Testing Progress:   0%|          | 0/79 [00:00<?, ?it/s]"
      ]
     },
     "metadata": {},
     "output_type": "display_data"
    },
    {
     "name": "stdout",
     "output_type": "stream",
     "text": [
      "... done! Accuracy: 98.04%\n",
      "\n",
      "\n",
      "Testing the model under FGSM Attack using epsilon = 0.75, alpha = None...\n"
     ]
    },
    {
     "data": {
      "application/vnd.jupyter.widget-view+json": {
       "model_id": "a914a79309644235b1e6711c6ea0ac60",
       "version_major": 2,
       "version_minor": 0
      },
      "text/plain": [
       "FGSM Attack Testing Progress:   0%|          | 0/79 [00:00<?, ?it/s]"
      ]
     },
     "metadata": {},
     "output_type": "display_data"
    },
    {
     "name": "stdout",
     "output_type": "stream",
     "text": [
      "... done! Accuracy: 93.98%\n",
      "\n",
      "\n",
      "Testing the model under FGSM Attack using epsilon = 1, alpha = None...\n"
     ]
    },
    {
     "data": {
      "application/vnd.jupyter.widget-view+json": {
       "model_id": "f91e08caf5774750bcf757967a77834e",
       "version_major": 2,
       "version_minor": 0
      },
      "text/plain": [
       "FGSM Attack Testing Progress:   0%|          | 0/79 [00:00<?, ?it/s]"
      ]
     },
     "metadata": {},
     "output_type": "display_data"
    },
    {
     "name": "stdout",
     "output_type": "stream",
     "text": [
      "... done! Accuracy: 75.66%\n",
      "\n",
      "\n"
     ]
    }
   ],
   "source": [
    "# Run test for each epsilon\n",
    "for epsilon in epsilons:\n",
    "    attacking.attack_model(\n",
    "        triple_model,\n",
    "        testSetLoader,\n",
    "        \"FGSM\",\n",
    "        attacks[\"FGSM\"],\n",
    "        epsilon=epsilon,\n",
    "    )"
   ]
  },
  {
   "cell_type": "code",
   "execution_count": 62,
   "metadata": {},
   "outputs": [],
   "source": [
    "# Several values to use for the epsilons\n",
    "epsilons = [0, 4 / 255, 0.05, 0.1, 0.2, 0.35, 0.55, 0.75, 1]"
   ]
  },
  {
   "cell_type": "code",
   "execution_count": 63,
   "metadata": {},
   "outputs": [
    {
     "name": "stdout",
     "output_type": "stream",
     "text": [
      "Testing the model under PGD Attack using epsilon = 0, alpha = 0.00784313725490196...\n"
     ]
    },
    {
     "data": {
      "application/vnd.jupyter.widget-view+json": {
       "model_id": "b2e25036021e40fa86435c206804685b",
       "version_major": 2,
       "version_minor": 0
      },
      "text/plain": [
       "PGD Attack Testing Progress:   0%|          | 0/79 [00:00<?, ?it/s]"
      ]
     },
     "metadata": {},
     "output_type": "display_data"
    },
    {
     "name": "stdout",
     "output_type": "stream",
     "text": [
      "... done! Accuracy: 87.95%\n",
      "\n",
      "\n",
      "Testing the model under PGD Attack using epsilon = 0.01568627450980392, alpha = 0.00784313725490196...\n"
     ]
    },
    {
     "data": {
      "application/vnd.jupyter.widget-view+json": {
       "model_id": "db2b1dc0ca3541b381203e01b3cad38c",
       "version_major": 2,
       "version_minor": 0
      },
      "text/plain": [
       "PGD Attack Testing Progress:   0%|          | 0/79 [00:00<?, ?it/s]"
      ]
     },
     "metadata": {},
     "output_type": "display_data"
    },
    {
     "name": "stdout",
     "output_type": "stream",
     "text": [
      "... done! Accuracy: 72.98%\n",
      "\n",
      "\n",
      "Testing the model under PGD Attack using epsilon = 0.05, alpha = 0.00784313725490196...\n"
     ]
    },
    {
     "data": {
      "application/vnd.jupyter.widget-view+json": {
       "model_id": "094c31da1a58411d8e427a42e0c12d57",
       "version_major": 2,
       "version_minor": 0
      },
      "text/plain": [
       "PGD Attack Testing Progress:   0%|          | 0/79 [00:00<?, ?it/s]"
      ]
     },
     "metadata": {},
     "output_type": "display_data"
    },
    {
     "name": "stdout",
     "output_type": "stream",
     "text": [
      "... done! Accuracy: 51.6%\n",
      "\n",
      "\n",
      "Testing the model under PGD Attack using epsilon = 0.1, alpha = 0.00784313725490196...\n"
     ]
    },
    {
     "data": {
      "application/vnd.jupyter.widget-view+json": {
       "model_id": "2f7fd0008d964003bcf5e57fb2b0c8d2",
       "version_major": 2,
       "version_minor": 0
      },
      "text/plain": [
       "PGD Attack Testing Progress:   0%|          | 0/79 [00:00<?, ?it/s]"
      ]
     },
     "metadata": {},
     "output_type": "display_data"
    },
    {
     "name": "stdout",
     "output_type": "stream",
     "text": [
      "... done! Accuracy: 48.44%\n",
      "\n",
      "\n",
      "Testing the model under PGD Attack using epsilon = 0.2, alpha = 0.00784313725490196...\n"
     ]
    },
    {
     "data": {
      "application/vnd.jupyter.widget-view+json": {
       "model_id": "b9692664768f44cb9141c19d88bcbc26",
       "version_major": 2,
       "version_minor": 0
      },
      "text/plain": [
       "PGD Attack Testing Progress:   0%|          | 0/79 [00:00<?, ?it/s]"
      ]
     },
     "metadata": {},
     "output_type": "display_data"
    },
    {
     "name": "stdout",
     "output_type": "stream",
     "text": [
      "... done! Accuracy: 54.91%\n",
      "\n",
      "\n",
      "Testing the model under PGD Attack using epsilon = 0.35, alpha = 0.00784313725490196...\n"
     ]
    },
    {
     "data": {
      "application/vnd.jupyter.widget-view+json": {
       "model_id": "c987302b13f9428c9bbfa883e262d158",
       "version_major": 2,
       "version_minor": 0
      },
      "text/plain": [
       "PGD Attack Testing Progress:   0%|          | 0/79 [00:00<?, ?it/s]"
      ]
     },
     "metadata": {},
     "output_type": "display_data"
    },
    {
     "name": "stdout",
     "output_type": "stream",
     "text": [
      "... done! Accuracy: 70.54%\n",
      "\n",
      "\n",
      "Testing the model under PGD Attack using epsilon = 0.55, alpha = 0.00784313725490196...\n"
     ]
    },
    {
     "data": {
      "application/vnd.jupyter.widget-view+json": {
       "model_id": "bfcd1d58c9854fb8b72e7dc708611533",
       "version_major": 2,
       "version_minor": 0
      },
      "text/plain": [
       "PGD Attack Testing Progress:   0%|          | 0/79 [00:00<?, ?it/s]"
      ]
     },
     "metadata": {},
     "output_type": "display_data"
    },
    {
     "name": "stdout",
     "output_type": "stream",
     "text": [
      "... done! Accuracy: 66.12%\n",
      "\n",
      "\n",
      "Testing the model under PGD Attack using epsilon = 0.75, alpha = 0.00784313725490196...\n"
     ]
    },
    {
     "data": {
      "application/vnd.jupyter.widget-view+json": {
       "model_id": "7c39f85c585048e9b73233b6616aa600",
       "version_major": 2,
       "version_minor": 0
      },
      "text/plain": [
       "PGD Attack Testing Progress:   0%|          | 0/79 [00:00<?, ?it/s]"
      ]
     },
     "metadata": {},
     "output_type": "display_data"
    },
    {
     "name": "stdout",
     "output_type": "stream",
     "text": [
      "... done! Accuracy: 38.38%\n",
      "\n",
      "\n",
      "Testing the model under PGD Attack using epsilon = 1, alpha = 0.00784313725490196...\n"
     ]
    },
    {
     "data": {
      "application/vnd.jupyter.widget-view+json": {
       "model_id": "822552ac744240d6997d584902131fc9",
       "version_major": 2,
       "version_minor": 0
      },
      "text/plain": [
       "PGD Attack Testing Progress:   0%|          | 0/79 [00:00<?, ?it/s]"
      ]
     },
     "metadata": {},
     "output_type": "display_data"
    },
    {
     "name": "stdout",
     "output_type": "stream",
     "text": [
      "... done! Accuracy: 8.39%\n",
      "\n",
      "\n"
     ]
    }
   ],
   "source": [
    "for epsilon in epsilons:\n",
    "    attacking.attack_model(\n",
    "        triple_model,\n",
    "        testSetLoader,\n",
    "        \"PGD\",\n",
    "        attacks[\"PGD\"],\n",
    "        epsilon=epsilon,\n",
    "        alpha=(2 / 255),\n",
    "        iterations=7,\n",
    "    )"
   ]
  },
  {
   "cell_type": "code",
   "execution_count": 64,
   "metadata": {},
   "outputs": [],
   "source": [
    "deepfool_attack = torchattacks.DeepFool(triple_model)\n",
    "\n",
    "attacks[\"DeepFool\"] = deepfool_attack"
   ]
  },
  {
   "cell_type": "code",
   "execution_count": 65,
   "metadata": {},
   "outputs": [
    {
     "name": "stdout",
     "output_type": "stream",
     "text": [
      "Testing the model under DeepFool Attack...\n"
     ]
    },
    {
     "data": {
      "application/vnd.jupyter.widget-view+json": {
       "model_id": "9f094914a3cf454d9aa0ebf667904c97",
       "version_major": 2,
       "version_minor": 0
      },
      "text/plain": [
       "DeepFool Attack Testing Progress:   0%|          | 0/79 [00:00<?, ?it/s]"
      ]
     },
     "metadata": {},
     "output_type": "display_data"
    },
    {
     "name": "stdout",
     "output_type": "stream",
     "text": [
      "... done! Accuracy: 0.2%\n",
      "\n",
      "\n"
     ]
    }
   ],
   "source": [
    "attacking.attack_model(\n",
    "    triple_model,\n",
    "    testSetLoader,\n",
    "    \"DeepFool\",\n",
    "    attacks[\"DeepFool\"],\n",
    "    library=True,\n",
    ")"
   ]
  },
  {
   "cell_type": "code",
   "execution_count": 66,
   "metadata": {},
   "outputs": [],
   "source": [
    "cw_attack = torchattacks.CW(triple_model, c=20)\n",
    "\n",
    "attacks[\"CW\"] = cw_attack"
   ]
  },
  {
   "cell_type": "code",
   "execution_count": 67,
   "metadata": {},
   "outputs": [
    {
     "name": "stdout",
     "output_type": "stream",
     "text": [
      "Testing the model under CW Attack...\n"
     ]
    },
    {
     "data": {
      "application/vnd.jupyter.widget-view+json": {
       "model_id": "88e351ba598c4f16bbfa19b73ca72b10",
       "version_major": 2,
       "version_minor": 0
      },
      "text/plain": [
       "CW Attack Testing Progress:   0%|          | 0/79 [00:00<?, ?it/s]"
      ]
     },
     "metadata": {},
     "output_type": "display_data"
    },
    {
     "name": "stdout",
     "output_type": "stream",
     "text": [
      "... done! Accuracy: 0.06%\n",
      "\n",
      "\n"
     ]
    }
   ],
   "source": [
    "attacking.attack_model(\n",
    "    triple_model,\n",
    "    testSetLoader,\n",
    "    \"CW\",\n",
    "    attacks[\"CW\"],\n",
    "    library=True,\n",
    ")"
   ]
  },
  {
   "cell_type": "markdown",
   "metadata": {
    "tags": []
   },
   "source": [
    "## Jacobian Regularization Training"
   ]
  },
  {
   "cell_type": "code",
   "execution_count": 68,
   "metadata": {},
   "outputs": [
    {
     "name": "stdout",
     "output_type": "stream",
     "text": [
      "Found already trained model...\n",
      "... loaded!\n"
     ]
    }
   ],
   "source": [
    "jacobian_model = fashion_mnist.jacobian_training(\n",
    "    trainSetLoader,\n",
    "    load_if_available=True,\n",
    "    load_path=SAVE_LOAD_ROOT + \"/mnist_jacobian\",\n",
    ")"
   ]
  },
  {
   "cell_type": "code",
   "execution_count": 69,
   "metadata": {},
   "outputs": [
    {
     "name": "stdout",
     "output_type": "stream",
     "text": [
      "Testing the model...\n"
     ]
    },
    {
     "data": {
      "application/vnd.jupyter.widget-view+json": {
       "model_id": "7924ae9564a247938073973efdcd13d7",
       "version_major": 2,
       "version_minor": 0
      },
      "text/plain": [
       "Testing Progress:   0%|          | 0/79 [00:00<?, ?it/s]"
      ]
     },
     "metadata": {},
     "output_type": "display_data"
    },
    {
     "name": "stdout",
     "output_type": "stream",
     "text": [
      "... done! Accuracy: 89.37%\n"
     ]
    }
   ],
   "source": [
    "clean_test.test_trained_model(jacobian_model, testSetLoader)"
   ]
  },
  {
   "cell_type": "code",
   "execution_count": 70,
   "metadata": {},
   "outputs": [],
   "source": [
    "# Save the model\n",
    "torch.save(jacobian_model, SAVE_LOAD_ROOT + \"/mnist_jacobian\")"
   ]
  },
  {
   "cell_type": "code",
   "execution_count": 71,
   "metadata": {},
   "outputs": [],
   "source": [
    "# Several values to use for the epsilons\n",
    "epsilons = [0, 0.05, 0.1, 0.2, 0.35, 0.55, 0.75, 1]"
   ]
  },
  {
   "cell_type": "code",
   "execution_count": 72,
   "metadata": {},
   "outputs": [
    {
     "name": "stdout",
     "output_type": "stream",
     "text": [
      "Testing the model under FGSM Attack using epsilon = 0, alpha = None...\n"
     ]
    },
    {
     "data": {
      "application/vnd.jupyter.widget-view+json": {
       "model_id": "05253d895bc84860868ce6bbf4a91ace",
       "version_major": 2,
       "version_minor": 0
      },
      "text/plain": [
       "FGSM Attack Testing Progress:   0%|          | 0/79 [00:00<?, ?it/s]"
      ]
     },
     "metadata": {},
     "output_type": "display_data"
    },
    {
     "name": "stdout",
     "output_type": "stream",
     "text": [
      "... done! Accuracy: 89.37%\n",
      "\n",
      "\n",
      "Testing the model under FGSM Attack using epsilon = 0.05, alpha = None...\n"
     ]
    },
    {
     "data": {
      "application/vnd.jupyter.widget-view+json": {
       "model_id": "d16d9719cc3a4e34aa8010063407b98f",
       "version_major": 2,
       "version_minor": 0
      },
      "text/plain": [
       "FGSM Attack Testing Progress:   0%|          | 0/79 [00:00<?, ?it/s]"
      ]
     },
     "metadata": {},
     "output_type": "display_data"
    },
    {
     "name": "stdout",
     "output_type": "stream",
     "text": [
      "... done! Accuracy: 69.17%\n",
      "\n",
      "\n",
      "Testing the model under FGSM Attack using epsilon = 0.1, alpha = None...\n"
     ]
    },
    {
     "data": {
      "application/vnd.jupyter.widget-view+json": {
       "model_id": "98e3d9e04d6b491c86db90e37d1255f8",
       "version_major": 2,
       "version_minor": 0
      },
      "text/plain": [
       "FGSM Attack Testing Progress:   0%|          | 0/79 [00:00<?, ?it/s]"
      ]
     },
     "metadata": {},
     "output_type": "display_data"
    },
    {
     "name": "stdout",
     "output_type": "stream",
     "text": [
      "... done! Accuracy: 47.6%\n",
      "\n",
      "\n",
      "Testing the model under FGSM Attack using epsilon = 0.2, alpha = None...\n"
     ]
    },
    {
     "data": {
      "application/vnd.jupyter.widget-view+json": {
       "model_id": "b8acf1924fe945419a7895677414b8dd",
       "version_major": 2,
       "version_minor": 0
      },
      "text/plain": [
       "FGSM Attack Testing Progress:   0%|          | 0/79 [00:00<?, ?it/s]"
      ]
     },
     "metadata": {},
     "output_type": "display_data"
    },
    {
     "name": "stdout",
     "output_type": "stream",
     "text": [
      "... done! Accuracy: 18.19%\n",
      "\n",
      "\n",
      "Testing the model under FGSM Attack using epsilon = 0.35, alpha = None...\n"
     ]
    },
    {
     "data": {
      "application/vnd.jupyter.widget-view+json": {
       "model_id": "96e56324e305474ca9fae4cd9e2f443b",
       "version_major": 2,
       "version_minor": 0
      },
      "text/plain": [
       "FGSM Attack Testing Progress:   0%|          | 0/79 [00:00<?, ?it/s]"
      ]
     },
     "metadata": {},
     "output_type": "display_data"
    },
    {
     "name": "stdout",
     "output_type": "stream",
     "text": [
      "... done! Accuracy: 5.15%\n",
      "\n",
      "\n",
      "Testing the model under FGSM Attack using epsilon = 0.55, alpha = None...\n"
     ]
    },
    {
     "data": {
      "application/vnd.jupyter.widget-view+json": {
       "model_id": "0c5555da802f424da36d51a9312bf43c",
       "version_major": 2,
       "version_minor": 0
      },
      "text/plain": [
       "FGSM Attack Testing Progress:   0%|          | 0/79 [00:00<?, ?it/s]"
      ]
     },
     "metadata": {},
     "output_type": "display_data"
    },
    {
     "name": "stdout",
     "output_type": "stream",
     "text": [
      "... done! Accuracy: 6.1%\n",
      "\n",
      "\n",
      "Testing the model under FGSM Attack using epsilon = 0.75, alpha = None...\n"
     ]
    },
    {
     "data": {
      "application/vnd.jupyter.widget-view+json": {
       "model_id": "586daf9dbdf84e6f85818bcb0d9c57ad",
       "version_major": 2,
       "version_minor": 0
      },
      "text/plain": [
       "FGSM Attack Testing Progress:   0%|          | 0/79 [00:00<?, ?it/s]"
      ]
     },
     "metadata": {},
     "output_type": "display_data"
    },
    {
     "name": "stdout",
     "output_type": "stream",
     "text": [
      "... done! Accuracy: 7.77%\n",
      "\n",
      "\n",
      "Testing the model under FGSM Attack using epsilon = 1, alpha = None...\n"
     ]
    },
    {
     "data": {
      "application/vnd.jupyter.widget-view+json": {
       "model_id": "d90c017daa7e4769bfdea1469cc89d65",
       "version_major": 2,
       "version_minor": 0
      },
      "text/plain": [
       "FGSM Attack Testing Progress:   0%|          | 0/79 [00:00<?, ?it/s]"
      ]
     },
     "metadata": {},
     "output_type": "display_data"
    },
    {
     "name": "stdout",
     "output_type": "stream",
     "text": [
      "... done! Accuracy: 9.0%\n",
      "\n",
      "\n"
     ]
    }
   ],
   "source": [
    "# Run test for each epsilon\n",
    "for epsilon in epsilons:\n",
    "    attacking.attack_model(\n",
    "        jacobian_model,\n",
    "        testSetLoader,\n",
    "        \"FGSM\",\n",
    "        attacks[\"FGSM\"],\n",
    "        epsilon=epsilon,\n",
    "    )"
   ]
  },
  {
   "cell_type": "code",
   "execution_count": 73,
   "metadata": {},
   "outputs": [],
   "source": [
    "# Several values to use for the epsilons\n",
    "epsilons = [0, 4 / 255, 0.05, 0.1, 0.2, 0.35, 0.55, 0.75, 1]"
   ]
  },
  {
   "cell_type": "code",
   "execution_count": 74,
   "metadata": {},
   "outputs": [
    {
     "name": "stdout",
     "output_type": "stream",
     "text": [
      "Testing the model under PGD Attack using epsilon = 0, alpha = 0.00784313725490196...\n"
     ]
    },
    {
     "data": {
      "application/vnd.jupyter.widget-view+json": {
       "model_id": "1ed5d817c0b34e77abc8f57f8622356e",
       "version_major": 2,
       "version_minor": 0
      },
      "text/plain": [
       "PGD Attack Testing Progress:   0%|          | 0/79 [00:00<?, ?it/s]"
      ]
     },
     "metadata": {},
     "output_type": "display_data"
    },
    {
     "name": "stdout",
     "output_type": "stream",
     "text": [
      "... done! Accuracy: 89.37%\n",
      "\n",
      "\n",
      "Testing the model under PGD Attack using epsilon = 0.01568627450980392, alpha = 0.00784313725490196...\n"
     ]
    },
    {
     "data": {
      "application/vnd.jupyter.widget-view+json": {
       "model_id": "ea2bb4eab2d248a6b20da6722034d049",
       "version_major": 2,
       "version_minor": 0
      },
      "text/plain": [
       "PGD Attack Testing Progress:   0%|          | 0/79 [00:00<?, ?it/s]"
      ]
     },
     "metadata": {},
     "output_type": "display_data"
    },
    {
     "name": "stdout",
     "output_type": "stream",
     "text": [
      "... done! Accuracy: 83.46%\n",
      "\n",
      "\n",
      "Testing the model under PGD Attack using epsilon = 0.05, alpha = 0.00784313725490196...\n"
     ]
    },
    {
     "data": {
      "application/vnd.jupyter.widget-view+json": {
       "model_id": "13aab91662f546658ba0ea9b76fb8ca5",
       "version_major": 2,
       "version_minor": 0
      },
      "text/plain": [
       "PGD Attack Testing Progress:   0%|          | 0/79 [00:00<?, ?it/s]"
      ]
     },
     "metadata": {},
     "output_type": "display_data"
    },
    {
     "name": "stdout",
     "output_type": "stream",
     "text": [
      "... done! Accuracy: 70.72%\n",
      "\n",
      "\n",
      "Testing the model under PGD Attack using epsilon = 0.1, alpha = 0.00784313725490196...\n"
     ]
    },
    {
     "data": {
      "application/vnd.jupyter.widget-view+json": {
       "model_id": "d1ba014be63c465d8a5295442d9a7713",
       "version_major": 2,
       "version_minor": 0
      },
      "text/plain": [
       "PGD Attack Testing Progress:   0%|          | 0/79 [00:00<?, ?it/s]"
      ]
     },
     "metadata": {},
     "output_type": "display_data"
    },
    {
     "name": "stdout",
     "output_type": "stream",
     "text": [
      "... done! Accuracy: 63.55%\n",
      "\n",
      "\n",
      "Testing the model under PGD Attack using epsilon = 0.2, alpha = 0.00784313725490196...\n"
     ]
    },
    {
     "data": {
      "application/vnd.jupyter.widget-view+json": {
       "model_id": "24b214ca8a2e4ccf9c7d580b7abf8d02",
       "version_major": 2,
       "version_minor": 0
      },
      "text/plain": [
       "PGD Attack Testing Progress:   0%|          | 0/79 [00:00<?, ?it/s]"
      ]
     },
     "metadata": {},
     "output_type": "display_data"
    },
    {
     "name": "stdout",
     "output_type": "stream",
     "text": [
      "... done! Accuracy: 56.17%\n",
      "\n",
      "\n",
      "Testing the model under PGD Attack using epsilon = 0.35, alpha = 0.00784313725490196...\n"
     ]
    },
    {
     "data": {
      "application/vnd.jupyter.widget-view+json": {
       "model_id": "230fb8a774904eac93fdf93986aa1790",
       "version_major": 2,
       "version_minor": 0
      },
      "text/plain": [
       "PGD Attack Testing Progress:   0%|          | 0/79 [00:00<?, ?it/s]"
      ]
     },
     "metadata": {},
     "output_type": "display_data"
    },
    {
     "name": "stdout",
     "output_type": "stream",
     "text": [
      "... done! Accuracy: 45.93%\n",
      "\n",
      "\n",
      "Testing the model under PGD Attack using epsilon = 0.55, alpha = 0.00784313725490196...\n"
     ]
    },
    {
     "data": {
      "application/vnd.jupyter.widget-view+json": {
       "model_id": "3c66e5fe9e5c4df8aa07e0f5a98c0784",
       "version_major": 2,
       "version_minor": 0
      },
      "text/plain": [
       "PGD Attack Testing Progress:   0%|          | 0/79 [00:00<?, ?it/s]"
      ]
     },
     "metadata": {},
     "output_type": "display_data"
    },
    {
     "name": "stdout",
     "output_type": "stream",
     "text": [
      "... done! Accuracy: 25.25%\n",
      "\n",
      "\n",
      "Testing the model under PGD Attack using epsilon = 0.75, alpha = 0.00784313725490196...\n"
     ]
    },
    {
     "data": {
      "application/vnd.jupyter.widget-view+json": {
       "model_id": "5c27df0f302643549941a73bf8228731",
       "version_major": 2,
       "version_minor": 0
      },
      "text/plain": [
       "PGD Attack Testing Progress:   0%|          | 0/79 [00:00<?, ?it/s]"
      ]
     },
     "metadata": {},
     "output_type": "display_data"
    },
    {
     "name": "stdout",
     "output_type": "stream",
     "text": [
      "... done! Accuracy: 11.87%\n",
      "\n",
      "\n",
      "Testing the model under PGD Attack using epsilon = 1, alpha = 0.00784313725490196...\n"
     ]
    },
    {
     "data": {
      "application/vnd.jupyter.widget-view+json": {
       "model_id": "b70308b5f75444a89e530eb79971d8c7",
       "version_major": 2,
       "version_minor": 0
      },
      "text/plain": [
       "PGD Attack Testing Progress:   0%|          | 0/79 [00:00<?, ?it/s]"
      ]
     },
     "metadata": {},
     "output_type": "display_data"
    },
    {
     "name": "stdout",
     "output_type": "stream",
     "text": [
      "... done! Accuracy: 8.05%\n",
      "\n",
      "\n"
     ]
    }
   ],
   "source": [
    "for epsilon in epsilons:\n",
    "    attacking.attack_model(\n",
    "        jacobian_model,\n",
    "        testSetLoader,\n",
    "        \"PGD\",\n",
    "        attacks[\"PGD\"],\n",
    "        epsilon=epsilon,\n",
    "        alpha=(2 / 255),\n",
    "        iterations=7,\n",
    "    )"
   ]
  },
  {
   "cell_type": "code",
   "execution_count": 75,
   "metadata": {},
   "outputs": [],
   "source": [
    "deepfool_attack = torchattacks.DeepFool(jacobian_model)\n",
    "\n",
    "attacks[\"DeepFool\"] = deepfool_attack"
   ]
  },
  {
   "cell_type": "code",
   "execution_count": 76,
   "metadata": {},
   "outputs": [
    {
     "name": "stdout",
     "output_type": "stream",
     "text": [
      "Testing the model under DeepFool Attack...\n"
     ]
    },
    {
     "data": {
      "application/vnd.jupyter.widget-view+json": {
       "model_id": "6399c14edf0340bd8b00048bc0e36c75",
       "version_major": 2,
       "version_minor": 0
      },
      "text/plain": [
       "DeepFool Attack Testing Progress:   0%|          | 0/79 [00:00<?, ?it/s]"
      ]
     },
     "metadata": {},
     "output_type": "display_data"
    },
    {
     "name": "stdout",
     "output_type": "stream",
     "text": [
      "... done! Accuracy: 0.16%\n",
      "\n",
      "\n"
     ]
    }
   ],
   "source": [
    "attacking.attack_model(\n",
    "    jacobian_model,\n",
    "    testSetLoader,\n",
    "    \"DeepFool\",\n",
    "    attacks[\"DeepFool\"],\n",
    "    library=True,\n",
    ")"
   ]
  },
  {
   "cell_type": "code",
   "execution_count": 77,
   "metadata": {},
   "outputs": [],
   "source": [
    "cw_attack = torchattacks.CW(jacobian_model, c=20)\n",
    "\n",
    "attacks[\"CW\"] = cw_attack"
   ]
  },
  {
   "cell_type": "code",
   "execution_count": 78,
   "metadata": {},
   "outputs": [
    {
     "name": "stdout",
     "output_type": "stream",
     "text": [
      "Testing the model under CW Attack...\n"
     ]
    },
    {
     "data": {
      "application/vnd.jupyter.widget-view+json": {
       "model_id": "0ce89b38382247f984fe91eb224f7acf",
       "version_major": 2,
       "version_minor": 0
      },
      "text/plain": [
       "CW Attack Testing Progress:   0%|          | 0/79 [00:00<?, ?it/s]"
      ]
     },
     "metadata": {},
     "output_type": "display_data"
    },
    {
     "name": "stdout",
     "output_type": "stream",
     "text": [
      "... done! Accuracy: 0.04%\n",
      "\n",
      "\n"
     ]
    }
   ],
   "source": [
    "attacking.attack_model(\n",
    "    jacobian_model,\n",
    "    testSetLoader,\n",
    "    \"CW\",\n",
    "    attacks[\"CW\"],\n",
    "    library=True,\n",
    ")"
   ]
  },
  {
   "cell_type": "markdown",
   "metadata": {
    "tags": []
   },
   "source": [
    "## ALP Training"
   ]
  },
  {
   "cell_type": "code",
   "execution_count": 79,
   "metadata": {},
   "outputs": [
    {
     "name": "stdout",
     "output_type": "stream",
     "text": [
      "Found already trained model...\n",
      "... loaded!\n",
      "... done!\n"
     ]
    }
   ],
   "source": [
    "alp_model = fashion_mnist.ALP_training(\n",
    "    trainSetLoader,\n",
    "    \"PGD\",\n",
    "    attacks[\"PGD\"],\n",
    "    load_if_available=True,\n",
    "    load_path=SAVE_LOAD_ROOT + \"/fashion_mnist_alp\",\n",
    "    epsilon=0.45,\n",
    "    alpha=(2 / 255),\n",
    "    iterations=7,\n",
    ")"
   ]
  },
  {
   "cell_type": "code",
   "execution_count": 80,
   "metadata": {},
   "outputs": [
    {
     "name": "stdout",
     "output_type": "stream",
     "text": [
      "Testing the model...\n"
     ]
    },
    {
     "data": {
      "application/vnd.jupyter.widget-view+json": {
       "model_id": "dd4f5713752646b78329f121bbbb9284",
       "version_major": 2,
       "version_minor": 0
      },
      "text/plain": [
       "Testing Progress:   0%|          | 0/79 [00:00<?, ?it/s]"
      ]
     },
     "metadata": {},
     "output_type": "display_data"
    },
    {
     "name": "stdout",
     "output_type": "stream",
     "text": [
      "... done! Accuracy: 90.38%\n"
     ]
    }
   ],
   "source": [
    "clean_test.test_trained_model(alp_model, testSetLoader)"
   ]
  },
  {
   "cell_type": "code",
   "execution_count": 81,
   "metadata": {},
   "outputs": [],
   "source": [
    "# Save the model\n",
    "torch.save(alp_model, SAVE_LOAD_ROOT + \"/fashion_mnist_alp\")"
   ]
  },
  {
   "cell_type": "code",
   "execution_count": 82,
   "metadata": {},
   "outputs": [],
   "source": [
    "# Several values to use for the epsilons\n",
    "epsilons = [0, 0.05, 0.1, 0.2, 0.35, 0.55, 0.75, 1]"
   ]
  },
  {
   "cell_type": "code",
   "execution_count": 83,
   "metadata": {},
   "outputs": [
    {
     "name": "stdout",
     "output_type": "stream",
     "text": [
      "Testing the model under FGSM Attack using epsilon = 0, alpha = None...\n"
     ]
    },
    {
     "data": {
      "application/vnd.jupyter.widget-view+json": {
       "model_id": "44d8896d6687413d97cbbe6a3e60f575",
       "version_major": 2,
       "version_minor": 0
      },
      "text/plain": [
       "FGSM Attack Testing Progress:   0%|          | 0/79 [00:00<?, ?it/s]"
      ]
     },
     "metadata": {},
     "output_type": "display_data"
    },
    {
     "name": "stdout",
     "output_type": "stream",
     "text": [
      "... done! Accuracy: 90.38%\n",
      "\n",
      "\n",
      "Testing the model under FGSM Attack using epsilon = 0.05, alpha = None...\n"
     ]
    },
    {
     "data": {
      "application/vnd.jupyter.widget-view+json": {
       "model_id": "d5aabebc7d274c27a1769e72c8e29ad3",
       "version_major": 2,
       "version_minor": 0
      },
      "text/plain": [
       "FGSM Attack Testing Progress:   0%|          | 0/79 [00:00<?, ?it/s]"
      ]
     },
     "metadata": {},
     "output_type": "display_data"
    },
    {
     "name": "stdout",
     "output_type": "stream",
     "text": [
      "... done! Accuracy: 66.31%\n",
      "\n",
      "\n",
      "Testing the model under FGSM Attack using epsilon = 0.1, alpha = None...\n"
     ]
    },
    {
     "data": {
      "application/vnd.jupyter.widget-view+json": {
       "model_id": "b5141cf8d8be47709df58e26891233ae",
       "version_major": 2,
       "version_minor": 0
      },
      "text/plain": [
       "FGSM Attack Testing Progress:   0%|          | 0/79 [00:00<?, ?it/s]"
      ]
     },
     "metadata": {},
     "output_type": "display_data"
    },
    {
     "name": "stdout",
     "output_type": "stream",
     "text": [
      "... done! Accuracy: 50.29%\n",
      "\n",
      "\n",
      "Testing the model under FGSM Attack using epsilon = 0.2, alpha = None...\n"
     ]
    },
    {
     "data": {
      "application/vnd.jupyter.widget-view+json": {
       "model_id": "c5f3394daa24463f927ef138f3503eb5",
       "version_major": 2,
       "version_minor": 0
      },
      "text/plain": [
       "FGSM Attack Testing Progress:   0%|          | 0/79 [00:00<?, ?it/s]"
      ]
     },
     "metadata": {},
     "output_type": "display_data"
    },
    {
     "name": "stdout",
     "output_type": "stream",
     "text": [
      "... done! Accuracy: 31.39%\n",
      "\n",
      "\n",
      "Testing the model under FGSM Attack using epsilon = 0.35, alpha = None...\n"
     ]
    },
    {
     "data": {
      "application/vnd.jupyter.widget-view+json": {
       "model_id": "a701ba934fb74c448adb2bd0f993ba4d",
       "version_major": 2,
       "version_minor": 0
      },
      "text/plain": [
       "FGSM Attack Testing Progress:   0%|          | 0/79 [00:00<?, ?it/s]"
      ]
     },
     "metadata": {},
     "output_type": "display_data"
    },
    {
     "name": "stdout",
     "output_type": "stream",
     "text": [
      "... done! Accuracy: 13.88%\n",
      "\n",
      "\n",
      "Testing the model under FGSM Attack using epsilon = 0.55, alpha = None...\n"
     ]
    },
    {
     "data": {
      "application/vnd.jupyter.widget-view+json": {
       "model_id": "94a1efb8d67d4391b44e1228db804a42",
       "version_major": 2,
       "version_minor": 0
      },
      "text/plain": [
       "FGSM Attack Testing Progress:   0%|          | 0/79 [00:00<?, ?it/s]"
      ]
     },
     "metadata": {},
     "output_type": "display_data"
    },
    {
     "name": "stdout",
     "output_type": "stream",
     "text": [
      "... done! Accuracy: 4.66%\n",
      "\n",
      "\n",
      "Testing the model under FGSM Attack using epsilon = 0.75, alpha = None...\n"
     ]
    },
    {
     "data": {
      "application/vnd.jupyter.widget-view+json": {
       "model_id": "be28f64c46cd40b394c2e1a724a21905",
       "version_major": 2,
       "version_minor": 0
      },
      "text/plain": [
       "FGSM Attack Testing Progress:   0%|          | 0/79 [00:00<?, ?it/s]"
      ]
     },
     "metadata": {},
     "output_type": "display_data"
    },
    {
     "name": "stdout",
     "output_type": "stream",
     "text": [
      "... done! Accuracy: 3.87%\n",
      "\n",
      "\n",
      "Testing the model under FGSM Attack using epsilon = 1, alpha = None...\n"
     ]
    },
    {
     "data": {
      "application/vnd.jupyter.widget-view+json": {
       "model_id": "2153547bf3f44b7cbfb78287cca14343",
       "version_major": 2,
       "version_minor": 0
      },
      "text/plain": [
       "FGSM Attack Testing Progress:   0%|          | 0/79 [00:00<?, ?it/s]"
      ]
     },
     "metadata": {},
     "output_type": "display_data"
    },
    {
     "name": "stdout",
     "output_type": "stream",
     "text": [
      "... done! Accuracy: 4.35%\n",
      "\n",
      "\n"
     ]
    }
   ],
   "source": [
    "# Run test for each epsilon\n",
    "for epsilon in epsilons:\n",
    "    attacking.attack_model(\n",
    "        alp_model,\n",
    "        testSetLoader,\n",
    "        \"FGSM\",\n",
    "        attacks[\"FGSM\"],\n",
    "        epsilon=epsilon,\n",
    "    )"
   ]
  },
  {
   "cell_type": "code",
   "execution_count": 84,
   "metadata": {},
   "outputs": [],
   "source": [
    "# Several values to use for the epsilons\n",
    "epsilons = [0, 4 / 255, 0.05, 0.1, 0.2, 0.35, 0.55, 0.75, 1]"
   ]
  },
  {
   "cell_type": "code",
   "execution_count": 85,
   "metadata": {},
   "outputs": [
    {
     "name": "stdout",
     "output_type": "stream",
     "text": [
      "Testing the model under PGD Attack using epsilon = 0, alpha = 0.00784313725490196...\n"
     ]
    },
    {
     "data": {
      "application/vnd.jupyter.widget-view+json": {
       "model_id": "c2264aa922264fef876793d99f06fa30",
       "version_major": 2,
       "version_minor": 0
      },
      "text/plain": [
       "PGD Attack Testing Progress:   0%|          | 0/79 [00:00<?, ?it/s]"
      ]
     },
     "metadata": {},
     "output_type": "display_data"
    },
    {
     "name": "stdout",
     "output_type": "stream",
     "text": [
      "... done! Accuracy: 90.38%\n",
      "\n",
      "\n",
      "Testing the model under PGD Attack using epsilon = 0.01568627450980392, alpha = 0.00784313725490196...\n"
     ]
    },
    {
     "data": {
      "application/vnd.jupyter.widget-view+json": {
       "model_id": "8753ab3773184c5ab9883b98d6879569",
       "version_major": 2,
       "version_minor": 0
      },
      "text/plain": [
       "PGD Attack Testing Progress:   0%|          | 0/79 [00:00<?, ?it/s]"
      ]
     },
     "metadata": {},
     "output_type": "display_data"
    },
    {
     "name": "stdout",
     "output_type": "stream",
     "text": [
      "... done! Accuracy: 83.36%\n",
      "\n",
      "\n",
      "Testing the model under PGD Attack using epsilon = 0.05, alpha = 0.00784313725490196...\n"
     ]
    },
    {
     "data": {
      "application/vnd.jupyter.widget-view+json": {
       "model_id": "9382b3906599494ea7f3ac5d3ace956e",
       "version_major": 2,
       "version_minor": 0
      },
      "text/plain": [
       "PGD Attack Testing Progress:   0%|          | 0/79 [00:00<?, ?it/s]"
      ]
     },
     "metadata": {},
     "output_type": "display_data"
    },
    {
     "name": "stdout",
     "output_type": "stream",
     "text": [
      "... done! Accuracy: 67.47%\n",
      "\n",
      "\n",
      "Testing the model under PGD Attack using epsilon = 0.1, alpha = 0.00784313725490196...\n"
     ]
    },
    {
     "data": {
      "application/vnd.jupyter.widget-view+json": {
       "model_id": "f433e11ee493494db7b210d500c25bfb",
       "version_major": 2,
       "version_minor": 0
      },
      "text/plain": [
       "PGD Attack Testing Progress:   0%|          | 0/79 [00:00<?, ?it/s]"
      ]
     },
     "metadata": {},
     "output_type": "display_data"
    },
    {
     "name": "stdout",
     "output_type": "stream",
     "text": [
      "... done! Accuracy: 62.61%\n",
      "\n",
      "\n",
      "Testing the model under PGD Attack using epsilon = 0.2, alpha = 0.00784313725490196...\n"
     ]
    },
    {
     "data": {
      "application/vnd.jupyter.widget-view+json": {
       "model_id": "c0b20e59d0e24a8e88785abc1c95efc5",
       "version_major": 2,
       "version_minor": 0
      },
      "text/plain": [
       "PGD Attack Testing Progress:   0%|          | 0/79 [00:00<?, ?it/s]"
      ]
     },
     "metadata": {},
     "output_type": "display_data"
    },
    {
     "name": "stdout",
     "output_type": "stream",
     "text": [
      "... done! Accuracy: 62.45%\n",
      "\n",
      "\n",
      "Testing the model under PGD Attack using epsilon = 0.35, alpha = 0.00784313725490196...\n"
     ]
    },
    {
     "data": {
      "application/vnd.jupyter.widget-view+json": {
       "model_id": "bf70ca0dacd6471fa5fcd2c372cf44ce",
       "version_major": 2,
       "version_minor": 0
      },
      "text/plain": [
       "PGD Attack Testing Progress:   0%|          | 0/79 [00:00<?, ?it/s]"
      ]
     },
     "metadata": {},
     "output_type": "display_data"
    },
    {
     "name": "stdout",
     "output_type": "stream",
     "text": [
      "... done! Accuracy: 65.4%\n",
      "\n",
      "\n",
      "Testing the model under PGD Attack using epsilon = 0.55, alpha = 0.00784313725490196...\n"
     ]
    },
    {
     "data": {
      "application/vnd.jupyter.widget-view+json": {
       "model_id": "50209ba0ef0846d0a4cc5bdc30312664",
       "version_major": 2,
       "version_minor": 0
      },
      "text/plain": [
       "PGD Attack Testing Progress:   0%|          | 0/79 [00:00<?, ?it/s]"
      ]
     },
     "metadata": {},
     "output_type": "display_data"
    },
    {
     "name": "stdout",
     "output_type": "stream",
     "text": [
      "... done! Accuracy: 63.49%\n",
      "\n",
      "\n",
      "Testing the model under PGD Attack using epsilon = 0.75, alpha = 0.00784313725490196...\n"
     ]
    },
    {
     "data": {
      "application/vnd.jupyter.widget-view+json": {
       "model_id": "a31cddb2f4e74675997001f91a9839a3",
       "version_major": 2,
       "version_minor": 0
      },
      "text/plain": [
       "PGD Attack Testing Progress:   0%|          | 0/79 [00:00<?, ?it/s]"
      ]
     },
     "metadata": {},
     "output_type": "display_data"
    },
    {
     "name": "stdout",
     "output_type": "stream",
     "text": [
      "... done! Accuracy: 47.39%\n",
      "\n",
      "\n",
      "Testing the model under PGD Attack using epsilon = 1, alpha = 0.00784313725490196...\n"
     ]
    },
    {
     "data": {
      "application/vnd.jupyter.widget-view+json": {
       "model_id": "182b8a5860884fbaa25ef1dda123c361",
       "version_major": 2,
       "version_minor": 0
      },
      "text/plain": [
       "PGD Attack Testing Progress:   0%|          | 0/79 [00:00<?, ?it/s]"
      ]
     },
     "metadata": {},
     "output_type": "display_data"
    },
    {
     "name": "stdout",
     "output_type": "stream",
     "text": [
      "... done! Accuracy: 19.3%\n",
      "\n",
      "\n"
     ]
    }
   ],
   "source": [
    "for epsilon in epsilons:\n",
    "    attacking.attack_model(\n",
    "        alp_model,\n",
    "        testSetLoader,\n",
    "        \"PGD\",\n",
    "        attacks[\"PGD\"],\n",
    "        epsilon=epsilon,\n",
    "        alpha=(2 / 255),\n",
    "        iterations=7,\n",
    "    )"
   ]
  },
  {
   "cell_type": "code",
   "execution_count": 86,
   "metadata": {},
   "outputs": [],
   "source": [
    "deepfool_attack = torchattacks.DeepFool(alp_model)\n",
    "\n",
    "attacks[\"DeepFool\"] = deepfool_attack"
   ]
  },
  {
   "cell_type": "code",
   "execution_count": 87,
   "metadata": {},
   "outputs": [
    {
     "name": "stdout",
     "output_type": "stream",
     "text": [
      "Testing the model under DeepFool Attack...\n"
     ]
    },
    {
     "data": {
      "application/vnd.jupyter.widget-view+json": {
       "model_id": "7c3d3086eff7448fb8c14bddaadcebb0",
       "version_major": 2,
       "version_minor": 0
      },
      "text/plain": [
       "DeepFool Attack Testing Progress:   0%|          | 0/79 [00:00<?, ?it/s]"
      ]
     },
     "metadata": {},
     "output_type": "display_data"
    },
    {
     "name": "stdout",
     "output_type": "stream",
     "text": [
      "... done! Accuracy: 0.2%\n",
      "\n",
      "\n"
     ]
    }
   ],
   "source": [
    "attacking.attack_model(\n",
    "    alp_model,\n",
    "    testSetLoader,\n",
    "    \"DeepFool\",\n",
    "    attacks[\"DeepFool\"],\n",
    "    library=True,\n",
    ")"
   ]
  },
  {
   "cell_type": "code",
   "execution_count": 88,
   "metadata": {},
   "outputs": [],
   "source": [
    "cw_attack = torchattacks.CW(alp_model, c=20)\n",
    "\n",
    "attacks[\"CW\"] = cw_attack"
   ]
  },
  {
   "cell_type": "code",
   "execution_count": null,
   "metadata": {},
   "outputs": [
    {
     "name": "stdout",
     "output_type": "stream",
     "text": [
      "Testing the model under CW Attack...\n"
     ]
    },
    {
     "data": {
      "application/vnd.jupyter.widget-view+json": {
       "model_id": "17feab98f4554253b14ca019ebc18600",
       "version_major": 2,
       "version_minor": 0
      },
      "text/plain": [
       "CW Attack Testing Progress:   0%|          | 0/79 [00:00<?, ?it/s]"
      ]
     },
     "metadata": {},
     "output_type": "display_data"
    }
   ],
   "source": [
    "attacking.attack_model(\n",
    "    alp_model,\n",
    "    testSetLoader,\n",
    "    \"CW\",\n",
    "    attacks[\"CW\"],\n",
    "    library=True,\n",
    ")"
   ]
  }
 ],
 "metadata": {
  "accelerator": "GPU",
  "colab": {
   "authorship_tag": "ABX9TyPzN3Bw+2H0/4EWj/fHgnE3",
   "collapsed_sections": [],
   "name": "Adversarial MNIST.ipynb",
   "provenance": []
  },
  "kernelspec": {
   "display_name": "Python 3 (ipykernel)",
   "language": "python",
   "name": "python3"
  },
  "language_info": {
   "codemirror_mode": {
    "name": "ipython",
    "version": 3
   },
   "file_extension": ".py",
   "mimetype": "text/x-python",
   "name": "python",
   "nbconvert_exporter": "python",
   "pygments_lexer": "ipython3",
   "version": "3.8.10"
  },
  "widgets": {
   "application/vnd.jupyter.widget-state+json": {
    "03093208c010497cb28b53aaf5567fe5": {
     "model_module": "@jupyter-widgets/controls",
     "model_module_version": "1.5.0",
     "model_name": "ProgressStyleModel",
     "state": {
      "_model_module": "@jupyter-widgets/controls",
      "_model_module_version": "1.5.0",
      "_model_name": "ProgressStyleModel",
      "_view_count": null,
      "_view_module": "@jupyter-widgets/base",
      "_view_module_version": "1.2.0",
      "_view_name": "StyleView",
      "bar_color": null,
      "description_width": ""
     }
    },
    "10191ec78d394884885e940e00d40a1f": {
     "model_module": "@jupyter-widgets/controls",
     "model_module_version": "1.5.0",
     "model_name": "ProgressStyleModel",
     "state": {
      "_model_module": "@jupyter-widgets/controls",
      "_model_module_version": "1.5.0",
      "_model_name": "ProgressStyleModel",
      "_view_count": null,
      "_view_module": "@jupyter-widgets/base",
      "_view_module_version": "1.2.0",
      "_view_name": "StyleView",
      "bar_color": null,
      "description_width": ""
     }
    },
    "126fc3c44d3f46f898c8b3bf600094f4": {
     "model_module": "@jupyter-widgets/controls",
     "model_module_version": "1.5.0",
     "model_name": "DescriptionStyleModel",
     "state": {
      "_model_module": "@jupyter-widgets/controls",
      "_model_module_version": "1.5.0",
      "_model_name": "DescriptionStyleModel",
      "_view_count": null,
      "_view_module": "@jupyter-widgets/base",
      "_view_module_version": "1.2.0",
      "_view_name": "StyleView",
      "description_width": ""
     }
    },
    "1c9fa43ebec94ab2ab720419a7f3bd2a": {
     "model_module": "@jupyter-widgets/controls",
     "model_module_version": "1.5.0",
     "model_name": "ProgressStyleModel",
     "state": {
      "_model_module": "@jupyter-widgets/controls",
      "_model_module_version": "1.5.0",
      "_model_name": "ProgressStyleModel",
      "_view_count": null,
      "_view_module": "@jupyter-widgets/base",
      "_view_module_version": "1.2.0",
      "_view_name": "StyleView",
      "bar_color": null,
      "description_width": ""
     }
    },
    "21277fa1897447848c38bae209150f7b": {
     "model_module": "@jupyter-widgets/controls",
     "model_module_version": "1.5.0",
     "model_name": "DescriptionStyleModel",
     "state": {
      "_model_module": "@jupyter-widgets/controls",
      "_model_module_version": "1.5.0",
      "_model_name": "DescriptionStyleModel",
      "_view_count": null,
      "_view_module": "@jupyter-widgets/base",
      "_view_module_version": "1.2.0",
      "_view_name": "StyleView",
      "description_width": ""
     }
    },
    "22df7aa9d18b45f89d657a7dd8444c3e": {
     "model_module": "@jupyter-widgets/controls",
     "model_module_version": "1.5.0",
     "model_name": "FloatProgressModel",
     "state": {
      "_dom_classes": [],
      "_model_module": "@jupyter-widgets/controls",
      "_model_module_version": "1.5.0",
      "_model_name": "FloatProgressModel",
      "_view_count": null,
      "_view_module": "@jupyter-widgets/controls",
      "_view_module_version": "1.5.0",
      "_view_name": "ProgressView",
      "bar_style": "success",
      "description": "",
      "description_tooltip": null,
      "layout": "IPY_MODEL_4426ea90f19044e795ba5854f6e2f487",
      "max": 4542,
      "min": 0,
      "orientation": "horizontal",
      "style": "IPY_MODEL_1c9fa43ebec94ab2ab720419a7f3bd2a",
      "value": 4542
     }
    },
    "2464214dfbaa4cbdb54bcd7b8a27b9be": {
     "model_module": "@jupyter-widgets/controls",
     "model_module_version": "1.5.0",
     "model_name": "DescriptionStyleModel",
     "state": {
      "_model_module": "@jupyter-widgets/controls",
      "_model_module_version": "1.5.0",
      "_model_name": "DescriptionStyleModel",
      "_view_count": null,
      "_view_module": "@jupyter-widgets/base",
      "_view_module_version": "1.2.0",
      "_view_name": "StyleView",
      "description_width": ""
     }
    },
    "28439d79174a48f6a081a0c02ea29cb8": {
     "model_module": "@jupyter-widgets/controls",
     "model_module_version": "1.5.0",
     "model_name": "HTMLModel",
     "state": {
      "_dom_classes": [],
      "_model_module": "@jupyter-widgets/controls",
      "_model_module_version": "1.5.0",
      "_model_name": "HTMLModel",
      "_view_count": null,
      "_view_module": "@jupyter-widgets/controls",
      "_view_module_version": "1.5.0",
      "_view_name": "HTMLView",
      "description": "",
      "description_tooltip": null,
      "layout": "IPY_MODEL_fde66053bfce4da0a4d0c789d713dc8b",
      "placeholder": "​",
      "style": "IPY_MODEL_d2a9e211e3c84ed5a0e8b98851427579",
      "value": ""
     }
    },
    "2999b0a601734192b76870dc0a25fcab": {
     "model_module": "@jupyter-widgets/base",
     "model_module_version": "1.2.0",
     "model_name": "LayoutModel",
     "state": {
      "_model_module": "@jupyter-widgets/base",
      "_model_module_version": "1.2.0",
      "_model_name": "LayoutModel",
      "_view_count": null,
      "_view_module": "@jupyter-widgets/base",
      "_view_module_version": "1.2.0",
      "_view_name": "LayoutView",
      "align_content": null,
      "align_items": null,
      "align_self": null,
      "border": null,
      "bottom": null,
      "display": null,
      "flex": null,
      "flex_flow": null,
      "grid_area": null,
      "grid_auto_columns": null,
      "grid_auto_flow": null,
      "grid_auto_rows": null,
      "grid_column": null,
      "grid_gap": null,
      "grid_row": null,
      "grid_template_areas": null,
      "grid_template_columns": null,
      "grid_template_rows": null,
      "height": null,
      "justify_content": null,
      "justify_items": null,
      "left": null,
      "margin": null,
      "max_height": null,
      "max_width": null,
      "min_height": null,
      "min_width": null,
      "object_fit": null,
      "object_position": null,
      "order": null,
      "overflow": null,
      "overflow_x": null,
      "overflow_y": null,
      "padding": null,
      "right": null,
      "top": null,
      "visibility": null,
      "width": null
     }
    },
    "2bde5291a62c4efa82207e935afd86c5": {
     "model_module": "@jupyter-widgets/controls",
     "model_module_version": "1.5.0",
     "model_name": "HTMLModel",
     "state": {
      "_dom_classes": [],
      "_model_module": "@jupyter-widgets/controls",
      "_model_module_version": "1.5.0",
      "_model_name": "HTMLModel",
      "_view_count": null,
      "_view_module": "@jupyter-widgets/controls",
      "_view_module_version": "1.5.0",
      "_view_name": "HTMLView",
      "description": "",
      "description_tooltip": null,
      "layout": "IPY_MODEL_2999b0a601734192b76870dc0a25fcab",
      "placeholder": "​",
      "style": "IPY_MODEL_2464214dfbaa4cbdb54bcd7b8a27b9be",
      "value": " 9913344/? [00:00&lt;00:00, 50510403.86it/s]"
     }
    },
    "2df63f9b2e904c9190c0a3722de4bdd9": {
     "model_module": "@jupyter-widgets/base",
     "model_module_version": "1.2.0",
     "model_name": "LayoutModel",
     "state": {
      "_model_module": "@jupyter-widgets/base",
      "_model_module_version": "1.2.0",
      "_model_name": "LayoutModel",
      "_view_count": null,
      "_view_module": "@jupyter-widgets/base",
      "_view_module_version": "1.2.0",
      "_view_name": "LayoutView",
      "align_content": null,
      "align_items": null,
      "align_self": null,
      "border": null,
      "bottom": null,
      "display": null,
      "flex": null,
      "flex_flow": null,
      "grid_area": null,
      "grid_auto_columns": null,
      "grid_auto_flow": null,
      "grid_auto_rows": null,
      "grid_column": null,
      "grid_gap": null,
      "grid_row": null,
      "grid_template_areas": null,
      "grid_template_columns": null,
      "grid_template_rows": null,
      "height": null,
      "justify_content": null,
      "justify_items": null,
      "left": null,
      "margin": null,
      "max_height": null,
      "max_width": null,
      "min_height": null,
      "min_width": null,
      "object_fit": null,
      "object_position": null,
      "order": null,
      "overflow": null,
      "overflow_x": null,
      "overflow_y": null,
      "padding": null,
      "right": null,
      "top": null,
      "visibility": null,
      "width": null
     }
    },
    "3037d9658fe540a0896d1681fffb5c4e": {
     "model_module": "@jupyter-widgets/controls",
     "model_module_version": "1.5.0",
     "model_name": "HBoxModel",
     "state": {
      "_dom_classes": [],
      "_model_module": "@jupyter-widgets/controls",
      "_model_module_version": "1.5.0",
      "_model_name": "HBoxModel",
      "_view_count": null,
      "_view_module": "@jupyter-widgets/controls",
      "_view_module_version": "1.5.0",
      "_view_name": "HBoxView",
      "box_style": "",
      "children": [
       "IPY_MODEL_b0a967a9f7f847068696bc7e30cd06c8",
       "IPY_MODEL_656226e46f8f47f1ba4473e7e0863a2e",
       "IPY_MODEL_2bde5291a62c4efa82207e935afd86c5"
      ],
      "layout": "IPY_MODEL_6129a7569fdd482d84097052d97e71d2"
     }
    },
    "3811fa19b04e48b9951c0aba81a44a21": {
     "model_module": "@jupyter-widgets/controls",
     "model_module_version": "1.5.0",
     "model_name": "FloatProgressModel",
     "state": {
      "_dom_classes": [],
      "_model_module": "@jupyter-widgets/controls",
      "_model_module_version": "1.5.0",
      "_model_name": "FloatProgressModel",
      "_view_count": null,
      "_view_module": "@jupyter-widgets/controls",
      "_view_module_version": "1.5.0",
      "_view_name": "ProgressView",
      "bar_style": "success",
      "description": "",
      "description_tooltip": null,
      "layout": "IPY_MODEL_af99f0b1fc084117a714bf55d56269c1",
      "max": 1648877,
      "min": 0,
      "orientation": "horizontal",
      "style": "IPY_MODEL_03093208c010497cb28b53aaf5567fe5",
      "value": 1648877
     }
    },
    "39216ac4fbd14078af8326c11b6f4682": {
     "model_module": "@jupyter-widgets/base",
     "model_module_version": "1.2.0",
     "model_name": "LayoutModel",
     "state": {
      "_model_module": "@jupyter-widgets/base",
      "_model_module_version": "1.2.0",
      "_model_name": "LayoutModel",
      "_view_count": null,
      "_view_module": "@jupyter-widgets/base",
      "_view_module_version": "1.2.0",
      "_view_name": "LayoutView",
      "align_content": null,
      "align_items": null,
      "align_self": null,
      "border": null,
      "bottom": null,
      "display": null,
      "flex": null,
      "flex_flow": null,
      "grid_area": null,
      "grid_auto_columns": null,
      "grid_auto_flow": null,
      "grid_auto_rows": null,
      "grid_column": null,
      "grid_gap": null,
      "grid_row": null,
      "grid_template_areas": null,
      "grid_template_columns": null,
      "grid_template_rows": null,
      "height": null,
      "justify_content": null,
      "justify_items": null,
      "left": null,
      "margin": null,
      "max_height": null,
      "max_width": null,
      "min_height": null,
      "min_width": null,
      "object_fit": null,
      "object_position": null,
      "order": null,
      "overflow": null,
      "overflow_x": null,
      "overflow_y": null,
      "padding": null,
      "right": null,
      "top": null,
      "visibility": null,
      "width": null
     }
    },
    "40a2cee709004eeb95d5e6015f60077e": {
     "model_module": "@jupyter-widgets/controls",
     "model_module_version": "1.5.0",
     "model_name": "DescriptionStyleModel",
     "state": {
      "_model_module": "@jupyter-widgets/controls",
      "_model_module_version": "1.5.0",
      "_model_name": "DescriptionStyleModel",
      "_view_count": null,
      "_view_module": "@jupyter-widgets/base",
      "_view_module_version": "1.2.0",
      "_view_name": "StyleView",
      "description_width": ""
     }
    },
    "427b53ac5c904f74873f275ff68ed2cc": {
     "model_module": "@jupyter-widgets/base",
     "model_module_version": "1.2.0",
     "model_name": "LayoutModel",
     "state": {
      "_model_module": "@jupyter-widgets/base",
      "_model_module_version": "1.2.0",
      "_model_name": "LayoutModel",
      "_view_count": null,
      "_view_module": "@jupyter-widgets/base",
      "_view_module_version": "1.2.0",
      "_view_name": "LayoutView",
      "align_content": null,
      "align_items": null,
      "align_self": null,
      "border": null,
      "bottom": null,
      "display": null,
      "flex": null,
      "flex_flow": null,
      "grid_area": null,
      "grid_auto_columns": null,
      "grid_auto_flow": null,
      "grid_auto_rows": null,
      "grid_column": null,
      "grid_gap": null,
      "grid_row": null,
      "grid_template_areas": null,
      "grid_template_columns": null,
      "grid_template_rows": null,
      "height": null,
      "justify_content": null,
      "justify_items": null,
      "left": null,
      "margin": null,
      "max_height": null,
      "max_width": null,
      "min_height": null,
      "min_width": null,
      "object_fit": null,
      "object_position": null,
      "order": null,
      "overflow": null,
      "overflow_x": null,
      "overflow_y": null,
      "padding": null,
      "right": null,
      "top": null,
      "visibility": null,
      "width": null
     }
    },
    "4426ea90f19044e795ba5854f6e2f487": {
     "model_module": "@jupyter-widgets/base",
     "model_module_version": "1.2.0",
     "model_name": "LayoutModel",
     "state": {
      "_model_module": "@jupyter-widgets/base",
      "_model_module_version": "1.2.0",
      "_model_name": "LayoutModel",
      "_view_count": null,
      "_view_module": "@jupyter-widgets/base",
      "_view_module_version": "1.2.0",
      "_view_name": "LayoutView",
      "align_content": null,
      "align_items": null,
      "align_self": null,
      "border": null,
      "bottom": null,
      "display": null,
      "flex": null,
      "flex_flow": null,
      "grid_area": null,
      "grid_auto_columns": null,
      "grid_auto_flow": null,
      "grid_auto_rows": null,
      "grid_column": null,
      "grid_gap": null,
      "grid_row": null,
      "grid_template_areas": null,
      "grid_template_columns": null,
      "grid_template_rows": null,
      "height": null,
      "justify_content": null,
      "justify_items": null,
      "left": null,
      "margin": null,
      "max_height": null,
      "max_width": null,
      "min_height": null,
      "min_width": null,
      "object_fit": null,
      "object_position": null,
      "order": null,
      "overflow": null,
      "overflow_x": null,
      "overflow_y": null,
      "padding": null,
      "right": null,
      "top": null,
      "visibility": null,
      "width": null
     }
    },
    "467356bdd7344c5a89e00474f1394356": {
     "model_module": "@jupyter-widgets/controls",
     "model_module_version": "1.5.0",
     "model_name": "HTMLModel",
     "state": {
      "_dom_classes": [],
      "_model_module": "@jupyter-widgets/controls",
      "_model_module_version": "1.5.0",
      "_model_name": "HTMLModel",
      "_view_count": null,
      "_view_module": "@jupyter-widgets/controls",
      "_view_module_version": "1.5.0",
      "_view_name": "HTMLView",
      "description": "",
      "description_tooltip": null,
      "layout": "IPY_MODEL_427b53ac5c904f74873f275ff68ed2cc",
      "placeholder": "​",
      "style": "IPY_MODEL_40a2cee709004eeb95d5e6015f60077e",
      "value": " 5120/? [00:00&lt;00:00, 136835.56it/s]"
     }
    },
    "59210728e49b4168ae1e6aaff89e1695": {
     "model_module": "@jupyter-widgets/base",
     "model_module_version": "1.2.0",
     "model_name": "LayoutModel",
     "state": {
      "_model_module": "@jupyter-widgets/base",
      "_model_module_version": "1.2.0",
      "_model_name": "LayoutModel",
      "_view_count": null,
      "_view_module": "@jupyter-widgets/base",
      "_view_module_version": "1.2.0",
      "_view_name": "LayoutView",
      "align_content": null,
      "align_items": null,
      "align_self": null,
      "border": null,
      "bottom": null,
      "display": null,
      "flex": null,
      "flex_flow": null,
      "grid_area": null,
      "grid_auto_columns": null,
      "grid_auto_flow": null,
      "grid_auto_rows": null,
      "grid_column": null,
      "grid_gap": null,
      "grid_row": null,
      "grid_template_areas": null,
      "grid_template_columns": null,
      "grid_template_rows": null,
      "height": null,
      "justify_content": null,
      "justify_items": null,
      "left": null,
      "margin": null,
      "max_height": null,
      "max_width": null,
      "min_height": null,
      "min_width": null,
      "object_fit": null,
      "object_position": null,
      "order": null,
      "overflow": null,
      "overflow_x": null,
      "overflow_y": null,
      "padding": null,
      "right": null,
      "top": null,
      "visibility": null,
      "width": null
     }
    },
    "6129a7569fdd482d84097052d97e71d2": {
     "model_module": "@jupyter-widgets/base",
     "model_module_version": "1.2.0",
     "model_name": "LayoutModel",
     "state": {
      "_model_module": "@jupyter-widgets/base",
      "_model_module_version": "1.2.0",
      "_model_name": "LayoutModel",
      "_view_count": null,
      "_view_module": "@jupyter-widgets/base",
      "_view_module_version": "1.2.0",
      "_view_name": "LayoutView",
      "align_content": null,
      "align_items": null,
      "align_self": null,
      "border": null,
      "bottom": null,
      "display": null,
      "flex": null,
      "flex_flow": null,
      "grid_area": null,
      "grid_auto_columns": null,
      "grid_auto_flow": null,
      "grid_auto_rows": null,
      "grid_column": null,
      "grid_gap": null,
      "grid_row": null,
      "grid_template_areas": null,
      "grid_template_columns": null,
      "grid_template_rows": null,
      "height": null,
      "justify_content": null,
      "justify_items": null,
      "left": null,
      "margin": null,
      "max_height": null,
      "max_width": null,
      "min_height": null,
      "min_width": null,
      "object_fit": null,
      "object_position": null,
      "order": null,
      "overflow": null,
      "overflow_x": null,
      "overflow_y": null,
      "padding": null,
      "right": null,
      "top": null,
      "visibility": null,
      "width": null
     }
    },
    "656226e46f8f47f1ba4473e7e0863a2e": {
     "model_module": "@jupyter-widgets/controls",
     "model_module_version": "1.5.0",
     "model_name": "FloatProgressModel",
     "state": {
      "_dom_classes": [],
      "_model_module": "@jupyter-widgets/controls",
      "_model_module_version": "1.5.0",
      "_model_name": "FloatProgressModel",
      "_view_count": null,
      "_view_module": "@jupyter-widgets/controls",
      "_view_module_version": "1.5.0",
      "_view_name": "ProgressView",
      "bar_style": "success",
      "description": "",
      "description_tooltip": null,
      "layout": "IPY_MODEL_39216ac4fbd14078af8326c11b6f4682",
      "max": 9912422,
      "min": 0,
      "orientation": "horizontal",
      "style": "IPY_MODEL_10191ec78d394884885e940e00d40a1f",
      "value": 9912422
     }
    },
    "6c4e7c00b85942d6a461232261489e9a": {
     "model_module": "@jupyter-widgets/base",
     "model_module_version": "1.2.0",
     "model_name": "LayoutModel",
     "state": {
      "_model_module": "@jupyter-widgets/base",
      "_model_module_version": "1.2.0",
      "_model_name": "LayoutModel",
      "_view_count": null,
      "_view_module": "@jupyter-widgets/base",
      "_view_module_version": "1.2.0",
      "_view_name": "LayoutView",
      "align_content": null,
      "align_items": null,
      "align_self": null,
      "border": null,
      "bottom": null,
      "display": null,
      "flex": null,
      "flex_flow": null,
      "grid_area": null,
      "grid_auto_columns": null,
      "grid_auto_flow": null,
      "grid_auto_rows": null,
      "grid_column": null,
      "grid_gap": null,
      "grid_row": null,
      "grid_template_areas": null,
      "grid_template_columns": null,
      "grid_template_rows": null,
      "height": null,
      "justify_content": null,
      "justify_items": null,
      "left": null,
      "margin": null,
      "max_height": null,
      "max_width": null,
      "min_height": null,
      "min_width": null,
      "object_fit": null,
      "object_position": null,
      "order": null,
      "overflow": null,
      "overflow_x": null,
      "overflow_y": null,
      "padding": null,
      "right": null,
      "top": null,
      "visibility": null,
      "width": null
     }
    },
    "6cb708f12b354a76b7b971bbe2908e46": {
     "model_module": "@jupyter-widgets/base",
     "model_module_version": "1.2.0",
     "model_name": "LayoutModel",
     "state": {
      "_model_module": "@jupyter-widgets/base",
      "_model_module_version": "1.2.0",
      "_model_name": "LayoutModel",
      "_view_count": null,
      "_view_module": "@jupyter-widgets/base",
      "_view_module_version": "1.2.0",
      "_view_name": "LayoutView",
      "align_content": null,
      "align_items": null,
      "align_self": null,
      "border": null,
      "bottom": null,
      "display": null,
      "flex": null,
      "flex_flow": null,
      "grid_area": null,
      "grid_auto_columns": null,
      "grid_auto_flow": null,
      "grid_auto_rows": null,
      "grid_column": null,
      "grid_gap": null,
      "grid_row": null,
      "grid_template_areas": null,
      "grid_template_columns": null,
      "grid_template_rows": null,
      "height": null,
      "justify_content": null,
      "justify_items": null,
      "left": null,
      "margin": null,
      "max_height": null,
      "max_width": null,
      "min_height": null,
      "min_width": null,
      "object_fit": null,
      "object_position": null,
      "order": null,
      "overflow": null,
      "overflow_x": null,
      "overflow_y": null,
      "padding": null,
      "right": null,
      "top": null,
      "visibility": null,
      "width": null
     }
    },
    "754fa9a61d864b05aa730c373b8ad819": {
     "model_module": "@jupyter-widgets/controls",
     "model_module_version": "1.5.0",
     "model_name": "HBoxModel",
     "state": {
      "_dom_classes": [],
      "_model_module": "@jupyter-widgets/controls",
      "_model_module_version": "1.5.0",
      "_model_name": "HBoxModel",
      "_view_count": null,
      "_view_module": "@jupyter-widgets/controls",
      "_view_module_version": "1.5.0",
      "_view_name": "HBoxView",
      "box_style": "",
      "children": [
       "IPY_MODEL_28439d79174a48f6a081a0c02ea29cb8",
       "IPY_MODEL_3811fa19b04e48b9951c0aba81a44a21",
       "IPY_MODEL_ed00fe155e4a4b69a7ac09a3cc8de5d3"
      ],
      "layout": "IPY_MODEL_6cb708f12b354a76b7b971bbe2908e46"
     }
    },
    "7e64dfc5bd7f4c18bbf2776a39739db5": {
     "model_module": "@jupyter-widgets/controls",
     "model_module_version": "1.5.0",
     "model_name": "HTMLModel",
     "state": {
      "_dom_classes": [],
      "_model_module": "@jupyter-widgets/controls",
      "_model_module_version": "1.5.0",
      "_model_name": "HTMLModel",
      "_view_count": null,
      "_view_module": "@jupyter-widgets/controls",
      "_view_module_version": "1.5.0",
      "_view_name": "HTMLView",
      "description": "",
      "description_tooltip": null,
      "layout": "IPY_MODEL_e3c159f98ae846c48ee3aaf0c211a2a7",
      "placeholder": "​",
      "style": "IPY_MODEL_7f4899e86b8245049b04094f61a3c291",
      "value": " 29696/? [00:00&lt;00:00, 535322.63it/s]"
     }
    },
    "7f4899e86b8245049b04094f61a3c291": {
     "model_module": "@jupyter-widgets/controls",
     "model_module_version": "1.5.0",
     "model_name": "DescriptionStyleModel",
     "state": {
      "_model_module": "@jupyter-widgets/controls",
      "_model_module_version": "1.5.0",
      "_model_name": "DescriptionStyleModel",
      "_view_count": null,
      "_view_module": "@jupyter-widgets/base",
      "_view_module_version": "1.2.0",
      "_view_name": "StyleView",
      "description_width": ""
     }
    },
    "80ccb1e3a48847ae82278c01277ffc26": {
     "model_module": "@jupyter-widgets/controls",
     "model_module_version": "1.5.0",
     "model_name": "HBoxModel",
     "state": {
      "_dom_classes": [],
      "_model_module": "@jupyter-widgets/controls",
      "_model_module_version": "1.5.0",
      "_model_name": "HBoxModel",
      "_view_count": null,
      "_view_module": "@jupyter-widgets/controls",
      "_view_module_version": "1.5.0",
      "_view_name": "HBoxView",
      "box_style": "",
      "children": [
       "IPY_MODEL_fc9b1cb50d434bdb9e4b0420fc1d2568",
       "IPY_MODEL_22df7aa9d18b45f89d657a7dd8444c3e",
       "IPY_MODEL_467356bdd7344c5a89e00474f1394356"
      ],
      "layout": "IPY_MODEL_2df63f9b2e904c9190c0a3722de4bdd9"
     }
    },
    "8e21b9447577405ebcdd913b0b1e7bcb": {
     "model_module": "@jupyter-widgets/controls",
     "model_module_version": "1.5.0",
     "model_name": "HTMLModel",
     "state": {
      "_dom_classes": [],
      "_model_module": "@jupyter-widgets/controls",
      "_model_module_version": "1.5.0",
      "_model_name": "HTMLModel",
      "_view_count": null,
      "_view_module": "@jupyter-widgets/controls",
      "_view_module_version": "1.5.0",
      "_view_name": "HTMLView",
      "description": "",
      "description_tooltip": null,
      "layout": "IPY_MODEL_a6a6da85a27b4bd78913a6e9bba28df3",
      "placeholder": "​",
      "style": "IPY_MODEL_126fc3c44d3f46f898c8b3bf600094f4",
      "value": ""
     }
    },
    "8ff1520bc2e5416ead9a9fb4d2886640": {
     "model_module": "@jupyter-widgets/controls",
     "model_module_version": "1.5.0",
     "model_name": "DescriptionStyleModel",
     "state": {
      "_model_module": "@jupyter-widgets/controls",
      "_model_module_version": "1.5.0",
      "_model_name": "DescriptionStyleModel",
      "_view_count": null,
      "_view_module": "@jupyter-widgets/base",
      "_view_module_version": "1.2.0",
      "_view_name": "StyleView",
      "description_width": ""
     }
    },
    "937259bb42894ad08e7749f45cca1870": {
     "model_module": "@jupyter-widgets/controls",
     "model_module_version": "1.5.0",
     "model_name": "DescriptionStyleModel",
     "state": {
      "_model_module": "@jupyter-widgets/controls",
      "_model_module_version": "1.5.0",
      "_model_name": "DescriptionStyleModel",
      "_view_count": null,
      "_view_module": "@jupyter-widgets/base",
      "_view_module_version": "1.2.0",
      "_view_name": "StyleView",
      "description_width": ""
     }
    },
    "99278306d2c34524b85cc35836f63803": {
     "model_module": "@jupyter-widgets/base",
     "model_module_version": "1.2.0",
     "model_name": "LayoutModel",
     "state": {
      "_model_module": "@jupyter-widgets/base",
      "_model_module_version": "1.2.0",
      "_model_name": "LayoutModel",
      "_view_count": null,
      "_view_module": "@jupyter-widgets/base",
      "_view_module_version": "1.2.0",
      "_view_name": "LayoutView",
      "align_content": null,
      "align_items": null,
      "align_self": null,
      "border": null,
      "bottom": null,
      "display": null,
      "flex": null,
      "flex_flow": null,
      "grid_area": null,
      "grid_auto_columns": null,
      "grid_auto_flow": null,
      "grid_auto_rows": null,
      "grid_column": null,
      "grid_gap": null,
      "grid_row": null,
      "grid_template_areas": null,
      "grid_template_columns": null,
      "grid_template_rows": null,
      "height": null,
      "justify_content": null,
      "justify_items": null,
      "left": null,
      "margin": null,
      "max_height": null,
      "max_width": null,
      "min_height": null,
      "min_width": null,
      "object_fit": null,
      "object_position": null,
      "order": null,
      "overflow": null,
      "overflow_x": null,
      "overflow_y": null,
      "padding": null,
      "right": null,
      "top": null,
      "visibility": null,
      "width": null
     }
    },
    "a6a6da85a27b4bd78913a6e9bba28df3": {
     "model_module": "@jupyter-widgets/base",
     "model_module_version": "1.2.0",
     "model_name": "LayoutModel",
     "state": {
      "_model_module": "@jupyter-widgets/base",
      "_model_module_version": "1.2.0",
      "_model_name": "LayoutModel",
      "_view_count": null,
      "_view_module": "@jupyter-widgets/base",
      "_view_module_version": "1.2.0",
      "_view_name": "LayoutView",
      "align_content": null,
      "align_items": null,
      "align_self": null,
      "border": null,
      "bottom": null,
      "display": null,
      "flex": null,
      "flex_flow": null,
      "grid_area": null,
      "grid_auto_columns": null,
      "grid_auto_flow": null,
      "grid_auto_rows": null,
      "grid_column": null,
      "grid_gap": null,
      "grid_row": null,
      "grid_template_areas": null,
      "grid_template_columns": null,
      "grid_template_rows": null,
      "height": null,
      "justify_content": null,
      "justify_items": null,
      "left": null,
      "margin": null,
      "max_height": null,
      "max_width": null,
      "min_height": null,
      "min_width": null,
      "object_fit": null,
      "object_position": null,
      "order": null,
      "overflow": null,
      "overflow_x": null,
      "overflow_y": null,
      "padding": null,
      "right": null,
      "top": null,
      "visibility": null,
      "width": null
     }
    },
    "a9244b0a4cb841f89851fa557e6f5121": {
     "model_module": "@jupyter-widgets/base",
     "model_module_version": "1.2.0",
     "model_name": "LayoutModel",
     "state": {
      "_model_module": "@jupyter-widgets/base",
      "_model_module_version": "1.2.0",
      "_model_name": "LayoutModel",
      "_view_count": null,
      "_view_module": "@jupyter-widgets/base",
      "_view_module_version": "1.2.0",
      "_view_name": "LayoutView",
      "align_content": null,
      "align_items": null,
      "align_self": null,
      "border": null,
      "bottom": null,
      "display": null,
      "flex": null,
      "flex_flow": null,
      "grid_area": null,
      "grid_auto_columns": null,
      "grid_auto_flow": null,
      "grid_auto_rows": null,
      "grid_column": null,
      "grid_gap": null,
      "grid_row": null,
      "grid_template_areas": null,
      "grid_template_columns": null,
      "grid_template_rows": null,
      "height": null,
      "justify_content": null,
      "justify_items": null,
      "left": null,
      "margin": null,
      "max_height": null,
      "max_width": null,
      "min_height": null,
      "min_width": null,
      "object_fit": null,
      "object_position": null,
      "order": null,
      "overflow": null,
      "overflow_x": null,
      "overflow_y": null,
      "padding": null,
      "right": null,
      "top": null,
      "visibility": null,
      "width": null
     }
    },
    "af99f0b1fc084117a714bf55d56269c1": {
     "model_module": "@jupyter-widgets/base",
     "model_module_version": "1.2.0",
     "model_name": "LayoutModel",
     "state": {
      "_model_module": "@jupyter-widgets/base",
      "_model_module_version": "1.2.0",
      "_model_name": "LayoutModel",
      "_view_count": null,
      "_view_module": "@jupyter-widgets/base",
      "_view_module_version": "1.2.0",
      "_view_name": "LayoutView",
      "align_content": null,
      "align_items": null,
      "align_self": null,
      "border": null,
      "bottom": null,
      "display": null,
      "flex": null,
      "flex_flow": null,
      "grid_area": null,
      "grid_auto_columns": null,
      "grid_auto_flow": null,
      "grid_auto_rows": null,
      "grid_column": null,
      "grid_gap": null,
      "grid_row": null,
      "grid_template_areas": null,
      "grid_template_columns": null,
      "grid_template_rows": null,
      "height": null,
      "justify_content": null,
      "justify_items": null,
      "left": null,
      "margin": null,
      "max_height": null,
      "max_width": null,
      "min_height": null,
      "min_width": null,
      "object_fit": null,
      "object_position": null,
      "order": null,
      "overflow": null,
      "overflow_x": null,
      "overflow_y": null,
      "padding": null,
      "right": null,
      "top": null,
      "visibility": null,
      "width": null
     }
    },
    "b0a967a9f7f847068696bc7e30cd06c8": {
     "model_module": "@jupyter-widgets/controls",
     "model_module_version": "1.5.0",
     "model_name": "HTMLModel",
     "state": {
      "_dom_classes": [],
      "_model_module": "@jupyter-widgets/controls",
      "_model_module_version": "1.5.0",
      "_model_name": "HTMLModel",
      "_view_count": null,
      "_view_module": "@jupyter-widgets/controls",
      "_view_module_version": "1.5.0",
      "_view_name": "HTMLView",
      "description": "",
      "description_tooltip": null,
      "layout": "IPY_MODEL_99278306d2c34524b85cc35836f63803",
      "placeholder": "​",
      "style": "IPY_MODEL_937259bb42894ad08e7749f45cca1870",
      "value": ""
     }
    },
    "d0a8c9ebd2544723b473197d574a646f": {
     "model_module": "@jupyter-widgets/controls",
     "model_module_version": "1.5.0",
     "model_name": "HBoxModel",
     "state": {
      "_dom_classes": [],
      "_model_module": "@jupyter-widgets/controls",
      "_model_module_version": "1.5.0",
      "_model_name": "HBoxModel",
      "_view_count": null,
      "_view_module": "@jupyter-widgets/controls",
      "_view_module_version": "1.5.0",
      "_view_name": "HBoxView",
      "box_style": "",
      "children": [
       "IPY_MODEL_8e21b9447577405ebcdd913b0b1e7bcb",
       "IPY_MODEL_f50ee05069634f5b983bf0a922c893a0",
       "IPY_MODEL_7e64dfc5bd7f4c18bbf2776a39739db5"
      ],
      "layout": "IPY_MODEL_a9244b0a4cb841f89851fa557e6f5121"
     }
    },
    "d2a9e211e3c84ed5a0e8b98851427579": {
     "model_module": "@jupyter-widgets/controls",
     "model_module_version": "1.5.0",
     "model_name": "DescriptionStyleModel",
     "state": {
      "_model_module": "@jupyter-widgets/controls",
      "_model_module_version": "1.5.0",
      "_model_name": "DescriptionStyleModel",
      "_view_count": null,
      "_view_module": "@jupyter-widgets/base",
      "_view_module_version": "1.2.0",
      "_view_name": "StyleView",
      "description_width": ""
     }
    },
    "de2ce45c65b8470f916062de5bea3961": {
     "model_module": "@jupyter-widgets/base",
     "model_module_version": "1.2.0",
     "model_name": "LayoutModel",
     "state": {
      "_model_module": "@jupyter-widgets/base",
      "_model_module_version": "1.2.0",
      "_model_name": "LayoutModel",
      "_view_count": null,
      "_view_module": "@jupyter-widgets/base",
      "_view_module_version": "1.2.0",
      "_view_name": "LayoutView",
      "align_content": null,
      "align_items": null,
      "align_self": null,
      "border": null,
      "bottom": null,
      "display": null,
      "flex": null,
      "flex_flow": null,
      "grid_area": null,
      "grid_auto_columns": null,
      "grid_auto_flow": null,
      "grid_auto_rows": null,
      "grid_column": null,
      "grid_gap": null,
      "grid_row": null,
      "grid_template_areas": null,
      "grid_template_columns": null,
      "grid_template_rows": null,
      "height": null,
      "justify_content": null,
      "justify_items": null,
      "left": null,
      "margin": null,
      "max_height": null,
      "max_width": null,
      "min_height": null,
      "min_width": null,
      "object_fit": null,
      "object_position": null,
      "order": null,
      "overflow": null,
      "overflow_x": null,
      "overflow_y": null,
      "padding": null,
      "right": null,
      "top": null,
      "visibility": null,
      "width": null
     }
    },
    "e3c159f98ae846c48ee3aaf0c211a2a7": {
     "model_module": "@jupyter-widgets/base",
     "model_module_version": "1.2.0",
     "model_name": "LayoutModel",
     "state": {
      "_model_module": "@jupyter-widgets/base",
      "_model_module_version": "1.2.0",
      "_model_name": "LayoutModel",
      "_view_count": null,
      "_view_module": "@jupyter-widgets/base",
      "_view_module_version": "1.2.0",
      "_view_name": "LayoutView",
      "align_content": null,
      "align_items": null,
      "align_self": null,
      "border": null,
      "bottom": null,
      "display": null,
      "flex": null,
      "flex_flow": null,
      "grid_area": null,
      "grid_auto_columns": null,
      "grid_auto_flow": null,
      "grid_auto_rows": null,
      "grid_column": null,
      "grid_gap": null,
      "grid_row": null,
      "grid_template_areas": null,
      "grid_template_columns": null,
      "grid_template_rows": null,
      "height": null,
      "justify_content": null,
      "justify_items": null,
      "left": null,
      "margin": null,
      "max_height": null,
      "max_width": null,
      "min_height": null,
      "min_width": null,
      "object_fit": null,
      "object_position": null,
      "order": null,
      "overflow": null,
      "overflow_x": null,
      "overflow_y": null,
      "padding": null,
      "right": null,
      "top": null,
      "visibility": null,
      "width": null
     }
    },
    "e590829d52034a7e87d0a143575d116e": {
     "model_module": "@jupyter-widgets/controls",
     "model_module_version": "1.5.0",
     "model_name": "ProgressStyleModel",
     "state": {
      "_model_module": "@jupyter-widgets/controls",
      "_model_module_version": "1.5.0",
      "_model_name": "ProgressStyleModel",
      "_view_count": null,
      "_view_module": "@jupyter-widgets/base",
      "_view_module_version": "1.2.0",
      "_view_name": "StyleView",
      "bar_color": null,
      "description_width": ""
     }
    },
    "ed00fe155e4a4b69a7ac09a3cc8de5d3": {
     "model_module": "@jupyter-widgets/controls",
     "model_module_version": "1.5.0",
     "model_name": "HTMLModel",
     "state": {
      "_dom_classes": [],
      "_model_module": "@jupyter-widgets/controls",
      "_model_module_version": "1.5.0",
      "_model_name": "HTMLModel",
      "_view_count": null,
      "_view_module": "@jupyter-widgets/controls",
      "_view_module_version": "1.5.0",
      "_view_name": "HTMLView",
      "description": "",
      "description_tooltip": null,
      "layout": "IPY_MODEL_59210728e49b4168ae1e6aaff89e1695",
      "placeholder": "​",
      "style": "IPY_MODEL_8ff1520bc2e5416ead9a9fb4d2886640",
      "value": " 1649664/? [00:00&lt;00:00, 7248406.14it/s]"
     }
    },
    "f50ee05069634f5b983bf0a922c893a0": {
     "model_module": "@jupyter-widgets/controls",
     "model_module_version": "1.5.0",
     "model_name": "FloatProgressModel",
     "state": {
      "_dom_classes": [],
      "_model_module": "@jupyter-widgets/controls",
      "_model_module_version": "1.5.0",
      "_model_name": "FloatProgressModel",
      "_view_count": null,
      "_view_module": "@jupyter-widgets/controls",
      "_view_module_version": "1.5.0",
      "_view_name": "ProgressView",
      "bar_style": "success",
      "description": "",
      "description_tooltip": null,
      "layout": "IPY_MODEL_6c4e7c00b85942d6a461232261489e9a",
      "max": 28881,
      "min": 0,
      "orientation": "horizontal",
      "style": "IPY_MODEL_e590829d52034a7e87d0a143575d116e",
      "value": 28881
     }
    },
    "fc9b1cb50d434bdb9e4b0420fc1d2568": {
     "model_module": "@jupyter-widgets/controls",
     "model_module_version": "1.5.0",
     "model_name": "HTMLModel",
     "state": {
      "_dom_classes": [],
      "_model_module": "@jupyter-widgets/controls",
      "_model_module_version": "1.5.0",
      "_model_name": "HTMLModel",
      "_view_count": null,
      "_view_module": "@jupyter-widgets/controls",
      "_view_module_version": "1.5.0",
      "_view_name": "HTMLView",
      "description": "",
      "description_tooltip": null,
      "layout": "IPY_MODEL_de2ce45c65b8470f916062de5bea3961",
      "placeholder": "​",
      "style": "IPY_MODEL_21277fa1897447848c38bae209150f7b",
      "value": ""
     }
    },
    "fde66053bfce4da0a4d0c789d713dc8b": {
     "model_module": "@jupyter-widgets/base",
     "model_module_version": "1.2.0",
     "model_name": "LayoutModel",
     "state": {
      "_model_module": "@jupyter-widgets/base",
      "_model_module_version": "1.2.0",
      "_model_name": "LayoutModel",
      "_view_count": null,
      "_view_module": "@jupyter-widgets/base",
      "_view_module_version": "1.2.0",
      "_view_name": "LayoutView",
      "align_content": null,
      "align_items": null,
      "align_self": null,
      "border": null,
      "bottom": null,
      "display": null,
      "flex": null,
      "flex_flow": null,
      "grid_area": null,
      "grid_auto_columns": null,
      "grid_auto_flow": null,
      "grid_auto_rows": null,
      "grid_column": null,
      "grid_gap": null,
      "grid_row": null,
      "grid_template_areas": null,
      "grid_template_columns": null,
      "grid_template_rows": null,
      "height": null,
      "justify_content": null,
      "justify_items": null,
      "left": null,
      "margin": null,
      "max_height": null,
      "max_width": null,
      "min_height": null,
      "min_width": null,
      "object_fit": null,
      "object_position": null,
      "order": null,
      "overflow": null,
      "overflow_x": null,
      "overflow_y": null,
      "padding": null,
      "right": null,
      "top": null,
      "visibility": null,
      "width": null
     }
    }
   }
  }
 },
 "nbformat": 4,
 "nbformat_minor": 4
}
