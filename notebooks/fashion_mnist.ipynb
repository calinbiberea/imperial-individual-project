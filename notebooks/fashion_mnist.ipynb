{
 "cells": [
  {
   "cell_type": "markdown",
   "metadata": {},
   "source": [
    "# Fashion-MNIST: Training and Testing on a Clean Dataset & Adversarial Analysis"
   ]
  },
  {
   "cell_type": "markdown",
   "metadata": {},
   "source": [
    "## Imports and Fashion-MNIST loading"
   ]
  },
  {
   "cell_type": "code",
   "execution_count": 1,
   "metadata": {},
   "outputs": [],
   "source": [
    "# For loading model sanely\n",
    "import os.path\n",
    "\n",
    "# Sys is used to add proper paths\n",
    "import sys\n",
    "\n",
    "import torch\n",
    "import torch.nn as nn\n",
    "from tqdm.notebook import tnrange, tqdm\n",
    "\n",
    "# This here actually adds the path\n",
    "sys.path.append(\"../\")\n",
    "\n",
    "import models.lenet as lenet\n",
    "\n",
    "# For printing outcomes\n",
    "import utils.printing as printing"
   ]
  },
  {
   "cell_type": "code",
   "execution_count": 2,
   "metadata": {},
   "outputs": [
    {
     "name": "stdout",
     "output_type": "stream",
     "text": [
      "Notebook will use PyTorch Device: CUDA\n"
     ]
    }
   ],
   "source": [
    "# Define the `device` PyTorch will be running on, please hope it is CUDA\n",
    "device = \"cuda\" if torch.cuda.is_available() else \"cpu\"\n",
    "print(\"Notebook will use PyTorch Device: \" + device.upper())"
   ]
  },
  {
   "cell_type": "markdown",
   "metadata": {},
   "source": [
    "## Training, Validation and Testing"
   ]
  },
  {
   "cell_type": "code",
   "execution_count": 3,
   "metadata": {},
   "outputs": [],
   "source": [
    "# Get the data loaders (assume we do no validation)\n",
    "import utils.dataloaders as dataloaders\n",
    "\n",
    "DATA_ROOT = \"../datasets/\"\n",
    "\n",
    "trainSetLoader, _, testSetLoader = dataloaders.get_Fashion_MNIST_data_loaders(\n",
    "    DATA_ROOT,\n",
    "    trainSetSize=50000,\n",
    "    validationSetSize=0,\n",
    "    batchSize=64,\n",
    ")"
   ]
  },
  {
   "cell_type": "code",
   "execution_count": 4,
   "metadata": {},
   "outputs": [],
   "source": [
    "# This method creates a new model and also trains it\n",
    "def get_trained_model(load_if_available=False):\n",
    "    # Various training parameters\n",
    "    epochs = 20\n",
    "    learning_rate = 0.01\n",
    "\n",
    "    # Network parameters\n",
    "    loss_function = nn.CrossEntropyLoss()\n",
    "    model = lenet.LeNet5().to(device)\n",
    "    model.train()\n",
    "\n",
    "    # Consider using ADAM here as another gradient descent algorithm\n",
    "    optimizer = torch.optim.SGD(\n",
    "        model.parameters(), lr=learning_rate, momentum=0.9, weight_decay=5e-4\n",
    "    )\n",
    "\n",
    "    # If a trained model already exists, give up the training part\n",
    "    if load_if_available and os.path.isfile(\"../fashion_mnist_model\"):\n",
    "        print(\"Found already trained model\")\n",
    "\n",
    "        model = torch.load(\"../fashion_mnist_model\")\n",
    "\n",
    "        # Return the loaded model\n",
    "        return model\n",
    "\n",
    "    print(\"Training the model...\")\n",
    "\n",
    "    # Use a pretty progress bar to show updates\n",
    "    for epoch in tnrange(epochs, desc=\"Training Progress\"):\n",
    "        for _, (images, labels) in enumerate(tqdm(trainSetLoader, desc=\"Batches\")):\n",
    "            # Cast to proper tensors\n",
    "            images, labels = images.to(device), labels.to(device)\n",
    "\n",
    "            # Clean the gradients\n",
    "            optimizer.zero_grad()\n",
    "\n",
    "            # Predict\n",
    "            logits = model(images)\n",
    "\n",
    "            # Calculate loss\n",
    "            loss = loss_function(logits, labels)\n",
    "\n",
    "            # Gradient descent\n",
    "            loss.backward()\n",
    "            optimizer.step()\n",
    "\n",
    "    print(\"... done!\")\n",
    "\n",
    "    # Return the trained model\n",
    "    return model"
   ]
  },
  {
   "cell_type": "markdown",
   "metadata": {},
   "source": [
    "## Putting it all together (the 'main')"
   ]
  },
  {
   "cell_type": "code",
   "execution_count": 5,
   "metadata": {},
   "outputs": [
    {
     "name": "stdout",
     "output_type": "stream",
     "text": [
      "Found already trained model\n",
      "Testing the model...\n"
     ]
    },
    {
     "data": {
      "application/vnd.jupyter.widget-view+json": {
       "model_id": "ebdfdedd18634b0b879bae0b34946610",
       "version_major": 2,
       "version_minor": 0
      },
      "text/plain": [
       "Testing Progress:   0%|          | 0/157 [00:00<?, ?it/s]"
      ]
     },
     "metadata": {},
     "output_type": "display_data"
    },
    {
     "name": "stdout",
     "output_type": "stream",
     "text": [
      "... done! Accuracy: 91.58%\n"
     ]
    }
   ],
   "source": [
    "model = get_trained_model(load_if_available=True)\n",
    "\n",
    "# From now on we simply test the model\n",
    "model.eval()\n",
    "\n",
    "# Test the loaded model\n",
    "import utils.clean_test as clean_test\n",
    "\n",
    "clean_test.test_trained_model(model, testSetLoader)"
   ]
  },
  {
   "cell_type": "code",
   "execution_count": 6,
   "metadata": {},
   "outputs": [],
   "source": [
    "# Save the model\n",
    "torch.save(model, \"../fashion_mnist_model\")"
   ]
  },
  {
   "cell_type": "markdown",
   "metadata": {},
   "source": [
    "## Attacks and Their Results"
   ]
  },
  {
   "cell_type": "code",
   "execution_count": 7,
   "metadata": {},
   "outputs": [],
   "source": [
    "# A possible attacks array (for nice printing):\n",
    "import utils.attacking as attacking\n",
    "\n",
    "attacks = {}"
   ]
  },
  {
   "cell_type": "markdown",
   "metadata": {
    "tags": []
   },
   "source": [
    "### FGSM (Fast Sign Gradient Method) https://arxiv.org/abs/1412.6572\n",
    "\n",
    "The formula that is used for producing the adversarial example in this case is:\n",
    "\n",
    "$x' = x + \\epsilon * sign(\\nabla_{x}J(\\theta, x, y))$, where J is the loss function used."
   ]
  },
  {
   "cell_type": "code",
   "execution_count": 8,
   "metadata": {},
   "outputs": [],
   "source": [
    "import attacks.fgsm as fgsm\n",
    "\n",
    "attacks[\"FGSM\"] = fgsm.fgsm_attack"
   ]
  },
  {
   "cell_type": "code",
   "execution_count": 9,
   "metadata": {},
   "outputs": [],
   "source": [
    "# Several values to use for the epsilons\n",
    "epsilons = [0, 0.05, 0.1, 0.2, 0.35, 0.55, 0.75, 1]"
   ]
  },
  {
   "cell_type": "code",
   "execution_count": 10,
   "metadata": {},
   "outputs": [
    {
     "data": {
      "image/png": "[encoded data removed]",
      "text/plain": [
       "<Figure size 288x180 with 2 Axes>"
      ]
     },
     "metadata": {
      "needs_background": "light"
     },
     "output_type": "display_data"
    },
    {
     "data": {
      "image/png": "[encoded data removed]",
      "text/plain": [
       "<Figure size 288x180 with 2 Axes>"
      ]
     },
     "metadata": {
      "needs_background": "light"
     },
     "output_type": "display_data"
    },
    {
     "data": {
      "image/png": "[encoded data removed]",
      "text/plain": [
       "<Figure size 288x180 with 2 Axes>"
      ]
     },
     "metadata": {
      "needs_background": "light"
     },
     "output_type": "display_data"
    },
    {
     "data": {
      "image/png": "[encoded data removed]",
      "text/plain": [
       "<Figure size 288x180 with 2 Axes>"
      ]
     },
     "metadata": {
      "needs_background": "light"
     },
     "output_type": "display_data"
    },
    {
     "data": {
      "image/png": "[encoded data removed]",
      "text/plain": [
       "<Figure size 288x180 with 2 Axes>"
      ]
     },
     "metadata": {
      "needs_background": "light"
     },
     "output_type": "display_data"
    },
    {
     "data": {
      "image/png": "[encoded data removed]",
      "text/plain": [
       "<Figure size 288x180 with 2 Axes>"
      ]
     },
     "metadata": {
      "needs_background": "light"
     },
     "output_type": "display_data"
    },
    {
     "data": {
      "image/png": "[encoded data removed]",
      "text/plain": [
       "<Figure size 288x180 with 2 Axes>"
      ]
     },
     "metadata": {
      "needs_background": "light"
     },
     "output_type": "display_data"
    },
    {
     "data": {
      "image/png": "[encoded data removed]",
      "text/plain": [
       "<Figure size 288x180 with 2 Axes>"
      ]
     },
     "metadata": {
      "needs_background": "light"
     },
     "output_type": "display_data"
    }
   ],
   "source": [
    "for epsilon in epsilons:\n",
    "    printing.print_attack(\n",
    "        model,\n",
    "        testSetLoader,\n",
    "        \"FGSM\",\n",
    "        attacks[\"FGSM\"],\n",
    "        epsilon=epsilon,\n",
    "    )"
   ]
  },
  {
   "cell_type": "code",
   "execution_count": 11,
   "metadata": {},
   "outputs": [
    {
     "name": "stdout",
     "output_type": "stream",
     "text": [
      "Testing the model under FGSM Attack using epsilon = 0, alpha = None...\n"
     ]
    },
    {
     "data": {
      "application/vnd.jupyter.widget-view+json": {
       "model_id": "8c1195901cb5416eb481ba38c5612a5b",
       "version_major": 2,
       "version_minor": 0
      },
      "text/plain": [
       "FGSM Attack Testing Progress:   0%|          | 0/157 [00:00<?, ?it/s]"
      ]
     },
     "metadata": {},
     "output_type": "display_data"
    },
    {
     "name": "stdout",
     "output_type": "stream",
     "text": [
      "... done! Accuracy: 91.58%\n",
      "\n",
      "\n",
      "Testing the model under FGSM Attack using epsilon = 0.05, alpha = None...\n"
     ]
    },
    {
     "data": {
      "application/vnd.jupyter.widget-view+json": {
       "model_id": "10d5783b2d7d40d9b4c7710df3343e67",
       "version_major": 2,
       "version_minor": 0
      },
      "text/plain": [
       "FGSM Attack Testing Progress:   0%|          | 0/157 [00:00<?, ?it/s]"
      ]
     },
     "metadata": {},
     "output_type": "display_data"
    },
    {
     "name": "stdout",
     "output_type": "stream",
     "text": [
      "... done! Accuracy: 40.53%\n",
      "\n",
      "\n",
      "Testing the model under FGSM Attack using epsilon = 0.1, alpha = None...\n"
     ]
    },
    {
     "data": {
      "application/vnd.jupyter.widget-view+json": {
       "model_id": "b66ff3a5296e4337af00061063e59001",
       "version_major": 2,
       "version_minor": 0
      },
      "text/plain": [
       "FGSM Attack Testing Progress:   0%|          | 0/157 [00:00<?, ?it/s]"
      ]
     },
     "metadata": {},
     "output_type": "display_data"
    },
    {
     "name": "stdout",
     "output_type": "stream",
     "text": [
      "... done! Accuracy: 12.68%\n",
      "\n",
      "\n",
      "Testing the model under FGSM Attack using epsilon = 0.2, alpha = None...\n"
     ]
    },
    {
     "data": {
      "application/vnd.jupyter.widget-view+json": {
       "model_id": "9da5429b5c234badba95f4a93accae01",
       "version_major": 2,
       "version_minor": 0
      },
      "text/plain": [
       "FGSM Attack Testing Progress:   0%|          | 0/157 [00:00<?, ?it/s]"
      ]
     },
     "metadata": {},
     "output_type": "display_data"
    },
    {
     "name": "stdout",
     "output_type": "stream",
     "text": [
      "... done! Accuracy: 3.11%\n",
      "\n",
      "\n",
      "Testing the model under FGSM Attack using epsilon = 0.35, alpha = None...\n"
     ]
    },
    {
     "data": {
      "application/vnd.jupyter.widget-view+json": {
       "model_id": "a6dfee6f973e42a28f4c40252d18ccbe",
       "version_major": 2,
       "version_minor": 0
      },
      "text/plain": [
       "FGSM Attack Testing Progress:   0%|          | 0/157 [00:00<?, ?it/s]"
      ]
     },
     "metadata": {},
     "output_type": "display_data"
    },
    {
     "name": "stdout",
     "output_type": "stream",
     "text": [
      "... done! Accuracy: 0.62%\n",
      "\n",
      "\n",
      "Testing the model under FGSM Attack using epsilon = 0.55, alpha = None...\n"
     ]
    },
    {
     "data": {
      "application/vnd.jupyter.widget-view+json": {
       "model_id": "0bd7680c30244774b4bffae9f907d1a5",
       "version_major": 2,
       "version_minor": 0
      },
      "text/plain": [
       "FGSM Attack Testing Progress:   0%|          | 0/157 [00:00<?, ?it/s]"
      ]
     },
     "metadata": {},
     "output_type": "display_data"
    },
    {
     "name": "stdout",
     "output_type": "stream",
     "text": [
      "... done! Accuracy: 0.65%\n",
      "\n",
      "\n",
      "Testing the model under FGSM Attack using epsilon = 0.75, alpha = None...\n"
     ]
    },
    {
     "data": {
      "application/vnd.jupyter.widget-view+json": {
       "model_id": "906c5309f75d4b01a01de0ffb9d0a666",
       "version_major": 2,
       "version_minor": 0
      },
      "text/plain": [
       "FGSM Attack Testing Progress:   0%|          | 0/157 [00:00<?, ?it/s]"
      ]
     },
     "metadata": {},
     "output_type": "display_data"
    },
    {
     "name": "stdout",
     "output_type": "stream",
     "text": [
      "... done! Accuracy: 1.32%\n",
      "\n",
      "\n",
      "Testing the model under FGSM Attack using epsilon = 1, alpha = None...\n"
     ]
    },
    {
     "data": {
      "application/vnd.jupyter.widget-view+json": {
       "model_id": "48c2d93c07d4458bacd78a1516f7b6bc",
       "version_major": 2,
       "version_minor": 0
      },
      "text/plain": [
       "FGSM Attack Testing Progress:   0%|          | 0/157 [00:00<?, ?it/s]"
      ]
     },
     "metadata": {},
     "output_type": "display_data"
    },
    {
     "name": "stdout",
     "output_type": "stream",
     "text": [
      "... done! Accuracy: 1.74%\n",
      "\n",
      "\n"
     ]
    }
   ],
   "source": [
    "# Run test for each epsilon\n",
    "for epsilon in epsilons:\n",
    "    attacking.attack_model(\n",
    "        model,\n",
    "        testSetLoader,\n",
    "        \"FGSM\",\n",
    "        attacks[\"FGSM\"],\n",
    "        epsilon=epsilon,\n",
    "    )"
   ]
  },
  {
   "cell_type": "markdown",
   "metadata": {},
   "source": [
    "### I-FGSM / BIM (Iterative FGSM / Basic Iterative Method) https://arxiv.org/abs/1607.02533\n",
    "\n",
    "The formula that is used for producing the adversarial example in this case is:\n",
    "\n",
    "$x'_{0} = x$\n",
    "$x'_{k + 1} = Clip_{x, \\epsilon} \\{x'_{k} + \\alpha * sign(\\nabla_{x}J(\\theta, x'_{k}, y)\\}$, where J is the loss function used. Note that in the paper proposing this method, $\\alpha = 1$ is used, so pixels are changed by 1 in each iteration.\n",
    "\n",
    "The formula for the clip function is also given in the paper."
   ]
  },
  {
   "cell_type": "code",
   "execution_count": 12,
   "metadata": {},
   "outputs": [],
   "source": [
    "import attacks.ifgsm as ifgsm\n",
    "\n",
    "attacks[\"I-FGSM\"] = ifgsm.ifgsm_attack"
   ]
  },
  {
   "cell_type": "code",
   "execution_count": 13,
   "metadata": {},
   "outputs": [],
   "source": [
    "# Several values for epsilon. It's interesting to see how clamping affects results\n",
    "epsilons = [0, 4 / 255, 0.05, 0.1, 0.2, 0.35, 0.55]"
   ]
  },
  {
   "cell_type": "code",
   "execution_count": 14,
   "metadata": {},
   "outputs": [
    {
     "data": {
      "image/png": "[encoded data removed]",
      "text/plain": [
       "<Figure size 288x180 with 2 Axes>"
      ]
     },
     "metadata": {
      "needs_background": "light"
     },
     "output_type": "display_data"
    },
    {
     "data": {
      "image/png": "[encoded data removed]",
      "text/plain": [
       "<Figure size 288x180 with 2 Axes>"
      ]
     },
     "metadata": {
      "needs_background": "light"
     },
     "output_type": "display_data"
    },
    {
     "data": {
      "image/png": "[encoded data removed]",
      "text/plain": [
       "<Figure size 288x180 with 2 Axes>"
      ]
     },
     "metadata": {
      "needs_background": "light"
     },
     "output_type": "display_data"
    },
    {
     "data": {
      "image/png": "[encoded data removed]",
      "text/plain": [
       "<Figure size 288x180 with 2 Axes>"
      ]
     },
     "metadata": {
      "needs_background": "light"
     },
     "output_type": "display_data"
    },
    {
     "data": {
      "image/png": "[encoded data removed]",
      "text/plain": [
       "<Figure size 288x180 with 2 Axes>"
      ]
     },
     "metadata": {
      "needs_background": "light"
     },
     "output_type": "display_data"
    },
    {
     "data": {
      "image/png": "[encoded data removed]",
      "text/plain": [
       "<Figure size 288x180 with 2 Axes>"
      ]
     },
     "metadata": {
      "needs_background": "light"
     },
     "output_type": "display_data"
    },
    {
     "data": {
      "image/png": "[encoded data removed]",
      "text/plain": [
       "<Figure size 288x180 with 2 Axes>"
      ]
     },
     "metadata": {
      "needs_background": "light"
     },
     "output_type": "display_data"
    }
   ],
   "source": [
    "for epsilon in epsilons:\n",
    "    printing.print_attack(\n",
    "        model,\n",
    "        testSetLoader,\n",
    "        \"I-FGSM\",\n",
    "        attacks[\"I-FGSM\"],\n",
    "        epsilon=epsilon,\n",
    "        alpha=1,\n",
    "        iterations=0,\n",
    "    )"
   ]
  },
  {
   "cell_type": "code",
   "execution_count": 69,
   "metadata": {},
   "outputs": [
    {
     "name": "stdout",
     "output_type": "stream",
     "text": [
      "Testing the model under I-FGSM Attack using epsilon = 0, alpha = 1...\n"
     ]
    },
    {
     "data": {
      "application/vnd.jupyter.widget-view+json": {
       "model_id": "4ffd3e12c6e94aa78cd808592c39f7a6",
       "version_major": 2,
       "version_minor": 0
      },
      "text/plain": [
       "I-FGSM Attack Testing Progress:   0%|          | 0/157 [00:00<?, ?it/s]"
      ]
     },
     "metadata": {},
     "output_type": "display_data"
    },
    {
     "name": "stdout",
     "output_type": "stream",
     "text": [
      "... done! Accuracy: 91.58%\n",
      "\n",
      "\n",
      "Testing the model under I-FGSM Attack using epsilon = 0.01568627450980392, alpha = 1...\n"
     ]
    },
    {
     "data": {
      "application/vnd.jupyter.widget-view+json": {
       "model_id": "34b2b5d1d9064871af6715d12553cf54",
       "version_major": 2,
       "version_minor": 0
      },
      "text/plain": [
       "I-FGSM Attack Testing Progress:   0%|          | 0/157 [00:00<?, ?it/s]"
      ]
     },
     "metadata": {},
     "output_type": "display_data"
    },
    {
     "name": "stdout",
     "output_type": "stream",
     "text": [
      "... done! Accuracy: 37.86%\n",
      "\n",
      "\n",
      "Testing the model under I-FGSM Attack using epsilon = 0.05, alpha = 1...\n"
     ]
    },
    {
     "data": {
      "application/vnd.jupyter.widget-view+json": {
       "model_id": "f8a1acbf2e9a4e558876b6658111a142",
       "version_major": 2,
       "version_minor": 0
      },
      "text/plain": [
       "I-FGSM Attack Testing Progress:   0%|          | 0/157 [00:00<?, ?it/s]"
      ]
     },
     "metadata": {},
     "output_type": "display_data"
    },
    {
     "name": "stdout",
     "output_type": "stream",
     "text": [
      "... done! Accuracy: 0.63%\n",
      "\n",
      "\n",
      "Testing the model under I-FGSM Attack using epsilon = 0.1, alpha = 1...\n"
     ]
    },
    {
     "data": {
      "application/vnd.jupyter.widget-view+json": {
       "model_id": "b97ea77e35014cac88bd16493fc868ec",
       "version_major": 2,
       "version_minor": 0
      },
      "text/plain": [
       "I-FGSM Attack Testing Progress:   0%|          | 0/157 [00:00<?, ?it/s]"
      ]
     },
     "metadata": {},
     "output_type": "display_data"
    },
    {
     "name": "stdout",
     "output_type": "stream",
     "text": [
      "... done! Accuracy: 0.0%\n",
      "\n",
      "\n",
      "Testing the model under I-FGSM Attack using epsilon = 0.2, alpha = 1...\n"
     ]
    },
    {
     "data": {
      "application/vnd.jupyter.widget-view+json": {
       "model_id": "e8b7bbd8cb5b4a76b39ee62c8bd7996c",
       "version_major": 2,
       "version_minor": 0
      },
      "text/plain": [
       "I-FGSM Attack Testing Progress:   0%|          | 0/157 [00:00<?, ?it/s]"
      ]
     },
     "metadata": {},
     "output_type": "display_data"
    },
    {
     "name": "stdout",
     "output_type": "stream",
     "text": [
      "... done! Accuracy: 0.0%\n",
      "\n",
      "\n",
      "Testing the model under I-FGSM Attack using epsilon = 0.35, alpha = 1...\n"
     ]
    },
    {
     "data": {
      "application/vnd.jupyter.widget-view+json": {
       "model_id": "b47dcc468e904161b4e7e079be683a89",
       "version_major": 2,
       "version_minor": 0
      },
      "text/plain": [
       "I-FGSM Attack Testing Progress:   0%|          | 0/157 [00:00<?, ?it/s]"
      ]
     },
     "metadata": {},
     "output_type": "display_data"
    },
    {
     "name": "stdout",
     "output_type": "stream",
     "text": [
      "... done! Accuracy: 0.0%\n",
      "\n",
      "\n",
      "Testing the model under I-FGSM Attack using epsilon = 0.55, alpha = 1...\n"
     ]
    },
    {
     "data": {
      "application/vnd.jupyter.widget-view+json": {
       "model_id": "309ae6591ad543a8a6c4a7d351e06c8f",
       "version_major": 2,
       "version_minor": 0
      },
      "text/plain": [
       "I-FGSM Attack Testing Progress:   0%|          | 0/157 [00:00<?, ?it/s]"
      ]
     },
     "metadata": {},
     "output_type": "display_data"
    },
    {
     "name": "stdout",
     "output_type": "stream",
     "text": [
      "... done! Accuracy: 0.0%\n",
      "\n",
      "\n",
      "Testing the model under I-FGSM Attack using epsilon = 0.75, alpha = 1...\n"
     ]
    },
    {
     "data": {
      "application/vnd.jupyter.widget-view+json": {
       "model_id": "4facdcd5f1fa4bada5763495339562d0",
       "version_major": 2,
       "version_minor": 0
      },
      "text/plain": [
       "I-FGSM Attack Testing Progress:   0%|          | 0/157 [00:00<?, ?it/s]"
      ]
     },
     "metadata": {},
     "output_type": "display_data"
    },
    {
     "name": "stdout",
     "output_type": "stream",
     "text": [
      "... done! Accuracy: 0.0%\n",
      "\n",
      "\n",
      "Testing the model under I-FGSM Attack using epsilon = 1, alpha = 1...\n"
     ]
    },
    {
     "data": {
      "application/vnd.jupyter.widget-view+json": {
       "model_id": "0edf5950ecd5491e82440967441cf72b",
       "version_major": 2,
       "version_minor": 0
      },
      "text/plain": [
       "I-FGSM Attack Testing Progress:   0%|          | 0/157 [00:00<?, ?it/s]"
      ]
     },
     "metadata": {},
     "output_type": "display_data"
    },
    {
     "name": "stdout",
     "output_type": "stream",
     "text": [
      "... done! Accuracy: 0.05%\n",
      "\n",
      "\n"
     ]
    }
   ],
   "source": [
    "for epsilon in epsilons:\n",
    "    attacking.attack_model(\n",
    "        model,\n",
    "        testSetLoader,\n",
    "        \"I-FGSM\",\n",
    "        attacks[\"I-FGSM\"],\n",
    "        epsilon=epsilon,\n",
    "        alpha=1,\n",
    "        iterations=3,\n",
    "    )"
   ]
  },
  {
   "cell_type": "markdown",
   "metadata": {},
   "source": [
    "### PGD (Projected Gradient Descent) https://arxiv.org/pdf/1706.06083.pdf\n",
    "\n",
    "The formula that is used for producing the adversarial example in this case is:\n",
    "\n",
    "$x^{t+1} = \\Pi_{x+S}(x^t+\\alpha sgn(\\bigtriangledown_x L(\\theta, x, y)))$\\n\n",
    "where S is a set of allowed perturbations. Note that this is basically BIM with random initialisation. \n",
    "\n",
    "We use the $L_{\\infty}$ norm here, i.e. we use clamping. "
   ]
  },
  {
   "cell_type": "code",
   "execution_count": 16,
   "metadata": {},
   "outputs": [],
   "source": [
    "import attacks.pgd as pgd"
   ]
  },
  {
   "cell_type": "code",
   "execution_count": 17,
   "metadata": {},
   "outputs": [],
   "source": [
    "attacks[\"PGD\"] = pgd.pgd_attack"
   ]
  },
  {
   "cell_type": "code",
   "execution_count": 18,
   "metadata": {},
   "outputs": [],
   "source": [
    "# Several values to use for the epsilons\n",
    "epsilons = [0, 4 / 255, 0.05, 0.1, 0.2, 0.35, 0.55, 0.75, 1]"
   ]
  },
  {
   "cell_type": "code",
   "execution_count": 19,
   "metadata": {},
   "outputs": [
    {
     "data": {
      "image/png": "[encoded data removed]",
      "text/plain": [
       "<Figure size 288x180 with 2 Axes>"
      ]
     },
     "metadata": {
      "needs_background": "light"
     },
     "output_type": "display_data"
    },
    {
     "data": {
      "image/png": "[encoded data removed]",
      "text/plain": [
       "<Figure size 288x180 with 2 Axes>"
      ]
     },
     "metadata": {
      "needs_background": "light"
     },
     "output_type": "display_data"
    },
    {
     "data": {
      "image/png": "[encoded data removed]",
      "text/plain": [
       "<Figure size 288x180 with 2 Axes>"
      ]
     },
     "metadata": {
      "needs_background": "light"
     },
     "output_type": "display_data"
    },
    {
     "data": {
      "image/png": "[encoded data removed]",
      "text/plain": [
       "<Figure size 288x180 with 2 Axes>"
      ]
     },
     "metadata": {
      "needs_background": "light"
     },
     "output_type": "display_data"
    },
    {
     "data": {
      "image/png": "[encoded data removed]",
      "text/plain": [
       "<Figure size 288x180 with 2 Axes>"
      ]
     },
     "metadata": {
      "needs_background": "light"
     },
     "output_type": "display_data"
    },
    {
     "data": {
      "image/png": "[encoded data removed]",
      "text/plain": [
       "<Figure size 288x180 with 2 Axes>"
      ]
     },
     "metadata": {
      "needs_background": "light"
     },
     "output_type": "display_data"
    },
    {
     "data": {
      "image/png": "[encoded data removed]",
      "text/plain": [
       "<Figure size 288x180 with 2 Axes>"
      ]
     },
     "metadata": {
      "needs_background": "light"
     },
     "output_type": "display_data"
    },
    {
     "data": {
      "image/png": "[encoded data removed]",
      "text/plain": [
       "<Figure size 288x180 with 2 Axes>"
      ]
     },
     "metadata": {
      "needs_background": "light"
     },
     "output_type": "display_data"
    },
    {
     "data": {
      "image/png": "[encoded data removed]",
      "text/plain": [
       "<Figure size 288x180 with 2 Axes>"
      ]
     },
     "metadata": {
      "needs_background": "light"
     },
     "output_type": "display_data"
    }
   ],
   "source": [
    "for epsilon in epsilons:\n",
    "    printing.print_attack(\n",
    "        model,\n",
    "        testSetLoader,\n",
    "        \"PGD\",\n",
    "        attacks[\"PGD\"],\n",
    "        epsilon=epsilon,\n",
    "        alpha=(2 / 255),\n",
    "        iterations=20,\n",
    "    )"
   ]
  },
  {
   "cell_type": "code",
   "execution_count": 20,
   "metadata": {},
   "outputs": [
    {
     "name": "stdout",
     "output_type": "stream",
     "text": [
      "Testing the model under PGD Attack using epsilon = 0, alpha = 0.00784313725490196...\n"
     ]
    },
    {
     "data": {
      "application/vnd.jupyter.widget-view+json": {
       "model_id": "4a9df38fb2074e00bcea2f313deb4561",
       "version_major": 2,
       "version_minor": 0
      },
      "text/plain": [
       "PGD Attack Testing Progress:   0%|          | 0/157 [00:00<?, ?it/s]"
      ]
     },
     "metadata": {},
     "output_type": "display_data"
    },
    {
     "name": "stdout",
     "output_type": "stream",
     "text": [
      "... done! Accuracy: 91.58%\n",
      "\n",
      "\n",
      "Testing the model under PGD Attack using epsilon = 0.01568627450980392, alpha = 0.00784313725490196...\n"
     ]
    },
    {
     "data": {
      "application/vnd.jupyter.widget-view+json": {
       "model_id": "54375079f7d148afbb96ab6d66a94964",
       "version_major": 2,
       "version_minor": 0
      },
      "text/plain": [
       "PGD Attack Testing Progress:   0%|          | 0/157 [00:00<?, ?it/s]"
      ]
     },
     "metadata": {},
     "output_type": "display_data"
    },
    {
     "name": "stdout",
     "output_type": "stream",
     "text": [
      "... done! Accuracy: 73.36%\n",
      "\n",
      "\n",
      "Testing the model under PGD Attack using epsilon = 0.05, alpha = 0.00784313725490196...\n"
     ]
    },
    {
     "data": {
      "application/vnd.jupyter.widget-view+json": {
       "model_id": "2729219973604743a5d5ed88e6b170af",
       "version_major": 2,
       "version_minor": 0
      },
      "text/plain": [
       "PGD Attack Testing Progress:   0%|          | 0/157 [00:00<?, ?it/s]"
      ]
     },
     "metadata": {},
     "output_type": "display_data"
    },
    {
     "name": "stdout",
     "output_type": "stream",
     "text": [
      "... done! Accuracy: 29.97%\n",
      "\n",
      "\n",
      "Testing the model under PGD Attack using epsilon = 0.1, alpha = 0.00784313725490196...\n"
     ]
    },
    {
     "data": {
      "application/vnd.jupyter.widget-view+json": {
       "model_id": "6987f828314d4c9bb5ab82b485bf9222",
       "version_major": 2,
       "version_minor": 0
      },
      "text/plain": [
       "PGD Attack Testing Progress:   0%|          | 0/157 [00:00<?, ?it/s]"
      ]
     },
     "metadata": {},
     "output_type": "display_data"
    },
    {
     "name": "stdout",
     "output_type": "stream",
     "text": [
      "... done! Accuracy: 3.29%\n",
      "\n",
      "\n",
      "Testing the model under PGD Attack using epsilon = 0.2, alpha = 0.00784313725490196...\n"
     ]
    },
    {
     "data": {
      "application/vnd.jupyter.widget-view+json": {
       "model_id": "4c0687d6ea90476abf3054b4907129b7",
       "version_major": 2,
       "version_minor": 0
      },
      "text/plain": [
       "PGD Attack Testing Progress:   0%|          | 0/157 [00:00<?, ?it/s]"
      ]
     },
     "metadata": {},
     "output_type": "display_data"
    },
    {
     "name": "stdout",
     "output_type": "stream",
     "text": [
      "... done! Accuracy: 0.06%\n",
      "\n",
      "\n",
      "Testing the model under PGD Attack using epsilon = 0.35, alpha = 0.00784313725490196...\n"
     ]
    },
    {
     "data": {
      "application/vnd.jupyter.widget-view+json": {
       "model_id": "988ba8c7356f4072beae203477f00ed6",
       "version_major": 2,
       "version_minor": 0
      },
      "text/plain": [
       "PGD Attack Testing Progress:   0%|          | 0/157 [00:00<?, ?it/s]"
      ]
     },
     "metadata": {},
     "output_type": "display_data"
    },
    {
     "name": "stdout",
     "output_type": "stream",
     "text": [
      "... done! Accuracy: 0.0%\n",
      "\n",
      "\n",
      "Testing the model under PGD Attack using epsilon = 0.55, alpha = 0.00784313725490196...\n"
     ]
    },
    {
     "data": {
      "application/vnd.jupyter.widget-view+json": {
       "model_id": "232bf84515204711bfd7bf6522a433e8",
       "version_major": 2,
       "version_minor": 0
      },
      "text/plain": [
       "PGD Attack Testing Progress:   0%|          | 0/157 [00:00<?, ?it/s]"
      ]
     },
     "metadata": {},
     "output_type": "display_data"
    },
    {
     "name": "stdout",
     "output_type": "stream",
     "text": [
      "... done! Accuracy: 0.0%\n",
      "\n",
      "\n",
      "Testing the model under PGD Attack using epsilon = 0.75, alpha = 0.00784313725490196...\n"
     ]
    },
    {
     "data": {
      "application/vnd.jupyter.widget-view+json": {
       "model_id": "b6d625d7e5304deea71c814a1db0c7c4",
       "version_major": 2,
       "version_minor": 0
      },
      "text/plain": [
       "PGD Attack Testing Progress:   0%|          | 0/157 [00:00<?, ?it/s]"
      ]
     },
     "metadata": {},
     "output_type": "display_data"
    },
    {
     "name": "stdout",
     "output_type": "stream",
     "text": [
      "... done! Accuracy: 0.0%\n",
      "\n",
      "\n",
      "Testing the model under PGD Attack using epsilon = 1, alpha = 0.00784313725490196...\n"
     ]
    },
    {
     "data": {
      "application/vnd.jupyter.widget-view+json": {
       "model_id": "47080005f4d546dbba953e8d9cc8c0b1",
       "version_major": 2,
       "version_minor": 0
      },
      "text/plain": [
       "PGD Attack Testing Progress:   0%|          | 0/157 [00:00<?, ?it/s]"
      ]
     },
     "metadata": {},
     "output_type": "display_data"
    },
    {
     "name": "stdout",
     "output_type": "stream",
     "text": [
      "... done! Accuracy: 0.0%\n",
      "\n",
      "\n"
     ]
    }
   ],
   "source": [
    "for epsilon in epsilons:\n",
    "    attacking.attack_model(\n",
    "        model,\n",
    "        testSetLoader,\n",
    "        \"PGD\",\n",
    "        attacks[\"PGD\"],\n",
    "        epsilon=epsilon,\n",
    "        alpha=(2 / 255),\n",
    "        iterations=20,\n",
    "    )"
   ]
  },
  {
   "cell_type": "markdown",
   "metadata": {},
   "source": [
    "## From here, use existing libraries to simplify usageimport torchattacks\n"
   ]
  },
  {
   "cell_type": "code",
   "execution_count": 21,
   "metadata": {},
   "outputs": [],
   "source": [
    "import torchattacks"
   ]
  },
  {
   "cell_type": "markdown",
   "metadata": {},
   "source": [
    "### DeepFool https://arxiv.org/pdf/1511.04599.pdf\n",
    "\n",
    "The formula here is complex, so I recommend for the interested reader to go the above link to read the full paper."
   ]
  },
  {
   "cell_type": "code",
   "execution_count": 22,
   "metadata": {},
   "outputs": [],
   "source": [
    "deepfool_attack = torchattacks.DeepFool(model)\n",
    "\n",
    "attacks[\"DeepFool\"] = deepfool_attack"
   ]
  },
  {
   "cell_type": "code",
   "execution_count": 23,
   "metadata": {},
   "outputs": [
    {
     "data": {
      "image/png": "[encoded data removed]",
      "text/plain": [
       "<Figure size 288x180 with 2 Axes>"
      ]
     },
     "metadata": {
      "needs_background": "light"
     },
     "output_type": "display_data"
    }
   ],
   "source": [
    "printing.print_attack(\n",
    "    model, testSetLoader, \"DeepFool\", attacks[\"DeepFool\"], library=True\n",
    ")"
   ]
  },
  {
   "cell_type": "code",
   "execution_count": 24,
   "metadata": {},
   "outputs": [
    {
     "name": "stdout",
     "output_type": "stream",
     "text": [
      "Testing the model under DeepFool Attack...\n"
     ]
    },
    {
     "data": {
      "application/vnd.jupyter.widget-view+json": {
       "model_id": "e216833e7b9247a7a4f42a4ef3b9e55e",
       "version_major": 2,
       "version_minor": 0
      },
      "text/plain": [
       "DeepFool Attack Testing Progress:   0%|          | 0/157 [00:00<?, ?it/s]"
      ]
     },
     "metadata": {},
     "output_type": "display_data"
    },
    {
     "name": "stdout",
     "output_type": "stream",
     "text": [
      "... done! Accuracy: 0.34%\n",
      "\n",
      "\n"
     ]
    }
   ],
   "source": [
    "attacking.attack_model(\n",
    "    model,\n",
    "    testSetLoader,\n",
    "    \"DeepFool\",\n",
    "    attacks[\"DeepFool\"],\n",
    "    library=True,\n",
    ")"
   ]
  },
  {
   "cell_type": "markdown",
   "metadata": {},
   "source": [
    "### CW-$L_{2}$ (Carlini & Wagner using $L_{2}$ norm) https://arxiv.org/pdf/1608.04644.pdf\n",
    "\n",
    "The formula here is complex, so I recommend for the interested reader to go the above link to read the full paper."
   ]
  },
  {
   "cell_type": "code",
   "execution_count": 25,
   "metadata": {},
   "outputs": [],
   "source": [
    "cw_attack = torchattacks.CW(model, c=25)\n",
    "\n",
    "attacks[\"CW\"] = cw_attack"
   ]
  },
  {
   "cell_type": "code",
   "execution_count": 26,
   "metadata": {},
   "outputs": [
    {
     "data": {
      "image/png": "[encoded data removed]",
      "text/plain": [
       "<Figure size 288x180 with 2 Axes>"
      ]
     },
     "metadata": {
      "needs_background": "light"
     },
     "output_type": "display_data"
    }
   ],
   "source": [
    "printing.print_attack(model, testSetLoader, \"CW\", attacks[\"CW\"], library=True)"
   ]
  },
  {
   "cell_type": "code",
   "execution_count": 27,
   "metadata": {},
   "outputs": [
    {
     "name": "stdout",
     "output_type": "stream",
     "text": [
      "Testing the model under CW Attack...\n"
     ]
    },
    {
     "data": {
      "application/vnd.jupyter.widget-view+json": {
       "model_id": "e13a48ee8a7a4c29a4df3596b49aa0ae",
       "version_major": 2,
       "version_minor": 0
      },
      "text/plain": [
       "CW Attack Testing Progress:   0%|          | 0/157 [00:00<?, ?it/s]"
      ]
     },
     "metadata": {},
     "output_type": "display_data"
    },
    {
     "name": "stdout",
     "output_type": "stream",
     "text": [
      "... done! Accuracy: 0.0%\n",
      "\n",
      "\n"
     ]
    }
   ],
   "source": [
    "attacking.attack_model(\n",
    "    model,\n",
    "    testSetLoader,\n",
    "    \"CW\",\n",
    "    attacks[\"CW\"],\n",
    "    library=True,\n",
    ")"
   ]
  },
  {
   "cell_type": "markdown",
   "metadata": {},
   "source": [
    "## Adversarial Training"
   ]
  },
  {
   "cell_type": "code",
   "execution_count": 28,
   "metadata": {},
   "outputs": [],
   "source": [
    "# Adversarial examples should be typically generated when model parameters are not\n",
    "# changing i.e. model parameters are frozen. This step may not be required for very\n",
    "# simple linear models, but is a must for models using components such as dropout\n",
    "# or batch normalization.\n",
    "def get_adversarially_trained_model(attack, **kwargs):\n",
    "    # Various training parameters\n",
    "    epochs = 20\n",
    "    learning_rate = 0.01\n",
    "\n",
    "    # Network parameters\n",
    "    loss_function = nn.CrossEntropyLoss()\n",
    "    model = lenet.LeNet5().to(device)\n",
    "    model.train()\n",
    "\n",
    "    # Consider using ADAM here as another gradient descent algorithm\n",
    "    optimizer = torch.optim.SGD(\n",
    "        model.parameters(), lr=learning_rate, momentum=0.9, weight_decay=5e-4\n",
    "    )\n",
    "\n",
    "    # Check if using epsilon\n",
    "    if \"epsilon\" in kwargs:\n",
    "        epsilon = kwargs[\"epsilon\"]\n",
    "    else:\n",
    "        epsilon = None\n",
    "\n",
    "    # Check if using alpha\n",
    "    if \"alpha\" in kwargs:\n",
    "        alpha = kwargs[\"alpha\"]\n",
    "    else:\n",
    "        alpha = None\n",
    "\n",
    "    # Get iterations\n",
    "    if \"iterations\" in kwargs:\n",
    "        iterations = kwargs[\"iterations\"]\n",
    "    else:\n",
    "        iterations = None\n",
    "\n",
    "    # Get the attack\n",
    "    attack_function = attacks[attack]\n",
    "\n",
    "    print(\"Training the model using adversarial examples...\")\n",
    "\n",
    "    # Use a pretty progress bar to show updates\n",
    "    for epoch in tnrange(epochs, desc=\"Adversarial Training Progress\"):\n",
    "        for _, (images, labels) in enumerate(tqdm(trainSetLoader, desc=\"Batches\")):\n",
    "            # Cast to proper tensors\n",
    "            images, labels = images.to(device), labels.to(device)\n",
    "\n",
    "            # Run the attack\n",
    "            model.eval()\n",
    "            perturbed_images = attack_function(\n",
    "                images,\n",
    "                labels,\n",
    "                model,\n",
    "                loss_function,\n",
    "                epsilon=epsilon,\n",
    "                alpha=alpha,\n",
    "                scale=True,\n",
    "                iterations=iterations,\n",
    "            )\n",
    "            model.train()\n",
    "\n",
    "            # Predict and optimise\n",
    "            optimizer.zero_grad()\n",
    "\n",
    "            logits = model(perturbed_images)\n",
    "            loss = loss_function(logits, labels)\n",
    "\n",
    "            # Gradient descent\n",
    "            loss.backward()\n",
    "            optimizer.step()\n",
    "\n",
    "    print(\"... done!\")\n",
    "\n",
    "    # Return the trained model\n",
    "    return model"
   ]
  },
  {
   "cell_type": "markdown",
   "metadata": {},
   "source": [
    "### FGSM Adversarial Training"
   ]
  },
  {
   "cell_type": "code",
   "execution_count": 29,
   "metadata": {},
   "outputs": [
    {
     "name": "stdout",
     "output_type": "stream",
     "text": [
      "Training the model using adversarial examples...\n"
     ]
    },
    {
     "data": {
      "application/vnd.jupyter.widget-view+json": {
       "model_id": "0e154a7fc5ec4482bfe4d8b8db019ba5",
       "version_major": 2,
       "version_minor": 0
      },
      "text/plain": [
       "Adversarial Training Progress:   0%|          | 0/20 [00:00<?, ?it/s]"
      ]
     },
     "metadata": {},
     "output_type": "display_data"
    },
    {
     "data": {
      "application/vnd.jupyter.widget-view+json": {
       "model_id": "7a9ab678ce0349d0b7868fe0bd9ea4e0",
       "version_major": 2,
       "version_minor": 0
      },
      "text/plain": [
       "Batches:   0%|          | 0/782 [00:00<?, ?it/s]"
      ]
     },
     "metadata": {},
     "output_type": "display_data"
    },
    {
     "data": {
      "application/vnd.jupyter.widget-view+json": {
       "model_id": "c8fe0de14c824fb2b9a66ac007fd934a",
       "version_major": 2,
       "version_minor": 0
      },
      "text/plain": [
       "Batches:   0%|          | 0/782 [00:00<?, ?it/s]"
      ]
     },
     "metadata": {},
     "output_type": "display_data"
    },
    {
     "data": {
      "application/vnd.jupyter.widget-view+json": {
       "model_id": "e45b0e3579b24e2dbcfc94e4a73123d0",
       "version_major": 2,
       "version_minor": 0
      },
      "text/plain": [
       "Batches:   0%|          | 0/782 [00:00<?, ?it/s]"
      ]
     },
     "metadata": {},
     "output_type": "display_data"
    },
    {
     "data": {
      "application/vnd.jupyter.widget-view+json": {
       "model_id": "6ada9a14a3c44db6aacd99891ed0f697",
       "version_major": 2,
       "version_minor": 0
      },
      "text/plain": [
       "Batches:   0%|          | 0/782 [00:00<?, ?it/s]"
      ]
     },
     "metadata": {},
     "output_type": "display_data"
    },
    {
     "data": {
      "application/vnd.jupyter.widget-view+json": {
       "model_id": "1674539a39bb4e50adcac509f76c2c68",
       "version_major": 2,
       "version_minor": 0
      },
      "text/plain": [
       "Batches:   0%|          | 0/782 [00:00<?, ?it/s]"
      ]
     },
     "metadata": {},
     "output_type": "display_data"
    },
    {
     "data": {
      "application/vnd.jupyter.widget-view+json": {
       "model_id": "0abb84306e324b7ea0813d289f8b156c",
       "version_major": 2,
       "version_minor": 0
      },
      "text/plain": [
       "Batches:   0%|          | 0/782 [00:00<?, ?it/s]"
      ]
     },
     "metadata": {},
     "output_type": "display_data"
    },
    {
     "data": {
      "application/vnd.jupyter.widget-view+json": {
       "model_id": "ed1f1ef0683e436da45d40cbff655a83",
       "version_major": 2,
       "version_minor": 0
      },
      "text/plain": [
       "Batches:   0%|          | 0/782 [00:00<?, ?it/s]"
      ]
     },
     "metadata": {},
     "output_type": "display_data"
    },
    {
     "data": {
      "application/vnd.jupyter.widget-view+json": {
       "model_id": "a02e84a0393a40669a3a0defc99efced",
       "version_major": 2,
       "version_minor": 0
      },
      "text/plain": [
       "Batches:   0%|          | 0/782 [00:00<?, ?it/s]"
      ]
     },
     "metadata": {},
     "output_type": "display_data"
    },
    {
     "data": {
      "application/vnd.jupyter.widget-view+json": {
       "model_id": "75f8c4d85091456dace2835a3d4d8615",
       "version_major": 2,
       "version_minor": 0
      },
      "text/plain": [
       "Batches:   0%|          | 0/782 [00:00<?, ?it/s]"
      ]
     },
     "metadata": {},
     "output_type": "display_data"
    },
    {
     "data": {
      "application/vnd.jupyter.widget-view+json": {
       "model_id": "59651f65e4204776b00fe1d7941a1471",
       "version_major": 2,
       "version_minor": 0
      },
      "text/plain": [
       "Batches:   0%|          | 0/782 [00:00<?, ?it/s]"
      ]
     },
     "metadata": {},
     "output_type": "display_data"
    },
    {
     "data": {
      "application/vnd.jupyter.widget-view+json": {
       "model_id": "d0de362a7c374fdda1eef23d2b859b28",
       "version_major": 2,
       "version_minor": 0
      },
      "text/plain": [
       "Batches:   0%|          | 0/782 [00:00<?, ?it/s]"
      ]
     },
     "metadata": {},
     "output_type": "display_data"
    },
    {
     "data": {
      "application/vnd.jupyter.widget-view+json": {
       "model_id": "cd30c16dcf9244269fe5f41578ce7bd2",
       "version_major": 2,
       "version_minor": 0
      },
      "text/plain": [
       "Batches:   0%|          | 0/782 [00:00<?, ?it/s]"
      ]
     },
     "metadata": {},
     "output_type": "display_data"
    },
    {
     "data": {
      "application/vnd.jupyter.widget-view+json": {
       "model_id": "fcddacb97d1e4dd28eda4052e2b4adf1",
       "version_major": 2,
       "version_minor": 0
      },
      "text/plain": [
       "Batches:   0%|          | 0/782 [00:00<?, ?it/s]"
      ]
     },
     "metadata": {},
     "output_type": "display_data"
    },
    {
     "data": {
      "application/vnd.jupyter.widget-view+json": {
       "model_id": "99bee35d495d478da530966bee63fa5c",
       "version_major": 2,
       "version_minor": 0
      },
      "text/plain": [
       "Batches:   0%|          | 0/782 [00:00<?, ?it/s]"
      ]
     },
     "metadata": {},
     "output_type": "display_data"
    },
    {
     "data": {
      "application/vnd.jupyter.widget-view+json": {
       "model_id": "9e85de0bb2fc45d786224203fc02dd7e",
       "version_major": 2,
       "version_minor": 0
      },
      "text/plain": [
       "Batches:   0%|          | 0/782 [00:00<?, ?it/s]"
      ]
     },
     "metadata": {},
     "output_type": "display_data"
    },
    {
     "data": {
      "application/vnd.jupyter.widget-view+json": {
       "model_id": "a45fdf719f3e4912a21cd259f411ccf0",
       "version_major": 2,
       "version_minor": 0
      },
      "text/plain": [
       "Batches:   0%|          | 0/782 [00:00<?, ?it/s]"
      ]
     },
     "metadata": {},
     "output_type": "display_data"
    },
    {
     "data": {
      "application/vnd.jupyter.widget-view+json": {
       "model_id": "7941002aa8c74236be19962171214325",
       "version_major": 2,
       "version_minor": 0
      },
      "text/plain": [
       "Batches:   0%|          | 0/782 [00:00<?, ?it/s]"
      ]
     },
     "metadata": {},
     "output_type": "display_data"
    },
    {
     "data": {
      "application/vnd.jupyter.widget-view+json": {
       "model_id": "18eee9e157a04141802e523e0db942df",
       "version_major": 2,
       "version_minor": 0
      },
      "text/plain": [
       "Batches:   0%|          | 0/782 [00:00<?, ?it/s]"
      ]
     },
     "metadata": {},
     "output_type": "display_data"
    },
    {
     "data": {
      "application/vnd.jupyter.widget-view+json": {
       "model_id": "077cdc71c8cb4f67bb006547e1e0b328",
       "version_major": 2,
       "version_minor": 0
      },
      "text/plain": [
       "Batches:   0%|          | 0/782 [00:00<?, ?it/s]"
      ]
     },
     "metadata": {},
     "output_type": "display_data"
    },
    {
     "data": {
      "application/vnd.jupyter.widget-view+json": {
       "model_id": "65bcd051596e4041bb319aeec4f6a469",
       "version_major": 2,
       "version_minor": 0
      },
      "text/plain": [
       "Batches:   0%|          | 0/782 [00:00<?, ?it/s]"
      ]
     },
     "metadata": {},
     "output_type": "display_data"
    },
    {
     "name": "stdout",
     "output_type": "stream",
     "text": [
      "... done!\n"
     ]
    },
    {
     "data": {
      "text/plain": [
       "LeNet5(\n",
       "  (conv1): Conv2d(1, 32, kernel_size=(5, 5), stride=(1, 1), padding=(2, 2))\n",
       "  (max_pool_1): MaxPool2d(kernel_size=2, stride=2, padding=0, dilation=1, ceil_mode=False)\n",
       "  (conv2): Conv2d(32, 64, kernel_size=(5, 5), stride=(1, 1), padding=(2, 2))\n",
       "  (max_pool_2): MaxPool2d(kernel_size=2, stride=2, padding=0, dilation=1, ceil_mode=False)\n",
       "  (fc1): Linear(in_features=3136, out_features=1024, bias=True)\n",
       "  (fc2): Linear(in_features=1024, out_features=10, bias=True)\n",
       ")"
      ]
     },
     "execution_count": 29,
     "metadata": {},
     "output_type": "execute_result"
    }
   ],
   "source": [
    "fgsm_model = get_adversarially_trained_model(\"FGSM\", epsilon=0.2)\n",
    "\n",
    "fgsm_model.eval()"
   ]
  },
  {
   "cell_type": "code",
   "execution_count": 30,
   "metadata": {},
   "outputs": [],
   "source": [
    "# Several values to use for the epsilons\n",
    "epsilons = [0, 0.05, 0.1, 0.2, 0.35, 0.55, 0.75, 1]"
   ]
  },
  {
   "cell_type": "code",
   "execution_count": 31,
   "metadata": {},
   "outputs": [
    {
     "name": "stdout",
     "output_type": "stream",
     "text": [
      "Testing the model under FGSM Attack using epsilon = 0, alpha = None...\n"
     ]
    },
    {
     "data": {
      "application/vnd.jupyter.widget-view+json": {
       "model_id": "44dc151fc23d43f2bbeb108af8f530e5",
       "version_major": 2,
       "version_minor": 0
      },
      "text/plain": [
       "FGSM Attack Testing Progress:   0%|          | 0/157 [00:00<?, ?it/s]"
      ]
     },
     "metadata": {},
     "output_type": "display_data"
    },
    {
     "name": "stdout",
     "output_type": "stream",
     "text": [
      "... done! Accuracy: 62.62%\n",
      "\n",
      "\n",
      "Testing the model under FGSM Attack using epsilon = 0.05, alpha = None...\n"
     ]
    },
    {
     "data": {
      "application/vnd.jupyter.widget-view+json": {
       "model_id": "aaaaee3d97574cbba47fdf1bb43bbe4b",
       "version_major": 2,
       "version_minor": 0
      },
      "text/plain": [
       "FGSM Attack Testing Progress:   0%|          | 0/157 [00:00<?, ?it/s]"
      ]
     },
     "metadata": {},
     "output_type": "display_data"
    },
    {
     "name": "stdout",
     "output_type": "stream",
     "text": [
      "... done! Accuracy: 62.69%\n",
      "\n",
      "\n",
      "Testing the model under FGSM Attack using epsilon = 0.1, alpha = None...\n"
     ]
    },
    {
     "data": {
      "application/vnd.jupyter.widget-view+json": {
       "model_id": "a9078ab0374548e588a4e0e8762e21f2",
       "version_major": 2,
       "version_minor": 0
      },
      "text/plain": [
       "FGSM Attack Testing Progress:   0%|          | 0/157 [00:00<?, ?it/s]"
      ]
     },
     "metadata": {},
     "output_type": "display_data"
    },
    {
     "name": "stdout",
     "output_type": "stream",
     "text": [
      "... done! Accuracy: 79.48%\n",
      "\n",
      "\n",
      "Testing the model under FGSM Attack using epsilon = 0.2, alpha = None...\n"
     ]
    },
    {
     "data": {
      "application/vnd.jupyter.widget-view+json": {
       "model_id": "b9d431e4f4d84928acdc36abc92b47f7",
       "version_major": 2,
       "version_minor": 0
      },
      "text/plain": [
       "FGSM Attack Testing Progress:   0%|          | 0/157 [00:00<?, ?it/s]"
      ]
     },
     "metadata": {},
     "output_type": "display_data"
    },
    {
     "name": "stdout",
     "output_type": "stream",
     "text": [
      "... done! Accuracy: 92.45%\n",
      "\n",
      "\n",
      "Testing the model under FGSM Attack using epsilon = 0.35, alpha = None...\n"
     ]
    },
    {
     "data": {
      "application/vnd.jupyter.widget-view+json": {
       "model_id": "fccb035de0f84a8280180ddec3701893",
       "version_major": 2,
       "version_minor": 0
      },
      "text/plain": [
       "FGSM Attack Testing Progress:   0%|          | 0/157 [00:00<?, ?it/s]"
      ]
     },
     "metadata": {},
     "output_type": "display_data"
    },
    {
     "name": "stdout",
     "output_type": "stream",
     "text": [
      "... done! Accuracy: 76.35%\n",
      "\n",
      "\n",
      "Testing the model under FGSM Attack using epsilon = 0.55, alpha = None...\n"
     ]
    },
    {
     "data": {
      "application/vnd.jupyter.widget-view+json": {
       "model_id": "d01c0f129e5e4f158cbd261a34d8ae51",
       "version_major": 2,
       "version_minor": 0
      },
      "text/plain": [
       "FGSM Attack Testing Progress:   0%|          | 0/157 [00:00<?, ?it/s]"
      ]
     },
     "metadata": {},
     "output_type": "display_data"
    },
    {
     "name": "stdout",
     "output_type": "stream",
     "text": [
      "... done! Accuracy: 17.58%\n",
      "\n",
      "\n",
      "Testing the model under FGSM Attack using epsilon = 0.75, alpha = None...\n"
     ]
    },
    {
     "data": {
      "application/vnd.jupyter.widget-view+json": {
       "model_id": "9c3901a068ab4affae3a5a7716133a4f",
       "version_major": 2,
       "version_minor": 0
      },
      "text/plain": [
       "FGSM Attack Testing Progress:   0%|          | 0/157 [00:00<?, ?it/s]"
      ]
     },
     "metadata": {},
     "output_type": "display_data"
    },
    {
     "name": "stdout",
     "output_type": "stream",
     "text": [
      "... done! Accuracy: 16.18%\n",
      "\n",
      "\n",
      "Testing the model under FGSM Attack using epsilon = 1, alpha = None...\n"
     ]
    },
    {
     "data": {
      "application/vnd.jupyter.widget-view+json": {
       "model_id": "7bdc484874d440658280a26e84b2cdd2",
       "version_major": 2,
       "version_minor": 0
      },
      "text/plain": [
       "FGSM Attack Testing Progress:   0%|          | 0/157 [00:00<?, ?it/s]"
      ]
     },
     "metadata": {},
     "output_type": "display_data"
    },
    {
     "name": "stdout",
     "output_type": "stream",
     "text": [
      "... done! Accuracy: 16.37%\n",
      "\n",
      "\n"
     ]
    }
   ],
   "source": [
    "# Run test for each epsilon\n",
    "for epsilon in epsilons:\n",
    "    attacking.attack_model(\n",
    "        fgsm_model,\n",
    "        testSetLoader,\n",
    "        \"FGSM\",\n",
    "        attacks[\"FGSM\"],\n",
    "        epsilon=epsilon,\n",
    "    )"
   ]
  },
  {
   "cell_type": "code",
   "execution_count": 32,
   "metadata": {},
   "outputs": [],
   "source": [
    "# Several values to use for the epsilons\n",
    "epsilons = [0, 4 / 255, 0.05, 0.1, 0.2, 0.35, 0.55, 0.75, 1]"
   ]
  },
  {
   "cell_type": "code",
   "execution_count": 33,
   "metadata": {},
   "outputs": [
    {
     "name": "stdout",
     "output_type": "stream",
     "text": [
      "Testing the model under PGD Attack using epsilon = 0, alpha = 0.00784313725490196...\n"
     ]
    },
    {
     "data": {
      "application/vnd.jupyter.widget-view+json": {
       "model_id": "390ee44c109348b69298c8f7eb572935",
       "version_major": 2,
       "version_minor": 0
      },
      "text/plain": [
       "PGD Attack Testing Progress:   0%|          | 0/157 [00:00<?, ?it/s]"
      ]
     },
     "metadata": {},
     "output_type": "display_data"
    },
    {
     "name": "stdout",
     "output_type": "stream",
     "text": [
      "... done! Accuracy: 62.62%\n",
      "\n",
      "\n",
      "Testing the model under PGD Attack using epsilon = 0.01568627450980392, alpha = 0.00784313725490196...\n"
     ]
    },
    {
     "data": {
      "application/vnd.jupyter.widget-view+json": {
       "model_id": "c5bd9c3768734f61a547a3eb55fa23e0",
       "version_major": 2,
       "version_minor": 0
      },
      "text/plain": [
       "PGD Attack Testing Progress:   0%|          | 0/157 [00:00<?, ?it/s]"
      ]
     },
     "metadata": {},
     "output_type": "display_data"
    },
    {
     "name": "stdout",
     "output_type": "stream",
     "text": [
      "... done! Accuracy: 46.95%\n",
      "\n",
      "\n",
      "Testing the model under PGD Attack using epsilon = 0.05, alpha = 0.00784313725490196...\n"
     ]
    },
    {
     "data": {
      "application/vnd.jupyter.widget-view+json": {
       "model_id": "15e5cbaf06874529827a87d7e931ade7",
       "version_major": 2,
       "version_minor": 0
      },
      "text/plain": [
       "PGD Attack Testing Progress:   0%|          | 0/157 [00:00<?, ?it/s]"
      ]
     },
     "metadata": {},
     "output_type": "display_data"
    },
    {
     "name": "stdout",
     "output_type": "stream",
     "text": [
      "... done! Accuracy: 23.71%\n",
      "\n",
      "\n",
      "Testing the model under PGD Attack using epsilon = 0.1, alpha = 0.00784313725490196...\n"
     ]
    },
    {
     "data": {
      "application/vnd.jupyter.widget-view+json": {
       "model_id": "5812968cc0dd40f3b823c2fa29785de1",
       "version_major": 2,
       "version_minor": 0
      },
      "text/plain": [
       "PGD Attack Testing Progress:   0%|          | 0/157 [00:00<?, ?it/s]"
      ]
     },
     "metadata": {},
     "output_type": "display_data"
    },
    {
     "name": "stdout",
     "output_type": "stream",
     "text": [
      "... done! Accuracy: 12.89%\n",
      "\n",
      "\n",
      "Testing the model under PGD Attack using epsilon = 0.2, alpha = 0.00784313725490196...\n"
     ]
    },
    {
     "data": {
      "application/vnd.jupyter.widget-view+json": {
       "model_id": "af199eb28ec44ae1bcb4043feb7d74f7",
       "version_major": 2,
       "version_minor": 0
      },
      "text/plain": [
       "PGD Attack Testing Progress:   0%|          | 0/157 [00:00<?, ?it/s]"
      ]
     },
     "metadata": {},
     "output_type": "display_data"
    },
    {
     "name": "stdout",
     "output_type": "stream",
     "text": [
      "... done! Accuracy: 8.43%\n",
      "\n",
      "\n",
      "Testing the model under PGD Attack using epsilon = 0.35, alpha = 0.00784313725490196...\n"
     ]
    },
    {
     "data": {
      "application/vnd.jupyter.widget-view+json": {
       "model_id": "fd92d756dc614fbc99781636a1cc1d06",
       "version_major": 2,
       "version_minor": 0
      },
      "text/plain": [
       "PGD Attack Testing Progress:   0%|          | 0/157 [00:00<?, ?it/s]"
      ]
     },
     "metadata": {},
     "output_type": "display_data"
    },
    {
     "name": "stdout",
     "output_type": "stream",
     "text": [
      "... done! Accuracy: 5.62%\n",
      "\n",
      "\n",
      "Testing the model under PGD Attack using epsilon = 0.55, alpha = 0.00784313725490196...\n"
     ]
    },
    {
     "data": {
      "application/vnd.jupyter.widget-view+json": {
       "model_id": "ee7c3406c95f4df2b81e6b55fd3cec38",
       "version_major": 2,
       "version_minor": 0
      },
      "text/plain": [
       "PGD Attack Testing Progress:   0%|          | 0/157 [00:00<?, ?it/s]"
      ]
     },
     "metadata": {},
     "output_type": "display_data"
    },
    {
     "name": "stdout",
     "output_type": "stream",
     "text": [
      "... done! Accuracy: 2.38%\n",
      "\n",
      "\n",
      "Testing the model under PGD Attack using epsilon = 0.75, alpha = 0.00784313725490196...\n"
     ]
    },
    {
     "data": {
      "application/vnd.jupyter.widget-view+json": {
       "model_id": "b6d0d4b4bf3a44beb866235e9a72ed60",
       "version_major": 2,
       "version_minor": 0
      },
      "text/plain": [
       "PGD Attack Testing Progress:   0%|          | 0/157 [00:00<?, ?it/s]"
      ]
     },
     "metadata": {},
     "output_type": "display_data"
    },
    {
     "name": "stdout",
     "output_type": "stream",
     "text": [
      "... done! Accuracy: 0.72%\n",
      "\n",
      "\n",
      "Testing the model under PGD Attack using epsilon = 1, alpha = 0.00784313725490196...\n"
     ]
    },
    {
     "data": {
      "application/vnd.jupyter.widget-view+json": {
       "model_id": "0301c624588647f7b7d156bd8e7f444a",
       "version_major": 2,
       "version_minor": 0
      },
      "text/plain": [
       "PGD Attack Testing Progress:   0%|          | 0/157 [00:00<?, ?it/s]"
      ]
     },
     "metadata": {},
     "output_type": "display_data"
    },
    {
     "name": "stdout",
     "output_type": "stream",
     "text": [
      "... done! Accuracy: 0.3%\n",
      "\n",
      "\n"
     ]
    }
   ],
   "source": [
    "for epsilon in epsilons:\n",
    "    attacking.attack_model(\n",
    "        fgsm_model,\n",
    "        testSetLoader,\n",
    "        \"PGD\",\n",
    "        attacks[\"PGD\"],\n",
    "        epsilon=epsilon,\n",
    "        alpha=(2 / 255),\n",
    "        iterations=7,\n",
    "    )"
   ]
  },
  {
   "cell_type": "code",
   "execution_count": 34,
   "metadata": {},
   "outputs": [
    {
     "name": "stdout",
     "output_type": "stream",
     "text": [
      "Testing the model...\n"
     ]
    },
    {
     "data": {
      "application/vnd.jupyter.widget-view+json": {
       "model_id": "3fd320a4d0de4cd4a6e880666fcc739b",
       "version_major": 2,
       "version_minor": 0
      },
      "text/plain": [
       "Testing Progress:   0%|          | 0/157 [00:00<?, ?it/s]"
      ]
     },
     "metadata": {},
     "output_type": "display_data"
    },
    {
     "name": "stdout",
     "output_type": "stream",
     "text": [
      "... done! Accuracy: 62.62%\n"
     ]
    }
   ],
   "source": [
    "clean_test.test_trained_model(fgsm_model, testSetLoader)"
   ]
  },
  {
   "cell_type": "markdown",
   "metadata": {},
   "source": [
    "### PGD Adversarial Training"
   ]
  },
  {
   "cell_type": "code",
   "execution_count": 35,
   "metadata": {},
   "outputs": [
    {
     "name": "stdout",
     "output_type": "stream",
     "text": [
      "Training the model using adversarial examples...\n"
     ]
    },
    {
     "data": {
      "application/vnd.jupyter.widget-view+json": {
       "model_id": "212355816ae54c9a8b1fd3806f13b630",
       "version_major": 2,
       "version_minor": 0
      },
      "text/plain": [
       "Adversarial Training Progress:   0%|          | 0/20 [00:00<?, ?it/s]"
      ]
     },
     "metadata": {},
     "output_type": "display_data"
    },
    {
     "data": {
      "application/vnd.jupyter.widget-view+json": {
       "model_id": "e2896576c5d548f9927fe1df0803cd56",
       "version_major": 2,
       "version_minor": 0
      },
      "text/plain": [
       "Batches:   0%|          | 0/782 [00:00<?, ?it/s]"
      ]
     },
     "metadata": {},
     "output_type": "display_data"
    },
    {
     "data": {
      "application/vnd.jupyter.widget-view+json": {
       "model_id": "fef2e14fddbd434babab5eedcf62a433",
       "version_major": 2,
       "version_minor": 0
      },
      "text/plain": [
       "Batches:   0%|          | 0/782 [00:00<?, ?it/s]"
      ]
     },
     "metadata": {},
     "output_type": "display_data"
    },
    {
     "data": {
      "application/vnd.jupyter.widget-view+json": {
       "model_id": "2ef125a88fa14fcf998eaa4de8ab8536",
       "version_major": 2,
       "version_minor": 0
      },
      "text/plain": [
       "Batches:   0%|          | 0/782 [00:00<?, ?it/s]"
      ]
     },
     "metadata": {},
     "output_type": "display_data"
    },
    {
     "data": {
      "application/vnd.jupyter.widget-view+json": {
       "model_id": "ef17cc176c0a43a586e5f943529c4e73",
       "version_major": 2,
       "version_minor": 0
      },
      "text/plain": [
       "Batches:   0%|          | 0/782 [00:00<?, ?it/s]"
      ]
     },
     "metadata": {},
     "output_type": "display_data"
    },
    {
     "data": {
      "application/vnd.jupyter.widget-view+json": {
       "model_id": "656104ef547d4becb1eacf0fed515b06",
       "version_major": 2,
       "version_minor": 0
      },
      "text/plain": [
       "Batches:   0%|          | 0/782 [00:00<?, ?it/s]"
      ]
     },
     "metadata": {},
     "output_type": "display_data"
    },
    {
     "data": {
      "application/vnd.jupyter.widget-view+json": {
       "model_id": "37ef81f80bac4107803c45402a0ab0fc",
       "version_major": 2,
       "version_minor": 0
      },
      "text/plain": [
       "Batches:   0%|          | 0/782 [00:00<?, ?it/s]"
      ]
     },
     "metadata": {},
     "output_type": "display_data"
    },
    {
     "data": {
      "application/vnd.jupyter.widget-view+json": {
       "model_id": "8c87c3ec940b4124b4c878a0f8326a16",
       "version_major": 2,
       "version_minor": 0
      },
      "text/plain": [
       "Batches:   0%|          | 0/782 [00:00<?, ?it/s]"
      ]
     },
     "metadata": {},
     "output_type": "display_data"
    },
    {
     "data": {
      "application/vnd.jupyter.widget-view+json": {
       "model_id": "5fd6824615e74daabca7595e4d296727",
       "version_major": 2,
       "version_minor": 0
      },
      "text/plain": [
       "Batches:   0%|          | 0/782 [00:00<?, ?it/s]"
      ]
     },
     "metadata": {},
     "output_type": "display_data"
    },
    {
     "data": {
      "application/vnd.jupyter.widget-view+json": {
       "model_id": "05231e6908544f1d9f8b838b678f20fd",
       "version_major": 2,
       "version_minor": 0
      },
      "text/plain": [
       "Batches:   0%|          | 0/782 [00:00<?, ?it/s]"
      ]
     },
     "metadata": {},
     "output_type": "display_data"
    },
    {
     "data": {
      "application/vnd.jupyter.widget-view+json": {
       "model_id": "de9818c4f0944d62baeba560697e9414",
       "version_major": 2,
       "version_minor": 0
      },
      "text/plain": [
       "Batches:   0%|          | 0/782 [00:00<?, ?it/s]"
      ]
     },
     "metadata": {},
     "output_type": "display_data"
    },
    {
     "data": {
      "application/vnd.jupyter.widget-view+json": {
       "model_id": "860cb49d64944f63b9ea2bf60afb8882",
       "version_major": 2,
       "version_minor": 0
      },
      "text/plain": [
       "Batches:   0%|          | 0/782 [00:00<?, ?it/s]"
      ]
     },
     "metadata": {},
     "output_type": "display_data"
    },
    {
     "data": {
      "application/vnd.jupyter.widget-view+json": {
       "model_id": "89eb80ae26084fdd9a02772b811dcd5a",
       "version_major": 2,
       "version_minor": 0
      },
      "text/plain": [
       "Batches:   0%|          | 0/782 [00:00<?, ?it/s]"
      ]
     },
     "metadata": {},
     "output_type": "display_data"
    },
    {
     "data": {
      "application/vnd.jupyter.widget-view+json": {
       "model_id": "5fe06ca8ec4044c3b89b82852e1e75c1",
       "version_major": 2,
       "version_minor": 0
      },
      "text/plain": [
       "Batches:   0%|          | 0/782 [00:00<?, ?it/s]"
      ]
     },
     "metadata": {},
     "output_type": "display_data"
    },
    {
     "data": {
      "application/vnd.jupyter.widget-view+json": {
       "model_id": "9088a80e74f54a32bafd5c4f77159ee4",
       "version_major": 2,
       "version_minor": 0
      },
      "text/plain": [
       "Batches:   0%|          | 0/782 [00:00<?, ?it/s]"
      ]
     },
     "metadata": {},
     "output_type": "display_data"
    },
    {
     "data": {
      "application/vnd.jupyter.widget-view+json": {
       "model_id": "4c8dbad0ad08410ea9b7845bef59d349",
       "version_major": 2,
       "version_minor": 0
      },
      "text/plain": [
       "Batches:   0%|          | 0/782 [00:00<?, ?it/s]"
      ]
     },
     "metadata": {},
     "output_type": "display_data"
    },
    {
     "data": {
      "application/vnd.jupyter.widget-view+json": {
       "model_id": "c70a7c37779443eea5171ceeec2b375e",
       "version_major": 2,
       "version_minor": 0
      },
      "text/plain": [
       "Batches:   0%|          | 0/782 [00:00<?, ?it/s]"
      ]
     },
     "metadata": {},
     "output_type": "display_data"
    },
    {
     "data": {
      "application/vnd.jupyter.widget-view+json": {
       "model_id": "9fc0bdb6381b42e183fc05791a3b5807",
       "version_major": 2,
       "version_minor": 0
      },
      "text/plain": [
       "Batches:   0%|          | 0/782 [00:00<?, ?it/s]"
      ]
     },
     "metadata": {},
     "output_type": "display_data"
    },
    {
     "data": {
      "application/vnd.jupyter.widget-view+json": {
       "model_id": "7f7d4038907e4c2bbfa3a057e6b586a6",
       "version_major": 2,
       "version_minor": 0
      },
      "text/plain": [
       "Batches:   0%|          | 0/782 [00:00<?, ?it/s]"
      ]
     },
     "metadata": {},
     "output_type": "display_data"
    },
    {
     "data": {
      "application/vnd.jupyter.widget-view+json": {
       "model_id": "c053750c35484f938bb0dbe0782c7944",
       "version_major": 2,
       "version_minor": 0
      },
      "text/plain": [
       "Batches:   0%|          | 0/782 [00:00<?, ?it/s]"
      ]
     },
     "metadata": {},
     "output_type": "display_data"
    },
    {
     "data": {
      "application/vnd.jupyter.widget-view+json": {
       "model_id": "b1095b077a704bb8aa27d812eb4084b5",
       "version_major": 2,
       "version_minor": 0
      },
      "text/plain": [
       "Batches:   0%|          | 0/782 [00:00<?, ?it/s]"
      ]
     },
     "metadata": {},
     "output_type": "display_data"
    },
    {
     "name": "stdout",
     "output_type": "stream",
     "text": [
      "... done!\n"
     ]
    },
    {
     "data": {
      "text/plain": [
       "LeNet5(\n",
       "  (conv1): Conv2d(1, 32, kernel_size=(5, 5), stride=(1, 1), padding=(2, 2))\n",
       "  (max_pool_1): MaxPool2d(kernel_size=2, stride=2, padding=0, dilation=1, ceil_mode=False)\n",
       "  (conv2): Conv2d(32, 64, kernel_size=(5, 5), stride=(1, 1), padding=(2, 2))\n",
       "  (max_pool_2): MaxPool2d(kernel_size=2, stride=2, padding=0, dilation=1, ceil_mode=False)\n",
       "  (fc1): Linear(in_features=3136, out_features=1024, bias=True)\n",
       "  (fc2): Linear(in_features=1024, out_features=10, bias=True)\n",
       ")"
      ]
     },
     "execution_count": 35,
     "metadata": {},
     "output_type": "execute_result"
    }
   ],
   "source": [
    "pgd_model = get_adversarially_trained_model(\n",
    "    \"PGD\", epsilon=0.6, alpha=(2 / 255), iterations=7\n",
    ")\n",
    "\n",
    "pgd_model.eval()"
   ]
  },
  {
   "cell_type": "code",
   "execution_count": 36,
   "metadata": {},
   "outputs": [],
   "source": [
    "# Several values to use for the epsilons\n",
    "epsilons = [0, 0.05, 0.1, 0.2, 0.35, 0.55, 0.75, 1]"
   ]
  },
  {
   "cell_type": "code",
   "execution_count": 37,
   "metadata": {},
   "outputs": [
    {
     "name": "stdout",
     "output_type": "stream",
     "text": [
      "Testing the model under FGSM Attack using epsilon = 0, alpha = None...\n"
     ]
    },
    {
     "data": {
      "application/vnd.jupyter.widget-view+json": {
       "model_id": "e77331a22881455990b4f2dc64c31a69",
       "version_major": 2,
       "version_minor": 0
      },
      "text/plain": [
       "FGSM Attack Testing Progress:   0%|          | 0/157 [00:00<?, ?it/s]"
      ]
     },
     "metadata": {},
     "output_type": "display_data"
    },
    {
     "name": "stdout",
     "output_type": "stream",
     "text": [
      "... done! Accuracy: 77.74%\n",
      "\n",
      "\n",
      "Testing the model under FGSM Attack using epsilon = 0.05, alpha = None...\n"
     ]
    },
    {
     "data": {
      "application/vnd.jupyter.widget-view+json": {
       "model_id": "e6849e1f8f7749e78e4756ca7c54bd90",
       "version_major": 2,
       "version_minor": 0
      },
      "text/plain": [
       "FGSM Attack Testing Progress:   0%|          | 0/157 [00:00<?, ?it/s]"
      ]
     },
     "metadata": {},
     "output_type": "display_data"
    },
    {
     "name": "stdout",
     "output_type": "stream",
     "text": [
      "... done! Accuracy: 66.4%\n",
      "\n",
      "\n",
      "Testing the model under FGSM Attack using epsilon = 0.1, alpha = None...\n"
     ]
    },
    {
     "data": {
      "application/vnd.jupyter.widget-view+json": {
       "model_id": "c6f3681df04140118479ba81fdf83722",
       "version_major": 2,
       "version_minor": 0
      },
      "text/plain": [
       "FGSM Attack Testing Progress:   0%|          | 0/157 [00:00<?, ?it/s]"
      ]
     },
     "metadata": {},
     "output_type": "display_data"
    },
    {
     "name": "stdout",
     "output_type": "stream",
     "text": [
      "... done! Accuracy: 55.97%\n",
      "\n",
      "\n",
      "Testing the model under FGSM Attack using epsilon = 0.2, alpha = None...\n"
     ]
    },
    {
     "data": {
      "application/vnd.jupyter.widget-view+json": {
       "model_id": "db4e53794ae647ed9518be6eac253a1b",
       "version_major": 2,
       "version_minor": 0
      },
      "text/plain": [
       "FGSM Attack Testing Progress:   0%|          | 0/157 [00:00<?, ?it/s]"
      ]
     },
     "metadata": {},
     "output_type": "display_data"
    },
    {
     "name": "stdout",
     "output_type": "stream",
     "text": [
      "... done! Accuracy: 38.08%\n",
      "\n",
      "\n",
      "Testing the model under FGSM Attack using epsilon = 0.35, alpha = None...\n"
     ]
    },
    {
     "data": {
      "application/vnd.jupyter.widget-view+json": {
       "model_id": "fb1de2ab3f8244eda19c67d573ee6346",
       "version_major": 2,
       "version_minor": 0
      },
      "text/plain": [
       "FGSM Attack Testing Progress:   0%|          | 0/157 [00:00<?, ?it/s]"
      ]
     },
     "metadata": {},
     "output_type": "display_data"
    },
    {
     "name": "stdout",
     "output_type": "stream",
     "text": [
      "... done! Accuracy: 24.2%\n",
      "\n",
      "\n",
      "Testing the model under FGSM Attack using epsilon = 0.55, alpha = None...\n"
     ]
    },
    {
     "data": {
      "application/vnd.jupyter.widget-view+json": {
       "model_id": "295171e08c1146bd9097a15deb0381b5",
       "version_major": 2,
       "version_minor": 0
      },
      "text/plain": [
       "FGSM Attack Testing Progress:   0%|          | 0/157 [00:00<?, ?it/s]"
      ]
     },
     "metadata": {},
     "output_type": "display_data"
    },
    {
     "name": "stdout",
     "output_type": "stream",
     "text": [
      "... done! Accuracy: 24.3%\n",
      "\n",
      "\n",
      "Testing the model under FGSM Attack using epsilon = 0.75, alpha = None...\n"
     ]
    },
    {
     "data": {
      "application/vnd.jupyter.widget-view+json": {
       "model_id": "369c548127984f159fe739e7200116f1",
       "version_major": 2,
       "version_minor": 0
      },
      "text/plain": [
       "FGSM Attack Testing Progress:   0%|          | 0/157 [00:00<?, ?it/s]"
      ]
     },
     "metadata": {},
     "output_type": "display_data"
    },
    {
     "name": "stdout",
     "output_type": "stream",
     "text": [
      "... done! Accuracy: 8.58%\n",
      "\n",
      "\n",
      "Testing the model under FGSM Attack using epsilon = 1, alpha = None...\n"
     ]
    },
    {
     "data": {
      "application/vnd.jupyter.widget-view+json": {
       "model_id": "991115447e56420c93f24955d81aca5b",
       "version_major": 2,
       "version_minor": 0
      },
      "text/plain": [
       "FGSM Attack Testing Progress:   0%|          | 0/157 [00:00<?, ?it/s]"
      ]
     },
     "metadata": {},
     "output_type": "display_data"
    },
    {
     "name": "stdout",
     "output_type": "stream",
     "text": [
      "... done! Accuracy: 9.65%\n",
      "\n",
      "\n"
     ]
    }
   ],
   "source": [
    "# Run test for each epsilon\n",
    "for epsilon in epsilons:\n",
    "    attacking.attack_model(\n",
    "        pgd_model,\n",
    "        testSetLoader,\n",
    "        \"FGSM\",\n",
    "        attacks[\"FGSM\"],\n",
    "        epsilon=epsilon,\n",
    "    )"
   ]
  },
  {
   "cell_type": "code",
   "execution_count": 38,
   "metadata": {},
   "outputs": [],
   "source": [
    "# Several values to use for the epsilons\n",
    "epsilons = [0, 4 / 255, 0.05, 0.1, 0.2, 0.35, 0.55, 0.75, 1]"
   ]
  },
  {
   "cell_type": "code",
   "execution_count": 39,
   "metadata": {},
   "outputs": [
    {
     "name": "stdout",
     "output_type": "stream",
     "text": [
      "Testing the model under PGD Attack using epsilon = 0, alpha = 0.00784313725490196...\n"
     ]
    },
    {
     "data": {
      "application/vnd.jupyter.widget-view+json": {
       "model_id": "beef37f4dc9644f2b77792accd262231",
       "version_major": 2,
       "version_minor": 0
      },
      "text/plain": [
       "PGD Attack Testing Progress:   0%|          | 0/157 [00:00<?, ?it/s]"
      ]
     },
     "metadata": {},
     "output_type": "display_data"
    },
    {
     "name": "stdout",
     "output_type": "stream",
     "text": [
      "... done! Accuracy: 77.74%\n",
      "\n",
      "\n",
      "Testing the model under PGD Attack using epsilon = 0.01568627450980392, alpha = 0.00784313725490196...\n"
     ]
    },
    {
     "data": {
      "application/vnd.jupyter.widget-view+json": {
       "model_id": "0e9f1dcd14a14ba28839b639f314bb2d",
       "version_major": 2,
       "version_minor": 0
      },
      "text/plain": [
       "PGD Attack Testing Progress:   0%|          | 0/157 [00:00<?, ?it/s]"
      ]
     },
     "metadata": {},
     "output_type": "display_data"
    },
    {
     "name": "stdout",
     "output_type": "stream",
     "text": [
      "... done! Accuracy: 74.17%\n",
      "\n",
      "\n",
      "Testing the model under PGD Attack using epsilon = 0.05, alpha = 0.00784313725490196...\n"
     ]
    },
    {
     "data": {
      "application/vnd.jupyter.widget-view+json": {
       "model_id": "e82019b79e5a4d31a65d3fb7645efbc1",
       "version_major": 2,
       "version_minor": 0
      },
      "text/plain": [
       "PGD Attack Testing Progress:   0%|          | 0/157 [00:00<?, ?it/s]"
      ]
     },
     "metadata": {},
     "output_type": "display_data"
    },
    {
     "name": "stdout",
     "output_type": "stream",
     "text": [
      "... done! Accuracy: 68.12%\n",
      "\n",
      "\n",
      "Testing the model under PGD Attack using epsilon = 0.1, alpha = 0.00784313725490196...\n"
     ]
    },
    {
     "data": {
      "application/vnd.jupyter.widget-view+json": {
       "model_id": "0612578ef5e4402388d46b28588bc390",
       "version_major": 2,
       "version_minor": 0
      },
      "text/plain": [
       "PGD Attack Testing Progress:   0%|          | 0/157 [00:00<?, ?it/s]"
      ]
     },
     "metadata": {},
     "output_type": "display_data"
    },
    {
     "name": "stdout",
     "output_type": "stream",
     "text": [
      "... done! Accuracy: 67.1%\n",
      "\n",
      "\n",
      "Testing the model under PGD Attack using epsilon = 0.2, alpha = 0.00784313725490196...\n"
     ]
    },
    {
     "data": {
      "application/vnd.jupyter.widget-view+json": {
       "model_id": "d2b1ccc608e94ccbb9efcbd0ef5a214c",
       "version_major": 2,
       "version_minor": 0
      },
      "text/plain": [
       "PGD Attack Testing Progress:   0%|          | 0/157 [00:00<?, ?it/s]"
      ]
     },
     "metadata": {},
     "output_type": "display_data"
    },
    {
     "name": "stdout",
     "output_type": "stream",
     "text": [
      "... done! Accuracy: 68.94%\n",
      "\n",
      "\n",
      "Testing the model under PGD Attack using epsilon = 0.35, alpha = 0.00784313725490196...\n"
     ]
    },
    {
     "data": {
      "application/vnd.jupyter.widget-view+json": {
       "model_id": "fb2231cfb1154f848439219ce38f9a26",
       "version_major": 2,
       "version_minor": 0
      },
      "text/plain": [
       "PGD Attack Testing Progress:   0%|          | 0/157 [00:00<?, ?it/s]"
      ]
     },
     "metadata": {},
     "output_type": "display_data"
    },
    {
     "name": "stdout",
     "output_type": "stream",
     "text": [
      "... done! Accuracy: 72.69%\n",
      "\n",
      "\n",
      "Testing the model under PGD Attack using epsilon = 0.55, alpha = 0.00784313725490196...\n"
     ]
    },
    {
     "data": {
      "application/vnd.jupyter.widget-view+json": {
       "model_id": "854d52a49894430fbf23e96a5bd542f6",
       "version_major": 2,
       "version_minor": 0
      },
      "text/plain": [
       "PGD Attack Testing Progress:   0%|          | 0/157 [00:00<?, ?it/s]"
      ]
     },
     "metadata": {},
     "output_type": "display_data"
    },
    {
     "name": "stdout",
     "output_type": "stream",
     "text": [
      "... done! Accuracy: 75.97%\n",
      "\n",
      "\n",
      "Testing the model under PGD Attack using epsilon = 0.75, alpha = 0.00784313725490196...\n"
     ]
    },
    {
     "data": {
      "application/vnd.jupyter.widget-view+json": {
       "model_id": "c63c3f109e2b48c1b7a6fc174753574a",
       "version_major": 2,
       "version_minor": 0
      },
      "text/plain": [
       "PGD Attack Testing Progress:   0%|          | 0/157 [00:00<?, ?it/s]"
      ]
     },
     "metadata": {},
     "output_type": "display_data"
    },
    {
     "name": "stdout",
     "output_type": "stream",
     "text": [
      "... done! Accuracy: 35.33%\n",
      "\n",
      "\n",
      "Testing the model under PGD Attack using epsilon = 1, alpha = 0.00784313725490196...\n"
     ]
    },
    {
     "data": {
      "application/vnd.jupyter.widget-view+json": {
       "model_id": "f786e7b9197a425785d5055d21138785",
       "version_major": 2,
       "version_minor": 0
      },
      "text/plain": [
       "PGD Attack Testing Progress:   0%|          | 0/157 [00:00<?, ?it/s]"
      ]
     },
     "metadata": {},
     "output_type": "display_data"
    },
    {
     "name": "stdout",
     "output_type": "stream",
     "text": [
      "... done! Accuracy: 8.76%\n",
      "\n",
      "\n"
     ]
    }
   ],
   "source": [
    "for epsilon in epsilons:\n",
    "    attacking.attack_model(\n",
    "        pgd_model,\n",
    "        testSetLoader,\n",
    "        \"PGD\",\n",
    "        attacks[\"PGD\"],\n",
    "        epsilon=epsilon,\n",
    "        alpha=(2 / 255),\n",
    "        iterations=7,\n",
    "    )"
   ]
  },
  {
   "cell_type": "code",
   "execution_count": 40,
   "metadata": {},
   "outputs": [
    {
     "name": "stdout",
     "output_type": "stream",
     "text": [
      "Testing the model...\n"
     ]
    },
    {
     "data": {
      "application/vnd.jupyter.widget-view+json": {
       "model_id": "db4d0738d80045d1854196d2818b1061",
       "version_major": 2,
       "version_minor": 0
      },
      "text/plain": [
       "Testing Progress:   0%|          | 0/157 [00:00<?, ?it/s]"
      ]
     },
     "metadata": {},
     "output_type": "display_data"
    },
    {
     "name": "stdout",
     "output_type": "stream",
     "text": [
      "... done! Accuracy: 77.74%\n"
     ]
    }
   ],
   "source": [
    "clean_test.test_trained_model(pgd_model, testSetLoader)"
   ]
  },
  {
   "cell_type": "markdown",
   "metadata": {},
   "source": [
    "## Jacobian Regularization"
   ]
  },
  {
   "cell_type": "code",
   "execution_count": 41,
   "metadata": {},
   "outputs": [],
   "source": [
    "import jacobian\n",
    "\n",
    "\n",
    "def get_jacobian_reg_trained_model():\n",
    "    # Various training parameters\n",
    "    epochs = 20\n",
    "    learning_rate = 0.01\n",
    "\n",
    "    # Network parameters\n",
    "    loss_function = nn.CrossEntropyLoss()\n",
    "    model = lenet.LeNet5().to(device)\n",
    "    model.train()\n",
    "\n",
    "    # Jacobian regularization\n",
    "    jacobian_reg = jacobian.JacobianReg()\n",
    "    jacobian_reg_lambda = 0.01\n",
    "\n",
    "    # Consider using ADAM here as another gradient descent algorithm\n",
    "    optimizer = torch.optim.SGD(\n",
    "        model.parameters(), lr=learning_rate, momentum=0.9, weight_decay=5e-4\n",
    "    )\n",
    "\n",
    "    print(\"Training the model using Jacobian Regularization...\")\n",
    "\n",
    "    # Use a pretty progress bar to show updates\n",
    "    for epoch in tnrange(epochs, desc=\"Jacobian Regularization Training Progress\"):\n",
    "        for _, (images, labels) in enumerate(tqdm(trainSetLoader, desc=\"Batches\")):\n",
    "            # Cast to proper tensors\n",
    "            images, labels = images.to(device), labels.to(device)\n",
    "\n",
    "            # Require gradients for Jacobian regularization\n",
    "            images.requires_grad = True\n",
    "\n",
    "            # Predict and optimise\n",
    "            optimizer.zero_grad()\n",
    "\n",
    "            # Predict\n",
    "            logits = model(images)\n",
    "\n",
    "            # Calculate loss\n",
    "            loss = loss_function(logits, labels)\n",
    "\n",
    "            # Introduce Jacobian regularization\n",
    "            jacobian_reg_loss = jacobian_reg(images, logits)\n",
    "\n",
    "            # Total loss\n",
    "            loss = loss + jacobian_reg_lambda * jacobian_reg_loss\n",
    "\n",
    "            # Gradient descent\n",
    "            loss.backward()\n",
    "            optimizer.step()\n",
    "\n",
    "    print(\"... done!\")\n",
    "\n",
    "    # Return the trained model\n",
    "    return model"
   ]
  },
  {
   "cell_type": "code",
   "execution_count": 42,
   "metadata": {},
   "outputs": [
    {
     "name": "stdout",
     "output_type": "stream",
     "text": [
      "Training the model using Jacobian Regularization...\n"
     ]
    },
    {
     "data": {
      "application/vnd.jupyter.widget-view+json": {
       "model_id": "65698b00fee242829778446eb1e525bb",
       "version_major": 2,
       "version_minor": 0
      },
      "text/plain": [
       "Jacobian Regularization Training Progress:   0%|          | 0/20 [00:00<?, ?it/s]"
      ]
     },
     "metadata": {},
     "output_type": "display_data"
    },
    {
     "data": {
      "application/vnd.jupyter.widget-view+json": {
       "model_id": "e0e8ed3bff9c432594cfad842a6dcffa",
       "version_major": 2,
       "version_minor": 0
      },
      "text/plain": [
       "Batches:   0%|          | 0/782 [00:00<?, ?it/s]"
      ]
     },
     "metadata": {},
     "output_type": "display_data"
    },
    {
     "name": "stderr",
     "output_type": "stream",
     "text": [
      "/home/calin/.local/lib/python3.8/site-packages/jacobian/jacobian.py:70: UserWarning: This overload of addcdiv is deprecated:\n",
      "\taddcdiv(Tensor input, Number value, Tensor tensor1, Tensor tensor2, *, Tensor out)\n",
      "Consider using one of the following signatures instead:\n",
      "\taddcdiv(Tensor input, Tensor tensor1, Tensor tensor2, *, Number value, Tensor out) (Triggered internally at  ../torch/csrc/utils/python_arg_parser.cpp:1050.)\n",
      "  v=torch.addcdiv(arxilirary_zero, 1.0, v, vnorm)\n"
     ]
    },
    {
     "data": {
      "application/vnd.jupyter.widget-view+json": {
       "model_id": "409f4c53a4a141f08851f7aed07a8e51",
       "version_major": 2,
       "version_minor": 0
      },
      "text/plain": [
       "Batches:   0%|          | 0/782 [00:00<?, ?it/s]"
      ]
     },
     "metadata": {},
     "output_type": "display_data"
    },
    {
     "data": {
      "application/vnd.jupyter.widget-view+json": {
       "model_id": "c5f868dce0c74c54a16989ca24655af3",
       "version_major": 2,
       "version_minor": 0
      },
      "text/plain": [
       "Batches:   0%|          | 0/782 [00:00<?, ?it/s]"
      ]
     },
     "metadata": {},
     "output_type": "display_data"
    },
    {
     "data": {
      "application/vnd.jupyter.widget-view+json": {
       "model_id": "61df978da9324fdc99d3a2a0d79fb679",
       "version_major": 2,
       "version_minor": 0
      },
      "text/plain": [
       "Batches:   0%|          | 0/782 [00:00<?, ?it/s]"
      ]
     },
     "metadata": {},
     "output_type": "display_data"
    },
    {
     "data": {
      "application/vnd.jupyter.widget-view+json": {
       "model_id": "1048fdac5a1f42e98bf9cb0e01d50c35",
       "version_major": 2,
       "version_minor": 0
      },
      "text/plain": [
       "Batches:   0%|          | 0/782 [00:00<?, ?it/s]"
      ]
     },
     "metadata": {},
     "output_type": "display_data"
    },
    {
     "data": {
      "application/vnd.jupyter.widget-view+json": {
       "model_id": "8fe3078df2c34d3b90875e893e6361ef",
       "version_major": 2,
       "version_minor": 0
      },
      "text/plain": [
       "Batches:   0%|          | 0/782 [00:00<?, ?it/s]"
      ]
     },
     "metadata": {},
     "output_type": "display_data"
    },
    {
     "data": {
      "application/vnd.jupyter.widget-view+json": {
       "model_id": "6d33cc462d0f40ddbddc6ab0b2f8f028",
       "version_major": 2,
       "version_minor": 0
      },
      "text/plain": [
       "Batches:   0%|          | 0/782 [00:00<?, ?it/s]"
      ]
     },
     "metadata": {},
     "output_type": "display_data"
    },
    {
     "data": {
      "application/vnd.jupyter.widget-view+json": {
       "model_id": "e39461ffad8c4498aff9371e463cb7b6",
       "version_major": 2,
       "version_minor": 0
      },
      "text/plain": [
       "Batches:   0%|          | 0/782 [00:00<?, ?it/s]"
      ]
     },
     "metadata": {},
     "output_type": "display_data"
    },
    {
     "data": {
      "application/vnd.jupyter.widget-view+json": {
       "model_id": "63f44e30754a43dbb8955f4dbbee7c00",
       "version_major": 2,
       "version_minor": 0
      },
      "text/plain": [
       "Batches:   0%|          | 0/782 [00:00<?, ?it/s]"
      ]
     },
     "metadata": {},
     "output_type": "display_data"
    },
    {
     "data": {
      "application/vnd.jupyter.widget-view+json": {
       "model_id": "05891bc07c4e419ebaff54024b1b6e1a",
       "version_major": 2,
       "version_minor": 0
      },
      "text/plain": [
       "Batches:   0%|          | 0/782 [00:00<?, ?it/s]"
      ]
     },
     "metadata": {},
     "output_type": "display_data"
    },
    {
     "data": {
      "application/vnd.jupyter.widget-view+json": {
       "model_id": "e84cdffed07744ac828709d8d9672d5d",
       "version_major": 2,
       "version_minor": 0
      },
      "text/plain": [
       "Batches:   0%|          | 0/782 [00:00<?, ?it/s]"
      ]
     },
     "metadata": {},
     "output_type": "display_data"
    },
    {
     "data": {
      "application/vnd.jupyter.widget-view+json": {
       "model_id": "58948629d1534399803b9bd00711e138",
       "version_major": 2,
       "version_minor": 0
      },
      "text/plain": [
       "Batches:   0%|          | 0/782 [00:00<?, ?it/s]"
      ]
     },
     "metadata": {},
     "output_type": "display_data"
    },
    {
     "data": {
      "application/vnd.jupyter.widget-view+json": {
       "model_id": "16d05bfba1f049d2aee7a9b2911f3662",
       "version_major": 2,
       "version_minor": 0
      },
      "text/plain": [
       "Batches:   0%|          | 0/782 [00:00<?, ?it/s]"
      ]
     },
     "metadata": {},
     "output_type": "display_data"
    },
    {
     "data": {
      "application/vnd.jupyter.widget-view+json": {
       "model_id": "c5d72a5dee284b189591401698500983",
       "version_major": 2,
       "version_minor": 0
      },
      "text/plain": [
       "Batches:   0%|          | 0/782 [00:00<?, ?it/s]"
      ]
     },
     "metadata": {},
     "output_type": "display_data"
    },
    {
     "data": {
      "application/vnd.jupyter.widget-view+json": {
       "model_id": "3351f98181d2464c9d32a9ca14c46670",
       "version_major": 2,
       "version_minor": 0
      },
      "text/plain": [
       "Batches:   0%|          | 0/782 [00:00<?, ?it/s]"
      ]
     },
     "metadata": {},
     "output_type": "display_data"
    },
    {
     "data": {
      "application/vnd.jupyter.widget-view+json": {
       "model_id": "5a9e1d07571547fab4a8b533eb3c262d",
       "version_major": 2,
       "version_minor": 0
      },
      "text/plain": [
       "Batches:   0%|          | 0/782 [00:00<?, ?it/s]"
      ]
     },
     "metadata": {},
     "output_type": "display_data"
    },
    {
     "data": {
      "application/vnd.jupyter.widget-view+json": {
       "model_id": "afea8088b1c14289a939c2176a036366",
       "version_major": 2,
       "version_minor": 0
      },
      "text/plain": [
       "Batches:   0%|          | 0/782 [00:00<?, ?it/s]"
      ]
     },
     "metadata": {},
     "output_type": "display_data"
    },
    {
     "data": {
      "application/vnd.jupyter.widget-view+json": {
       "model_id": "7eb3f01abbdb4bdcb0c7832a694ef21e",
       "version_major": 2,
       "version_minor": 0
      },
      "text/plain": [
       "Batches:   0%|          | 0/782 [00:00<?, ?it/s]"
      ]
     },
     "metadata": {},
     "output_type": "display_data"
    },
    {
     "data": {
      "application/vnd.jupyter.widget-view+json": {
       "model_id": "c6ee9d8e85554cba9e9658a14008d481",
       "version_major": 2,
       "version_minor": 0
      },
      "text/plain": [
       "Batches:   0%|          | 0/782 [00:00<?, ?it/s]"
      ]
     },
     "metadata": {},
     "output_type": "display_data"
    },
    {
     "data": {
      "application/vnd.jupyter.widget-view+json": {
       "model_id": "3887cd93f2ae4ab8a3585902ce10da11",
       "version_major": 2,
       "version_minor": 0
      },
      "text/plain": [
       "Batches:   0%|          | 0/782 [00:00<?, ?it/s]"
      ]
     },
     "metadata": {},
     "output_type": "display_data"
    },
    {
     "name": "stdout",
     "output_type": "stream",
     "text": [
      "... done!\n"
     ]
    },
    {
     "data": {
      "text/plain": [
       "LeNet5(\n",
       "  (conv1): Conv2d(1, 32, kernel_size=(5, 5), stride=(1, 1), padding=(2, 2))\n",
       "  (max_pool_1): MaxPool2d(kernel_size=2, stride=2, padding=0, dilation=1, ceil_mode=False)\n",
       "  (conv2): Conv2d(32, 64, kernel_size=(5, 5), stride=(1, 1), padding=(2, 2))\n",
       "  (max_pool_2): MaxPool2d(kernel_size=2, stride=2, padding=0, dilation=1, ceil_mode=False)\n",
       "  (fc1): Linear(in_features=3136, out_features=1024, bias=True)\n",
       "  (fc2): Linear(in_features=1024, out_features=10, bias=True)\n",
       ")"
      ]
     },
     "execution_count": 42,
     "metadata": {},
     "output_type": "execute_result"
    }
   ],
   "source": [
    "jacobian_reg_model = get_jacobian_reg_trained_model()\n",
    "\n",
    "# From now on we simply test the model\n",
    "jacobian_reg_model.eval()"
   ]
  },
  {
   "cell_type": "code",
   "execution_count": 43,
   "metadata": {},
   "outputs": [
    {
     "name": "stdout",
     "output_type": "stream",
     "text": [
      "Testing the model...\n"
     ]
    },
    {
     "data": {
      "application/vnd.jupyter.widget-view+json": {
       "model_id": "4142e05b67d841d294856a278e729699",
       "version_major": 2,
       "version_minor": 0
      },
      "text/plain": [
       "Testing Progress:   0%|          | 0/157 [00:00<?, ?it/s]"
      ]
     },
     "metadata": {},
     "output_type": "display_data"
    },
    {
     "name": "stdout",
     "output_type": "stream",
     "text": [
      "... done! Accuracy: 89.35%\n"
     ]
    }
   ],
   "source": [
    "clean_test.test_trained_model(jacobian_reg_model, testSetLoader)"
   ]
  },
  {
   "cell_type": "code",
   "execution_count": 44,
   "metadata": {},
   "outputs": [],
   "source": [
    "# Several values to use for the epsilons\n",
    "epsilons = [0, 0.05, 0.1, 0.2, 0.35, 0.55, 0.75, 1]"
   ]
  },
  {
   "cell_type": "code",
   "execution_count": 45,
   "metadata": {},
   "outputs": [
    {
     "name": "stdout",
     "output_type": "stream",
     "text": [
      "Testing the model under FGSM Attack using epsilon = 0, alpha = None...\n"
     ]
    },
    {
     "data": {
      "application/vnd.jupyter.widget-view+json": {
       "model_id": "790ddee06ba048c39ec6db9fafc539b2",
       "version_major": 2,
       "version_minor": 0
      },
      "text/plain": [
       "FGSM Attack Testing Progress:   0%|          | 0/157 [00:00<?, ?it/s]"
      ]
     },
     "metadata": {},
     "output_type": "display_data"
    },
    {
     "name": "stdout",
     "output_type": "stream",
     "text": [
      "... done! Accuracy: 89.35%\n",
      "\n",
      "\n",
      "Testing the model under FGSM Attack using epsilon = 0.05, alpha = None...\n"
     ]
    },
    {
     "data": {
      "application/vnd.jupyter.widget-view+json": {
       "model_id": "6969efea28a64dfc87dcbe6d971f872a",
       "version_major": 2,
       "version_minor": 0
      },
      "text/plain": [
       "FGSM Attack Testing Progress:   0%|          | 0/157 [00:00<?, ?it/s]"
      ]
     },
     "metadata": {},
     "output_type": "display_data"
    },
    {
     "name": "stdout",
     "output_type": "stream",
     "text": [
      "... done! Accuracy: 70.19%\n",
      "\n",
      "\n",
      "Testing the model under FGSM Attack using epsilon = 0.1, alpha = None...\n"
     ]
    },
    {
     "data": {
      "application/vnd.jupyter.widget-view+json": {
       "model_id": "5c3dba39b17544b1b2b2847465cb90ad",
       "version_major": 2,
       "version_minor": 0
      },
      "text/plain": [
       "FGSM Attack Testing Progress:   0%|          | 0/157 [00:00<?, ?it/s]"
      ]
     },
     "metadata": {},
     "output_type": "display_data"
    },
    {
     "name": "stdout",
     "output_type": "stream",
     "text": [
      "... done! Accuracy: 48.45%\n",
      "\n",
      "\n",
      "Testing the model under FGSM Attack using epsilon = 0.2, alpha = None...\n"
     ]
    },
    {
     "data": {
      "application/vnd.jupyter.widget-view+json": {
       "model_id": "ea2ae2adb7cf42a392bbcaa9c3cf3ed5",
       "version_major": 2,
       "version_minor": 0
      },
      "text/plain": [
       "FGSM Attack Testing Progress:   0%|          | 0/157 [00:00<?, ?it/s]"
      ]
     },
     "metadata": {},
     "output_type": "display_data"
    },
    {
     "name": "stdout",
     "output_type": "stream",
     "text": [
      "... done! Accuracy: 17.85%\n",
      "\n",
      "\n",
      "Testing the model under FGSM Attack using epsilon = 0.35, alpha = None...\n"
     ]
    },
    {
     "data": {
      "application/vnd.jupyter.widget-view+json": {
       "model_id": "0789d58f381043049b93ceaa85d9913a",
       "version_major": 2,
       "version_minor": 0
      },
      "text/plain": [
       "FGSM Attack Testing Progress:   0%|          | 0/157 [00:00<?, ?it/s]"
      ]
     },
     "metadata": {},
     "output_type": "display_data"
    },
    {
     "name": "stdout",
     "output_type": "stream",
     "text": [
      "... done! Accuracy: 2.85%\n",
      "\n",
      "\n",
      "Testing the model under FGSM Attack using epsilon = 0.55, alpha = None...\n"
     ]
    },
    {
     "data": {
      "application/vnd.jupyter.widget-view+json": {
       "model_id": "89de46aa25814da49974f9fa176e70bc",
       "version_major": 2,
       "version_minor": 0
      },
      "text/plain": [
       "FGSM Attack Testing Progress:   0%|          | 0/157 [00:00<?, ?it/s]"
      ]
     },
     "metadata": {},
     "output_type": "display_data"
    },
    {
     "name": "stdout",
     "output_type": "stream",
     "text": [
      "... done! Accuracy: 3.27%\n",
      "\n",
      "\n",
      "Testing the model under FGSM Attack using epsilon = 0.75, alpha = None...\n"
     ]
    },
    {
     "data": {
      "application/vnd.jupyter.widget-view+json": {
       "model_id": "e45f93d0136146e8a389034ef40806d9",
       "version_major": 2,
       "version_minor": 0
      },
      "text/plain": [
       "FGSM Attack Testing Progress:   0%|          | 0/157 [00:00<?, ?it/s]"
      ]
     },
     "metadata": {},
     "output_type": "display_data"
    },
    {
     "name": "stdout",
     "output_type": "stream",
     "text": [
      "... done! Accuracy: 4.81%\n",
      "\n",
      "\n",
      "Testing the model under FGSM Attack using epsilon = 1, alpha = None...\n"
     ]
    },
    {
     "data": {
      "application/vnd.jupyter.widget-view+json": {
       "model_id": "aae1e870cc76436abc34ca43f2e1d681",
       "version_major": 2,
       "version_minor": 0
      },
      "text/plain": [
       "FGSM Attack Testing Progress:   0%|          | 0/157 [00:00<?, ?it/s]"
      ]
     },
     "metadata": {},
     "output_type": "display_data"
    },
    {
     "name": "stdout",
     "output_type": "stream",
     "text": [
      "... done! Accuracy: 6.28%\n",
      "\n",
      "\n"
     ]
    }
   ],
   "source": [
    "# Run test for each epsilon\n",
    "for epsilon in epsilons:\n",
    "    attacking.attack_model(\n",
    "        jacobian_reg_model,\n",
    "        testSetLoader,\n",
    "        \"FGSM\",\n",
    "        attacks[\"FGSM\"],\n",
    "        epsilon=epsilon,\n",
    "    )"
   ]
  },
  {
   "cell_type": "code",
   "execution_count": 46,
   "metadata": {},
   "outputs": [],
   "source": [
    "# Several values to use for the epsilons\n",
    "epsilons = [0, 4 / 255, 0.05, 0.1, 0.2, 0.35, 0.55, 0.75, 1]"
   ]
  },
  {
   "cell_type": "code",
   "execution_count": 47,
   "metadata": {},
   "outputs": [
    {
     "name": "stdout",
     "output_type": "stream",
     "text": [
      "Testing the model under PGD Attack using epsilon = 0, alpha = 0.00784313725490196...\n"
     ]
    },
    {
     "data": {
      "application/vnd.jupyter.widget-view+json": {
       "model_id": "c6beb7e8f62d438f986991b1438f36ec",
       "version_major": 2,
       "version_minor": 0
      },
      "text/plain": [
       "PGD Attack Testing Progress:   0%|          | 0/157 [00:00<?, ?it/s]"
      ]
     },
     "metadata": {},
     "output_type": "display_data"
    },
    {
     "name": "stdout",
     "output_type": "stream",
     "text": [
      "... done! Accuracy: 89.35%\n",
      "\n",
      "\n",
      "Testing the model under PGD Attack using epsilon = 0.01568627450980392, alpha = 0.00784313725490196...\n"
     ]
    },
    {
     "data": {
      "application/vnd.jupyter.widget-view+json": {
       "model_id": "a2024cee078a44cab4989c177a2d0050",
       "version_major": 2,
       "version_minor": 0
      },
      "text/plain": [
       "PGD Attack Testing Progress:   0%|          | 0/157 [00:00<?, ?it/s]"
      ]
     },
     "metadata": {},
     "output_type": "display_data"
    },
    {
     "name": "stdout",
     "output_type": "stream",
     "text": [
      "... done! Accuracy: 84.08%\n",
      "\n",
      "\n",
      "Testing the model under PGD Attack using epsilon = 0.05, alpha = 0.00784313725490196...\n"
     ]
    },
    {
     "data": {
      "application/vnd.jupyter.widget-view+json": {
       "model_id": "c6566af0f5354cc598679b332c3a4a21",
       "version_major": 2,
       "version_minor": 0
      },
      "text/plain": [
       "PGD Attack Testing Progress:   0%|          | 0/157 [00:00<?, ?it/s]"
      ]
     },
     "metadata": {},
     "output_type": "display_data"
    },
    {
     "name": "stdout",
     "output_type": "stream",
     "text": [
      "... done! Accuracy: 71.74%\n",
      "\n",
      "\n",
      "Testing the model under PGD Attack using epsilon = 0.1, alpha = 0.00784313725490196...\n"
     ]
    },
    {
     "data": {
      "application/vnd.jupyter.widget-view+json": {
       "model_id": "2e8ed10757934b6aa32048ba6528932a",
       "version_major": 2,
       "version_minor": 0
      },
      "text/plain": [
       "PGD Attack Testing Progress:   0%|          | 0/157 [00:00<?, ?it/s]"
      ]
     },
     "metadata": {},
     "output_type": "display_data"
    },
    {
     "name": "stdout",
     "output_type": "stream",
     "text": [
      "... done! Accuracy: 64.36%\n",
      "\n",
      "\n",
      "Testing the model under PGD Attack using epsilon = 0.2, alpha = 0.00784313725490196...\n"
     ]
    },
    {
     "data": {
      "application/vnd.jupyter.widget-view+json": {
       "model_id": "746f6c9680f34cb1a3c93fa807d7736e",
       "version_major": 2,
       "version_minor": 0
      },
      "text/plain": [
       "PGD Attack Testing Progress:   0%|          | 0/157 [00:00<?, ?it/s]"
      ]
     },
     "metadata": {},
     "output_type": "display_data"
    },
    {
     "name": "stdout",
     "output_type": "stream",
     "text": [
      "... done! Accuracy: 57.03%\n",
      "\n",
      "\n",
      "Testing the model under PGD Attack using epsilon = 0.35, alpha = 0.00784313725490196...\n"
     ]
    },
    {
     "data": {
      "application/vnd.jupyter.widget-view+json": {
       "model_id": "73fe63af47304520afcade838a925f92",
       "version_major": 2,
       "version_minor": 0
      },
      "text/plain": [
       "PGD Attack Testing Progress:   0%|          | 0/157 [00:00<?, ?it/s]"
      ]
     },
     "metadata": {},
     "output_type": "display_data"
    },
    {
     "name": "stdout",
     "output_type": "stream",
     "text": [
      "... done! Accuracy: 47.51%\n",
      "\n",
      "\n",
      "Testing the model under PGD Attack using epsilon = 0.55, alpha = 0.00784313725490196...\n"
     ]
    },
    {
     "data": {
      "application/vnd.jupyter.widget-view+json": {
       "model_id": "21f5f058a300418bba89c9d59693c680",
       "version_major": 2,
       "version_minor": 0
      },
      "text/plain": [
       "PGD Attack Testing Progress:   0%|          | 0/157 [00:00<?, ?it/s]"
      ]
     },
     "metadata": {},
     "output_type": "display_data"
    },
    {
     "name": "stdout",
     "output_type": "stream",
     "text": [
      "... done! Accuracy: 26.99%\n",
      "\n",
      "\n",
      "Testing the model under PGD Attack using epsilon = 0.75, alpha = 0.00784313725490196...\n"
     ]
    },
    {
     "data": {
      "application/vnd.jupyter.widget-view+json": {
       "model_id": "4f612ee0c03c47b9b0df7e3f6f3988f5",
       "version_major": 2,
       "version_minor": 0
      },
      "text/plain": [
       "PGD Attack Testing Progress:   0%|          | 0/157 [00:00<?, ?it/s]"
      ]
     },
     "metadata": {},
     "output_type": "display_data"
    },
    {
     "name": "stdout",
     "output_type": "stream",
     "text": [
      "... done! Accuracy: 11.41%\n",
      "\n",
      "\n",
      "Testing the model under PGD Attack using epsilon = 1, alpha = 0.00784313725490196...\n"
     ]
    },
    {
     "data": {
      "application/vnd.jupyter.widget-view+json": {
       "model_id": "e5f249d112e24bae8c1f1f14fc4e1ff2",
       "version_major": 2,
       "version_minor": 0
      },
      "text/plain": [
       "PGD Attack Testing Progress:   0%|          | 0/157 [00:00<?, ?it/s]"
      ]
     },
     "metadata": {},
     "output_type": "display_data"
    },
    {
     "name": "stdout",
     "output_type": "stream",
     "text": [
      "... done! Accuracy: 3.68%\n",
      "\n",
      "\n"
     ]
    }
   ],
   "source": [
    "for epsilon in epsilons:\n",
    "    attacking.attack_model(\n",
    "        jacobian_reg_model,\n",
    "        testSetLoader,\n",
    "        \"PGD\",\n",
    "        attacks[\"PGD\"],\n",
    "        epsilon=epsilon,\n",
    "        alpha=(2 / 255),\n",
    "        iterations=7,\n",
    "    )"
   ]
  },
  {
   "cell_type": "markdown",
   "metadata": {},
   "source": [
    "## Interpolated Adversarial Training (with Jacobian Regularization)"
   ]
  },
  {
   "cell_type": "code",
   "execution_count": 48,
   "metadata": {},
   "outputs": [],
   "source": [
    "from jacobian import JacobianReg\n",
    "\n",
    "import defenses.iat as iat\n",
    "\n",
    "\n",
    "def get_interpolated_adversarially_trained_model(attack, **kwargs):\n",
    "    # Various training parameters\n",
    "    epochs = 20\n",
    "    learning_rate = 0.01\n",
    "\n",
    "    # Network parameters\n",
    "    loss_function = nn.CrossEntropyLoss()\n",
    "    model = lenet.LeNet5().to(device)\n",
    "    model.train()\n",
    "\n",
    "    # Jacobian regularization\n",
    "    jacobian_reg = JacobianReg()\n",
    "    jacobian_reg_lambda = 0.01\n",
    "\n",
    "    # Consider using ADAM here as another gradient descent algorithm\n",
    "    optimizer = torch.optim.SGD(\n",
    "        model.parameters(), lr=learning_rate, momentum=0.9, weight_decay=5e-4\n",
    "    )\n",
    "\n",
    "    # Check if using epsilon\n",
    "    if \"epsilon\" in kwargs:\n",
    "        epsilon = kwargs[\"epsilon\"]\n",
    "    else:\n",
    "        epsilon = None\n",
    "\n",
    "    # Check if using alpha\n",
    "    if \"alpha\" in kwargs:\n",
    "        alpha = kwargs[\"alpha\"]\n",
    "    else:\n",
    "        alpha = None\n",
    "\n",
    "    # Get iterations\n",
    "    if \"iterations\" in kwargs:\n",
    "        iterations = kwargs[\"iterations\"]\n",
    "    else:\n",
    "        iterations = None\n",
    "\n",
    "    # Get the attack\n",
    "    attack_function = attacks[attack]\n",
    "\n",
    "    print(\"Training the model using adversarial examples...\")\n",
    "\n",
    "    # Use a pretty progress bar to show updates\n",
    "    for epoch in tnrange(epochs, desc=\"Adversarial Training Progress\"):\n",
    "        for _, (images, labels) in enumerate(tqdm(trainSetLoader, desc=\"Batches\")):\n",
    "            # Cast to proper tensors\n",
    "            images, labels = images.to(device), labels.to(device)\n",
    "\n",
    "            # Use manifold mixup to modify the data\n",
    "            (\n",
    "                benign_mix_images,\n",
    "                benign_mix_labels_a,\n",
    "                benign_mix_labels_b,\n",
    "                benign_mix_lamda,\n",
    "            ) = iat.mix_inputs(1, images, labels)\n",
    "\n",
    "            # Run the adversarial attack\n",
    "            model.eval()\n",
    "            perturbed_images = attack_function(\n",
    "                images,\n",
    "                labels,\n",
    "                model,\n",
    "                loss_function,\n",
    "                epsilon=epsilon,\n",
    "                alpha=alpha,\n",
    "                scale=True,\n",
    "                iterations=iterations,\n",
    "            )\n",
    "            model.train()\n",
    "\n",
    "            # Use manifold mixup on the adversarial data\n",
    "            (\n",
    "                adversarial_mix_images,\n",
    "                adversarial_mix_labels_a,\n",
    "                adversarial_mix_labels_b,\n",
    "                adversarial_mix_lamda,\n",
    "            ) = iat.mix_inputs(1, perturbed_images, labels)\n",
    "\n",
    "            # Predictions are regularization\n",
    "            benign_mix_images.requires_grad = True\n",
    "            adversarial_mix_images.requires_grad = True\n",
    "\n",
    "            optimizer.zero_grad()\n",
    "\n",
    "            # Predict and calculate benign loss\n",
    "            benign_logits = model(benign_mix_images)\n",
    "\n",
    "            benign_loss = iat.mixup_loss_function(\n",
    "                loss_function,\n",
    "                benign_mix_lamda,\n",
    "                benign_logits,\n",
    "                benign_mix_labels_a,\n",
    "                benign_mix_labels_b,\n",
    "            )\n",
    "\n",
    "            # Introduce Jacobian regularization\n",
    "            jacobian_reg_loss = jacobian_reg(benign_mix_images, benign_logits)\n",
    "\n",
    "            # Total benign loss\n",
    "            benign_loss = benign_loss + jacobian_reg_lambda * jacobian_reg_loss\n",
    "\n",
    "            # Predict and calculate adversarial loss\n",
    "            adversarial_logits = model(adversarial_mix_images)\n",
    "            adversarial_loss = iat.mixup_loss_function(\n",
    "                loss_function,\n",
    "                adversarial_mix_lamda,\n",
    "                adversarial_logits,\n",
    "                adversarial_mix_labels_a,\n",
    "                adversarial_mix_labels_b,\n",
    "            )\n",
    "\n",
    "            # Introduce Jacobian regularization\n",
    "            jacobian_reg_loss = jacobian_reg(adversarial_mix_images, adversarial_logits)\n",
    "\n",
    "            # Total adversarial loss\n",
    "            adversarial_loss = (\n",
    "                adversarial_loss + jacobian_reg_lambda * jacobian_reg_loss\n",
    "            )\n",
    "\n",
    "            # Take average of the two losses\n",
    "            loss = (benign_loss + adversarial_loss) / 2\n",
    "\n",
    "            # Gradient descent\n",
    "            loss.backward()\n",
    "            optimizer.step()\n",
    "\n",
    "    print(\"... done!\")\n",
    "\n",
    "    # Return the trained model\n",
    "    return model"
   ]
  },
  {
   "cell_type": "code",
   "execution_count": 49,
   "metadata": {},
   "outputs": [
    {
     "name": "stdout",
     "output_type": "stream",
     "text": [
      "Training the model using adversarial examples...\n"
     ]
    },
    {
     "data": {
      "application/vnd.jupyter.widget-view+json": {
       "model_id": "30f40d9945d44518a6906f112f11e46d",
       "version_major": 2,
       "version_minor": 0
      },
      "text/plain": [
       "Adversarial Training Progress:   0%|          | 0/20 [00:00<?, ?it/s]"
      ]
     },
     "metadata": {},
     "output_type": "display_data"
    },
    {
     "data": {
      "application/vnd.jupyter.widget-view+json": {
       "model_id": "4fe13d0f77b643bb93745ee42fca45d0",
       "version_major": 2,
       "version_minor": 0
      },
      "text/plain": [
       "Batches:   0%|          | 0/782 [00:00<?, ?it/s]"
      ]
     },
     "metadata": {},
     "output_type": "display_data"
    },
    {
     "data": {
      "application/vnd.jupyter.widget-view+json": {
       "model_id": "377d472511c941b9906024170447f7d3",
       "version_major": 2,
       "version_minor": 0
      },
      "text/plain": [
       "Batches:   0%|          | 0/782 [00:00<?, ?it/s]"
      ]
     },
     "metadata": {},
     "output_type": "display_data"
    },
    {
     "data": {
      "application/vnd.jupyter.widget-view+json": {
       "model_id": "9e5b2f904c1b4010aff8ec4e01a974fc",
       "version_major": 2,
       "version_minor": 0
      },
      "text/plain": [
       "Batches:   0%|          | 0/782 [00:00<?, ?it/s]"
      ]
     },
     "metadata": {},
     "output_type": "display_data"
    },
    {
     "data": {
      "application/vnd.jupyter.widget-view+json": {
       "model_id": "a9d389119fd24810ba6cd6994460a068",
       "version_major": 2,
       "version_minor": 0
      },
      "text/plain": [
       "Batches:   0%|          | 0/782 [00:00<?, ?it/s]"
      ]
     },
     "metadata": {},
     "output_type": "display_data"
    },
    {
     "data": {
      "application/vnd.jupyter.widget-view+json": {
       "model_id": "2d59c996d13f4bfb97a65997e1433811",
       "version_major": 2,
       "version_minor": 0
      },
      "text/plain": [
       "Batches:   0%|          | 0/782 [00:00<?, ?it/s]"
      ]
     },
     "metadata": {},
     "output_type": "display_data"
    },
    {
     "data": {
      "application/vnd.jupyter.widget-view+json": {
       "model_id": "32a87347ee2c4df7ab7e107235b4d8b3",
       "version_major": 2,
       "version_minor": 0
      },
      "text/plain": [
       "Batches:   0%|          | 0/782 [00:00<?, ?it/s]"
      ]
     },
     "metadata": {},
     "output_type": "display_data"
    },
    {
     "data": {
      "application/vnd.jupyter.widget-view+json": {
       "model_id": "e8dc9b333d674df79d0965d2797a9ca6",
       "version_major": 2,
       "version_minor": 0
      },
      "text/plain": [
       "Batches:   0%|          | 0/782 [00:00<?, ?it/s]"
      ]
     },
     "metadata": {},
     "output_type": "display_data"
    },
    {
     "data": {
      "application/vnd.jupyter.widget-view+json": {
       "model_id": "c8c3a4c4766c4a5280a5320a03361646",
       "version_major": 2,
       "version_minor": 0
      },
      "text/plain": [
       "Batches:   0%|          | 0/782 [00:00<?, ?it/s]"
      ]
     },
     "metadata": {},
     "output_type": "display_data"
    },
    {
     "data": {
      "application/vnd.jupyter.widget-view+json": {
       "model_id": "3b5d74d769f444adb075bbc95d4ac080",
       "version_major": 2,
       "version_minor": 0
      },
      "text/plain": [
       "Batches:   0%|          | 0/782 [00:00<?, ?it/s]"
      ]
     },
     "metadata": {},
     "output_type": "display_data"
    },
    {
     "data": {
      "application/vnd.jupyter.widget-view+json": {
       "model_id": "a7ddffab31a94a56bfe70f0c405e69bd",
       "version_major": 2,
       "version_minor": 0
      },
      "text/plain": [
       "Batches:   0%|          | 0/782 [00:00<?, ?it/s]"
      ]
     },
     "metadata": {},
     "output_type": "display_data"
    },
    {
     "data": {
      "application/vnd.jupyter.widget-view+json": {
       "model_id": "f6d08969e1a946e1aca202ba5687c4ee",
       "version_major": 2,
       "version_minor": 0
      },
      "text/plain": [
       "Batches:   0%|          | 0/782 [00:00<?, ?it/s]"
      ]
     },
     "metadata": {},
     "output_type": "display_data"
    },
    {
     "data": {
      "application/vnd.jupyter.widget-view+json": {
       "model_id": "d3f7eee511fa4c7088bad7a79b1f8073",
       "version_major": 2,
       "version_minor": 0
      },
      "text/plain": [
       "Batches:   0%|          | 0/782 [00:00<?, ?it/s]"
      ]
     },
     "metadata": {},
     "output_type": "display_data"
    },
    {
     "data": {
      "application/vnd.jupyter.widget-view+json": {
       "model_id": "9cbc32ed83874eaa8e5ec170a52cd7e1",
       "version_major": 2,
       "version_minor": 0
      },
      "text/plain": [
       "Batches:   0%|          | 0/782 [00:00<?, ?it/s]"
      ]
     },
     "metadata": {},
     "output_type": "display_data"
    },
    {
     "data": {
      "application/vnd.jupyter.widget-view+json": {
       "model_id": "21602d6546734de88aee7dedfaf0637f",
       "version_major": 2,
       "version_minor": 0
      },
      "text/plain": [
       "Batches:   0%|          | 0/782 [00:00<?, ?it/s]"
      ]
     },
     "metadata": {},
     "output_type": "display_data"
    },
    {
     "data": {
      "application/vnd.jupyter.widget-view+json": {
       "model_id": "00d510b59c9240588d309b295cc4c147",
       "version_major": 2,
       "version_minor": 0
      },
      "text/plain": [
       "Batches:   0%|          | 0/782 [00:00<?, ?it/s]"
      ]
     },
     "metadata": {},
     "output_type": "display_data"
    },
    {
     "data": {
      "application/vnd.jupyter.widget-view+json": {
       "model_id": "83d8765da9d143f9b85c1abc6df533be",
       "version_major": 2,
       "version_minor": 0
      },
      "text/plain": [
       "Batches:   0%|          | 0/782 [00:00<?, ?it/s]"
      ]
     },
     "metadata": {},
     "output_type": "display_data"
    },
    {
     "data": {
      "application/vnd.jupyter.widget-view+json": {
       "model_id": "cfe21c2b92c14fca9eb31a97d0e646ba",
       "version_major": 2,
       "version_minor": 0
      },
      "text/plain": [
       "Batches:   0%|          | 0/782 [00:00<?, ?it/s]"
      ]
     },
     "metadata": {},
     "output_type": "display_data"
    },
    {
     "data": {
      "application/vnd.jupyter.widget-view+json": {
       "model_id": "61dcdb59af534008b2f7773760691c8e",
       "version_major": 2,
       "version_minor": 0
      },
      "text/plain": [
       "Batches:   0%|          | 0/782 [00:00<?, ?it/s]"
      ]
     },
     "metadata": {},
     "output_type": "display_data"
    },
    {
     "data": {
      "application/vnd.jupyter.widget-view+json": {
       "model_id": "7a1f0a8ec9ee4865be46caada58efbbb",
       "version_major": 2,
       "version_minor": 0
      },
      "text/plain": [
       "Batches:   0%|          | 0/782 [00:00<?, ?it/s]"
      ]
     },
     "metadata": {},
     "output_type": "display_data"
    },
    {
     "data": {
      "application/vnd.jupyter.widget-view+json": {
       "model_id": "2ace8dac46f243da8de654d951981992",
       "version_major": 2,
       "version_minor": 0
      },
      "text/plain": [
       "Batches:   0%|          | 0/782 [00:00<?, ?it/s]"
      ]
     },
     "metadata": {},
     "output_type": "display_data"
    },
    {
     "name": "stdout",
     "output_type": "stream",
     "text": [
      "... done!\n"
     ]
    },
    {
     "data": {
      "text/plain": [
       "LeNet5(\n",
       "  (conv1): Conv2d(1, 32, kernel_size=(5, 5), stride=(1, 1), padding=(2, 2))\n",
       "  (max_pool_1): MaxPool2d(kernel_size=2, stride=2, padding=0, dilation=1, ceil_mode=False)\n",
       "  (conv2): Conv2d(32, 64, kernel_size=(5, 5), stride=(1, 1), padding=(2, 2))\n",
       "  (max_pool_2): MaxPool2d(kernel_size=2, stride=2, padding=0, dilation=1, ceil_mode=False)\n",
       "  (fc1): Linear(in_features=3136, out_features=1024, bias=True)\n",
       "  (fc2): Linear(in_features=1024, out_features=10, bias=True)\n",
       ")"
      ]
     },
     "execution_count": 49,
     "metadata": {},
     "output_type": "execute_result"
    }
   ],
   "source": [
    "iat_pgd_model = get_interpolated_adversarially_trained_model(\n",
    "    \"PGD\", epsilon=0.6, alpha=(2 / 255), iterations=7\n",
    ")\n",
    "\n",
    "iat_pgd_model.eval()"
   ]
  },
  {
   "cell_type": "code",
   "execution_count": 50,
   "metadata": {},
   "outputs": [],
   "source": [
    "# Several values to use for the epsilons\n",
    "epsilons = [0, 0.05, 0.1, 0.2, 0.35, 0.55, 0.75, 1]"
   ]
  },
  {
   "cell_type": "code",
   "execution_count": 51,
   "metadata": {},
   "outputs": [
    {
     "name": "stdout",
     "output_type": "stream",
     "text": [
      "Testing the model under FGSM Attack using epsilon = 0, alpha = None...\n"
     ]
    },
    {
     "data": {
      "application/vnd.jupyter.widget-view+json": {
       "model_id": "6267430011354a068f168ea3bd7b690a",
       "version_major": 2,
       "version_minor": 0
      },
      "text/plain": [
       "FGSM Attack Testing Progress:   0%|          | 0/157 [00:00<?, ?it/s]"
      ]
     },
     "metadata": {},
     "output_type": "display_data"
    },
    {
     "name": "stdout",
     "output_type": "stream",
     "text": [
      "... done! Accuracy: 87.26%\n",
      "\n",
      "\n",
      "Testing the model under FGSM Attack using epsilon = 0.05, alpha = None...\n"
     ]
    },
    {
     "data": {
      "application/vnd.jupyter.widget-view+json": {
       "model_id": "4409150a4b364b0a8d04d83ea5ac946c",
       "version_major": 2,
       "version_minor": 0
      },
      "text/plain": [
       "FGSM Attack Testing Progress:   0%|          | 0/157 [00:00<?, ?it/s]"
      ]
     },
     "metadata": {},
     "output_type": "display_data"
    },
    {
     "name": "stdout",
     "output_type": "stream",
     "text": [
      "... done! Accuracy: 71.82%\n",
      "\n",
      "\n",
      "Testing the model under FGSM Attack using epsilon = 0.1, alpha = None...\n"
     ]
    },
    {
     "data": {
      "application/vnd.jupyter.widget-view+json": {
       "model_id": "7bd234895b024a7b9267de94dee5d363",
       "version_major": 2,
       "version_minor": 0
      },
      "text/plain": [
       "FGSM Attack Testing Progress:   0%|          | 0/157 [00:00<?, ?it/s]"
      ]
     },
     "metadata": {},
     "output_type": "display_data"
    },
    {
     "name": "stdout",
     "output_type": "stream",
     "text": [
      "... done! Accuracy: 56.7%\n",
      "\n",
      "\n",
      "Testing the model under FGSM Attack using epsilon = 0.2, alpha = None...\n"
     ]
    },
    {
     "data": {
      "application/vnd.jupyter.widget-view+json": {
       "model_id": "465da6d40b9a43339eb138eea683d72f",
       "version_major": 2,
       "version_minor": 0
      },
      "text/plain": [
       "FGSM Attack Testing Progress:   0%|          | 0/157 [00:00<?, ?it/s]"
      ]
     },
     "metadata": {},
     "output_type": "display_data"
    },
    {
     "name": "stdout",
     "output_type": "stream",
     "text": [
      "... done! Accuracy: 38.06%\n",
      "\n",
      "\n",
      "Testing the model under FGSM Attack using epsilon = 0.35, alpha = None...\n"
     ]
    },
    {
     "data": {
      "application/vnd.jupyter.widget-view+json": {
       "model_id": "1fe75cb2b64a49b18dad30bdc7ccddd8",
       "version_major": 2,
       "version_minor": 0
      },
      "text/plain": [
       "FGSM Attack Testing Progress:   0%|          | 0/157 [00:00<?, ?it/s]"
      ]
     },
     "metadata": {},
     "output_type": "display_data"
    },
    {
     "name": "stdout",
     "output_type": "stream",
     "text": [
      "... done! Accuracy: 21.47%\n",
      "\n",
      "\n",
      "Testing the model under FGSM Attack using epsilon = 0.55, alpha = None...\n"
     ]
    },
    {
     "data": {
      "application/vnd.jupyter.widget-view+json": {
       "model_id": "b28d7d3411db46128e45944a995e8cfe",
       "version_major": 2,
       "version_minor": 0
      },
      "text/plain": [
       "FGSM Attack Testing Progress:   0%|          | 0/157 [00:00<?, ?it/s]"
      ]
     },
     "metadata": {},
     "output_type": "display_data"
    },
    {
     "name": "stdout",
     "output_type": "stream",
     "text": [
      "... done! Accuracy: 1.64%\n",
      "\n",
      "\n",
      "Testing the model under FGSM Attack using epsilon = 0.75, alpha = None...\n"
     ]
    },
    {
     "data": {
      "application/vnd.jupyter.widget-view+json": {
       "model_id": "c5de8548ffd14f7798585e0ee1f0dc79",
       "version_major": 2,
       "version_minor": 0
      },
      "text/plain": [
       "FGSM Attack Testing Progress:   0%|          | 0/157 [00:00<?, ?it/s]"
      ]
     },
     "metadata": {},
     "output_type": "display_data"
    },
    {
     "name": "stdout",
     "output_type": "stream",
     "text": [
      "... done! Accuracy: 1.0%\n",
      "\n",
      "\n",
      "Testing the model under FGSM Attack using epsilon = 1, alpha = None...\n"
     ]
    },
    {
     "data": {
      "application/vnd.jupyter.widget-view+json": {
       "model_id": "b5c6a4bd1155438283bb7412d5af5b3b",
       "version_major": 2,
       "version_minor": 0
      },
      "text/plain": [
       "FGSM Attack Testing Progress:   0%|          | 0/157 [00:00<?, ?it/s]"
      ]
     },
     "metadata": {},
     "output_type": "display_data"
    },
    {
     "name": "stdout",
     "output_type": "stream",
     "text": [
      "... done! Accuracy: 2.93%\n",
      "\n",
      "\n"
     ]
    }
   ],
   "source": [
    "# Run test for each epsilon\n",
    "for epsilon in epsilons:\n",
    "    attacking.attack_model(\n",
    "        iat_pgd_model,\n",
    "        testSetLoader,\n",
    "        \"FGSM\",\n",
    "        attacks[\"FGSM\"],\n",
    "        epsilon=epsilon,\n",
    "    )"
   ]
  },
  {
   "cell_type": "code",
   "execution_count": 52,
   "metadata": {},
   "outputs": [],
   "source": [
    "# Several values to use for the epsilons\n",
    "epsilons = [0, 4 / 255, 0.05, 0.1, 0.2, 0.35, 0.55, 0.75, 1]"
   ]
  },
  {
   "cell_type": "code",
   "execution_count": 53,
   "metadata": {},
   "outputs": [
    {
     "name": "stdout",
     "output_type": "stream",
     "text": [
      "Testing the model under PGD Attack using epsilon = 0, alpha = 0.00784313725490196...\n"
     ]
    },
    {
     "data": {
      "application/vnd.jupyter.widget-view+json": {
       "model_id": "c69b6f4517554015b302e3a5a543ddae",
       "version_major": 2,
       "version_minor": 0
      },
      "text/plain": [
       "PGD Attack Testing Progress:   0%|          | 0/157 [00:00<?, ?it/s]"
      ]
     },
     "metadata": {},
     "output_type": "display_data"
    },
    {
     "name": "stdout",
     "output_type": "stream",
     "text": [
      "... done! Accuracy: 87.26%\n",
      "\n",
      "\n",
      "Testing the model under PGD Attack using epsilon = 0.01568627450980392, alpha = 0.00784313725490196...\n"
     ]
    },
    {
     "data": {
      "application/vnd.jupyter.widget-view+json": {
       "model_id": "56b401f0e5a747ef95b8a343e2a2e154",
       "version_major": 2,
       "version_minor": 0
      },
      "text/plain": [
       "PGD Attack Testing Progress:   0%|          | 0/157 [00:00<?, ?it/s]"
      ]
     },
     "metadata": {},
     "output_type": "display_data"
    },
    {
     "name": "stdout",
     "output_type": "stream",
     "text": [
      "... done! Accuracy: 82.5%\n",
      "\n",
      "\n",
      "Testing the model under PGD Attack using epsilon = 0.05, alpha = 0.00784313725490196...\n"
     ]
    },
    {
     "data": {
      "application/vnd.jupyter.widget-view+json": {
       "model_id": "c5b6fad5fca94ec389c35ac48b53a6d1",
       "version_major": 2,
       "version_minor": 0
      },
      "text/plain": [
       "PGD Attack Testing Progress:   0%|          | 0/157 [00:00<?, ?it/s]"
      ]
     },
     "metadata": {},
     "output_type": "display_data"
    },
    {
     "name": "stdout",
     "output_type": "stream",
     "text": [
      "... done! Accuracy: 73.17%\n",
      "\n",
      "\n",
      "Testing the model under PGD Attack using epsilon = 0.1, alpha = 0.00784313725490196...\n"
     ]
    },
    {
     "data": {
      "application/vnd.jupyter.widget-view+json": {
       "model_id": "b34425fb583149b69563a5c6b9428917",
       "version_major": 2,
       "version_minor": 0
      },
      "text/plain": [
       "PGD Attack Testing Progress:   0%|          | 0/157 [00:00<?, ?it/s]"
      ]
     },
     "metadata": {},
     "output_type": "display_data"
    },
    {
     "name": "stdout",
     "output_type": "stream",
     "text": [
      "... done! Accuracy: 69.22%\n",
      "\n",
      "\n",
      "Testing the model under PGD Attack using epsilon = 0.2, alpha = 0.00784313725490196...\n"
     ]
    },
    {
     "data": {
      "application/vnd.jupyter.widget-view+json": {
       "model_id": "b1b3fa2d44eb455a81a693c368560409",
       "version_major": 2,
       "version_minor": 0
      },
      "text/plain": [
       "PGD Attack Testing Progress:   0%|          | 0/157 [00:00<?, ?it/s]"
      ]
     },
     "metadata": {},
     "output_type": "display_data"
    },
    {
     "name": "stdout",
     "output_type": "stream",
     "text": [
      "... done! Accuracy: 67.54%\n",
      "\n",
      "\n",
      "Testing the model under PGD Attack using epsilon = 0.35, alpha = 0.00784313725490196...\n"
     ]
    },
    {
     "data": {
      "application/vnd.jupyter.widget-view+json": {
       "model_id": "493d166b79144dffa0f88987e08359e0",
       "version_major": 2,
       "version_minor": 0
      },
      "text/plain": [
       "PGD Attack Testing Progress:   0%|          | 0/157 [00:00<?, ?it/s]"
      ]
     },
     "metadata": {},
     "output_type": "display_data"
    },
    {
     "name": "stdout",
     "output_type": "stream",
     "text": [
      "... done! Accuracy: 68.24%\n",
      "\n",
      "\n",
      "Testing the model under PGD Attack using epsilon = 0.55, alpha = 0.00784313725490196...\n"
     ]
    },
    {
     "data": {
      "application/vnd.jupyter.widget-view+json": {
       "model_id": "1e244dc076ea4baa863f642f5c5b7ff7",
       "version_major": 2,
       "version_minor": 0
      },
      "text/plain": [
       "PGD Attack Testing Progress:   0%|          | 0/157 [00:00<?, ?it/s]"
      ]
     },
     "metadata": {},
     "output_type": "display_data"
    },
    {
     "name": "stdout",
     "output_type": "stream",
     "text": [
      "... done! Accuracy: 67.56%\n",
      "\n",
      "\n",
      "Testing the model under PGD Attack using epsilon = 0.75, alpha = 0.00784313725490196...\n"
     ]
    },
    {
     "data": {
      "application/vnd.jupyter.widget-view+json": {
       "model_id": "84ebca0230a54b4386dcc5c82826e010",
       "version_major": 2,
       "version_minor": 0
      },
      "text/plain": [
       "PGD Attack Testing Progress:   0%|          | 0/157 [00:00<?, ?it/s]"
      ]
     },
     "metadata": {},
     "output_type": "display_data"
    },
    {
     "name": "stdout",
     "output_type": "stream",
     "text": [
      "... done! Accuracy: 62.62%\n",
      "\n",
      "\n",
      "Testing the model under PGD Attack using epsilon = 1, alpha = 0.00784313725490196...\n"
     ]
    },
    {
     "data": {
      "application/vnd.jupyter.widget-view+json": {
       "model_id": "828ed156c87c45f083ec804796b699eb",
       "version_major": 2,
       "version_minor": 0
      },
      "text/plain": [
       "PGD Attack Testing Progress:   0%|          | 0/157 [00:00<?, ?it/s]"
      ]
     },
     "metadata": {},
     "output_type": "display_data"
    },
    {
     "name": "stdout",
     "output_type": "stream",
     "text": [
      "... done! Accuracy: 37.17%\n",
      "\n",
      "\n"
     ]
    }
   ],
   "source": [
    "for epsilon in epsilons:\n",
    "    attacking.attack_model(\n",
    "        iat_pgd_model,\n",
    "        testSetLoader,\n",
    "        \"PGD\",\n",
    "        attacks[\"PGD\"],\n",
    "        epsilon=epsilon,\n",
    "        alpha=(2 / 255),\n",
    "        iterations=7,\n",
    "    )"
   ]
  },
  {
   "cell_type": "code",
   "execution_count": 54,
   "metadata": {},
   "outputs": [
    {
     "name": "stdout",
     "output_type": "stream",
     "text": [
      "Testing the model...\n"
     ]
    },
    {
     "data": {
      "application/vnd.jupyter.widget-view+json": {
       "model_id": "7f530846970c430799185b5092f156f6",
       "version_major": 2,
       "version_minor": 0
      },
      "text/plain": [
       "Testing Progress:   0%|          | 0/157 [00:00<?, ?it/s]"
      ]
     },
     "metadata": {},
     "output_type": "display_data"
    },
    {
     "name": "stdout",
     "output_type": "stream",
     "text": [
      "... done! Accuracy: 87.26%\n"
     ]
    }
   ],
   "source": [
    "clean_test.test_trained_model(iat_pgd_model, testSetLoader)"
   ]
  },
  {
   "cell_type": "markdown",
   "metadata": {},
   "source": [
    "## Adversarial Logit Pairing (https://arxiv.org/pdf/1803.06373.pdf)"
   ]
  },
  {
   "cell_type": "code",
   "execution_count": 55,
   "metadata": {},
   "outputs": [],
   "source": [
    "def get_alp_trained_model(attack, **kwargs):\n",
    "    # Various training parameters\n",
    "    epochs = 20\n",
    "    learning_rate = 0.01\n",
    "\n",
    "    # ALP factor\n",
    "    alp_loss_function = nn.MSELoss()\n",
    "    alp_lamda = 0.2\n",
    "\n",
    "    # Network parameters\n",
    "    loss_function = nn.CrossEntropyLoss()\n",
    "    model = lenet.LeNet5().to(device)\n",
    "    model.train()\n",
    "\n",
    "    # Consider using ADAM here as another gradient descent algorithm\n",
    "    optimizer = torch.optim.SGD(\n",
    "        model.parameters(), lr=learning_rate, momentum=0.9, weight_decay=5e-4\n",
    "    )\n",
    "\n",
    "    # Check if using epsilon\n",
    "    if \"epsilon\" in kwargs:\n",
    "        epsilon = kwargs[\"epsilon\"]\n",
    "    else:\n",
    "        epsilon = None\n",
    "\n",
    "    # Check if using alpha\n",
    "    if \"alpha\" in kwargs:\n",
    "        alpha = kwargs[\"alpha\"]\n",
    "    else:\n",
    "        alpha = None\n",
    "\n",
    "    # Get iterations\n",
    "    if \"iterations\" in kwargs:\n",
    "        iterations = kwargs[\"iterations\"]\n",
    "    else:\n",
    "        iterations = None\n",
    "\n",
    "    # Get the attack\n",
    "    attack_function = attacks[attack]\n",
    "\n",
    "    print(\"Training the model using adversarial examples...\")\n",
    "\n",
    "    # Use a pretty progress bar to show updates\n",
    "    for epoch in tnrange(epochs, desc=\"Adversarial Training Progress\"):\n",
    "        for _, (images, labels) in enumerate(tqdm(trainSetLoader, desc=\"Batches\")):\n",
    "            # Cast to proper tensors\n",
    "            images, labels = images.to(device), labels.to(device)\n",
    "\n",
    "            # Run the attack\n",
    "            model.eval()\n",
    "            perturbed_images = attack_function(\n",
    "                images,\n",
    "                labels,\n",
    "                model,\n",
    "                loss_function,\n",
    "                epsilon=epsilon,\n",
    "                alpha=alpha,\n",
    "                scale=True,\n",
    "                iterations=iterations,\n",
    "            )\n",
    "            model.train()\n",
    "\n",
    "            # Predict and optimise\n",
    "            optimizer.zero_grad()\n",
    "\n",
    "            logits = model(images)\n",
    "            loss = loss_function(logits, labels) + alp_lamda * alp_loss_function(\n",
    "                model(images), model(perturbed_images)\n",
    "            )\n",
    "\n",
    "            # Gradient descent\n",
    "            loss.backward()\n",
    "\n",
    "            optimizer.step()\n",
    "\n",
    "    print(\"... done!\")\n",
    "\n",
    "    # Return the trained model\n",
    "    return model"
   ]
  },
  {
   "cell_type": "code",
   "execution_count": 56,
   "metadata": {},
   "outputs": [
    {
     "name": "stdout",
     "output_type": "stream",
     "text": [
      "Training the model using adversarial examples...\n"
     ]
    },
    {
     "data": {
      "application/vnd.jupyter.widget-view+json": {
       "model_id": "414189024c3447bea413baf0e60c7cbf",
       "version_major": 2,
       "version_minor": 0
      },
      "text/plain": [
       "Adversarial Training Progress:   0%|          | 0/20 [00:00<?, ?it/s]"
      ]
     },
     "metadata": {},
     "output_type": "display_data"
    },
    {
     "data": {
      "application/vnd.jupyter.widget-view+json": {
       "model_id": "9a052476f498438698d84bee192d85c3",
       "version_major": 2,
       "version_minor": 0
      },
      "text/plain": [
       "Batches:   0%|          | 0/782 [00:00<?, ?it/s]"
      ]
     },
     "metadata": {},
     "output_type": "display_data"
    },
    {
     "data": {
      "application/vnd.jupyter.widget-view+json": {
       "model_id": "7e712aef6fe04a95a5610c4f1913b70f",
       "version_major": 2,
       "version_minor": 0
      },
      "text/plain": [
       "Batches:   0%|          | 0/782 [00:00<?, ?it/s]"
      ]
     },
     "metadata": {},
     "output_type": "display_data"
    },
    {
     "data": {
      "application/vnd.jupyter.widget-view+json": {
       "model_id": "7ed40210357140f29a11eacbf3659104",
       "version_major": 2,
       "version_minor": 0
      },
      "text/plain": [
       "Batches:   0%|          | 0/782 [00:00<?, ?it/s]"
      ]
     },
     "metadata": {},
     "output_type": "display_data"
    },
    {
     "data": {
      "application/vnd.jupyter.widget-view+json": {
       "model_id": "5293aa4ce49f45308c92b1e178c115dd",
       "version_major": 2,
       "version_minor": 0
      },
      "text/plain": [
       "Batches:   0%|          | 0/782 [00:00<?, ?it/s]"
      ]
     },
     "metadata": {},
     "output_type": "display_data"
    },
    {
     "data": {
      "application/vnd.jupyter.widget-view+json": {
       "model_id": "e797a4c1dad5422693058fcbc5739a81",
       "version_major": 2,
       "version_minor": 0
      },
      "text/plain": [
       "Batches:   0%|          | 0/782 [00:00<?, ?it/s]"
      ]
     },
     "metadata": {},
     "output_type": "display_data"
    },
    {
     "data": {
      "application/vnd.jupyter.widget-view+json": {
       "model_id": "21b54f5e640844438636512fa07a4f92",
       "version_major": 2,
       "version_minor": 0
      },
      "text/plain": [
       "Batches:   0%|          | 0/782 [00:00<?, ?it/s]"
      ]
     },
     "metadata": {},
     "output_type": "display_data"
    },
    {
     "data": {
      "application/vnd.jupyter.widget-view+json": {
       "model_id": "ed537e66ca0649b79d67b15d793bd4cc",
       "version_major": 2,
       "version_minor": 0
      },
      "text/plain": [
       "Batches:   0%|          | 0/782 [00:00<?, ?it/s]"
      ]
     },
     "metadata": {},
     "output_type": "display_data"
    },
    {
     "data": {
      "application/vnd.jupyter.widget-view+json": {
       "model_id": "466711cfcac24e7c98c1a786f802f119",
       "version_major": 2,
       "version_minor": 0
      },
      "text/plain": [
       "Batches:   0%|          | 0/782 [00:00<?, ?it/s]"
      ]
     },
     "metadata": {},
     "output_type": "display_data"
    },
    {
     "data": {
      "application/vnd.jupyter.widget-view+json": {
       "model_id": "700d5782d28c4eac80b3c0f1dc3a567a",
       "version_major": 2,
       "version_minor": 0
      },
      "text/plain": [
       "Batches:   0%|          | 0/782 [00:00<?, ?it/s]"
      ]
     },
     "metadata": {},
     "output_type": "display_data"
    },
    {
     "data": {
      "application/vnd.jupyter.widget-view+json": {
       "model_id": "a12917f7053546ff9aaf199091c77374",
       "version_major": 2,
       "version_minor": 0
      },
      "text/plain": [
       "Batches:   0%|          | 0/782 [00:00<?, ?it/s]"
      ]
     },
     "metadata": {},
     "output_type": "display_data"
    },
    {
     "data": {
      "application/vnd.jupyter.widget-view+json": {
       "model_id": "e9b235c721434d7c9c7361cc3fa2b6b9",
       "version_major": 2,
       "version_minor": 0
      },
      "text/plain": [
       "Batches:   0%|          | 0/782 [00:00<?, ?it/s]"
      ]
     },
     "metadata": {},
     "output_type": "display_data"
    },
    {
     "data": {
      "application/vnd.jupyter.widget-view+json": {
       "model_id": "64620457afab41469e9e6d1334e6e821",
       "version_major": 2,
       "version_minor": 0
      },
      "text/plain": [
       "Batches:   0%|          | 0/782 [00:00<?, ?it/s]"
      ]
     },
     "metadata": {},
     "output_type": "display_data"
    },
    {
     "data": {
      "application/vnd.jupyter.widget-view+json": {
       "model_id": "a77afa76b7d146928036f1999ad82320",
       "version_major": 2,
       "version_minor": 0
      },
      "text/plain": [
       "Batches:   0%|          | 0/782 [00:00<?, ?it/s]"
      ]
     },
     "metadata": {},
     "output_type": "display_data"
    },
    {
     "data": {
      "application/vnd.jupyter.widget-view+json": {
       "model_id": "b4d7f1a4d30d4f50aef37f7495448697",
       "version_major": 2,
       "version_minor": 0
      },
      "text/plain": [
       "Batches:   0%|          | 0/782 [00:00<?, ?it/s]"
      ]
     },
     "metadata": {},
     "output_type": "display_data"
    },
    {
     "data": {
      "application/vnd.jupyter.widget-view+json": {
       "model_id": "967f166f19e349a2801a646bba87d2ff",
       "version_major": 2,
       "version_minor": 0
      },
      "text/plain": [
       "Batches:   0%|          | 0/782 [00:00<?, ?it/s]"
      ]
     },
     "metadata": {},
     "output_type": "display_data"
    },
    {
     "data": {
      "application/vnd.jupyter.widget-view+json": {
       "model_id": "6033597c0d4447eca3dee27e1d361445",
       "version_major": 2,
       "version_minor": 0
      },
      "text/plain": [
       "Batches:   0%|          | 0/782 [00:00<?, ?it/s]"
      ]
     },
     "metadata": {},
     "output_type": "display_data"
    },
    {
     "data": {
      "application/vnd.jupyter.widget-view+json": {
       "model_id": "0594f8a246d046f9928324e58f44c92e",
       "version_major": 2,
       "version_minor": 0
      },
      "text/plain": [
       "Batches:   0%|          | 0/782 [00:00<?, ?it/s]"
      ]
     },
     "metadata": {},
     "output_type": "display_data"
    },
    {
     "data": {
      "application/vnd.jupyter.widget-view+json": {
       "model_id": "cb4b303a9f0c4f2ebc34f8f7d35c8b12",
       "version_major": 2,
       "version_minor": 0
      },
      "text/plain": [
       "Batches:   0%|          | 0/782 [00:00<?, ?it/s]"
      ]
     },
     "metadata": {},
     "output_type": "display_data"
    },
    {
     "data": {
      "application/vnd.jupyter.widget-view+json": {
       "model_id": "3f8f3322becb486c88b871bae3a4c276",
       "version_major": 2,
       "version_minor": 0
      },
      "text/plain": [
       "Batches:   0%|          | 0/782 [00:00<?, ?it/s]"
      ]
     },
     "metadata": {},
     "output_type": "display_data"
    },
    {
     "data": {
      "application/vnd.jupyter.widget-view+json": {
       "model_id": "508e495c9bb24f8a94a9d88064dc0de5",
       "version_major": 2,
       "version_minor": 0
      },
      "text/plain": [
       "Batches:   0%|          | 0/782 [00:00<?, ?it/s]"
      ]
     },
     "metadata": {},
     "output_type": "display_data"
    },
    {
     "name": "stdout",
     "output_type": "stream",
     "text": [
      "... done!\n"
     ]
    }
   ],
   "source": [
    "alp_model = get_alp_trained_model(\"PGD\", epsilon=0.6, alpha=(2 / 255), iterations=7)"
   ]
  },
  {
   "cell_type": "code",
   "execution_count": 57,
   "metadata": {},
   "outputs": [],
   "source": [
    "# Several values to use for the epsilons\n",
    "epsilons = [0, 0.05, 0.1, 0.2, 0.35, 0.55, 0.75, 1]"
   ]
  },
  {
   "cell_type": "code",
   "execution_count": 58,
   "metadata": {},
   "outputs": [
    {
     "name": "stdout",
     "output_type": "stream",
     "text": [
      "Testing the model under FGSM Attack using epsilon = 0, alpha = None...\n"
     ]
    },
    {
     "data": {
      "application/vnd.jupyter.widget-view+json": {
       "model_id": "c7dce9deed49433db34aedb13346aa0e",
       "version_major": 2,
       "version_minor": 0
      },
      "text/plain": [
       "FGSM Attack Testing Progress:   0%|          | 0/157 [00:00<?, ?it/s]"
      ]
     },
     "metadata": {},
     "output_type": "display_data"
    },
    {
     "name": "stdout",
     "output_type": "stream",
     "text": [
      "... done! Accuracy: 90.93%\n",
      "\n",
      "\n",
      "Testing the model under FGSM Attack using epsilon = 0.05, alpha = None...\n"
     ]
    },
    {
     "data": {
      "application/vnd.jupyter.widget-view+json": {
       "model_id": "831d7cbba306460a8118b789dc6d317c",
       "version_major": 2,
       "version_minor": 0
      },
      "text/plain": [
       "FGSM Attack Testing Progress:   0%|          | 0/157 [00:00<?, ?it/s]"
      ]
     },
     "metadata": {},
     "output_type": "display_data"
    },
    {
     "name": "stdout",
     "output_type": "stream",
     "text": [
      "... done! Accuracy: 63.87%\n",
      "\n",
      "\n",
      "Testing the model under FGSM Attack using epsilon = 0.1, alpha = None...\n"
     ]
    },
    {
     "data": {
      "application/vnd.jupyter.widget-view+json": {
       "model_id": "989d48a1ec6a4e57a406087f8a92c76e",
       "version_major": 2,
       "version_minor": 0
      },
      "text/plain": [
       "FGSM Attack Testing Progress:   0%|          | 0/157 [00:00<?, ?it/s]"
      ]
     },
     "metadata": {},
     "output_type": "display_data"
    },
    {
     "name": "stdout",
     "output_type": "stream",
     "text": [
      "... done! Accuracy: 48.04%\n",
      "\n",
      "\n",
      "Testing the model under FGSM Attack using epsilon = 0.2, alpha = None...\n"
     ]
    },
    {
     "data": {
      "application/vnd.jupyter.widget-view+json": {
       "model_id": "a114dd5005544524aa62cd96dd7f81b1",
       "version_major": 2,
       "version_minor": 0
      },
      "text/plain": [
       "FGSM Attack Testing Progress:   0%|          | 0/157 [00:00<?, ?it/s]"
      ]
     },
     "metadata": {},
     "output_type": "display_data"
    },
    {
     "name": "stdout",
     "output_type": "stream",
     "text": [
      "... done! Accuracy: 35.16%\n",
      "\n",
      "\n",
      "Testing the model under FGSM Attack using epsilon = 0.35, alpha = None...\n"
     ]
    },
    {
     "data": {
      "application/vnd.jupyter.widget-view+json": {
       "model_id": "e97ead1d765c46f28d065c9bcef8ddee",
       "version_major": 2,
       "version_minor": 0
      },
      "text/plain": [
       "FGSM Attack Testing Progress:   0%|          | 0/157 [00:00<?, ?it/s]"
      ]
     },
     "metadata": {},
     "output_type": "display_data"
    },
    {
     "name": "stdout",
     "output_type": "stream",
     "text": [
      "... done! Accuracy: 21.52%\n",
      "\n",
      "\n",
      "Testing the model under FGSM Attack using epsilon = 0.55, alpha = None...\n"
     ]
    },
    {
     "data": {
      "application/vnd.jupyter.widget-view+json": {
       "model_id": "f0a9d7bdc7594bf0a56bc4621fc17779",
       "version_major": 2,
       "version_minor": 0
      },
      "text/plain": [
       "FGSM Attack Testing Progress:   0%|          | 0/157 [00:00<?, ?it/s]"
      ]
     },
     "metadata": {},
     "output_type": "display_data"
    },
    {
     "name": "stdout",
     "output_type": "stream",
     "text": [
      "... done! Accuracy: 4.51%\n",
      "\n",
      "\n",
      "Testing the model under FGSM Attack using epsilon = 0.75, alpha = None...\n"
     ]
    },
    {
     "data": {
      "application/vnd.jupyter.widget-view+json": {
       "model_id": "858a4483f6c4474487613fc92044e6d9",
       "version_major": 2,
       "version_minor": 0
      },
      "text/plain": [
       "FGSM Attack Testing Progress:   0%|          | 0/157 [00:00<?, ?it/s]"
      ]
     },
     "metadata": {},
     "output_type": "display_data"
    },
    {
     "name": "stdout",
     "output_type": "stream",
     "text": [
      "... done! Accuracy: 3.63%\n",
      "\n",
      "\n",
      "Testing the model under FGSM Attack using epsilon = 1, alpha = None...\n"
     ]
    },
    {
     "data": {
      "application/vnd.jupyter.widget-view+json": {
       "model_id": "4e332a14877a4f9e86cf080af15024f8",
       "version_major": 2,
       "version_minor": 0
      },
      "text/plain": [
       "FGSM Attack Testing Progress:   0%|          | 0/157 [00:00<?, ?it/s]"
      ]
     },
     "metadata": {},
     "output_type": "display_data"
    },
    {
     "name": "stdout",
     "output_type": "stream",
     "text": [
      "... done! Accuracy: 5.96%\n",
      "\n",
      "\n"
     ]
    }
   ],
   "source": [
    "# Run test for each epsilon\n",
    "for epsilon in epsilons:\n",
    "    attacking.attack_model(\n",
    "        alp_model,\n",
    "        testSetLoader,\n",
    "        \"FGSM\",\n",
    "        attacks[\"FGSM\"],\n",
    "        epsilon=epsilon,\n",
    "    )"
   ]
  },
  {
   "cell_type": "code",
   "execution_count": 59,
   "metadata": {},
   "outputs": [],
   "source": [
    "# Several values to use for the epsilons\n",
    "epsilons = [0, 4 / 255, 0.05, 0.1, 0.2, 0.35, 0.55, 0.75, 1]"
   ]
  },
  {
   "cell_type": "code",
   "execution_count": 60,
   "metadata": {},
   "outputs": [
    {
     "name": "stdout",
     "output_type": "stream",
     "text": [
      "Testing the model under PGD Attack using epsilon = 0, alpha = 0.00784313725490196...\n"
     ]
    },
    {
     "data": {
      "application/vnd.jupyter.widget-view+json": {
       "model_id": "73b8faae0eda488ab0ef26e774f615f8",
       "version_major": 2,
       "version_minor": 0
      },
      "text/plain": [
       "PGD Attack Testing Progress:   0%|          | 0/157 [00:00<?, ?it/s]"
      ]
     },
     "metadata": {},
     "output_type": "display_data"
    },
    {
     "name": "stdout",
     "output_type": "stream",
     "text": [
      "... done! Accuracy: 90.93%\n",
      "\n",
      "\n",
      "Testing the model under PGD Attack using epsilon = 0.01568627450980392, alpha = 0.00784313725490196...\n"
     ]
    },
    {
     "data": {
      "application/vnd.jupyter.widget-view+json": {
       "model_id": "afae59b2051a498ea4c2e61f9e0537de",
       "version_major": 2,
       "version_minor": 0
      },
      "text/plain": [
       "PGD Attack Testing Progress:   0%|          | 0/157 [00:00<?, ?it/s]"
      ]
     },
     "metadata": {},
     "output_type": "display_data"
    },
    {
     "name": "stdout",
     "output_type": "stream",
     "text": [
      "... done! Accuracy: 82.53%\n",
      "\n",
      "\n",
      "Testing the model under PGD Attack using epsilon = 0.05, alpha = 0.00784313725490196...\n"
     ]
    },
    {
     "data": {
      "application/vnd.jupyter.widget-view+json": {
       "model_id": "4fbd90999f8e4d3eb866dbfe7fb2d38d",
       "version_major": 2,
       "version_minor": 0
      },
      "text/plain": [
       "PGD Attack Testing Progress:   0%|          | 0/157 [00:00<?, ?it/s]"
      ]
     },
     "metadata": {},
     "output_type": "display_data"
    },
    {
     "name": "stdout",
     "output_type": "stream",
     "text": [
      "... done! Accuracy: 64.07%\n",
      "\n",
      "\n",
      "Testing the model under PGD Attack using epsilon = 0.1, alpha = 0.00784313725490196...\n"
     ]
    },
    {
     "data": {
      "application/vnd.jupyter.widget-view+json": {
       "model_id": "833581f77c0b4cd9ac926b6bf424b1a3",
       "version_major": 2,
       "version_minor": 0
      },
      "text/plain": [
       "PGD Attack Testing Progress:   0%|          | 0/157 [00:00<?, ?it/s]"
      ]
     },
     "metadata": {},
     "output_type": "display_data"
    },
    {
     "name": "stdout",
     "output_type": "stream",
     "text": [
      "... done! Accuracy: 58.18%\n",
      "\n",
      "\n",
      "Testing the model under PGD Attack using epsilon = 0.2, alpha = 0.00784313725490196...\n"
     ]
    },
    {
     "data": {
      "application/vnd.jupyter.widget-view+json": {
       "model_id": "e9a46713865147488b01a371932d281b",
       "version_major": 2,
       "version_minor": 0
      },
      "text/plain": [
       "PGD Attack Testing Progress:   0%|          | 0/157 [00:00<?, ?it/s]"
      ]
     },
     "metadata": {},
     "output_type": "display_data"
    },
    {
     "name": "stdout",
     "output_type": "stream",
     "text": [
      "... done! Accuracy: 57.37%\n",
      "\n",
      "\n",
      "Testing the model under PGD Attack using epsilon = 0.35, alpha = 0.00784313725490196...\n"
     ]
    },
    {
     "data": {
      "application/vnd.jupyter.widget-view+json": {
       "model_id": "eb0275c35a324c0587837f75e465a906",
       "version_major": 2,
       "version_minor": 0
      },
      "text/plain": [
       "PGD Attack Testing Progress:   0%|          | 0/157 [00:00<?, ?it/s]"
      ]
     },
     "metadata": {},
     "output_type": "display_data"
    },
    {
     "name": "stdout",
     "output_type": "stream",
     "text": [
      "... done! Accuracy: 61.98%\n",
      "\n",
      "\n",
      "Testing the model under PGD Attack using epsilon = 0.55, alpha = 0.00784313725490196...\n"
     ]
    },
    {
     "data": {
      "application/vnd.jupyter.widget-view+json": {
       "model_id": "38b4d3b2a7574110b535bebd2216a9a8",
       "version_major": 2,
       "version_minor": 0
      },
      "text/plain": [
       "PGD Attack Testing Progress:   0%|          | 0/157 [00:00<?, ?it/s]"
      ]
     },
     "metadata": {},
     "output_type": "display_data"
    },
    {
     "name": "stdout",
     "output_type": "stream",
     "text": [
      "... done! Accuracy: 65.85%\n",
      "\n",
      "\n",
      "Testing the model under PGD Attack using epsilon = 0.75, alpha = 0.00784313725490196...\n"
     ]
    },
    {
     "data": {
      "application/vnd.jupyter.widget-view+json": {
       "model_id": "5fd71c87320d45ed8c6f7ca66f994069",
       "version_major": 2,
       "version_minor": 0
      },
      "text/plain": [
       "PGD Attack Testing Progress:   0%|          | 0/157 [00:00<?, ?it/s]"
      ]
     },
     "metadata": {},
     "output_type": "display_data"
    },
    {
     "name": "stdout",
     "output_type": "stream",
     "text": [
      "... done! Accuracy: 59.87%\n",
      "\n",
      "\n",
      "Testing the model under PGD Attack using epsilon = 1, alpha = 0.00784313725490196...\n"
     ]
    },
    {
     "data": {
      "application/vnd.jupyter.widget-view+json": {
       "model_id": "410474506dce44fca2a70201f3765f7a",
       "version_major": 2,
       "version_minor": 0
      },
      "text/plain": [
       "PGD Attack Testing Progress:   0%|          | 0/157 [00:00<?, ?it/s]"
      ]
     },
     "metadata": {},
     "output_type": "display_data"
    },
    {
     "name": "stdout",
     "output_type": "stream",
     "text": [
      "... done! Accuracy: 23.45%\n",
      "\n",
      "\n"
     ]
    }
   ],
   "source": [
    "for epsilon in epsilons:\n",
    "    attacking.attack_model(\n",
    "        alp_model,\n",
    "        testSetLoader,\n",
    "        \"PGD\",\n",
    "        attacks[\"PGD\"],\n",
    "        epsilon=epsilon,\n",
    "        alpha=(2 / 255),\n",
    "        iterations=7,\n",
    "    )"
   ]
  },
  {
   "cell_type": "code",
   "execution_count": 61,
   "metadata": {},
   "outputs": [
    {
     "name": "stdout",
     "output_type": "stream",
     "text": [
      "Testing the model...\n"
     ]
    },
    {
     "data": {
      "application/vnd.jupyter.widget-view+json": {
       "model_id": "ca14636b28164d9c8bb93c0426426f3f",
       "version_major": 2,
       "version_minor": 0
      },
      "text/plain": [
       "Testing Progress:   0%|          | 0/157 [00:00<?, ?it/s]"
      ]
     },
     "metadata": {},
     "output_type": "display_data"
    },
    {
     "name": "stdout",
     "output_type": "stream",
     "text": [
      "... done! Accuracy: 90.93%\n"
     ]
    }
   ],
   "source": [
    "clean_test.test_trained_model(alp_model, testSetLoader)"
   ]
  },
  {
   "cell_type": "markdown",
   "metadata": {},
   "source": [
    "## Combined Defenses"
   ]
  },
  {
   "cell_type": "code",
   "execution_count": 62,
   "metadata": {},
   "outputs": [],
   "source": [
    "def get_alp_interpolated_adversarially_trained_model(attack, **kwargs):\n",
    "    # ALP factor\n",
    "    alp_loss_function = nn.MSELoss()\n",
    "    alp_lamda = 0.2\n",
    "\n",
    "    # Various training parameters\n",
    "    epochs = 20\n",
    "    learning_rate = 0.01\n",
    "\n",
    "    # Network parameters\n",
    "    loss_function = nn.CrossEntropyLoss()\n",
    "    model = lenet.LeNet5().to(device)\n",
    "    model.train()\n",
    "\n",
    "    # Jacobian regularization\n",
    "    jacobian_reg = JacobianReg()\n",
    "    jacobian_reg_lambda = 0.01\n",
    "\n",
    "    # Consider using ADAM here as another gradient descent algorithm\n",
    "    optimizer = torch.optim.SGD(\n",
    "        model.parameters(), lr=learning_rate, momentum=0.9, weight_decay=5e-4\n",
    "    )\n",
    "\n",
    "    # Check if using epsilon\n",
    "    if \"epsilon\" in kwargs:\n",
    "        epsilon = kwargs[\"epsilon\"]\n",
    "    else:\n",
    "        epsilon = None\n",
    "\n",
    "    # Check if using alpha\n",
    "    if \"alpha\" in kwargs:\n",
    "        alpha = kwargs[\"alpha\"]\n",
    "    else:\n",
    "        alpha = None\n",
    "\n",
    "    # Get iterations\n",
    "    if \"iterations\" in kwargs:\n",
    "        iterations = kwargs[\"iterations\"]\n",
    "    else:\n",
    "        iterations = None\n",
    "\n",
    "    # Get the attack\n",
    "    attack_function = attacks[attack]\n",
    "\n",
    "    print(\"Training the model using adversarial examples...\")\n",
    "\n",
    "    # Use a pretty progress bar to show updates\n",
    "    for epoch in tnrange(epochs, desc=\"Adversarial Training Progress\"):\n",
    "        for _, (images, labels) in enumerate(tqdm(trainSetLoader, desc=\"Batches\")):\n",
    "            # Cast to proper tensors\n",
    "            images, labels = images.to(device), labels.to(device)\n",
    "\n",
    "            # Use manifold mixup to modify the data\n",
    "            (\n",
    "                benign_mix_images,\n",
    "                benign_mix_labels_a,\n",
    "                benign_mix_labels_b,\n",
    "                benign_mix_lamda,\n",
    "            ) = iat.mix_inputs(1, images, labels)\n",
    "\n",
    "            # Run the adversarial attack\n",
    "            model.eval()\n",
    "            perturbed_images = attack_function(\n",
    "                images,\n",
    "                labels,\n",
    "                model,\n",
    "                loss_function,\n",
    "                epsilon=epsilon,\n",
    "                alpha=alpha,\n",
    "                scale=True,\n",
    "                iterations=iterations,\n",
    "            )\n",
    "            model.train()\n",
    "\n",
    "            # Use manifold mixup on the adversarial data\n",
    "            (\n",
    "                adversarial_mix_images,\n",
    "                adversarial_mix_labels_a,\n",
    "                adversarial_mix_labels_b,\n",
    "                adversarial_mix_lamda,\n",
    "            ) = iat.mix_inputs(1, perturbed_images, labels)\n",
    "\n",
    "            # Predictions are regularization\n",
    "            benign_mix_images.requires_grad = True\n",
    "            adversarial_mix_images.requires_grad = True\n",
    "\n",
    "            optimizer.zero_grad()\n",
    "\n",
    "            # Predict and calculate benign loss\n",
    "            benign_logits = model(benign_mix_images)\n",
    "\n",
    "            benign_loss = iat.mixup_loss_function(\n",
    "                loss_function,\n",
    "                benign_mix_lamda,\n",
    "                benign_logits,\n",
    "                benign_mix_labels_a,\n",
    "                benign_mix_labels_b,\n",
    "            )\n",
    "\n",
    "            # Introduce Jacobian regularization\n",
    "            jacobian_reg_loss = jacobian_reg(benign_mix_images, benign_logits)\n",
    "\n",
    "            # Total benign loss\n",
    "            benign_loss = benign_loss + jacobian_reg_lambda * jacobian_reg_loss\n",
    "\n",
    "            # Predict and calculate adversarial loss\n",
    "            adversarial_logits = model(adversarial_mix_images)\n",
    "            adversarial_loss = iat.mixup_loss_function(\n",
    "                loss_function,\n",
    "                adversarial_mix_lamda,\n",
    "                adversarial_logits,\n",
    "                adversarial_mix_labels_a,\n",
    "                adversarial_mix_labels_b,\n",
    "            )\n",
    "\n",
    "            # Introduce Jacobian regularization\n",
    "            jacobian_reg_loss = jacobian_reg(adversarial_mix_images, adversarial_logits)\n",
    "\n",
    "            # Total adversarial loss\n",
    "            adversarial_loss = (\n",
    "                adversarial_loss + jacobian_reg_lambda * jacobian_reg_loss\n",
    "            ) + alp_lamda * alp_loss_function(\n",
    "                model(benign_mix_images), model(adversarial_mix_images)\n",
    "            )\n",
    "\n",
    "            # Take average of the two losses\n",
    "            loss = (benign_loss + adversarial_loss) / 2\n",
    "\n",
    "            # Gradient descent\n",
    "            loss.backward()\n",
    "            optimizer.step()\n",
    "\n",
    "    print(\"... done!\")\n",
    "\n",
    "    # Return the trained model\n",
    "    return model"
   ]
  },
  {
   "cell_type": "code",
   "execution_count": 63,
   "metadata": {},
   "outputs": [
    {
     "name": "stdout",
     "output_type": "stream",
     "text": [
      "Training the model using adversarial examples...\n"
     ]
    },
    {
     "data": {
      "application/vnd.jupyter.widget-view+json": {
       "model_id": "73016e19f9bb4ae6a52477f2050b1617",
       "version_major": 2,
       "version_minor": 0
      },
      "text/plain": [
       "Adversarial Training Progress:   0%|          | 0/20 [00:00<?, ?it/s]"
      ]
     },
     "metadata": {},
     "output_type": "display_data"
    },
    {
     "data": {
      "application/vnd.jupyter.widget-view+json": {
       "model_id": "c053cce7d68847079ae794c60055c528",
       "version_major": 2,
       "version_minor": 0
      },
      "text/plain": [
       "Batches:   0%|          | 0/782 [00:00<?, ?it/s]"
      ]
     },
     "metadata": {},
     "output_type": "display_data"
    },
    {
     "data": {
      "application/vnd.jupyter.widget-view+json": {
       "model_id": "8434d2be377947158489dbe0ba7f1e5f",
       "version_major": 2,
       "version_minor": 0
      },
      "text/plain": [
       "Batches:   0%|          | 0/782 [00:00<?, ?it/s]"
      ]
     },
     "metadata": {},
     "output_type": "display_data"
    },
    {
     "data": {
      "application/vnd.jupyter.widget-view+json": {
       "model_id": "04e543c3caf944a1950f08f5db777ec9",
       "version_major": 2,
       "version_minor": 0
      },
      "text/plain": [
       "Batches:   0%|          | 0/782 [00:00<?, ?it/s]"
      ]
     },
     "metadata": {},
     "output_type": "display_data"
    },
    {
     "data": {
      "application/vnd.jupyter.widget-view+json": {
       "model_id": "bee253e2038b43329b22985f7fe5eef3",
       "version_major": 2,
       "version_minor": 0
      },
      "text/plain": [
       "Batches:   0%|          | 0/782 [00:00<?, ?it/s]"
      ]
     },
     "metadata": {},
     "output_type": "display_data"
    },
    {
     "data": {
      "application/vnd.jupyter.widget-view+json": {
       "model_id": "43c1776ac20c41a5bd1c78c19ce1b359",
       "version_major": 2,
       "version_minor": 0
      },
      "text/plain": [
       "Batches:   0%|          | 0/782 [00:00<?, ?it/s]"
      ]
     },
     "metadata": {},
     "output_type": "display_data"
    },
    {
     "data": {
      "application/vnd.jupyter.widget-view+json": {
       "model_id": "92e3c980354e406383e390406dfb0de3",
       "version_major": 2,
       "version_minor": 0
      },
      "text/plain": [
       "Batches:   0%|          | 0/782 [00:00<?, ?it/s]"
      ]
     },
     "metadata": {},
     "output_type": "display_data"
    },
    {
     "data": {
      "application/vnd.jupyter.widget-view+json": {
       "model_id": "0b5461b818354808b19e314fffd43a70",
       "version_major": 2,
       "version_minor": 0
      },
      "text/plain": [
       "Batches:   0%|          | 0/782 [00:00<?, ?it/s]"
      ]
     },
     "metadata": {},
     "output_type": "display_data"
    },
    {
     "data": {
      "application/vnd.jupyter.widget-view+json": {
       "model_id": "91964368683f4884bbea42bb101562a4",
       "version_major": 2,
       "version_minor": 0
      },
      "text/plain": [
       "Batches:   0%|          | 0/782 [00:00<?, ?it/s]"
      ]
     },
     "metadata": {},
     "output_type": "display_data"
    },
    {
     "data": {
      "application/vnd.jupyter.widget-view+json": {
       "model_id": "ba24ff2d9645410983ac38c09b74e8f3",
       "version_major": 2,
       "version_minor": 0
      },
      "text/plain": [
       "Batches:   0%|          | 0/782 [00:00<?, ?it/s]"
      ]
     },
     "metadata": {},
     "output_type": "display_data"
    },
    {
     "data": {
      "application/vnd.jupyter.widget-view+json": {
       "model_id": "0176ccaa8e124ad885e4c84544ebb953",
       "version_major": 2,
       "version_minor": 0
      },
      "text/plain": [
       "Batches:   0%|          | 0/782 [00:00<?, ?it/s]"
      ]
     },
     "metadata": {},
     "output_type": "display_data"
    },
    {
     "data": {
      "application/vnd.jupyter.widget-view+json": {
       "model_id": "7329afcd762b4a8cb529bb0f869d7c87",
       "version_major": 2,
       "version_minor": 0
      },
      "text/plain": [
       "Batches:   0%|          | 0/782 [00:00<?, ?it/s]"
      ]
     },
     "metadata": {},
     "output_type": "display_data"
    },
    {
     "data": {
      "application/vnd.jupyter.widget-view+json": {
       "model_id": "96e53171c7394b71997f725189b88fc3",
       "version_major": 2,
       "version_minor": 0
      },
      "text/plain": [
       "Batches:   0%|          | 0/782 [00:00<?, ?it/s]"
      ]
     },
     "metadata": {},
     "output_type": "display_data"
    },
    {
     "data": {
      "application/vnd.jupyter.widget-view+json": {
       "model_id": "02a76d3d40544d8ba202da419009956e",
       "version_major": 2,
       "version_minor": 0
      },
      "text/plain": [
       "Batches:   0%|          | 0/782 [00:00<?, ?it/s]"
      ]
     },
     "metadata": {},
     "output_type": "display_data"
    },
    {
     "data": {
      "application/vnd.jupyter.widget-view+json": {
       "model_id": "8629d1eb71004473b5ec07f5a594dfea",
       "version_major": 2,
       "version_minor": 0
      },
      "text/plain": [
       "Batches:   0%|          | 0/782 [00:00<?, ?it/s]"
      ]
     },
     "metadata": {},
     "output_type": "display_data"
    },
    {
     "data": {
      "application/vnd.jupyter.widget-view+json": {
       "model_id": "e0fe4d03fcd34ea99fb30fb3234649ae",
       "version_major": 2,
       "version_minor": 0
      },
      "text/plain": [
       "Batches:   0%|          | 0/782 [00:00<?, ?it/s]"
      ]
     },
     "metadata": {},
     "output_type": "display_data"
    },
    {
     "data": {
      "application/vnd.jupyter.widget-view+json": {
       "model_id": "707a58351c3e4818b59472d8c30eeadb",
       "version_major": 2,
       "version_minor": 0
      },
      "text/plain": [
       "Batches:   0%|          | 0/782 [00:00<?, ?it/s]"
      ]
     },
     "metadata": {},
     "output_type": "display_data"
    },
    {
     "data": {
      "application/vnd.jupyter.widget-view+json": {
       "model_id": "db5946f963814c48b0828a3121b2b861",
       "version_major": 2,
       "version_minor": 0
      },
      "text/plain": [
       "Batches:   0%|          | 0/782 [00:00<?, ?it/s]"
      ]
     },
     "metadata": {},
     "output_type": "display_data"
    },
    {
     "data": {
      "application/vnd.jupyter.widget-view+json": {
       "model_id": "9be1e03a2be5498d89f18b1649bca354",
       "version_major": 2,
       "version_minor": 0
      },
      "text/plain": [
       "Batches:   0%|          | 0/782 [00:00<?, ?it/s]"
      ]
     },
     "metadata": {},
     "output_type": "display_data"
    },
    {
     "data": {
      "application/vnd.jupyter.widget-view+json": {
       "model_id": "394b90b860664fa2bbbc65195057a9f2",
       "version_major": 2,
       "version_minor": 0
      },
      "text/plain": [
       "Batches:   0%|          | 0/782 [00:00<?, ?it/s]"
      ]
     },
     "metadata": {},
     "output_type": "display_data"
    },
    {
     "data": {
      "application/vnd.jupyter.widget-view+json": {
       "model_id": "341fce3898b8463a8d2a7ae9614da25e",
       "version_major": 2,
       "version_minor": 0
      },
      "text/plain": [
       "Batches:   0%|          | 0/782 [00:00<?, ?it/s]"
      ]
     },
     "metadata": {},
     "output_type": "display_data"
    },
    {
     "name": "stdout",
     "output_type": "stream",
     "text": [
      "... done!\n"
     ]
    }
   ],
   "source": [
    "alp_iat_model = get_alp_interpolated_adversarially_trained_model(\n",
    "    \"PGD\", epsilon=0.6, alpha=(2 / 255), iterations=7\n",
    ")"
   ]
  },
  {
   "cell_type": "code",
   "execution_count": 64,
   "metadata": {},
   "outputs": [],
   "source": [
    "# Several values to use for the epsilons\n",
    "epsilons = [0, 0.05, 0.1, 0.2, 0.35, 0.55, 0.75, 1]"
   ]
  },
  {
   "cell_type": "code",
   "execution_count": 65,
   "metadata": {},
   "outputs": [
    {
     "name": "stdout",
     "output_type": "stream",
     "text": [
      "Testing the model under FGSM Attack using epsilon = 0, alpha = None...\n"
     ]
    },
    {
     "data": {
      "application/vnd.jupyter.widget-view+json": {
       "model_id": "8b67df74e18447b8b4d8af25296f69ac",
       "version_major": 2,
       "version_minor": 0
      },
      "text/plain": [
       "FGSM Attack Testing Progress:   0%|          | 0/157 [00:00<?, ?it/s]"
      ]
     },
     "metadata": {},
     "output_type": "display_data"
    },
    {
     "name": "stdout",
     "output_type": "stream",
     "text": [
      "... done! Accuracy: 87.27%\n",
      "\n",
      "\n",
      "Testing the model under FGSM Attack using epsilon = 0.05, alpha = None...\n"
     ]
    },
    {
     "data": {
      "application/vnd.jupyter.widget-view+json": {
       "model_id": "a30a2c403e9e4c859a317f7ba71916a4",
       "version_major": 2,
       "version_minor": 0
      },
      "text/plain": [
       "FGSM Attack Testing Progress:   0%|          | 0/157 [00:00<?, ?it/s]"
      ]
     },
     "metadata": {},
     "output_type": "display_data"
    },
    {
     "name": "stdout",
     "output_type": "stream",
     "text": [
      "... done! Accuracy: 72.63%\n",
      "\n",
      "\n",
      "Testing the model under FGSM Attack using epsilon = 0.1, alpha = None...\n"
     ]
    },
    {
     "data": {
      "application/vnd.jupyter.widget-view+json": {
       "model_id": "52dbfa99929f439da6b56e484e749751",
       "version_major": 2,
       "version_minor": 0
      },
      "text/plain": [
       "FGSM Attack Testing Progress:   0%|          | 0/157 [00:00<?, ?it/s]"
      ]
     },
     "metadata": {},
     "output_type": "display_data"
    },
    {
     "name": "stdout",
     "output_type": "stream",
     "text": [
      "... done! Accuracy: 58.75%\n",
      "\n",
      "\n",
      "Testing the model under FGSM Attack using epsilon = 0.2, alpha = None...\n"
     ]
    },
    {
     "data": {
      "application/vnd.jupyter.widget-view+json": {
       "model_id": "b2f8d5e8792d4ace8b85ebd95a4e64b2",
       "version_major": 2,
       "version_minor": 0
      },
      "text/plain": [
       "FGSM Attack Testing Progress:   0%|          | 0/157 [00:00<?, ?it/s]"
      ]
     },
     "metadata": {},
     "output_type": "display_data"
    },
    {
     "name": "stdout",
     "output_type": "stream",
     "text": [
      "... done! Accuracy: 40.98%\n",
      "\n",
      "\n",
      "Testing the model under FGSM Attack using epsilon = 0.35, alpha = None...\n"
     ]
    },
    {
     "data": {
      "application/vnd.jupyter.widget-view+json": {
       "model_id": "a4e6a1c23afd4dc29127b38307aa8f03",
       "version_major": 2,
       "version_minor": 0
      },
      "text/plain": [
       "FGSM Attack Testing Progress:   0%|          | 0/157 [00:00<?, ?it/s]"
      ]
     },
     "metadata": {},
     "output_type": "display_data"
    },
    {
     "name": "stdout",
     "output_type": "stream",
     "text": [
      "... done! Accuracy: 19.85%\n",
      "\n",
      "\n",
      "Testing the model under FGSM Attack using epsilon = 0.55, alpha = None...\n"
     ]
    },
    {
     "data": {
      "application/vnd.jupyter.widget-view+json": {
       "model_id": "5d235ca4cd1c44ca884bbe52f03d4b06",
       "version_major": 2,
       "version_minor": 0
      },
      "text/plain": [
       "FGSM Attack Testing Progress:   0%|          | 0/157 [00:00<?, ?it/s]"
      ]
     },
     "metadata": {},
     "output_type": "display_data"
    },
    {
     "name": "stdout",
     "output_type": "stream",
     "text": [
      "... done! Accuracy: 3.19%\n",
      "\n",
      "\n",
      "Testing the model under FGSM Attack using epsilon = 0.75, alpha = None...\n"
     ]
    },
    {
     "data": {
      "application/vnd.jupyter.widget-view+json": {
       "model_id": "b50b7c086eb446049d85cc9d9acac650",
       "version_major": 2,
       "version_minor": 0
      },
      "text/plain": [
       "FGSM Attack Testing Progress:   0%|          | 0/157 [00:00<?, ?it/s]"
      ]
     },
     "metadata": {},
     "output_type": "display_data"
    },
    {
     "name": "stdout",
     "output_type": "stream",
     "text": [
      "... done! Accuracy: 0.41%\n",
      "\n",
      "\n",
      "Testing the model under FGSM Attack using epsilon = 1, alpha = None...\n"
     ]
    },
    {
     "data": {
      "application/vnd.jupyter.widget-view+json": {
       "model_id": "61bff6614b9d4809b4e93402ba924543",
       "version_major": 2,
       "version_minor": 0
      },
      "text/plain": [
       "FGSM Attack Testing Progress:   0%|          | 0/157 [00:00<?, ?it/s]"
      ]
     },
     "metadata": {},
     "output_type": "display_data"
    },
    {
     "name": "stdout",
     "output_type": "stream",
     "text": [
      "... done! Accuracy: 0.65%\n",
      "\n",
      "\n"
     ]
    }
   ],
   "source": [
    "# Run test for each epsilon\n",
    "for epsilon in epsilons:\n",
    "    attacking.attack_model(\n",
    "        alp_iat_model,\n",
    "        testSetLoader,\n",
    "        \"FGSM\",\n",
    "        attacks[\"FGSM\"],\n",
    "        epsilon=epsilon,\n",
    "    )"
   ]
  },
  {
   "cell_type": "code",
   "execution_count": 66,
   "metadata": {},
   "outputs": [],
   "source": [
    "# Several values to use for the epsilons\n",
    "epsilons = [0, 4 / 255, 0.05, 0.1, 0.2, 0.35, 0.55, 0.75, 1]"
   ]
  },
  {
   "cell_type": "code",
   "execution_count": 67,
   "metadata": {},
   "outputs": [
    {
     "name": "stdout",
     "output_type": "stream",
     "text": [
      "Testing the model under PGD Attack using epsilon = 0, alpha = 0.00784313725490196...\n"
     ]
    },
    {
     "data": {
      "application/vnd.jupyter.widget-view+json": {
       "model_id": "0e96c910ee094d2ab60fba9475de7e0c",
       "version_major": 2,
       "version_minor": 0
      },
      "text/plain": [
       "PGD Attack Testing Progress:   0%|          | 0/157 [00:00<?, ?it/s]"
      ]
     },
     "metadata": {},
     "output_type": "display_data"
    },
    {
     "name": "stdout",
     "output_type": "stream",
     "text": [
      "... done! Accuracy: 87.27%\n",
      "\n",
      "\n",
      "Testing the model under PGD Attack using epsilon = 0.01568627450980392, alpha = 0.00784313725490196...\n"
     ]
    },
    {
     "data": {
      "application/vnd.jupyter.widget-view+json": {
       "model_id": "6b98494e199848558399eb07d9b72afd",
       "version_major": 2,
       "version_minor": 0
      },
      "text/plain": [
       "PGD Attack Testing Progress:   0%|          | 0/157 [00:00<?, ?it/s]"
      ]
     },
     "metadata": {},
     "output_type": "display_data"
    },
    {
     "name": "stdout",
     "output_type": "stream",
     "text": [
      "... done! Accuracy: 82.93%\n",
      "\n",
      "\n",
      "Testing the model under PGD Attack using epsilon = 0.05, alpha = 0.00784313725490196...\n"
     ]
    },
    {
     "data": {
      "application/vnd.jupyter.widget-view+json": {
       "model_id": "828a9b86aaf54122821660e50b2a8860",
       "version_major": 2,
       "version_minor": 0
      },
      "text/plain": [
       "PGD Attack Testing Progress:   0%|          | 0/157 [00:00<?, ?it/s]"
      ]
     },
     "metadata": {},
     "output_type": "display_data"
    },
    {
     "name": "stdout",
     "output_type": "stream",
     "text": [
      "... done! Accuracy: 74.01%\n",
      "\n",
      "\n",
      "Testing the model under PGD Attack using epsilon = 0.1, alpha = 0.00784313725490196...\n"
     ]
    },
    {
     "data": {
      "application/vnd.jupyter.widget-view+json": {
       "model_id": "81efb870930d4ec693049741b3d4b24b",
       "version_major": 2,
       "version_minor": 0
      },
      "text/plain": [
       "PGD Attack Testing Progress:   0%|          | 0/157 [00:00<?, ?it/s]"
      ]
     },
     "metadata": {},
     "output_type": "display_data"
    },
    {
     "name": "stdout",
     "output_type": "stream",
     "text": [
      "... done! Accuracy: 70.11%\n",
      "\n",
      "\n",
      "Testing the model under PGD Attack using epsilon = 0.2, alpha = 0.00784313725490196...\n"
     ]
    },
    {
     "data": {
      "application/vnd.jupyter.widget-view+json": {
       "model_id": "786cd2870fa94ef4a65c85255bc28142",
       "version_major": 2,
       "version_minor": 0
      },
      "text/plain": [
       "PGD Attack Testing Progress:   0%|          | 0/157 [00:00<?, ?it/s]"
      ]
     },
     "metadata": {},
     "output_type": "display_data"
    },
    {
     "name": "stdout",
     "output_type": "stream",
     "text": [
      "... done! Accuracy: 67.99%\n",
      "\n",
      "\n",
      "Testing the model under PGD Attack using epsilon = 0.35, alpha = 0.00784313725490196...\n"
     ]
    },
    {
     "data": {
      "application/vnd.jupyter.widget-view+json": {
       "model_id": "c3e50a67a4fe489ba9f180e001724d7b",
       "version_major": 2,
       "version_minor": 0
      },
      "text/plain": [
       "PGD Attack Testing Progress:   0%|          | 0/157 [00:00<?, ?it/s]"
      ]
     },
     "metadata": {},
     "output_type": "display_data"
    },
    {
     "name": "stdout",
     "output_type": "stream",
     "text": [
      "... done! Accuracy: 68.25%\n",
      "\n",
      "\n",
      "Testing the model under PGD Attack using epsilon = 0.55, alpha = 0.00784313725490196...\n"
     ]
    },
    {
     "data": {
      "application/vnd.jupyter.widget-view+json": {
       "model_id": "8b69d893dc0242419784914c35859708",
       "version_major": 2,
       "version_minor": 0
      },
      "text/plain": [
       "PGD Attack Testing Progress:   0%|          | 0/157 [00:00<?, ?it/s]"
      ]
     },
     "metadata": {},
     "output_type": "display_data"
    },
    {
     "name": "stdout",
     "output_type": "stream",
     "text": [
      "... done! Accuracy: 67.35%\n",
      "\n",
      "\n",
      "Testing the model under PGD Attack using epsilon = 0.75, alpha = 0.00784313725490196...\n"
     ]
    },
    {
     "data": {
      "application/vnd.jupyter.widget-view+json": {
       "model_id": "327ddacbd4284950b914a84e53480dbe",
       "version_major": 2,
       "version_minor": 0
      },
      "text/plain": [
       "PGD Attack Testing Progress:   0%|          | 0/157 [00:00<?, ?it/s]"
      ]
     },
     "metadata": {},
     "output_type": "display_data"
    },
    {
     "name": "stdout",
     "output_type": "stream",
     "text": [
      "... done! Accuracy: 61.57%\n",
      "\n",
      "\n",
      "Testing the model under PGD Attack using epsilon = 1, alpha = 0.00784313725490196...\n"
     ]
    },
    {
     "data": {
      "application/vnd.jupyter.widget-view+json": {
       "model_id": "67f8aa9fcfbe427d8fce9628c57d8c36",
       "version_major": 2,
       "version_minor": 0
      },
      "text/plain": [
       "PGD Attack Testing Progress:   0%|          | 0/157 [00:00<?, ?it/s]"
      ]
     },
     "metadata": {},
     "output_type": "display_data"
    },
    {
     "name": "stdout",
     "output_type": "stream",
     "text": [
      "... done! Accuracy: 39.46%\n",
      "\n",
      "\n"
     ]
    }
   ],
   "source": [
    "for epsilon in epsilons:\n",
    "    attacking.attack_model(\n",
    "        alp_iat_model,\n",
    "        testSetLoader,\n",
    "        \"PGD\",\n",
    "        attacks[\"PGD\"],\n",
    "        epsilon=epsilon,\n",
    "        alpha=(2 / 255),\n",
    "        iterations=7,\n",
    "    )"
   ]
  },
  {
   "cell_type": "code",
   "execution_count": 68,
   "metadata": {},
   "outputs": [
    {
     "name": "stdout",
     "output_type": "stream",
     "text": [
      "Testing the model...\n"
     ]
    },
    {
     "data": {
      "application/vnd.jupyter.widget-view+json": {
       "model_id": "3c6c3c8a3f864e87aaefd4e91d313492",
       "version_major": 2,
       "version_minor": 0
      },
      "text/plain": [
       "Testing Progress:   0%|          | 0/157 [00:00<?, ?it/s]"
      ]
     },
     "metadata": {},
     "output_type": "display_data"
    },
    {
     "name": "stdout",
     "output_type": "stream",
     "text": [
      "... done! Accuracy: 87.27%\n"
     ]
    }
   ],
   "source": [
    "clean_test.test_trained_model(alp_iat_model, testSetLoader)"
   ]
  }
 ],
 "metadata": {
  "accelerator": "GPU",
  "colab": {
   "authorship_tag": "ABX9TyPzN3Bw+2H0/4EWj/fHgnE3",
   "collapsed_sections": [],
   "name": "Adversarial MNIST.ipynb",
   "provenance": []
  },
  "kernelspec": {
   "display_name": "Python 3 (ipykernel)",
   "language": "python",
   "name": "python3"
  },
  "language_info": {
   "codemirror_mode": {
    "name": "ipython",
    "version": 3
   },
   "file_extension": ".py",
   "mimetype": "text/x-python",
   "name": "python",
   "nbconvert_exporter": "python",
   "pygments_lexer": "ipython3",
   "version": "3.8.10"
  },
  "widgets": {
   "application/vnd.jupyter.widget-state+json": {
    "03093208c010497cb28b53aaf5567fe5": {
     "model_module": "@jupyter-widgets/controls",
     "model_module_version": "1.5.0",
     "model_name": "ProgressStyleModel",
     "state": {
      "_model_module": "@jupyter-widgets/controls",
      "_model_module_version": "1.5.0",
      "_model_name": "ProgressStyleModel",
      "_view_count": null,
      "_view_module": "@jupyter-widgets/base",
      "_view_module_version": "1.2.0",
      "_view_name": "StyleView",
      "bar_color": null,
      "description_width": ""
     }
    },
    "10191ec78d394884885e940e00d40a1f": {
     "model_module": "@jupyter-widgets/controls",
     "model_module_version": "1.5.0",
     "model_name": "ProgressStyleModel",
     "state": {
      "_model_module": "@jupyter-widgets/controls",
      "_model_module_version": "1.5.0",
      "_model_name": "ProgressStyleModel",
      "_view_count": null,
      "_view_module": "@jupyter-widgets/base",
      "_view_module_version": "1.2.0",
      "_view_name": "StyleView",
      "bar_color": null,
      "description_width": ""
     }
    },
    "126fc3c44d3f46f898c8b3bf600094f4": {
     "model_module": "@jupyter-widgets/controls",
     "model_module_version": "1.5.0",
     "model_name": "DescriptionStyleModel",
     "state": {
      "_model_module": "@jupyter-widgets/controls",
      "_model_module_version": "1.5.0",
      "_model_name": "DescriptionStyleModel",
      "_view_count": null,
      "_view_module": "@jupyter-widgets/base",
      "_view_module_version": "1.2.0",
      "_view_name": "StyleView",
      "description_width": ""
     }
    },
    "1c9fa43ebec94ab2ab720419a7f3bd2a": {
     "model_module": "@jupyter-widgets/controls",
     "model_module_version": "1.5.0",
     "model_name": "ProgressStyleModel",
     "state": {
      "_model_module": "@jupyter-widgets/controls",
      "_model_module_version": "1.5.0",
      "_model_name": "ProgressStyleModel",
      "_view_count": null,
      "_view_module": "@jupyter-widgets/base",
      "_view_module_version": "1.2.0",
      "_view_name": "StyleView",
      "bar_color": null,
      "description_width": ""
     }
    },
    "21277fa1897447848c38bae209150f7b": {
     "model_module": "@jupyter-widgets/controls",
     "model_module_version": "1.5.0",
     "model_name": "DescriptionStyleModel",
     "state": {
      "_model_module": "@jupyter-widgets/controls",
      "_model_module_version": "1.5.0",
      "_model_name": "DescriptionStyleModel",
      "_view_count": null,
      "_view_module": "@jupyter-widgets/base",
      "_view_module_version": "1.2.0",
      "_view_name": "StyleView",
      "description_width": ""
     }
    },
    "22df7aa9d18b45f89d657a7dd8444c3e": {
     "model_module": "@jupyter-widgets/controls",
     "model_module_version": "1.5.0",
     "model_name": "FloatProgressModel",
     "state": {
      "_dom_classes": [],
      "_model_module": "@jupyter-widgets/controls",
      "_model_module_version": "1.5.0",
      "_model_name": "FloatProgressModel",
      "_view_count": null,
      "_view_module": "@jupyter-widgets/controls",
      "_view_module_version": "1.5.0",
      "_view_name": "ProgressView",
      "bar_style": "success",
      "description": "",
      "description_tooltip": null,
      "layout": "IPY_MODEL_4426ea90f19044e795ba5854f6e2f487",
      "max": 4542,
      "min": 0,
      "orientation": "horizontal",
      "style": "IPY_MODEL_1c9fa43ebec94ab2ab720419a7f3bd2a",
      "value": 4542
     }
    },
    "2464214dfbaa4cbdb54bcd7b8a27b9be": {
     "model_module": "@jupyter-widgets/controls",
     "model_module_version": "1.5.0",
     "model_name": "DescriptionStyleModel",
     "state": {
      "_model_module": "@jupyter-widgets/controls",
      "_model_module_version": "1.5.0",
      "_model_name": "DescriptionStyleModel",
      "_view_count": null,
      "_view_module": "@jupyter-widgets/base",
      "_view_module_version": "1.2.0",
      "_view_name": "StyleView",
      "description_width": ""
     }
    },
    "28439d79174a48f6a081a0c02ea29cb8": {
     "model_module": "@jupyter-widgets/controls",
     "model_module_version": "1.5.0",
     "model_name": "HTMLModel",
     "state": {
      "_dom_classes": [],
      "_model_module": "@jupyter-widgets/controls",
      "_model_module_version": "1.5.0",
      "_model_name": "HTMLModel",
      "_view_count": null,
      "_view_module": "@jupyter-widgets/controls",
      "_view_module_version": "1.5.0",
      "_view_name": "HTMLView",
      "description": "",
      "description_tooltip": null,
      "layout": "IPY_MODEL_fde66053bfce4da0a4d0c789d713dc8b",
      "placeholder": "​",
      "style": "IPY_MODEL_d2a9e211e3c84ed5a0e8b98851427579",
      "value": ""
     }
    },
    "2999b0a601734192b76870dc0a25fcab": {
     "model_module": "@jupyter-widgets/base",
     "model_module_version": "1.2.0",
     "model_name": "LayoutModel",
     "state": {
      "_model_module": "@jupyter-widgets/base",
      "_model_module_version": "1.2.0",
      "_model_name": "LayoutModel",
      "_view_count": null,
      "_view_module": "@jupyter-widgets/base",
      "_view_module_version": "1.2.0",
      "_view_name": "LayoutView",
      "align_content": null,
      "align_items": null,
      "align_self": null,
      "border": null,
      "bottom": null,
      "display": null,
      "flex": null,
      "flex_flow": null,
      "grid_area": null,
      "grid_auto_columns": null,
      "grid_auto_flow": null,
      "grid_auto_rows": null,
      "grid_column": null,
      "grid_gap": null,
      "grid_row": null,
      "grid_template_areas": null,
      "grid_template_columns": null,
      "grid_template_rows": null,
      "height": null,
      "justify_content": null,
      "justify_items": null,
      "left": null,
      "margin": null,
      "max_height": null,
      "max_width": null,
      "min_height": null,
      "min_width": null,
      "object_fit": null,
      "object_position": null,
      "order": null,
      "overflow": null,
      "overflow_x": null,
      "overflow_y": null,
      "padding": null,
      "right": null,
      "top": null,
      "visibility": null,
      "width": null
     }
    },
    "2bde5291a62c4efa82207e935afd86c5": {
     "model_module": "@jupyter-widgets/controls",
     "model_module_version": "1.5.0",
     "model_name": "HTMLModel",
     "state": {
      "_dom_classes": [],
      "_model_module": "@jupyter-widgets/controls",
      "_model_module_version": "1.5.0",
      "_model_name": "HTMLModel",
      "_view_count": null,
      "_view_module": "@jupyter-widgets/controls",
      "_view_module_version": "1.5.0",
      "_view_name": "HTMLView",
      "description": "",
      "description_tooltip": null,
      "layout": "IPY_MODEL_2999b0a601734192b76870dc0a25fcab",
      "placeholder": "​",
      "style": "IPY_MODEL_2464214dfbaa4cbdb54bcd7b8a27b9be",
      "value": " 9913344/? [00:00&lt;00:00, 50510403.86it/s]"
     }
    },
    "2df63f9b2e904c9190c0a3722de4bdd9": {
     "model_module": "@jupyter-widgets/base",
     "model_module_version": "1.2.0",
     "model_name": "LayoutModel",
     "state": {
      "_model_module": "@jupyter-widgets/base",
      "_model_module_version": "1.2.0",
      "_model_name": "LayoutModel",
      "_view_count": null,
      "_view_module": "@jupyter-widgets/base",
      "_view_module_version": "1.2.0",
      "_view_name": "LayoutView",
      "align_content": null,
      "align_items": null,
      "align_self": null,
      "border": null,
      "bottom": null,
      "display": null,
      "flex": null,
      "flex_flow": null,
      "grid_area": null,
      "grid_auto_columns": null,
      "grid_auto_flow": null,
      "grid_auto_rows": null,
      "grid_column": null,
      "grid_gap": null,
      "grid_row": null,
      "grid_template_areas": null,
      "grid_template_columns": null,
      "grid_template_rows": null,
      "height": null,
      "justify_content": null,
      "justify_items": null,
      "left": null,
      "margin": null,
      "max_height": null,
      "max_width": null,
      "min_height": null,
      "min_width": null,
      "object_fit": null,
      "object_position": null,
      "order": null,
      "overflow": null,
      "overflow_x": null,
      "overflow_y": null,
      "padding": null,
      "right": null,
      "top": null,
      "visibility": null,
      "width": null
     }
    },
    "3037d9658fe540a0896d1681fffb5c4e": {
     "model_module": "@jupyter-widgets/controls",
     "model_module_version": "1.5.0",
     "model_name": "HBoxModel",
     "state": {
      "_dom_classes": [],
      "_model_module": "@jupyter-widgets/controls",
      "_model_module_version": "1.5.0",
      "_model_name": "HBoxModel",
      "_view_count": null,
      "_view_module": "@jupyter-widgets/controls",
      "_view_module_version": "1.5.0",
      "_view_name": "HBoxView",
      "box_style": "",
      "children": [
       "IPY_MODEL_b0a967a9f7f847068696bc7e30cd06c8",
       "IPY_MODEL_656226e46f8f47f1ba4473e7e0863a2e",
       "IPY_MODEL_2bde5291a62c4efa82207e935afd86c5"
      ],
      "layout": "IPY_MODEL_6129a7569fdd482d84097052d97e71d2"
     }
    },
    "3811fa19b04e48b9951c0aba81a44a21": {
     "model_module": "@jupyter-widgets/controls",
     "model_module_version": "1.5.0",
     "model_name": "FloatProgressModel",
     "state": {
      "_dom_classes": [],
      "_model_module": "@jupyter-widgets/controls",
      "_model_module_version": "1.5.0",
      "_model_name": "FloatProgressModel",
      "_view_count": null,
      "_view_module": "@jupyter-widgets/controls",
      "_view_module_version": "1.5.0",
      "_view_name": "ProgressView",
      "bar_style": "success",
      "description": "",
      "description_tooltip": null,
      "layout": "IPY_MODEL_af99f0b1fc084117a714bf55d56269c1",
      "max": 1648877,
      "min": 0,
      "orientation": "horizontal",
      "style": "IPY_MODEL_03093208c010497cb28b53aaf5567fe5",
      "value": 1648877
     }
    },
    "39216ac4fbd14078af8326c11b6f4682": {
     "model_module": "@jupyter-widgets/base",
     "model_module_version": "1.2.0",
     "model_name": "LayoutModel",
     "state": {
      "_model_module": "@jupyter-widgets/base",
      "_model_module_version": "1.2.0",
      "_model_name": "LayoutModel",
      "_view_count": null,
      "_view_module": "@jupyter-widgets/base",
      "_view_module_version": "1.2.0",
      "_view_name": "LayoutView",
      "align_content": null,
      "align_items": null,
      "align_self": null,
      "border": null,
      "bottom": null,
      "display": null,
      "flex": null,
      "flex_flow": null,
      "grid_area": null,
      "grid_auto_columns": null,
      "grid_auto_flow": null,
      "grid_auto_rows": null,
      "grid_column": null,
      "grid_gap": null,
      "grid_row": null,
      "grid_template_areas": null,
      "grid_template_columns": null,
      "grid_template_rows": null,
      "height": null,
      "justify_content": null,
      "justify_items": null,
      "left": null,
      "margin": null,
      "max_height": null,
      "max_width": null,
      "min_height": null,
      "min_width": null,
      "object_fit": null,
      "object_position": null,
      "order": null,
      "overflow": null,
      "overflow_x": null,
      "overflow_y": null,
      "padding": null,
      "right": null,
      "top": null,
      "visibility": null,
      "width": null
     }
    },
    "40a2cee709004eeb95d5e6015f60077e": {
     "model_module": "@jupyter-widgets/controls",
     "model_module_version": "1.5.0",
     "model_name": "DescriptionStyleModel",
     "state": {
      "_model_module": "@jupyter-widgets/controls",
      "_model_module_version": "1.5.0",
      "_model_name": "DescriptionStyleModel",
      "_view_count": null,
      "_view_module": "@jupyter-widgets/base",
      "_view_module_version": "1.2.0",
      "_view_name": "StyleView",
      "description_width": ""
     }
    },
    "427b53ac5c904f74873f275ff68ed2cc": {
     "model_module": "@jupyter-widgets/base",
     "model_module_version": "1.2.0",
     "model_name": "LayoutModel",
     "state": {
      "_model_module": "@jupyter-widgets/base",
      "_model_module_version": "1.2.0",
      "_model_name": "LayoutModel",
      "_view_count": null,
      "_view_module": "@jupyter-widgets/base",
      "_view_module_version": "1.2.0",
      "_view_name": "LayoutView",
      "align_content": null,
      "align_items": null,
      "align_self": null,
      "border": null,
      "bottom": null,
      "display": null,
      "flex": null,
      "flex_flow": null,
      "grid_area": null,
      "grid_auto_columns": null,
      "grid_auto_flow": null,
      "grid_auto_rows": null,
      "grid_column": null,
      "grid_gap": null,
      "grid_row": null,
      "grid_template_areas": null,
      "grid_template_columns": null,
      "grid_template_rows": null,
      "height": null,
      "justify_content": null,
      "justify_items": null,
      "left": null,
      "margin": null,
      "max_height": null,
      "max_width": null,
      "min_height": null,
      "min_width": null,
      "object_fit": null,
      "object_position": null,
      "order": null,
      "overflow": null,
      "overflow_x": null,
      "overflow_y": null,
      "padding": null,
      "right": null,
      "top": null,
      "visibility": null,
      "width": null
     }
    },
    "4426ea90f19044e795ba5854f6e2f487": {
     "model_module": "@jupyter-widgets/base",
     "model_module_version": "1.2.0",
     "model_name": "LayoutModel",
     "state": {
      "_model_module": "@jupyter-widgets/base",
      "_model_module_version": "1.2.0",
      "_model_name": "LayoutModel",
      "_view_count": null,
      "_view_module": "@jupyter-widgets/base",
      "_view_module_version": "1.2.0",
      "_view_name": "LayoutView",
      "align_content": null,
      "align_items": null,
      "align_self": null,
      "border": null,
      "bottom": null,
      "display": null,
      "flex": null,
      "flex_flow": null,
      "grid_area": null,
      "grid_auto_columns": null,
      "grid_auto_flow": null,
      "grid_auto_rows": null,
      "grid_column": null,
      "grid_gap": null,
      "grid_row": null,
      "grid_template_areas": null,
      "grid_template_columns": null,
      "grid_template_rows": null,
      "height": null,
      "justify_content": null,
      "justify_items": null,
      "left": null,
      "margin": null,
      "max_height": null,
      "max_width": null,
      "min_height": null,
      "min_width": null,
      "object_fit": null,
      "object_position": null,
      "order": null,
      "overflow": null,
      "overflow_x": null,
      "overflow_y": null,
      "padding": null,
      "right": null,
      "top": null,
      "visibility": null,
      "width": null
     }
    },
    "467356bdd7344c5a89e00474f1394356": {
     "model_module": "@jupyter-widgets/controls",
     "model_module_version": "1.5.0",
     "model_name": "HTMLModel",
     "state": {
      "_dom_classes": [],
      "_model_module": "@jupyter-widgets/controls",
      "_model_module_version": "1.5.0",
      "_model_name": "HTMLModel",
      "_view_count": null,
      "_view_module": "@jupyter-widgets/controls",
      "_view_module_version": "1.5.0",
      "_view_name": "HTMLView",
      "description": "",
      "description_tooltip": null,
      "layout": "IPY_MODEL_427b53ac5c904f74873f275ff68ed2cc",
      "placeholder": "​",
      "style": "IPY_MODEL_40a2cee709004eeb95d5e6015f60077e",
      "value": " 5120/? [00:00&lt;00:00, 136835.56it/s]"
     }
    },
    "59210728e49b4168ae1e6aaff89e1695": {
     "model_module": "@jupyter-widgets/base",
     "model_module_version": "1.2.0",
     "model_name": "LayoutModel",
     "state": {
      "_model_module": "@jupyter-widgets/base",
      "_model_module_version": "1.2.0",
      "_model_name": "LayoutModel",
      "_view_count": null,
      "_view_module": "@jupyter-widgets/base",
      "_view_module_version": "1.2.0",
      "_view_name": "LayoutView",
      "align_content": null,
      "align_items": null,
      "align_self": null,
      "border": null,
      "bottom": null,
      "display": null,
      "flex": null,
      "flex_flow": null,
      "grid_area": null,
      "grid_auto_columns": null,
      "grid_auto_flow": null,
      "grid_auto_rows": null,
      "grid_column": null,
      "grid_gap": null,
      "grid_row": null,
      "grid_template_areas": null,
      "grid_template_columns": null,
      "grid_template_rows": null,
      "height": null,
      "justify_content": null,
      "justify_items": null,
      "left": null,
      "margin": null,
      "max_height": null,
      "max_width": null,
      "min_height": null,
      "min_width": null,
      "object_fit": null,
      "object_position": null,
      "order": null,
      "overflow": null,
      "overflow_x": null,
      "overflow_y": null,
      "padding": null,
      "right": null,
      "top": null,
      "visibility": null,
      "width": null
     }
    },
    "6129a7569fdd482d84097052d97e71d2": {
     "model_module": "@jupyter-widgets/base",
     "model_module_version": "1.2.0",
     "model_name": "LayoutModel",
     "state": {
      "_model_module": "@jupyter-widgets/base",
      "_model_module_version": "1.2.0",
      "_model_name": "LayoutModel",
      "_view_count": null,
      "_view_module": "@jupyter-widgets/base",
      "_view_module_version": "1.2.0",
      "_view_name": "LayoutView",
      "align_content": null,
      "align_items": null,
      "align_self": null,
      "border": null,
      "bottom": null,
      "display": null,
      "flex": null,
      "flex_flow": null,
      "grid_area": null,
      "grid_auto_columns": null,
      "grid_auto_flow": null,
      "grid_auto_rows": null,
      "grid_column": null,
      "grid_gap": null,
      "grid_row": null,
      "grid_template_areas": null,
      "grid_template_columns": null,
      "grid_template_rows": null,
      "height": null,
      "justify_content": null,
      "justify_items": null,
      "left": null,
      "margin": null,
      "max_height": null,
      "max_width": null,
      "min_height": null,
      "min_width": null,
      "object_fit": null,
      "object_position": null,
      "order": null,
      "overflow": null,
      "overflow_x": null,
      "overflow_y": null,
      "padding": null,
      "right": null,
      "top": null,
      "visibility": null,
      "width": null
     }
    },
    "656226e46f8f47f1ba4473e7e0863a2e": {
     "model_module": "@jupyter-widgets/controls",
     "model_module_version": "1.5.0",
     "model_name": "FloatProgressModel",
     "state": {
      "_dom_classes": [],
      "_model_module": "@jupyter-widgets/controls",
      "_model_module_version": "1.5.0",
      "_model_name": "FloatProgressModel",
      "_view_count": null,
      "_view_module": "@jupyter-widgets/controls",
      "_view_module_version": "1.5.0",
      "_view_name": "ProgressView",
      "bar_style": "success",
      "description": "",
      "description_tooltip": null,
      "layout": "IPY_MODEL_39216ac4fbd14078af8326c11b6f4682",
      "max": 9912422,
      "min": 0,
      "orientation": "horizontal",
      "style": "IPY_MODEL_10191ec78d394884885e940e00d40a1f",
      "value": 9912422
     }
    },
    "6c4e7c00b85942d6a461232261489e9a": {
     "model_module": "@jupyter-widgets/base",
     "model_module_version": "1.2.0",
     "model_name": "LayoutModel",
     "state": {
      "_model_module": "@jupyter-widgets/base",
      "_model_module_version": "1.2.0",
      "_model_name": "LayoutModel",
      "_view_count": null,
      "_view_module": "@jupyter-widgets/base",
      "_view_module_version": "1.2.0",
      "_view_name": "LayoutView",
      "align_content": null,
      "align_items": null,
      "align_self": null,
      "border": null,
      "bottom": null,
      "display": null,
      "flex": null,
      "flex_flow": null,
      "grid_area": null,
      "grid_auto_columns": null,
      "grid_auto_flow": null,
      "grid_auto_rows": null,
      "grid_column": null,
      "grid_gap": null,
      "grid_row": null,
      "grid_template_areas": null,
      "grid_template_columns": null,
      "grid_template_rows": null,
      "height": null,
      "justify_content": null,
      "justify_items": null,
      "left": null,
      "margin": null,
      "max_height": null,
      "max_width": null,
      "min_height": null,
      "min_width": null,
      "object_fit": null,
      "object_position": null,
      "order": null,
      "overflow": null,
      "overflow_x": null,
      "overflow_y": null,
      "padding": null,
      "right": null,
      "top": null,
      "visibility": null,
      "width": null
     }
    },
    "6cb708f12b354a76b7b971bbe2908e46": {
     "model_module": "@jupyter-widgets/base",
     "model_module_version": "1.2.0",
     "model_name": "LayoutModel",
     "state": {
      "_model_module": "@jupyter-widgets/base",
      "_model_module_version": "1.2.0",
      "_model_name": "LayoutModel",
      "_view_count": null,
      "_view_module": "@jupyter-widgets/base",
      "_view_module_version": "1.2.0",
      "_view_name": "LayoutView",
      "align_content": null,
      "align_items": null,
      "align_self": null,
      "border": null,
      "bottom": null,
      "display": null,
      "flex": null,
      "flex_flow": null,
      "grid_area": null,
      "grid_auto_columns": null,
      "grid_auto_flow": null,
      "grid_auto_rows": null,
      "grid_column": null,
      "grid_gap": null,
      "grid_row": null,
      "grid_template_areas": null,
      "grid_template_columns": null,
      "grid_template_rows": null,
      "height": null,
      "justify_content": null,
      "justify_items": null,
      "left": null,
      "margin": null,
      "max_height": null,
      "max_width": null,
      "min_height": null,
      "min_width": null,
      "object_fit": null,
      "object_position": null,
      "order": null,
      "overflow": null,
      "overflow_x": null,
      "overflow_y": null,
      "padding": null,
      "right": null,
      "top": null,
      "visibility": null,
      "width": null
     }
    },
    "754fa9a61d864b05aa730c373b8ad819": {
     "model_module": "@jupyter-widgets/controls",
     "model_module_version": "1.5.0",
     "model_name": "HBoxModel",
     "state": {
      "_dom_classes": [],
      "_model_module": "@jupyter-widgets/controls",
      "_model_module_version": "1.5.0",
      "_model_name": "HBoxModel",
      "_view_count": null,
      "_view_module": "@jupyter-widgets/controls",
      "_view_module_version": "1.5.0",
      "_view_name": "HBoxView",
      "box_style": "",
      "children": [
       "IPY_MODEL_28439d79174a48f6a081a0c02ea29cb8",
       "IPY_MODEL_3811fa19b04e48b9951c0aba81a44a21",
       "IPY_MODEL_ed00fe155e4a4b69a7ac09a3cc8de5d3"
      ],
      "layout": "IPY_MODEL_6cb708f12b354a76b7b971bbe2908e46"
     }
    },
    "7e64dfc5bd7f4c18bbf2776a39739db5": {
     "model_module": "@jupyter-widgets/controls",
     "model_module_version": "1.5.0",
     "model_name": "HTMLModel",
     "state": {
      "_dom_classes": [],
      "_model_module": "@jupyter-widgets/controls",
      "_model_module_version": "1.5.0",
      "_model_name": "HTMLModel",
      "_view_count": null,
      "_view_module": "@jupyter-widgets/controls",
      "_view_module_version": "1.5.0",
      "_view_name": "HTMLView",
      "description": "",
      "description_tooltip": null,
      "layout": "IPY_MODEL_e3c159f98ae846c48ee3aaf0c211a2a7",
      "placeholder": "​",
      "style": "IPY_MODEL_7f4899e86b8245049b04094f61a3c291",
      "value": " 29696/? [00:00&lt;00:00, 535322.63it/s]"
     }
    },
    "7f4899e86b8245049b04094f61a3c291": {
     "model_module": "@jupyter-widgets/controls",
     "model_module_version": "1.5.0",
     "model_name": "DescriptionStyleModel",
     "state": {
      "_model_module": "@jupyter-widgets/controls",
      "_model_module_version": "1.5.0",
      "_model_name": "DescriptionStyleModel",
      "_view_count": null,
      "_view_module": "@jupyter-widgets/base",
      "_view_module_version": "1.2.0",
      "_view_name": "StyleView",
      "description_width": ""
     }
    },
    "80ccb1e3a48847ae82278c01277ffc26": {
     "model_module": "@jupyter-widgets/controls",
     "model_module_version": "1.5.0",
     "model_name": "HBoxModel",
     "state": {
      "_dom_classes": [],
      "_model_module": "@jupyter-widgets/controls",
      "_model_module_version": "1.5.0",
      "_model_name": "HBoxModel",
      "_view_count": null,
      "_view_module": "@jupyter-widgets/controls",
      "_view_module_version": "1.5.0",
      "_view_name": "HBoxView",
      "box_style": "",
      "children": [
       "IPY_MODEL_fc9b1cb50d434bdb9e4b0420fc1d2568",
       "IPY_MODEL_22df7aa9d18b45f89d657a7dd8444c3e",
       "IPY_MODEL_467356bdd7344c5a89e00474f1394356"
      ],
      "layout": "IPY_MODEL_2df63f9b2e904c9190c0a3722de4bdd9"
     }
    },
    "8e21b9447577405ebcdd913b0b1e7bcb": {
     "model_module": "@jupyter-widgets/controls",
     "model_module_version": "1.5.0",
     "model_name": "HTMLModel",
     "state": {
      "_dom_classes": [],
      "_model_module": "@jupyter-widgets/controls",
      "_model_module_version": "1.5.0",
      "_model_name": "HTMLModel",
      "_view_count": null,
      "_view_module": "@jupyter-widgets/controls",
      "_view_module_version": "1.5.0",
      "_view_name": "HTMLView",
      "description": "",
      "description_tooltip": null,
      "layout": "IPY_MODEL_a6a6da85a27b4bd78913a6e9bba28df3",
      "placeholder": "​",
      "style": "IPY_MODEL_126fc3c44d3f46f898c8b3bf600094f4",
      "value": ""
     }
    },
    "8ff1520bc2e5416ead9a9fb4d2886640": {
     "model_module": "@jupyter-widgets/controls",
     "model_module_version": "1.5.0",
     "model_name": "DescriptionStyleModel",
     "state": {
      "_model_module": "@jupyter-widgets/controls",
      "_model_module_version": "1.5.0",
      "_model_name": "DescriptionStyleModel",
      "_view_count": null,
      "_view_module": "@jupyter-widgets/base",
      "_view_module_version": "1.2.0",
      "_view_name": "StyleView",
      "description_width": ""
     }
    },
    "937259bb42894ad08e7749f45cca1870": {
     "model_module": "@jupyter-widgets/controls",
     "model_module_version": "1.5.0",
     "model_name": "DescriptionStyleModel",
     "state": {
      "_model_module": "@jupyter-widgets/controls",
      "_model_module_version": "1.5.0",
      "_model_name": "DescriptionStyleModel",
      "_view_count": null,
      "_view_module": "@jupyter-widgets/base",
      "_view_module_version": "1.2.0",
      "_view_name": "StyleView",
      "description_width": ""
     }
    },
    "99278306d2c34524b85cc35836f63803": {
     "model_module": "@jupyter-widgets/base",
     "model_module_version": "1.2.0",
     "model_name": "LayoutModel",
     "state": {
      "_model_module": "@jupyter-widgets/base",
      "_model_module_version": "1.2.0",
      "_model_name": "LayoutModel",
      "_view_count": null,
      "_view_module": "@jupyter-widgets/base",
      "_view_module_version": "1.2.0",
      "_view_name": "LayoutView",
      "align_content": null,
      "align_items": null,
      "align_self": null,
      "border": null,
      "bottom": null,
      "display": null,
      "flex": null,
      "flex_flow": null,
      "grid_area": null,
      "grid_auto_columns": null,
      "grid_auto_flow": null,
      "grid_auto_rows": null,
      "grid_column": null,
      "grid_gap": null,
      "grid_row": null,
      "grid_template_areas": null,
      "grid_template_columns": null,
      "grid_template_rows": null,
      "height": null,
      "justify_content": null,
      "justify_items": null,
      "left": null,
      "margin": null,
      "max_height": null,
      "max_width": null,
      "min_height": null,
      "min_width": null,
      "object_fit": null,
      "object_position": null,
      "order": null,
      "overflow": null,
      "overflow_x": null,
      "overflow_y": null,
      "padding": null,
      "right": null,
      "top": null,
      "visibility": null,
      "width": null
     }
    },
    "a6a6da85a27b4bd78913a6e9bba28df3": {
     "model_module": "@jupyter-widgets/base",
     "model_module_version": "1.2.0",
     "model_name": "LayoutModel",
     "state": {
      "_model_module": "@jupyter-widgets/base",
      "_model_module_version": "1.2.0",
      "_model_name": "LayoutModel",
      "_view_count": null,
      "_view_module": "@jupyter-widgets/base",
      "_view_module_version": "1.2.0",
      "_view_name": "LayoutView",
      "align_content": null,
      "align_items": null,
      "align_self": null,
      "border": null,
      "bottom": null,
      "display": null,
      "flex": null,
      "flex_flow": null,
      "grid_area": null,
      "grid_auto_columns": null,
      "grid_auto_flow": null,
      "grid_auto_rows": null,
      "grid_column": null,
      "grid_gap": null,
      "grid_row": null,
      "grid_template_areas": null,
      "grid_template_columns": null,
      "grid_template_rows": null,
      "height": null,
      "justify_content": null,
      "justify_items": null,
      "left": null,
      "margin": null,
      "max_height": null,
      "max_width": null,
      "min_height": null,
      "min_width": null,
      "object_fit": null,
      "object_position": null,
      "order": null,
      "overflow": null,
      "overflow_x": null,
      "overflow_y": null,
      "padding": null,
      "right": null,
      "top": null,
      "visibility": null,
      "width": null
     }
    },
    "a9244b0a4cb841f89851fa557e6f5121": {
     "model_module": "@jupyter-widgets/base",
     "model_module_version": "1.2.0",
     "model_name": "LayoutModel",
     "state": {
      "_model_module": "@jupyter-widgets/base",
      "_model_module_version": "1.2.0",
      "_model_name": "LayoutModel",
      "_view_count": null,
      "_view_module": "@jupyter-widgets/base",
      "_view_module_version": "1.2.0",
      "_view_name": "LayoutView",
      "align_content": null,
      "align_items": null,
      "align_self": null,
      "border": null,
      "bottom": null,
      "display": null,
      "flex": null,
      "flex_flow": null,
      "grid_area": null,
      "grid_auto_columns": null,
      "grid_auto_flow": null,
      "grid_auto_rows": null,
      "grid_column": null,
      "grid_gap": null,
      "grid_row": null,
      "grid_template_areas": null,
      "grid_template_columns": null,
      "grid_template_rows": null,
      "height": null,
      "justify_content": null,
      "justify_items": null,
      "left": null,
      "margin": null,
      "max_height": null,
      "max_width": null,
      "min_height": null,
      "min_width": null,
      "object_fit": null,
      "object_position": null,
      "order": null,
      "overflow": null,
      "overflow_x": null,
      "overflow_y": null,
      "padding": null,
      "right": null,
      "top": null,
      "visibility": null,
      "width": null
     }
    },
    "af99f0b1fc084117a714bf55d56269c1": {
     "model_module": "@jupyter-widgets/base",
     "model_module_version": "1.2.0",
     "model_name": "LayoutModel",
     "state": {
      "_model_module": "@jupyter-widgets/base",
      "_model_module_version": "1.2.0",
      "_model_name": "LayoutModel",
      "_view_count": null,
      "_view_module": "@jupyter-widgets/base",
      "_view_module_version": "1.2.0",
      "_view_name": "LayoutView",
      "align_content": null,
      "align_items": null,
      "align_self": null,
      "border": null,
      "bottom": null,
      "display": null,
      "flex": null,
      "flex_flow": null,
      "grid_area": null,
      "grid_auto_columns": null,
      "grid_auto_flow": null,
      "grid_auto_rows": null,
      "grid_column": null,
      "grid_gap": null,
      "grid_row": null,
      "grid_template_areas": null,
      "grid_template_columns": null,
      "grid_template_rows": null,
      "height": null,
      "justify_content": null,
      "justify_items": null,
      "left": null,
      "margin": null,
      "max_height": null,
      "max_width": null,
      "min_height": null,
      "min_width": null,
      "object_fit": null,
      "object_position": null,
      "order": null,
      "overflow": null,
      "overflow_x": null,
      "overflow_y": null,
      "padding": null,
      "right": null,
      "top": null,
      "visibility": null,
      "width": null
     }
    },
    "b0a967a9f7f847068696bc7e30cd06c8": {
     "model_module": "@jupyter-widgets/controls",
     "model_module_version": "1.5.0",
     "model_name": "HTMLModel",
     "state": {
      "_dom_classes": [],
      "_model_module": "@jupyter-widgets/controls",
      "_model_module_version": "1.5.0",
      "_model_name": "HTMLModel",
      "_view_count": null,
      "_view_module": "@jupyter-widgets/controls",
      "_view_module_version": "1.5.0",
      "_view_name": "HTMLView",
      "description": "",
      "description_tooltip": null,
      "layout": "IPY_MODEL_99278306d2c34524b85cc35836f63803",
      "placeholder": "​",
      "style": "IPY_MODEL_937259bb42894ad08e7749f45cca1870",
      "value": ""
     }
    },
    "d0a8c9ebd2544723b473197d574a646f": {
     "model_module": "@jupyter-widgets/controls",
     "model_module_version": "1.5.0",
     "model_name": "HBoxModel",
     "state": {
      "_dom_classes": [],
      "_model_module": "@jupyter-widgets/controls",
      "_model_module_version": "1.5.0",
      "_model_name": "HBoxModel",
      "_view_count": null,
      "_view_module": "@jupyter-widgets/controls",
      "_view_module_version": "1.5.0",
      "_view_name": "HBoxView",
      "box_style": "",
      "children": [
       "IPY_MODEL_8e21b9447577405ebcdd913b0b1e7bcb",
       "IPY_MODEL_f50ee05069634f5b983bf0a922c893a0",
       "IPY_MODEL_7e64dfc5bd7f4c18bbf2776a39739db5"
      ],
      "layout": "IPY_MODEL_a9244b0a4cb841f89851fa557e6f5121"
     }
    },
    "d2a9e211e3c84ed5a0e8b98851427579": {
     "model_module": "@jupyter-widgets/controls",
     "model_module_version": "1.5.0",
     "model_name": "DescriptionStyleModel",
     "state": {
      "_model_module": "@jupyter-widgets/controls",
      "_model_module_version": "1.5.0",
      "_model_name": "DescriptionStyleModel",
      "_view_count": null,
      "_view_module": "@jupyter-widgets/base",
      "_view_module_version": "1.2.0",
      "_view_name": "StyleView",
      "description_width": ""
     }
    },
    "de2ce45c65b8470f916062de5bea3961": {
     "model_module": "@jupyter-widgets/base",
     "model_module_version": "1.2.0",
     "model_name": "LayoutModel",
     "state": {
      "_model_module": "@jupyter-widgets/base",
      "_model_module_version": "1.2.0",
      "_model_name": "LayoutModel",
      "_view_count": null,
      "_view_module": "@jupyter-widgets/base",
      "_view_module_version": "1.2.0",
      "_view_name": "LayoutView",
      "align_content": null,
      "align_items": null,
      "align_self": null,
      "border": null,
      "bottom": null,
      "display": null,
      "flex": null,
      "flex_flow": null,
      "grid_area": null,
      "grid_auto_columns": null,
      "grid_auto_flow": null,
      "grid_auto_rows": null,
      "grid_column": null,
      "grid_gap": null,
      "grid_row": null,
      "grid_template_areas": null,
      "grid_template_columns": null,
      "grid_template_rows": null,
      "height": null,
      "justify_content": null,
      "justify_items": null,
      "left": null,
      "margin": null,
      "max_height": null,
      "max_width": null,
      "min_height": null,
      "min_width": null,
      "object_fit": null,
      "object_position": null,
      "order": null,
      "overflow": null,
      "overflow_x": null,
      "overflow_y": null,
      "padding": null,
      "right": null,
      "top": null,
      "visibility": null,
      "width": null
     }
    },
    "e3c159f98ae846c48ee3aaf0c211a2a7": {
     "model_module": "@jupyter-widgets/base",
     "model_module_version": "1.2.0",
     "model_name": "LayoutModel",
     "state": {
      "_model_module": "@jupyter-widgets/base",
      "_model_module_version": "1.2.0",
      "_model_name": "LayoutModel",
      "_view_count": null,
      "_view_module": "@jupyter-widgets/base",
      "_view_module_version": "1.2.0",
      "_view_name": "LayoutView",
      "align_content": null,
      "align_items": null,
      "align_self": null,
      "border": null,
      "bottom": null,
      "display": null,
      "flex": null,
      "flex_flow": null,
      "grid_area": null,
      "grid_auto_columns": null,
      "grid_auto_flow": null,
      "grid_auto_rows": null,
      "grid_column": null,
      "grid_gap": null,
      "grid_row": null,
      "grid_template_areas": null,
      "grid_template_columns": null,
      "grid_template_rows": null,
      "height": null,
      "justify_content": null,
      "justify_items": null,
      "left": null,
      "margin": null,
      "max_height": null,
      "max_width": null,
      "min_height": null,
      "min_width": null,
      "object_fit": null,
      "object_position": null,
      "order": null,
      "overflow": null,
      "overflow_x": null,
      "overflow_y": null,
      "padding": null,
      "right": null,
      "top": null,
      "visibility": null,
      "width": null
     }
    },
    "e590829d52034a7e87d0a143575d116e": {
     "model_module": "@jupyter-widgets/controls",
     "model_module_version": "1.5.0",
     "model_name": "ProgressStyleModel",
     "state": {
      "_model_module": "@jupyter-widgets/controls",
      "_model_module_version": "1.5.0",
      "_model_name": "ProgressStyleModel",
      "_view_count": null,
      "_view_module": "@jupyter-widgets/base",
      "_view_module_version": "1.2.0",
      "_view_name": "StyleView",
      "bar_color": null,
      "description_width": ""
     }
    },
    "ed00fe155e4a4b69a7ac09a3cc8de5d3": {
     "model_module": "@jupyter-widgets/controls",
     "model_module_version": "1.5.0",
     "model_name": "HTMLModel",
     "state": {
      "_dom_classes": [],
      "_model_module": "@jupyter-widgets/controls",
      "_model_module_version": "1.5.0",
      "_model_name": "HTMLModel",
      "_view_count": null,
      "_view_module": "@jupyter-widgets/controls",
      "_view_module_version": "1.5.0",
      "_view_name": "HTMLView",
      "description": "",
      "description_tooltip": null,
      "layout": "IPY_MODEL_59210728e49b4168ae1e6aaff89e1695",
      "placeholder": "​",
      "style": "IPY_MODEL_8ff1520bc2e5416ead9a9fb4d2886640",
      "value": " 1649664/? [00:00&lt;00:00, 7248406.14it/s]"
     }
    },
    "f50ee05069634f5b983bf0a922c893a0": {
     "model_module": "@jupyter-widgets/controls",
     "model_module_version": "1.5.0",
     "model_name": "FloatProgressModel",
     "state": {
      "_dom_classes": [],
      "_model_module": "@jupyter-widgets/controls",
      "_model_module_version": "1.5.0",
      "_model_name": "FloatProgressModel",
      "_view_count": null,
      "_view_module": "@jupyter-widgets/controls",
      "_view_module_version": "1.5.0",
      "_view_name": "ProgressView",
      "bar_style": "success",
      "description": "",
      "description_tooltip": null,
      "layout": "IPY_MODEL_6c4e7c00b85942d6a461232261489e9a",
      "max": 28881,
      "min": 0,
      "orientation": "horizontal",
      "style": "IPY_MODEL_e590829d52034a7e87d0a143575d116e",
      "value": 28881
     }
    },
    "fc9b1cb50d434bdb9e4b0420fc1d2568": {
     "model_module": "@jupyter-widgets/controls",
     "model_module_version": "1.5.0",
     "model_name": "HTMLModel",
     "state": {
      "_dom_classes": [],
      "_model_module": "@jupyter-widgets/controls",
      "_model_module_version": "1.5.0",
      "_model_name": "HTMLModel",
      "_view_count": null,
      "_view_module": "@jupyter-widgets/controls",
      "_view_module_version": "1.5.0",
      "_view_name": "HTMLView",
      "description": "",
      "description_tooltip": null,
      "layout": "IPY_MODEL_de2ce45c65b8470f916062de5bea3961",
      "placeholder": "​",
      "style": "IPY_MODEL_21277fa1897447848c38bae209150f7b",
      "value": ""
     }
    },
    "fde66053bfce4da0a4d0c789d713dc8b": {
     "model_module": "@jupyter-widgets/base",
     "model_module_version": "1.2.0",
     "model_name": "LayoutModel",
     "state": {
      "_model_module": "@jupyter-widgets/base",
      "_model_module_version": "1.2.0",
      "_model_name": "LayoutModel",
      "_view_count": null,
      "_view_module": "@jupyter-widgets/base",
      "_view_module_version": "1.2.0",
      "_view_name": "LayoutView",
      "align_content": null,
      "align_items": null,
      "align_self": null,
      "border": null,
      "bottom": null,
      "display": null,
      "flex": null,
      "flex_flow": null,
      "grid_area": null,
      "grid_auto_columns": null,
      "grid_auto_flow": null,
      "grid_auto_rows": null,
      "grid_column": null,
      "grid_gap": null,
      "grid_row": null,
      "grid_template_areas": null,
      "grid_template_columns": null,
      "grid_template_rows": null,
      "height": null,
      "justify_content": null,
      "justify_items": null,
      "left": null,
      "margin": null,
      "max_height": null,
      "max_width": null,
      "min_height": null,
      "min_width": null,
      "object_fit": null,
      "object_position": null,
      "order": null,
      "overflow": null,
      "overflow_x": null,
      "overflow_y": null,
      "padding": null,
      "right": null,
      "top": null,
      "visibility": null,
      "width": null
     }
    }
   }
  }
 },
 "nbformat": 4,
 "nbformat_minor": 4
}
